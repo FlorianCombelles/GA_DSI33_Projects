{
 "cells": [
  {
   "cell_type": "markdown",
   "id": "b66bd60c",
   "metadata": {},
   "source": [
    "# DSI 33_Project 2 - Modelling - Florian Combelles\n",
    "## Ames Housing Data and Kaggle Challenge"
   ]
  },
  {
   "cell_type": "markdown",
   "id": "1791eafc",
   "metadata": {},
   "source": [
    "## Project Summary\n",
    "\n",
    "Welcome to Project 2! It's time to start modeling.\n",
    "\n",
    "**Primary Learning Objectives:**\n",
    "1. Creating and iteratively refining a regression model\n",
    "2. Using [Kaggle](https://www.kaggle.com/) to practice the modeling process\n",
    "3. Providing business insights through reporting and presentation.\n",
    "\n",
    "You are tasked with creating a regression model based on the Ames Housing Dataset. This model will predict the price of a house at sale.\n",
    "\n",
    "The Ames Housing Dataset is an exceptionally detailed and robust dataset with over 70 columns of different features relating to houses.\n",
    "\n",
    "Secondly, we are hosting a competition on Kaggle to give you the opportunity to practice the following skills:\n",
    "\n",
    "- Refining models over time\n",
    "- Use of train-test split, cross-validation, and data with unknown values for the target to simulate the modeling process\n",
    "- The use of Kaggle as a place to practice data science\n",
    "\n",
    "As always, you will be submitting a technical report and a presentation. **You may find that the best model for Kaggle is not the best model to address your data science problem.**\n",
    "\n",
    "## Set-up\n",
    "\n",
    "Before you begin working on this project, please do the following:\n",
    "\n",
    "1. Sign up for an account on [Kaggle](https://www.kaggle.com/)\n",
    "2. Review the material and download data files on the [DSI-US-11 Regression Challenge](https://www.kaggle.com/c/dsi-us-11-project-2-regression-challenge)\n",
    "4. Review the [data description](http://jse.amstat.org/v19n3/decock/DataDocumentation.txt).\n",
    "\n",
    "## The Modeling Process\n",
    "\n",
    "1. The train dataset has all of the columns that you will need to generate and refine your models. The test dataset has all of those columns except for the target that you are trying to predict in your Regression model.\n",
    "2. Generate your regression model using the training data. We expect that within this process, you'll be making use of:\n",
    "    - train-test split\n",
    "    - cross-validation / grid searching for hyperparameters\n",
    "    - strong exploratory data analysis to question correlation and relationship across predictive variables\n",
    "    - code that reproducibly and consistently applies feature transformation (such as the preprocessing library)\n",
    "3. Predict the values for your target column in the test dataset and consider submitting your predictions to Kaggle to see how your model does against unknown data.\n",
    "    - **Note**: Kaggle expects to see your submissions in a specific format. Check the challenge's page to make sure you are formatting your CSVs correctly!\n",
    "    - **You are limited to models you've learned in class so far**. In other words, you cannot use XGBoost, Neural Networks or any other advanced model for this project.\n",
    "4. Evaluate your models!\n",
    "    - consider your evaluation metrics\n",
    "    - consider your baseline score\n",
    "    - how can your model be used for inference?\n",
    "    - why do you believe your model will generalize to new data?"
   ]
  },
  {
   "cell_type": "markdown",
   "id": "97c82e74",
   "metadata": {},
   "source": [
    "### Problem Statement:\n",
    "\n",
    "We are part of the data team of a real estate agency based in Ames area. The objective of our company is to provide the most accurate sale price to clients who are looking to sell their houses. We also provide counseling on how to optimise sale price based on different features.\n",
    "\n",
    "\n",
    "The housing and real estate market is getting more competitive and we're loosing the edge we once had to our competitor. Our current machine learning model is not accurate enough to keep up with the competition.\n",
    "We need to find a better model to regain the advantage."
   ]
  },
  {
   "cell_type": "code",
   "execution_count": 1,
   "id": "3ed7ef5c",
   "metadata": {},
   "outputs": [],
   "source": [
    "# Importing required libraries\n",
    "\n",
    "import pandas as pd\n",
    "import numpy as np\n",
    "import matplotlib.pyplot as plt\n",
    "import seaborn as sns\n",
    "from sklearn import datasets\n",
    "from sklearn import metrics\n",
    "from sklearn.model_selection import train_test_split, cross_val_score\n",
    "from sklearn.linear_model import LinearRegression, RidgeCV, LassoCV\n",
    "from sklearn.preprocessing import StandardScaler, PolynomialFeatures, OneHotEncoder\n",
    "from sklearn.metrics import r2_score, mean_squared_error\n",
    "from sklearn.dummy import DummyRegressor\n",
    "\n",
    "# Remove warning messages from the code\n",
    "import warnings\n",
    "warnings.filterwarnings('ignore')"
   ]
  },
  {
   "cell_type": "code",
   "execution_count": 2,
   "id": "17f168e3",
   "metadata": {},
   "outputs": [],
   "source": [
    "# Changing Pandas settings to display more rows and columns\n",
    "\n",
    "pd.set_option(\"display.max_rows\", 50)\n",
    "pd.set_option(\"display.max_columns\", 60)"
   ]
  },
  {
   "cell_type": "markdown",
   "id": "4cfb9a4c",
   "metadata": {},
   "source": [
    "##### Importing the cleaned train Ames housing dataset"
   ]
  },
  {
   "cell_type": "code",
   "execution_count": 3,
   "id": "d1109b50",
   "metadata": {},
   "outputs": [],
   "source": [
    "house_train_clean = pd.read_csv('datasets/train_cleaned.csv')\n",
    "\n",
    "house_train = pd.read_csv('datasets/train.csv')"
   ]
  },
  {
   "cell_type": "code",
   "execution_count": 4,
   "id": "9a218662",
   "metadata": {
    "scrolled": true
   },
   "outputs": [
    {
     "name": "stdout",
     "output_type": "stream",
     "text": [
      "<class 'pandas.core.frame.DataFrame'>\n",
      "RangeIndex: 2051 entries, 0 to 2050\n",
      "Data columns (total 81 columns):\n",
      " #   Column           Non-Null Count  Dtype  \n",
      "---  ------           --------------  -----  \n",
      " 0   Id               2051 non-null   int64  \n",
      " 1   PID              2051 non-null   int64  \n",
      " 2   MS SubClass      2051 non-null   int64  \n",
      " 3   MS Zoning        2051 non-null   object \n",
      " 4   Lot Frontage     1721 non-null   float64\n",
      " 5   Lot Area         2051 non-null   int64  \n",
      " 6   Street           2051 non-null   object \n",
      " 7   Alley            140 non-null    object \n",
      " 8   Lot Shape        2051 non-null   object \n",
      " 9   Land Contour     2051 non-null   object \n",
      " 10  Utilities        2051 non-null   object \n",
      " 11  Lot Config       2051 non-null   object \n",
      " 12  Land Slope       2051 non-null   object \n",
      " 13  Neighborhood     2051 non-null   object \n",
      " 14  Condition 1      2051 non-null   object \n",
      " 15  Condition 2      2051 non-null   object \n",
      " 16  Bldg Type        2051 non-null   object \n",
      " 17  House Style      2051 non-null   object \n",
      " 18  Overall Qual     2051 non-null   int64  \n",
      " 19  Overall Cond     2051 non-null   int64  \n",
      " 20  Year Built       2051 non-null   int64  \n",
      " 21  Year Remod/Add   2051 non-null   int64  \n",
      " 22  Roof Style       2051 non-null   object \n",
      " 23  Roof Matl        2051 non-null   object \n",
      " 24  Exterior 1st     2051 non-null   object \n",
      " 25  Exterior 2nd     2051 non-null   object \n",
      " 26  Mas Vnr Type     2029 non-null   object \n",
      " 27  Mas Vnr Area     2029 non-null   float64\n",
      " 28  Exter Qual       2051 non-null   object \n",
      " 29  Exter Cond       2051 non-null   object \n",
      " 30  Foundation       2051 non-null   object \n",
      " 31  Bsmt Qual        1996 non-null   object \n",
      " 32  Bsmt Cond        1996 non-null   object \n",
      " 33  Bsmt Exposure    1993 non-null   object \n",
      " 34  BsmtFin Type 1   1996 non-null   object \n",
      " 35  BsmtFin SF 1     2050 non-null   float64\n",
      " 36  BsmtFin Type 2   1995 non-null   object \n",
      " 37  BsmtFin SF 2     2050 non-null   float64\n",
      " 38  Bsmt Unf SF      2050 non-null   float64\n",
      " 39  Total Bsmt SF    2050 non-null   float64\n",
      " 40  Heating          2051 non-null   object \n",
      " 41  Heating QC       2051 non-null   object \n",
      " 42  Central Air      2051 non-null   object \n",
      " 43  Electrical       2051 non-null   object \n",
      " 44  1st Flr SF       2051 non-null   int64  \n",
      " 45  2nd Flr SF       2051 non-null   int64  \n",
      " 46  Low Qual Fin SF  2051 non-null   int64  \n",
      " 47  Gr Liv Area      2051 non-null   int64  \n",
      " 48  Bsmt Full Bath   2049 non-null   float64\n",
      " 49  Bsmt Half Bath   2049 non-null   float64\n",
      " 50  Full Bath        2051 non-null   int64  \n",
      " 51  Half Bath        2051 non-null   int64  \n",
      " 52  Bedroom AbvGr    2051 non-null   int64  \n",
      " 53  Kitchen AbvGr    2051 non-null   int64  \n",
      " 54  Kitchen Qual     2051 non-null   object \n",
      " 55  TotRms AbvGrd    2051 non-null   int64  \n",
      " 56  Functional       2051 non-null   object \n",
      " 57  Fireplaces       2051 non-null   int64  \n",
      " 58  Fireplace Qu     1051 non-null   object \n",
      " 59  Garage Type      1938 non-null   object \n",
      " 60  Garage Yr Blt    1937 non-null   float64\n",
      " 61  Garage Finish    1937 non-null   object \n",
      " 62  Garage Cars      2050 non-null   float64\n",
      " 63  Garage Area      2050 non-null   float64\n",
      " 64  Garage Qual      1937 non-null   object \n",
      " 65  Garage Cond      1937 non-null   object \n",
      " 66  Paved Drive      2051 non-null   object \n",
      " 67  Wood Deck SF     2051 non-null   int64  \n",
      " 68  Open Porch SF    2051 non-null   int64  \n",
      " 69  Enclosed Porch   2051 non-null   int64  \n",
      " 70  3Ssn Porch       2051 non-null   int64  \n",
      " 71  Screen Porch     2051 non-null   int64  \n",
      " 72  Pool Area        2051 non-null   int64  \n",
      " 73  Pool QC          9 non-null      object \n",
      " 74  Fence            400 non-null    object \n",
      " 75  Misc Feature     65 non-null     object \n",
      " 76  Misc Val         2051 non-null   int64  \n",
      " 77  Mo Sold          2051 non-null   int64  \n",
      " 78  Yr Sold          2051 non-null   int64  \n",
      " 79  Sale Type        2051 non-null   object \n",
      " 80  SalePrice        2051 non-null   int64  \n",
      "dtypes: float64(11), int64(28), object(42)\n",
      "memory usage: 1.3+ MB\n"
     ]
    }
   ],
   "source": [
    "house_train.info()"
   ]
  },
  {
   "cell_type": "markdown",
   "id": "971febb6",
   "metadata": {},
   "source": [
    "### Dumify Data to prepare it for the model"
   ]
  },
  {
   "cell_type": "markdown",
   "id": "ff6ccccf",
   "metadata": {},
   "source": [
    "We need to dumify the categorical data that we have selected during our EDA in order for the machine learning model to be able to use them."
   ]
  },
  {
   "cell_type": "code",
   "execution_count": 5,
   "id": "98559a50",
   "metadata": {},
   "outputs": [],
   "source": [
    "# Dummify categorical columns in clean dataset\n",
    "\n",
    "house_train_clean = pd.get_dummies(columns=['House Style','Exterior 1st','Mas Vnr Type', 'Foundation', 'Garage Type']\n",
    "                                   ,drop_first=False, data = house_train_clean)"
   ]
  },
  {
   "cell_type": "markdown",
   "id": "d839dc47",
   "metadata": {},
   "source": [
    "### Create our Features and Target"
   ]
  },
  {
   "cell_type": "code",
   "execution_count": 6,
   "id": "fd941d48",
   "metadata": {},
   "outputs": [],
   "source": [
    "# Creating Features and Target\n",
    "\n",
    "features = [col for col in house_train_clean if col != 'SalePrice']\n",
    "\n",
    "X = house_train_clean[features]\n",
    "y = house_train_clean['SalePrice']"
   ]
  },
  {
   "cell_type": "markdown",
   "id": "5aed9119",
   "metadata": {},
   "source": [
    "Since we already cleaned our dataset and kept only the relevant columns to our model, the features will be all the columns in our dataframe except SalePrice"
   ]
  },
  {
   "cell_type": "markdown",
   "id": "c14e190c",
   "metadata": {},
   "source": [
    "### Train/Test Split"
   ]
  },
  {
   "cell_type": "markdown",
   "id": "e9027c3e",
   "metadata": {},
   "source": [
    "In order to ensure our model will be the best fit to both seen and unseen data, we will validate it using the Train/Test split method.\n",
    "\n",
    "Our data will be split into\n",
    "* A training set, the subset of data we will fit our model on\n",
    "* A testing set (validation set), the subset of data we will evaluate the quality of our predictions."
   ]
  },
  {
   "cell_type": "code",
   "execution_count": 7,
   "id": "8236dedb",
   "metadata": {},
   "outputs": [],
   "source": [
    "# Train / Test Split for validating the train dataset\n",
    "\n",
    "X_train, X_test, y_train, y_test = train_test_split(X, y, random_state= 100)"
   ]
  },
  {
   "cell_type": "markdown",
   "id": "047a4dd0",
   "metadata": {},
   "source": [
    "### Data Scaling"
   ]
  },
  {
   "cell_type": "markdown",
   "id": "9b9bedeb",
   "metadata": {},
   "source": [
    "Since our variables are on different scales separated by a few orders of magnitude we need to scale our data.\n",
    "\n",
    "In order to so, we will use the StandardScaler class"
   ]
  },
  {
   "cell_type": "code",
   "execution_count": 8,
   "id": "156240e7",
   "metadata": {},
   "outputs": [],
   "source": [
    "# Scaling\n",
    "# Only do an ss.fit on the train data. If you do it again on the test data it will use a different scale\n",
    "\n",
    "ss = StandardScaler()\n",
    "ss.fit(X_train)\n",
    "X_train_sc = ss.transform(X_train)\n",
    "X_test_sc = ss.transform(X_test)"
   ]
  },
  {
   "cell_type": "markdown",
   "id": "98752388",
   "metadata": {},
   "source": [
    "### Getting our Baseline Model"
   ]
  },
  {
   "cell_type": "code",
   "execution_count": 9,
   "id": "ebd9cdb6",
   "metadata": {},
   "outputs": [],
   "source": [
    "# Getting Baseline model using the Mean\n",
    "\n",
    "baseline = DummyRegressor(strategy = 'mean')"
   ]
  },
  {
   "cell_type": "code",
   "execution_count": 10,
   "id": "77682195",
   "metadata": {},
   "outputs": [
    {
     "data": {
      "text/plain": [
       "DummyRegressor()"
      ]
     },
     "execution_count": 10,
     "metadata": {},
     "output_type": "execute_result"
    }
   ],
   "source": [
    "# Fitting Baseline Model\n",
    "\n",
    "baseline.fit(X_train, y_train)"
   ]
  },
  {
   "cell_type": "code",
   "execution_count": 11,
   "id": "601f5272",
   "metadata": {},
   "outputs": [
    {
     "data": {
      "text/plain": [
       "0.0"
      ]
     },
     "execution_count": 11,
     "metadata": {},
     "output_type": "execute_result"
    }
   ],
   "source": [
    "baseline.score(X_train, y_train)"
   ]
  },
  {
   "cell_type": "code",
   "execution_count": 12,
   "id": "595de0ca",
   "metadata": {},
   "outputs": [],
   "source": [
    "pred_base = baseline.predict(X_train)"
   ]
  },
  {
   "cell_type": "code",
   "execution_count": 13,
   "id": "bebfca95",
   "metadata": {},
   "outputs": [
    {
     "data": {
      "text/plain": [
       "0.0"
      ]
     },
     "execution_count": 13,
     "metadata": {},
     "output_type": "execute_result"
    }
   ],
   "source": [
    "r2_score(y_train, pred_base)"
   ]
  },
  {
   "cell_type": "code",
   "execution_count": 14,
   "id": "ab837c23",
   "metadata": {},
   "outputs": [
    {
     "data": {
      "text/plain": [
       "80897.85533984813"
      ]
     },
     "execution_count": 14,
     "metadata": {},
     "output_type": "execute_result"
    }
   ],
   "source": [
    "np.sqrt(metrics.mean_squared_error(y_train, pred_base))"
   ]
  },
  {
   "cell_type": "markdown",
   "id": "a6f698f5",
   "metadata": {},
   "source": [
    "Since we used the mean, our R2 score is 0 as our model would be constant and the predicted will always be the same.\n",
    "\n",
    "The Root Mean Square Error for the base model is 80897.\n",
    "\n",
    "This mean that our prediction can be up to 80897$ off the actual sale price."
   ]
  },
  {
   "cell_type": "markdown",
   "id": "9a2cc50a",
   "metadata": {},
   "source": [
    "### Training our Model"
   ]
  },
  {
   "cell_type": "markdown",
   "id": "b8a8ae72",
   "metadata": {},
   "source": [
    "##### Instantiate Models"
   ]
  },
  {
   "cell_type": "code",
   "execution_count": 15,
   "id": "fbe40b5b",
   "metadata": {},
   "outputs": [],
   "source": [
    "# Instantiate models\n",
    "\n",
    "lr = LinearRegression()\n",
    "lasso = LassoCV(n_alphas=200)\n",
    "ridge = RidgeCV(alphas=np.linspace(.1, 10, 100))"
   ]
  },
  {
   "cell_type": "markdown",
   "id": "37ca2107",
   "metadata": {},
   "source": [
    "We are making a copy of the classes of all three models we will be using:\n",
    "* Linear Regression\n",
    "* Lasso\n",
    "* Ridge"
   ]
  },
  {
   "cell_type": "markdown",
   "id": "262e6a19",
   "metadata": {},
   "source": [
    "##### Cross Validation"
   ]
  },
  {
   "cell_type": "code",
   "execution_count": 16,
   "id": "f359dedd",
   "metadata": {},
   "outputs": [],
   "source": [
    "# Generate the cross_val score for each model\n",
    "# Make sure to use the X_train_sc data and not the unscaled one.\n",
    "lr_scores = cross_val_score(lr, X_train_sc, y_train, cv=5)\n",
    "lasso_scores = cross_val_score(lasso, X_train_sc, y_train, cv=5)\n",
    "ridge_scores = cross_val_score(ridge, X_train_sc, y_train, cv=5)"
   ]
  },
  {
   "cell_type": "markdown",
   "id": "f4787ac7",
   "metadata": {},
   "source": [
    "We are using cross validation in order to test our model across multiple sets of data within our dataset. \n",
    "\n",
    "This will allow us to get a better understanding of how our model is actually performing accross the whole data."
   ]
  },
  {
   "cell_type": "code",
   "execution_count": 17,
   "id": "26d59780",
   "metadata": {},
   "outputs": [
    {
     "name": "stdout",
     "output_type": "stream",
     "text": [
      "-6.172302460265555e+24\n",
      "0.8256111081412312\n",
      "0.8257637329372916\n"
     ]
    }
   ],
   "source": [
    "# Displaying scores for each models\n",
    "\n",
    "print(lr_scores.mean())\n",
    "print(lasso_scores.mean())\n",
    "print(ridge_scores.mean())"
   ]
  },
  {
   "cell_type": "markdown",
   "id": "69ed5b7c",
   "metadata": {},
   "source": [
    "Based on our results, we can see that Lasso and Ridge are doing very similarly on the train dataset and that the Standard Regression is doing very poorly.\n",
    "\n",
    "We will be selecting Lasso to fit on our train data."
   ]
  },
  {
   "cell_type": "markdown",
   "id": "e9089060",
   "metadata": {},
   "source": [
    "##### Model Fitting"
   ]
  },
  {
   "cell_type": "code",
   "execution_count": 18,
   "id": "a1bbdb05",
   "metadata": {},
   "outputs": [
    {
     "data": {
      "text/plain": [
       "0.8432453987376931"
      ]
     },
     "execution_count": 18,
     "metadata": {},
     "output_type": "execute_result"
    }
   ],
   "source": [
    "# Model Fitting and Evaluation\n",
    "\n",
    "lasso.fit(X_train_sc, y_train)\n",
    "lasso.score(X_train_sc, y_train)"
   ]
  },
  {
   "cell_type": "markdown",
   "id": "0868fb90",
   "metadata": {},
   "source": [
    "Our Lasso has an R2 score close to 0.85. This means that 85% of the variability in our target (SalePrice) is explained by the features in our model. \n",
    "\n",
    "The goal for R2 is to get as close as possible to 1."
   ]
  },
  {
   "cell_type": "code",
   "execution_count": 19,
   "id": "b68b77e7",
   "metadata": {},
   "outputs": [
    {
     "data": {
      "text/plain": [
       "763.6781566692105"
      ]
     },
     "execution_count": 19,
     "metadata": {},
     "output_type": "execute_result"
    }
   ],
   "source": [
    "# Extend of regularization \n",
    "# (The bigger the more regularized)\n",
    "\n",
    "lasso.alpha_"
   ]
  },
  {
   "cell_type": "markdown",
   "id": "01e7817a",
   "metadata": {},
   "source": [
    "The alpha value for the Lasso regression is quite high. This means that the model is penalizing a lot of variables and bringing them close or to 0."
   ]
  },
  {
   "cell_type": "markdown",
   "id": "772401f0",
   "metadata": {},
   "source": [
    "##### Model Evaluation"
   ]
  },
  {
   "cell_type": "markdown",
   "id": "cebf713e",
   "metadata": {},
   "source": [
    "Now that we train our model on the test data we will get the score on the validation data to see how is our model doing on unseen data."
   ]
  },
  {
   "cell_type": "markdown",
   "id": "722bd3ff",
   "metadata": {},
   "source": [
    "###### Lasso"
   ]
  },
  {
   "cell_type": "code",
   "execution_count": 20,
   "id": "fc517c33",
   "metadata": {},
   "outputs": [
    {
     "data": {
      "text/plain": [
       "0.8436855778877217"
      ]
     },
     "execution_count": 20,
     "metadata": {},
     "output_type": "execute_result"
    }
   ],
   "source": [
    "# Getting score for the validation portion of the dataset\n",
    "\n",
    "lasso.score(X_test_sc, y_test)"
   ]
  },
  {
   "cell_type": "markdown",
   "id": "d9b48e14",
   "metadata": {},
   "source": [
    "Our R2 score is slightly higher on our Test portion of the data than the train. This means that our model is doing better on unseen data.\n",
    "\n",
    "The difference is still relatively small, but we will test our other models to see if we can get a better result."
   ]
  },
  {
   "cell_type": "markdown",
   "id": "e6348226",
   "metadata": {},
   "source": [
    "###### Ridge"
   ]
  },
  {
   "cell_type": "markdown",
   "id": "5fe971f2",
   "metadata": {},
   "source": [
    "Since Ridge was our best model, we will try it on the test portion of the data and compare it's score with Lasso"
   ]
  },
  {
   "cell_type": "code",
   "execution_count": 21,
   "id": "4149aa12",
   "metadata": {},
   "outputs": [
    {
     "data": {
      "text/plain": [
       "0.845824329886917"
      ]
     },
     "execution_count": 21,
     "metadata": {},
     "output_type": "execute_result"
    }
   ],
   "source": [
    "# Trying Ridge as it is our second best model\n",
    "\n",
    "ridge.fit(X_train_sc, y_train)\n",
    "ridge.score(X_train_sc, y_train)"
   ]
  },
  {
   "cell_type": "markdown",
   "id": "4c3645d5",
   "metadata": {},
   "source": [
    "Similarly to the cross validation, Ridge is doing slightly "
   ]
  },
  {
   "cell_type": "code",
   "execution_count": 22,
   "id": "3e12ec1e",
   "metadata": {},
   "outputs": [
    {
     "data": {
      "text/plain": [
       "10.0"
      ]
     },
     "execution_count": 22,
     "metadata": {},
     "output_type": "execute_result"
    }
   ],
   "source": [
    "# Extend of regularization for Ridge\n",
    "\n",
    "ridge.alpha_"
   ]
  },
  {
   "cell_type": "code",
   "execution_count": 23,
   "id": "b10e1b3b",
   "metadata": {},
   "outputs": [
    {
     "data": {
      "text/plain": [
       "0.8322939073688881"
      ]
     },
     "execution_count": 23,
     "metadata": {},
     "output_type": "execute_result"
    }
   ],
   "source": [
    "# Getting score for the validation portion of the dataset\n",
    "\n",
    "ridge.score(X_test_sc, y_test)"
   ]
  },
  {
   "cell_type": "markdown",
   "id": "aeaabdd2",
   "metadata": {},
   "source": [
    "Similarly to our Lasso model, our Ridge model is doing slighlt worse on our test portion of the data. However, it is doing better than Lasso by a small margin. \n",
    "\n",
    "This makes Ridge a better model for us."
   ]
  },
  {
   "cell_type": "markdown",
   "id": "14e20482",
   "metadata": {},
   "source": [
    "###### Linear Regression"
   ]
  },
  {
   "cell_type": "markdown",
   "id": "9645ff99",
   "metadata": {},
   "source": [
    "Finally, we will try our Linear Regression model"
   ]
  },
  {
   "cell_type": "code",
   "execution_count": 24,
   "id": "90dd8280",
   "metadata": {},
   "outputs": [
    {
     "data": {
      "text/plain": [
       "0.8458288123232492"
      ]
     },
     "execution_count": 24,
     "metadata": {},
     "output_type": "execute_result"
    }
   ],
   "source": [
    "# Trying standard linear regression\n",
    "\n",
    "lr.fit(X_train_sc, y_train)\n",
    "lr.score(X_train_sc, y_train)"
   ]
  },
  {
   "cell_type": "markdown",
   "id": "c6649577",
   "metadata": {},
   "source": [
    "Our Linear Regression score is very close to our Ridge model on the train data."
   ]
  },
  {
   "cell_type": "code",
   "execution_count": 25,
   "id": "c17af34c",
   "metadata": {},
   "outputs": [
    {
     "data": {
      "text/plain": [
       "-4.006670444137352e+21"
      ]
     },
     "execution_count": 25,
     "metadata": {},
     "output_type": "execute_result"
    }
   ],
   "source": [
    "# Getting score for the validation portion of the dataset\n",
    "\n",
    "lr.score(X_test_sc, y_test)"
   ]
  },
  {
   "cell_type": "markdown",
   "id": "d7f265f2",
   "metadata": {},
   "source": [
    "However, on the test portion of the data we can see that it's very bad."
   ]
  },
  {
   "cell_type": "markdown",
   "id": "f10aacc7",
   "metadata": {},
   "source": [
    "###### Prediction"
   ]
  },
  {
   "cell_type": "markdown",
   "id": "0613c04b",
   "metadata": {},
   "source": [
    "Since Ridge was our best performing model, we will use it to make the prediction on the SalePrice"
   ]
  },
  {
   "cell_type": "code",
   "execution_count": 26,
   "id": "f8405b91",
   "metadata": {},
   "outputs": [],
   "source": [
    "pred = ridge.predict(X_test_sc)"
   ]
  },
  {
   "cell_type": "code",
   "execution_count": 27,
   "id": "9be5cab5",
   "metadata": {},
   "outputs": [
    {
     "data": {
      "text/plain": [
       "0.8322939073688881"
      ]
     },
     "execution_count": 27,
     "metadata": {},
     "output_type": "execute_result"
    }
   ],
   "source": [
    "ridge.score(X_test_sc, y_test)"
   ]
  },
  {
   "cell_type": "code",
   "execution_count": 28,
   "id": "5d76d22e",
   "metadata": {},
   "outputs": [
    {
     "data": {
      "text/plain": [
       "0.8322939073688881"
      ]
     },
     "execution_count": 28,
     "metadata": {},
     "output_type": "execute_result"
    }
   ],
   "source": [
    "r2_score(y_test, pred)"
   ]
  },
  {
   "cell_type": "code",
   "execution_count": 29,
   "id": "f44e3baa",
   "metadata": {},
   "outputs": [
    {
     "data": {
      "text/plain": [
       "30334.151778625495"
      ]
     },
     "execution_count": 29,
     "metadata": {},
     "output_type": "execute_result"
    }
   ],
   "source": [
    "# Getting RMSE score for selected Lasso Model\n",
    "\n",
    "np.sqrt(metrics.mean_squared_error(y_test, pred))"
   ]
  },
  {
   "cell_type": "markdown",
   "id": "450f7b56",
   "metadata": {},
   "source": [
    "Since we want to predict the most accurate price for our clients, using the R2 as on our comparison metric is not very relevant.\n",
    "\n",
    "In order to get the most accurate results, we need to use the RMSE (Root Mean Squared Error).\n",
    "\n",
    "This metric represents the average distance from the predicted value and will tell us what is the margin of error of our predicted prices.\n",
    "\n",
    "In this case, our margin of error is 30334$"
   ]
  },
  {
   "cell_type": "markdown",
   "id": "42b2caeb",
   "metadata": {},
   "source": [
    "### Optimising our results"
   ]
  },
  {
   "cell_type": "markdown",
   "id": "10e69b53",
   "metadata": {},
   "source": [
    "Now that we have obtained our RMSE, let's see if we can optimise our model to get a better result."
   ]
  },
  {
   "cell_type": "markdown",
   "id": "8a1a99c9",
   "metadata": {},
   "source": [
    "In order to do this, we will turn to our Lasso model and look at the coefficient for each variables."
   ]
  },
  {
   "cell_type": "markdown",
   "id": "7a35522f",
   "metadata": {},
   "source": [
    "##### Identifying best variables by coefficient"
   ]
  },
  {
   "cell_type": "code",
   "execution_count": 30,
   "id": "ba51ffde",
   "metadata": {
    "scrolled": false
   },
   "outputs": [
    {
     "data": {
      "image/png": "[encoded data removed]",
      "text/plain": [
       "<Figure size 2160x720 with 1 Axes>"
      ]
     },
     "metadata": {
      "needs_background": "light"
     },
     "output_type": "display_data"
    }
   ],
   "source": [
    "# Displaying coefficients for lasso model\n",
    "\n",
    "pd.Series(lasso.coef_, index=features).sort_values(ascending=False).plot.bar(\n",
    "    figsize=(30, 10),  title='Lasso Model Coefficients').xaxis.grid(\n",
    "    color='gray', linestyle='dashed')\n",
    "\n",
    "plt.savefig('figs/lasso_coef.png')\n",
    "plt.show()"
   ]
  },
  {
   "cell_type": "markdown",
   "id": "3f15b8aa",
   "metadata": {},
   "source": [
    "From the above graph, we can see that a lot of our features are brought to 0 by the Lasso. \n",
    "\n",
    "This means that they are not very relevant in our model.\n",
    "\n",
    "Let's try to only keep the best performing features to see if we can get a lower RMSE."
   ]
  },
  {
   "cell_type": "code",
   "execution_count": 31,
   "id": "063b9605",
   "metadata": {
    "scrolled": true
   },
   "outputs": [
    {
     "data": {
      "text/plain": [
       "Overall Qual            22024.979084\n",
       "Gr Liv Area             21829.118877\n",
       "1st Flr SF              14763.307621\n",
       "Neighborhood            12100.581905\n",
       "Garage Area             11991.363772\n",
       "Bsmt Qual                8764.742269\n",
       "Mas Vnr Type_Stone       3684.927983\n",
       "Exterior 1st_CemntBd     3644.542290\n",
       "Garage Type_None         2326.288997\n",
       "Garage Type_2Types       2052.020151\n",
       "Exterior 1st_BrkFace     1803.256766\n",
       "Garage Type_BuiltIn      1368.356809\n",
       "Exterior 1st_HdBoard      907.289432\n",
       "Foundation_Slab           777.850850\n",
       "Exterior 1st_MetalSd      754.612169\n",
       "Exterior 1st_Plywood      525.253449\n",
       "Mas Vnr Type_None         509.549841\n",
       "Exterior 1st_Stone        501.885654\n",
       "Foundation_BrkTil         414.954026\n",
       "Exterior 1st_AsbShng      329.106703\n",
       "Garage Type_Basment       310.639004\n",
       "Exterior 1st_Wd Sdng      280.055934\n",
       "House Style_1.5Fin        268.327601\n",
       "House Style_SLvl          187.282004\n",
       "House Style_2.5Fin        119.863376\n",
       "House Style_2.5Unf         78.773637\n",
       "House Style_1.5Unf         61.388988\n",
       "Exterior 1st_ImStucc        0.000000\n",
       "Foundation_PConc            0.000000\n",
       "Garage Type_Detchd          0.000000\n",
       "Garage Type_CarPort         0.000000\n",
       "House Style_2Story          0.000000\n",
       "Garage Type_Attchd          0.000000\n",
       "House Style_SFoyer          0.000000\n",
       "Foundation_Wood             0.000000\n",
       "Foundation_Stone            0.000000\n",
       "Exterior 1st_AsphShn        0.000000\n",
       "Foundation_CBlock           0.000000\n",
       "Age                         0.000000\n",
       "Exterior 1st_BrkComm        0.000000\n",
       "Mas Vnr Type_BrkFace        0.000000\n",
       "Mas Vnr Type_BrkCmn         0.000000\n",
       "Exterior 1st_WdShing        0.000000\n",
       "Exterior 1st_VinylSd        0.000000\n",
       "Exterior 1st_Stucco         0.000000\n",
       "Exterior 1st_CBlock         0.000000\n",
       "House Style_1Story          0.000000\n",
       "dtype: float64"
      ]
     },
     "execution_count": 31,
     "metadata": {},
     "output_type": "execute_result"
    }
   ],
   "source": [
    "abs(pd.Series(lasso.coef_, index=features)).sort_values(ascending=False)"
   ]
  },
  {
   "cell_type": "code",
   "execution_count": 32,
   "id": "403c6354",
   "metadata": {},
   "outputs": [
    {
     "data": {
      "text/plain": [
       "<matplotlib.collections.PathCollection at 0x1bd17194df0>"
      ]
     },
     "execution_count": 32,
     "metadata": {},
     "output_type": "execute_result"
    },
    {
     "data": {
      "image/png": "[encoded data removed]",
      "text/plain": [
       "<Figure size 432x288 with 1 Axes>"
      ]
     },
     "metadata": {
      "needs_background": "light"
     },
     "output_type": "display_data"
    }
   ],
   "source": [
    "# Plot predictions (x-axis) against residuals (y-axis)\n",
    "# Closer the scatter is to a horizontal line across zero, the better the model\n",
    "residuals = y_test - pred\n",
    "plt.scatter(pred, residuals)"
   ]
  },
  {
   "cell_type": "markdown",
   "id": "39b24640",
   "metadata": {},
   "source": [
    "##### Creating new models with our best variables"
   ]
  },
  {
   "cell_type": "markdown",
   "id": "534860ce",
   "metadata": {},
   "source": [
    "We are creating a new dataframe that will include our best 6 erforming variables and run new models on these."
   ]
  },
  {
   "cell_type": "code",
   "execution_count": 33,
   "id": "7b325b13",
   "metadata": {},
   "outputs": [],
   "source": [
    "# Creating a new dataframe with only the highest coefficients\n",
    "\n",
    "house_coeff_clean = house_train_clean[['Overall Qual','Gr Liv Area',\n",
    "                                       'Neighborhood', '1st Flr SF',\n",
    "                                       'Garage Area', 'Bsmt Qual', 'SalePrice']]"
   ]
  },
  {
   "cell_type": "code",
   "execution_count": 34,
   "id": "04721d6e",
   "metadata": {},
   "outputs": [],
   "source": [
    "# Creating a new set of variables for the new dataframe\n",
    "\n",
    "features_coeff = [col for col in  house_coeff_clean if col != 'SalePrice']\n",
    "\n",
    "X_coeff = house_coeff_clean[features_coeff]\n",
    "y_coeff = house_coeff_clean['SalePrice']"
   ]
  },
  {
   "cell_type": "code",
   "execution_count": 35,
   "id": "5d63b048",
   "metadata": {},
   "outputs": [],
   "source": [
    "# Train new model\n",
    "\n",
    "X_coeff_train, X_coeff_test, y_coeff_train, y_coeff_test = train_test_split(X_coeff, y_coeff, random_state=100)"
   ]
  },
  {
   "cell_type": "code",
   "execution_count": 36,
   "id": "d57da25b",
   "metadata": {},
   "outputs": [],
   "source": [
    "# Scale features\n",
    "\n",
    "ss = StandardScaler()\n",
    "ss.fit(X_coeff_train)\n",
    "X_coeff_train_sc = ss.transform(X_coeff_train)\n",
    "X_coeff_test_sc = ss.transform(X_coeff_test)"
   ]
  },
  {
   "cell_type": "code",
   "execution_count": 37,
   "id": "340173ef",
   "metadata": {},
   "outputs": [],
   "source": [
    "# Instantiate new models\n",
    "\n",
    "lr_coeff = LinearRegression()\n",
    "lasso_coeff = LassoCV(n_alphas=200)\n",
    "ridge_coeff = RidgeCV(alphas=np.linspace(.1, 10, 100))"
   ]
  },
  {
   "cell_type": "code",
   "execution_count": 38,
   "id": "4781e079",
   "metadata": {},
   "outputs": [],
   "source": [
    "# Generate cross valdiation for all three models\n",
    "\n",
    "lr_coeff_scores = cross_val_score(lr_coeff, X_coeff_train_sc, y_coeff_train, cv=5)\n",
    "lasso_coeff_scores = cross_val_score(lasso_coeff, X_coeff_train_sc, y_coeff_train, cv=5)\n",
    "ridge_coeff_scores = cross_val_score(ridge_coeff, X_coeff_train_sc, y_coeff_train, cv=5)"
   ]
  },
  {
   "cell_type": "code",
   "execution_count": 39,
   "id": "4969f1e7",
   "metadata": {
    "scrolled": true
   },
   "outputs": [
    {
     "name": "stdout",
     "output_type": "stream",
     "text": [
      "0.8239145509300506\n",
      "0.823936467745002\n",
      "0.8240184600964205\n"
     ]
    }
   ],
   "source": [
    "print(lr_coeff_scores.mean())\n",
    "print(lasso_coeff_scores.mean())\n",
    "print(ridge_coeff_scores.mean())"
   ]
  },
  {
   "cell_type": "markdown",
   "id": "65c2dfdf",
   "metadata": {},
   "source": [
    "With our new models, the Cross Validation is slightly lower than with our first model. \n",
    "\n",
    "However, let's see how they will do on the test data."
   ]
  },
  {
   "cell_type": "markdown",
   "id": "a1e1fecb",
   "metadata": {},
   "source": [
    "##### Model Fitting"
   ]
  },
  {
   "cell_type": "code",
   "execution_count": 40,
   "id": "f288c805",
   "metadata": {},
   "outputs": [
    {
     "data": {
      "text/plain": [
       "0.83153346344667"
      ]
     },
     "execution_count": 40,
     "metadata": {},
     "output_type": "execute_result"
    }
   ],
   "source": [
    "# Model Fitting and Evaluation\n",
    "\n",
    "lasso_coeff.fit(X_coeff_train_sc, y_coeff_train)\n",
    "lasso_coeff.score(X_coeff_train_sc, y_coeff_train)"
   ]
  },
  {
   "cell_type": "code",
   "execution_count": 41,
   "id": "0aece40c",
   "metadata": {},
   "outputs": [
    {
     "data": {
      "text/plain": [
       "64.94692743960819"
      ]
     },
     "execution_count": 41,
     "metadata": {},
     "output_type": "execute_result"
    }
   ],
   "source": [
    "lasso_coeff.alpha_"
   ]
  },
  {
   "cell_type": "markdown",
   "id": "9010bfdf",
   "metadata": {},
   "source": [
    "Since we removed most the the features that were heavily penalised from our model, the Lasso alpha is much smaller than on our first model, meaning that the features are more balanced in our model."
   ]
  },
  {
   "cell_type": "markdown",
   "id": "895b5c04",
   "metadata": {},
   "source": [
    "##### Model Evaluation"
   ]
  },
  {
   "cell_type": "markdown",
   "id": "60eb2d33",
   "metadata": {},
   "source": [
    "Ridge is giving us the best results based on the Cross Validation score. As such we will fit it and check the score."
   ]
  },
  {
   "cell_type": "code",
   "execution_count": 42,
   "id": "e2f0d711",
   "metadata": {},
   "outputs": [
    {
     "data": {
      "text/plain": [
       "0.8315297529685293"
      ]
     },
     "execution_count": 42,
     "metadata": {},
     "output_type": "execute_result"
    }
   ],
   "source": [
    "# Trying Ridge as it is our best model\n",
    "\n",
    "ridge_coeff.fit(X_coeff_train_sc, y_coeff_train)\n",
    "ridge_coeff.score(X_coeff_train_sc, y_coeff_train)"
   ]
  },
  {
   "cell_type": "code",
   "execution_count": 43,
   "id": "3d272b61",
   "metadata": {},
   "outputs": [
    {
     "data": {
      "text/plain": [
       "10.0"
      ]
     },
     "execution_count": 43,
     "metadata": {},
     "output_type": "execute_result"
    }
   ],
   "source": [
    "# Extend of regularization for Ridge\n",
    "\n",
    "ridge_coeff.alpha_"
   ]
  },
  {
   "cell_type": "code",
   "execution_count": 44,
   "id": "c37cd173",
   "metadata": {},
   "outputs": [
    {
     "data": {
      "text/plain": [
       "0.837554791152785"
      ]
     },
     "execution_count": 44,
     "metadata": {},
     "output_type": "execute_result"
    }
   ],
   "source": [
    "# Getting score for the validation portion of the dataset\n",
    "\n",
    "ridge_coeff.score(X_coeff_test_sc, y_coeff_test)"
   ]
  },
  {
   "cell_type": "code",
   "execution_count": 45,
   "id": "01ea42e0",
   "metadata": {},
   "outputs": [
    {
     "data": {
      "text/plain": [
       "0.8315345939554832"
      ]
     },
     "execution_count": 45,
     "metadata": {},
     "output_type": "execute_result"
    }
   ],
   "source": [
    "# Fitting Linear Regression for comparison\n",
    "\n",
    "lr_coeff.fit(X_coeff_train_sc, y_coeff_train)\n",
    "lr_coeff.score(X_coeff_train_sc, y_coeff_train)"
   ]
  },
  {
   "cell_type": "markdown",
   "id": "caf36f56",
   "metadata": {},
   "source": [
    "On our test portion of the dataset we managed to get a result of 83,22%. \n",
    "This result is better than our first model by 0.5%.\n",
    "\n",
    "This shows an small improvement compared to our first model.\n",
    "\n",
    "Now let's get predictions for our new models"
   ]
  },
  {
   "cell_type": "markdown",
   "id": "32071254",
   "metadata": {},
   "source": [
    "##### Getting Prediction results for each models"
   ]
  },
  {
   "cell_type": "markdown",
   "id": "16644d50",
   "metadata": {},
   "source": [
    "###### Lasso"
   ]
  },
  {
   "cell_type": "code",
   "execution_count": 46,
   "id": "9bf9afde",
   "metadata": {},
   "outputs": [],
   "source": [
    "pred_lcoeff = lasso_coeff.predict(X_coeff_test_sc)"
   ]
  },
  {
   "cell_type": "code",
   "execution_count": 47,
   "id": "1ef53d4f",
   "metadata": {
    "scrolled": true
   },
   "outputs": [
    {
     "data": {
      "text/plain": [
       "0.8374721903256553"
      ]
     },
     "execution_count": 47,
     "metadata": {},
     "output_type": "execute_result"
    }
   ],
   "source": [
    "r2_score(y_coeff_test, pred_lcoeff)"
   ]
  },
  {
   "cell_type": "markdown",
   "id": "9d9e19e6",
   "metadata": {},
   "source": [
    "###### Ridge"
   ]
  },
  {
   "cell_type": "code",
   "execution_count": 48,
   "id": "df631324",
   "metadata": {},
   "outputs": [],
   "source": [
    "pred_rcoeff = ridge_coeff.predict(X_coeff_test_sc)"
   ]
  },
  {
   "cell_type": "code",
   "execution_count": 49,
   "id": "9d9c60e1",
   "metadata": {
    "scrolled": true
   },
   "outputs": [
    {
     "data": {
      "text/plain": [
       "0.837554791152785"
      ]
     },
     "execution_count": 49,
     "metadata": {},
     "output_type": "execute_result"
    }
   ],
   "source": [
    "r2_score(y_coeff_test, pred_rcoeff)"
   ]
  },
  {
   "cell_type": "markdown",
   "id": "51a46f43",
   "metadata": {},
   "source": [
    "###### Linear Regression"
   ]
  },
  {
   "cell_type": "code",
   "execution_count": 50,
   "id": "36dee8d0",
   "metadata": {},
   "outputs": [],
   "source": [
    "pred_lrcoeff = lr_coeff.predict(X_coeff_test_sc)"
   ]
  },
  {
   "cell_type": "code",
   "execution_count": 51,
   "id": "a6c273c5",
   "metadata": {},
   "outputs": [
    {
     "data": {
      "text/plain": [
       "0.8373005627137515"
      ]
     },
     "execution_count": 51,
     "metadata": {},
     "output_type": "execute_result"
    }
   ],
   "source": [
    "r2_score(y_coeff_test, pred_lrcoeff)"
   ]
  },
  {
   "cell_type": "markdown",
   "id": "8df16147",
   "metadata": {},
   "source": [
    "Overall, we can see an improvement in R2 scores for each of our models compared to the predictions made using the first itteration of the models."
   ]
  },
  {
   "cell_type": "markdown",
   "id": "e7d5a1f1",
   "metadata": {},
   "source": [
    "#### Getting RMSE Scores for each models"
   ]
  },
  {
   "cell_type": "markdown",
   "id": "05df74c3",
   "metadata": {},
   "source": [
    "###### Lasso"
   ]
  },
  {
   "cell_type": "code",
   "execution_count": 52,
   "id": "e61de103",
   "metadata": {},
   "outputs": [
    {
     "data": {
      "text/plain": [
       "29862.164018455253"
      ]
     },
     "execution_count": 52,
     "metadata": {},
     "output_type": "execute_result"
    }
   ],
   "source": [
    "# Getting RMSE score for selected Lasso Model\n",
    "\n",
    "np.sqrt(metrics.mean_squared_error(y_coeff_test, pred_lcoeff))"
   ]
  },
  {
   "cell_type": "markdown",
   "id": "a732c7cd",
   "metadata": {},
   "source": [
    "###### Ridge"
   ]
  },
  {
   "cell_type": "code",
   "execution_count": 53,
   "id": "5b608982",
   "metadata": {},
   "outputs": [
    {
     "data": {
      "text/plain": [
       "29854.57469286578"
      ]
     },
     "execution_count": 53,
     "metadata": {},
     "output_type": "execute_result"
    }
   ],
   "source": [
    "# Getting RMSE score for selected Ridge Model\n",
    "\n",
    "np.sqrt(metrics.mean_squared_error(y_coeff_test, pred_rcoeff))"
   ]
  },
  {
   "cell_type": "markdown",
   "id": "a7f13fb9",
   "metadata": {},
   "source": [
    "###### Linear Regression"
   ]
  },
  {
   "cell_type": "code",
   "execution_count": 54,
   "id": "b7b6d701",
   "metadata": {},
   "outputs": [
    {
     "data": {
      "text/plain": [
       "29877.926919553265"
      ]
     },
     "execution_count": 54,
     "metadata": {},
     "output_type": "execute_result"
    }
   ],
   "source": [
    "# Getting RMSE score for selected Linear Regression Model\n",
    "\n",
    "np.sqrt(metrics.mean_squared_error(y_coeff_test, pred_lrcoeff))"
   ]
  },
  {
   "cell_type": "markdown",
   "id": "92fa1e13",
   "metadata": {},
   "source": [
    "No surprise here, Ridge is stil lgiving us the best RMSE score. \n",
    "\n",
    "With our new models we managed to get our RMSE from 30334 to 29877$. \n",
    "This result in a gain of 1.5% accuracy compared to our first model."
   ]
  },
  {
   "cell_type": "code",
   "execution_count": 55,
   "id": "975bd255",
   "metadata": {},
   "outputs": [
    {
     "data": {
      "text/plain": [
       "22417.747334927142"
      ]
     },
     "execution_count": 55,
     "metadata": {},
     "output_type": "execute_result"
    }
   ],
   "source": [
    "# Getting Mean Absolute Error\n",
    "\n",
    "np.abs(y_coeff_test - pred_rcoeff).mean()"
   ]
  },
  {
   "cell_type": "markdown",
   "id": "75ac95b9",
   "metadata": {},
   "source": [
    "##### Getting our coefficients"
   ]
  },
  {
   "cell_type": "code",
   "execution_count": 56,
   "id": "e50c65d8",
   "metadata": {
    "scrolled": true
   },
   "outputs": [
    {
     "data": {
      "image/png": "[encoded data removed]",
      "text/plain": [
       "<Figure size 2160x720 with 1 Axes>"
      ]
     },
     "metadata": {
      "needs_background": "light"
     },
     "output_type": "display_data"
    }
   ],
   "source": [
    "# Displaying coefficients for Ridge model\n",
    "\n",
    "pd.Series(ridge_coeff.coef_, index=features_coeff).sort_values(ascending=False).plot.bar(figsize=(30, 10)).xaxis.grid(color='gray', linestyle='dashed')\n",
    "\n",
    "plt.savefig('figs/lasso_coef_2.png')\n",
    "plt.show()"
   ]
  },
  {
   "cell_type": "code",
   "execution_count": 57,
   "id": "e65387f5",
   "metadata": {
    "scrolled": false
   },
   "outputs": [
    {
     "data": {
      "text/plain": [
       "Overall Qual    23107.450791\n",
       "Gr Liv Area     22406.597428\n",
       "1st Flr SF      15666.043422\n",
       "Neighborhood    12997.712429\n",
       "Garage Area     10399.363879\n",
       "Bsmt Qual        9628.718262\n",
       "dtype: float64"
      ]
     },
     "execution_count": 57,
     "metadata": {},
     "output_type": "execute_result"
    }
   ],
   "source": [
    "pd.Series(ridge_coeff.coef_, index=features_coeff).sort_values(ascending=False)"
   ]
  },
  {
   "cell_type": "markdown",
   "id": "74107f13",
   "metadata": {},
   "source": [
    "Using these coeffiecient we can predict the increase in value of a proprty based based on the increase in the variable.\n",
    "\n",
    "For one unit of increase in the Overall Quality variable, a property would see an increase in value of 23107$"
   ]
  },
  {
   "cell_type": "code",
   "execution_count": 58,
   "id": "0e4d80ac",
   "metadata": {},
   "outputs": [
    {
     "data": {
      "text/plain": [
       "<matplotlib.collections.PathCollection at 0x1bd1728edc0>"
      ]
     },
     "execution_count": 58,
     "metadata": {},
     "output_type": "execute_result"
    },
    {
     "data": {
      "image/png": "[encoded data removed]",
      "text/plain": [
       "<Figure size 432x288 with 1 Axes>"
      ]
     },
     "metadata": {
      "needs_background": "light"
     },
     "output_type": "display_data"
    }
   ],
   "source": [
    "# Plot predictions (x-axis) against residuals (y-axis)\n",
    "# Closer the scatter is to a horizontal line across zero, the better the model\n",
    "residuals_coeff = y_coeff_test - pred_rcoeff\n",
    "plt.scatter(pred_rcoeff, residuals_coeff)"
   ]
  },
  {
   "cell_type": "markdown",
   "id": "72384ce2",
   "metadata": {},
   "source": [
    "Based on the results of our new model, we can now interpret our coefficients.\n",
    "\n",
    "For each increase of 1 unit in our features, the sale price will increase by the associated value.\n",
    "\n",
    "The most prominent features would be:\n",
    "* Gr Liv Area\n",
    "* Overall Quality\n",
    "* 1st Flr SF\n",
    "\n",
    "We can recommend to our client that if they want to maximize the sale price of their house they should focus on impriving one of these three areas."
   ]
  },
  {
   "cell_type": "markdown",
   "id": "e7d8b8c7",
   "metadata": {},
   "source": [
    "### Applying our model to the Test Dataset to predict SalePrice"
   ]
  },
  {
   "cell_type": "markdown",
   "id": "c8a13637",
   "metadata": {},
   "source": [
    "Now that we have trained and evaluated our model, it's time to run the prediction on the test.csv dataset and upload the results to Kaggle to see how rank among our classmates"
   ]
  },
  {
   "cell_type": "markdown",
   "id": "7758f7d7",
   "metadata": {},
   "source": [
    "##### Loading our cleaned test dataset"
   ]
  },
  {
   "cell_type": "code",
   "execution_count": 59,
   "id": "da095d36",
   "metadata": {},
   "outputs": [],
   "source": [
    "# loading our Cleaned Test CSV File\n",
    "\n",
    "house_test_clean = pd.read_csv('datasets/test_cleaned.csv')"
   ]
  },
  {
   "cell_type": "code",
   "execution_count": 60,
   "id": "756e3846",
   "metadata": {},
   "outputs": [
    {
     "data": {
      "text/plain": [
       "Index(['Overall Qual', 'Gr Liv Area', 'Neighborhood', '1st Flr SF',\n",
       "       'Garage Area', 'Bsmt Qual', 'SalePrice'],\n",
       "      dtype='object')"
      ]
     },
     "execution_count": 60,
     "metadata": {},
     "output_type": "execute_result"
    }
   ],
   "source": [
    "# Making sure that both Train and Test have the same number of columns and in the same order.\n",
    "\n",
    "house_coeff_clean.columns"
   ]
  },
  {
   "cell_type": "code",
   "execution_count": 61,
   "id": "07e1c2e5",
   "metadata": {},
   "outputs": [],
   "source": [
    "# Creating the new DataFrame based on the features selected for the final model\n",
    "\n",
    "house_test_final = house_test_clean[['Overall Qual','Gr Liv Area',\n",
    "                                       'Neighborhood', '1st Flr SF',\n",
    "                                       'Garage Area', 'Bsmt Qual',]]"
   ]
  },
  {
   "cell_type": "code",
   "execution_count": 62,
   "id": "d51f8590",
   "metadata": {},
   "outputs": [
    {
     "data": {
      "text/plain": [
       "Index(['Overall Qual', 'Gr Liv Area', 'Neighborhood', '1st Flr SF',\n",
       "       'Garage Area', 'Bsmt Qual'],\n",
       "      dtype='object')"
      ]
     },
     "execution_count": 62,
     "metadata": {},
     "output_type": "execute_result"
    }
   ],
   "source": [
    "# Printing columns to compare with Train dataset\n",
    "\n",
    "house_test_final.columns"
   ]
  },
  {
   "cell_type": "markdown",
   "id": "bd13a568",
   "metadata": {},
   "source": [
    "##### Prediction"
   ]
  },
  {
   "cell_type": "code",
   "execution_count": 63,
   "id": "8c2fee38",
   "metadata": {},
   "outputs": [],
   "source": [
    "# Applying our standard scaler to the test dataset\n",
    "\n",
    "ss_test = ss.transform(house_test_final)"
   ]
  },
  {
   "cell_type": "code",
   "execution_count": 64,
   "id": "cbc992d1",
   "metadata": {},
   "outputs": [],
   "source": [
    "# Running our Ridge, Lasso and LR Prediction on the scaled test data\n",
    "# Same variables used to train our model\n",
    "\n",
    "test_predict_ridge = ridge_coeff.predict(ss_test)\n",
    "test_predict_lasso = lasso_coeff.predict(ss_test)\n",
    "test_predict_lr = lr_coeff.predict(ss_test)"
   ]
  },
  {
   "cell_type": "markdown",
   "id": "eadef0e6",
   "metadata": {},
   "source": [
    "##### Loading original test csv to retrieve Id column"
   ]
  },
  {
   "cell_type": "code",
   "execution_count": 65,
   "id": "17fdb2ff",
   "metadata": {},
   "outputs": [],
   "source": [
    "# Reading in the original Test dataset to get the ID back for Kaggle Submision\n",
    "\n",
    "house_test = pd.read_csv('datasets/test.csv')"
   ]
  },
  {
   "cell_type": "markdown",
   "id": "50e4461b",
   "metadata": {},
   "source": [
    "##### Creating a new dataframe"
   ]
  },
  {
   "cell_type": "markdown",
   "id": "62335e05",
   "metadata": {},
   "source": [
    "We are creating a new dataframe that will include the Id column from the original test.csv file and the predicted sale price for each house using our final model"
   ]
  },
  {
   "cell_type": "code",
   "execution_count": 66,
   "id": "a4d6fea3",
   "metadata": {},
   "outputs": [],
   "source": [
    "# Creating a new Dataframe that will retrieve the Id from the original test.csv and assign the SalePrice based on our predictions.\n",
    "\n",
    "kaggle_ridge = pd.DataFrame({'Id': house_test['Id'],'SalePrice': test_predict_ridge})\n",
    "kaggle_lasso = pd.DataFrame({'Id': house_test['Id'], 'SalePrice': test_predict_lasso})\n",
    "kaggle_lr = pd.DataFrame({'Id': house_test['Id'], 'SalePrice': test_predict_lr})"
   ]
  },
  {
   "cell_type": "markdown",
   "id": "105605d1",
   "metadata": {},
   "source": [
    "##### Saving our new dataframe to csv to upload to Kaggle"
   ]
  },
  {
   "cell_type": "code",
   "execution_count": 67,
   "id": "3e75a82d",
   "metadata": {},
   "outputs": [],
   "source": [
    "# Saving the new dataframe as csv to import to Kaggle\n",
    "# Index False as we only want 2 columns( Id and SalePrice)\n",
    "\n",
    "kaggle_ridge.to_csv('datasets/kaggle_ridge_submission.csv', index=False)\n",
    "kaggle_lasso.to_csv('datasets/kaggle_lasso_submission.csv', index=False)\n",
    "kaggle_lr.to_csv('datasets/kaggle_lr_submission.csv', index=False)"
   ]
  },
  {
   "cell_type": "markdown",
   "id": "3daabe9c",
   "metadata": {},
   "source": [
    "### Conclusion and Recommendations"
   ]
  },
  {
   "cell_type": "markdown",
   "id": "fbaf1556",
   "metadata": {},
   "source": [
    "In conclusion,\n",
    "\n",
    "Our baseline had a margin of error of 80897$ when predicting sale price of houses.\n",
    "\n",
    "Using our first model, we managed to bring down the margin of error to 30334. \n",
    "However, for this first model we used a total 47 variables. This makes our model quite complex and it could be hard to justify implementing it to stakeholders.\n",
    "Also, since a lot of the variables were heavily penalised by our model, it wasn't running optimaly.\n",
    "\n",
    "With this in mind, we reduced the number of variables making it simpler and easier to explain.\n",
    "We also managed to improve the results of our model both in term of accuracy and margin of error.\n",
    "\n",
    "Our final R2 value is 83.75% and the margin of error is 29854$\n",
    "\n",
    "\n",
    "Using this new model, our company will be able to regain it's edge on the market and be able to deploy the best property value predictor on the market.\n",
    "\n",
    "Since our model is simple (6 variables), we can also recommend our clients which features to improve in order to maximise the sale price of their properties. "
   ]
  },
  {
   "cell_type": "markdown",
   "id": "4a9d851e",
   "metadata": {},
   "source": [
    "##### Recommendations\n",
    "\n"
   ]
  },
  {
   "cell_type": "markdown",
   "id": "1b1747fd",
   "metadata": {},
   "source": [
    "We could think of expanding our model not only to Ames properties but also to nearby town in other to increase the reach of our services.\n",
    "We would only need to get the sales history of neghboring towns and train our model on this new data.\n",
    "\n",
    "\n",
    "We can also leverage on our sale price improvement feature to gain another edge on the market, not only accuratly predicting sale price but also helping our clients in maximising the value of their properties using our coefficients.\n",
    "\n",
    "Finally, we can also targets properties in the neighborhoods with an higher average or median sale price and be more agressive on our marketing in these areas, as they would be the properties bringing us the highest commissions."
   ]
  },
  {
   "cell_type": "markdown",
   "id": "8c2d61c7",
   "metadata": {},
   "source": [
    "##### Limitations of our model"
   ]
  },
  {
   "cell_type": "markdown",
   "id": "7125ba71",
   "metadata": {},
   "source": [
    "As every model, we will need to retrain our model every week to remain accurate and adapt to new trends in the market.\n",
    "\n",
    "We also need to be mindful of the outliers in our model as the results can be heavily skewed by them\n",
    "\n",
    "Also, we used a transformation of Nieghborhoods based on SalePrice wich can lead to some issues with real time predictions.\n",
    "* Instead of using the median house price to rank neighborhood it would be better to be better to rank the neighborhood bu their level of amenities.\n",
    "This is something we should be focusing to improve our model.\n"
   ]
  },
  {
   "cell_type": "code",
   "execution_count": null,
   "id": "9a4b25e9",
   "metadata": {},
   "outputs": [],
   "source": []
  }
 ],
 "metadata": {
  "kernelspec": {
   "display_name": "Python 3 (ipykernel)",
   "language": "python",
   "name": "python3"
  },
  "language_info": {
   "codemirror_mode": {
    "name": "ipython",
    "version": 3
   },
   "file_extension": ".py",
   "mimetype": "text/x-python",
   "name": "python",
   "nbconvert_exporter": "python",
   "pygments_lexer": "ipython3",
   "version": "3.9.12"
  }
 },
 "nbformat": 4,
 "nbformat_minor": 5
}
