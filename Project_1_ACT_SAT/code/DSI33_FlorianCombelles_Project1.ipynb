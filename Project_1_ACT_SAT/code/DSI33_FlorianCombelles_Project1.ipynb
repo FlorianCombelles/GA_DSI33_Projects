{
 "cells": [
  {
   "cell_type": "markdown",
   "metadata": {},
   "source": [
    "<img src=\"http://imgur.com/1ZcRyrc.png\" style=\"float: left; margin: 20px; height: 55px\">\n",
    "\n",
    "# Project 1: Standardized Test Analysis"
   ]
  },
  {
   "cell_type": "markdown",
   "metadata": {},
   "source": [
    "--- \n",
    "# Part 1\n",
    "\n",
    "Part 1 requires knowledge of basic Python.\n",
    "\n",
    "---"
   ]
  },
  {
   "cell_type": "markdown",
   "metadata": {},
   "source": [
    "## Problem Statement"
   ]
  },
  {
   "cell_type": "markdown",
   "metadata": {},
   "source": [
    "Decide on your problem statement that will guide your analysis for this project. For guidelines, sample prompts, or inspiration, check out the README.\n",
    "\n",
    "Did Covid have a impact on SAT and ACT participation and scores beyond it's current trend."
   ]
  },
  {
   "cell_type": "markdown",
   "metadata": {},
   "source": [
    "### Contents:\n",
    "- [Background](#Background)\n",
    "- [Data Import & Cleaning](#Data-Import-and-Cleaning)\n",
    "- [Exploratory Data Analysis](#Exploratory-Data-Analysis)\n",
    "- [Data Visualization](#Visualize-the-Data)\n",
    "- [Conclusions and Recommendations](#Conclusions-and-Recommendations)"
   ]
  },
  {
   "cell_type": "markdown",
   "metadata": {},
   "source": [
    "## Background"
   ]
  },
  {
   "cell_type": "markdown",
   "metadata": {},
   "source": [
    "The SAT and ACT are standardized tests that many colleges and universities in the United States require for their admissions process. This score is used along with other materials such as grade point average (GPA) and essay responses to determine whether or not a potential student will be accepted to the university.\n",
    "\n",
    "The SAT has two sections of the test: Evidence-Based Reading and Writing and Math ([*source*](https://www.princetonreview.com/college/sat-sections)). The ACT has 4 sections: English, Mathematics, Reading, and Science, with an additional optional writing section ([*source*](https://www.act.org/content/act/en/products-and-services/the-act/scores/understanding-your-scores.html)). They have different score ranges, which you can read more about on their websites or additional outside sources (a quick Google search will help you understand the scores for each test):\n",
    "* [SAT](https://collegereadiness.collegeboard.org/sat)\n",
    "* [ACT](https://www.act.org/content/act/en.html)\n",
    "\n",
    "Standardized tests have long been a controversial topic for students, administrators, and legislators. Since the 1940's, an increasing number of colleges have been using scores from sudents' performances on tests like the SAT and the ACT as a measure for college readiness and aptitude ([*source*](https://www.minotdailynews.com/news/local-news/2017/04/a-brief-history-of-the-sat-and-act/)). Supporters of these tests argue that these scores can be used as an objective measure to determine college admittance. Opponents of these tests claim that these tests are not accurate measures of students potential or ability and serve as an inequitable barrier to entry. Lately, more and more schools are opting to drop the SAT/ACT requirement for their Fall 2021 applications ([*read more about this here*](https://www.cnn.com/2020/04/14/us/coronavirus-colleges-sat-act-test-trnd/index.html))."
   ]
  },
  {
   "cell_type": "markdown",
   "metadata": {},
   "source": [
    "**To-Do:** *Fill out this cell (or edit the above cell) with any other background or information that is necessary for your problem statement.*"
   ]
  },
  {
   "cell_type": "markdown",
   "metadata": {},
   "source": [
    "### Choose your Data\n",
    "\n",
    "There are 10 datasets included in the [`data`](./data/) folder for this project. You are required to pick **at least two** of these to complete your analysis. Feel free to use more than two if you would like, or add other relevant datasets you find online.\n",
    "\n",
    "* [`act_2017.csv`](./data/act_2017.csv): 2017 ACT Scores by State\n",
    "* [`act_2018.csv`](./data/act_2018.csv): 2018 ACT Scores by State\n",
    "* [`act_2019.csv`](./data/act_2019.csv): 2019 ACT Scores by State\n",
    "* [`act_2019_ca.csv`](./data/act_2019_ca.csv): 2019 ACT Scores in California by School\n",
    "* [`sat_2017.csv`](./data/sat_2017.csv): 2017 SAT Scores by State\n",
    "* [`sat_2018.csv`](./data/sat_2018.csv): 2018 SAT Scores by State\n",
    "* [`sat_2019.csv`](./data/sat_2019.csv): 2019 SAT Scores by State\n",
    "* [`sat_2019_by_intended_college_major.csv`](./data/sat_2019_by_intended_college_major.csv): 2019 SAT Scores by Intended College Major\n",
    "* [`sat_2019_ca.csv`](./data/sat_2019_ca.csv): 2019 SAT Scores in California by School\n",
    "* [`sat_act_by_college.csv`](./data/sat_act_by_college.csv): Ranges of Accepted ACT & SAT Student Scores by Colleges"
   ]
  },
  {
   "cell_type": "markdown",
   "metadata": {},
   "source": [
    "**To-Do:** *Fill out this cell with the datasets you will use for your analysis. Write a brief description of the contents for each dataset that you choose.*"
   ]
  },
  {
   "cell_type": "markdown",
   "metadata": {},
   "source": [
    "Datasets used for this projects:\n",
    "* [`act_2017.csv`](./data/act_2017.csv): 2017 ACT Scores by State\n",
    "* [`act_2018.csv`](./data/act_2018.csv): 2018 ACT Scores by State\n",
    "* [`act_2019.csv`](./data/act_2019.csv): 2019 ACT Scores by State\n",
    "* [`act_2012.csv`](./data/act_2012.csv): 2020 ACT Scores by State\n",
    "* [`act_2021.csv`](./data/act_2021.csv): 2021 ACT Scores by State\n",
    "* [`sat_2017.csv`](./data/sat_2017.csv): 2017 SAT Scores by State\n",
    "* [`sat_2018.csv`](./data/sat_2018.csv): 2018 SAT Scores by State\n",
    "* [`sat_2019.csv`](./data/sat_2019.csv): 2019 SAT Scores by State\n",
    "* [`sat_2020.csv`](./data/sat_2020.csv): 2020 SAT Scores by State\n",
    "* [`sat_2021.csv`](./data/sat_2021.csv): 2021 SAT Scores by State"
   ]
  },
  {
   "cell_type": "markdown",
   "metadata": {},
   "source": [
    "### Outside Research"
   ]
  },
  {
   "cell_type": "markdown",
   "metadata": {},
   "source": [
    "Based on your problem statement and your chosen datasets, spend some time doing outside research on state policies or additional information that might be relevant. Summarize your findings below. If you bring in any outside tables or charts, make sure you are explicit about having borrowed them. If you quote any text, make sure that it renders as being quoted. **Make sure that you cite your sources.**"
   ]
  },
  {
   "cell_type": "markdown",
   "metadata": {},
   "source": [
    "During Covid, universities re-examined the SAT/ACT requirement for applications.\n",
    "    - Testing sites were closed or disrupted\n",
    "    - Students couldn't prepare for the tests in optimal conditions\n",
    "\n",
    "Some univeristies decided to become either:\n",
    "    - Test Optional\n",
    "        . Students can still submit their results with their applications but it is not required\n",
    "    - Test blind\n",
    "        . ACT and SAT results are not counted for admission of applications (but maybe for grants ?)\n",
    "    - Eliminated tests\n",
    "        . Tests are not considered for any part of the application\n",
    "\n",
    "Going test optional increase college accessibility especially for student with lower income family and/or from minorities\n",
    "    - Higher SAT scores results come from families with an income superior to 200,000 while lowest scores comes from families with income inferior to 20,000\n",
    "    - Hispanic and African American students of similar income usually scores lower than their Asian and White counterparts."
   ]
  },
  {
   "cell_type": "markdown",
   "metadata": {},
   "source": [
    "### Coding Challenges\n",
    "\n",
    "1. Manually calculate mean:\n",
    "\n",
    "    Write a function that takes in values and returns the mean of the values. Create a list of numbers that you test on your function to check to make sure your function works!\n",
    "    \n",
    "    *Note*: Do not use any mean methods built-in to any Python libraries to do this! This should be done without importing any additional libraries."
   ]
  },
  {
   "cell_type": "code",
   "execution_count": 1,
   "metadata": {},
   "outputs": [],
   "source": [
    "# Create a function called mean_calc to calculate the mean of a list of values.\n",
    "# Initiate a counter that will be used to get the sum of the values in the list\n",
    "# Create a loop that will go through all the values in value list\n",
    "# Increment the total_value counter will all the values from the value list\n",
    "# Divide the total value by the amount of items in the value list\n",
    "\n",
    "def mean_calc(value_list):\n",
    "    total_value = 0\n",
    "    for value in value_list:\n",
    "        total_value += value\n",
    "        mean_value = total_value / len(value_list)\n",
    "    return mean_value"
   ]
  },
  {
   "cell_type": "code",
   "execution_count": 2,
   "metadata": {},
   "outputs": [],
   "source": [
    "# Alternate version \n",
    "def mean_calc_alt(value_list_alt):\n",
    "    mean_value_alt = sum(value_list_alt) / len(value_list_alt)\n",
    "    return mean_value_alt"
   ]
  },
  {
   "cell_type": "code",
   "execution_count": 3,
   "metadata": {},
   "outputs": [
    {
     "name": "stdout",
     "output_type": "stream",
     "text": [
      "419.0\n",
      "419.0\n"
     ]
    }
   ],
   "source": [
    "print(mean_calc([100,255,864,254,639,548,369,512,354,147,556,752,364,152]))\n",
    "print(mean_calc_alt([100,255,864,254,639,548,369,512,354,147,556,752,364,152]))"
   ]
  },
  {
   "cell_type": "markdown",
   "metadata": {},
   "source": [
    "2. Manually calculate standard deviation:\n",
    "\n",
    "    The formula for standard deviation is below:\n",
    "\n",
    "    $$\\sigma = \\sqrt{\\frac{1}{n}\\sum_{i=1}^n(x_i - \\mu)^2}$$\n",
    "\n",
    "    Where $x_i$ represents each value in the dataset, $\\mu$ represents the mean of all values in the dataset and $n$ represents the number of values in the dataset.\n",
    "\n",
    "    Write a function that takes in values and returns the standard deviation of the values using the formula above. Hint: use the function you wrote above to calculate the mean! Use the list of numbers you created above to test on your function.\n",
    "    \n",
    "    *Note*: Do not use any standard deviation methods built-in to any Python libraries to do this! This should be done without importing any additional libraries."
   ]
  },
  {
   "cell_type": "code",
   "execution_count": 4,
   "metadata": {},
   "outputs": [],
   "source": [
    "def dev_calc(value_list):\n",
    "    sum_sqr =[]\n",
    "    avg_num = mean_calc_alt(value_list)\n",
    "    for number in value_list:\n",
    "        #ind_dev = number - avg_num\n",
    "        sum_sqr.append((number - avg_num) ** 2)\n",
    "    sum_ind_dev = sum(sum_sqr)\n",
    "    var = (sum_ind_dev / len(value_list)) ** 0.5\n",
    "       # dev = var ** 0.5\n",
    "    return var   "
   ]
  },
  {
   "cell_type": "code",
   "execution_count": 5,
   "metadata": {
    "scrolled": true
   },
   "outputs": [
    {
     "data": {
      "text/plain": [
       "1.8856180831641267"
      ]
     },
     "execution_count": 5,
     "metadata": {},
     "output_type": "execute_result"
    }
   ],
   "source": [
    "dev_calc([2,3,5,6,7,8,3,5,6])"
   ]
  },
  {
   "cell_type": "code",
   "execution_count": 6,
   "metadata": {},
   "outputs": [],
   "source": [
    "#np.std([2,3,5,6,7,8,3,5,6])"
   ]
  },
  {
   "cell_type": "code",
   "execution_count": 7,
   "metadata": {},
   "outputs": [
    {
     "data": {
      "text/plain": [
       "225.5593048402127"
      ]
     },
     "execution_count": 7,
     "metadata": {},
     "output_type": "execute_result"
    }
   ],
   "source": [
    "dev_calc([100,255,864,254,639,548,369,512,354,147,556,752,364,152])"
   ]
  },
  {
   "cell_type": "markdown",
   "metadata": {},
   "source": [
    "3. Data cleaning function:\n",
    "    \n",
    "    Write a function that takes in a string that is a number and a percent symbol (ex. '50%', '30.5%', etc.) and converts this to a float that is the decimal approximation of the percent. For example, inputting '50%' in your function should return 0.5, '30.5%' should return 0.305, etc. Make sure to test your function to make sure it works!\n",
    "\n",
    "You will use these functions later on in the project!"
   ]
  },
  {
   "cell_type": "code",
   "execution_count": 8,
   "metadata": {},
   "outputs": [],
   "source": [
    "def perc_conv(num): # Define a function percentage converter\n",
    "    num_conv = num.strip('%') # Define a variable that will remove the '%' from the number\n",
    "    num_dec = float(num_conv) / 100 # Define a variable that will convert the number to a float and divide it by 100 to obtain the decimal value\n",
    "    return num_dec"
   ]
  },
  {
   "cell_type": "code",
   "execution_count": 9,
   "metadata": {},
   "outputs": [
    {
     "data": {
      "text/plain": [
       "0.305"
      ]
     },
     "execution_count": 9,
     "metadata": {},
     "output_type": "execute_result"
    }
   ],
   "source": [
    "perc_conv('30.5%')"
   ]
  },
  {
   "cell_type": "markdown",
   "metadata": {},
   "source": [
    "--- \n",
    "# Part 2\n",
    "\n",
    "Part 2 requires knowledge of Pandas, EDA, data cleaning, and data visualization.\n",
    "\n",
    "---"
   ]
  },
  {
   "cell_type": "markdown",
   "metadata": {},
   "source": [
    "*All libraries used should be added here*"
   ]
  },
  {
   "cell_type": "code",
   "execution_count": 10,
   "metadata": {},
   "outputs": [],
   "source": [
    "# Importing necessary libraries\n",
    "\n",
    "import numpy as np\n",
    "import pandas as pd\n",
    "import matplotlib.pyplot as plt\n",
    "import seaborn as sbn"
   ]
  },
  {
   "cell_type": "markdown",
   "metadata": {},
   "source": [
    "## Data Import and Cleaning"
   ]
  },
  {
   "cell_type": "markdown",
   "metadata": {},
   "source": [
    "### Data Import & Cleaning\n",
    "\n",
    "Import the datasets that you selected for this project and go through the following steps at a minimum. You are welcome to do further cleaning as you feel necessary:\n",
    "1. Display the data: print the first 5 rows of each dataframe to your Jupyter notebook.\n",
    "2. Check for missing values.\n",
    "3. Check for any obvious issues with the observations (keep in mind the minimum & maximum possible values for each test/subtest).\n",
    "4. Fix any errors you identified in steps 2-3.\n",
    "5. Display the data types of each feature.\n",
    "6. Fix any incorrect data types found in step 5.\n",
    "    - Fix any individual values preventing other columns from being the appropriate type.\n",
    "    - If your dataset has a column of percents (ex. '50%', '30.5%', etc.), use the function you wrote in Part 1 (coding challenges, number 3) to convert this to floats! *Hint*: use `.map()` or `.apply()`.\n",
    "7. Rename Columns.\n",
    "    - Column names should be all lowercase.\n",
    "    - Column names should not contain spaces (underscores will suffice--this allows for using the `df.column_name` method to access columns in addition to `df['column_name']`).\n",
    "    - Column names should be unique and informative.\n",
    "8. Drop unnecessary rows (if needed).\n",
    "9. Merge dataframes that can be merged.\n",
    "10. Perform any additional cleaning that you feel is necessary.\n",
    "11. Save your cleaned and merged dataframes as csv files."
   ]
  },
  {
   "cell_type": "code",
   "execution_count": 11,
   "metadata": {},
   "outputs": [],
   "source": [
    "# Loading the datasets\n",
    "\n",
    "act_2017 = pd.read_csv('../data/act_2017.csv')\n",
    "act_2018 = pd.read_csv('../data/act_2018.csv')\n",
    "act_2019 = pd.read_csv('../data/act_2019.csv')\n",
    "act_2020 = pd.read_csv('../data/act_2020.csv')\n",
    "act_2021 = pd.read_csv('../data/act_2021.csv')\n",
    "sat_2017 = pd.read_csv('../data/sat_2017.csv')\n",
    "sat_2018 = pd.read_csv('../data/sat_2018.csv')\n",
    "sat_2019 = pd.read_csv('../data/sat_2019.csv')\n",
    "sat_2020 = pd.read_csv('../data/sat_2020.csv')\n",
    "sat_2021 = pd.read_csv('../data/sat_2021.csv')"
   ]
  },
  {
   "cell_type": "code",
   "execution_count": 12,
   "metadata": {},
   "outputs": [],
   "source": [
    "# Creating a list of imported files\n",
    "\n",
    "csv_list = [act_2017,act_2018,act_2019,act_2020,act_2021,sat_2017,sat_2018,sat_2019,sat_2020,sat_2021]"
   ]
  },
  {
   "cell_type": "code",
   "execution_count": 13,
   "metadata": {},
   "outputs": [],
   "source": [
    "# Creating a function to print the types of all file imported\n",
    "\n",
    "def csv_type(csv_list):\n",
    "    for csv in csv_list:\n",
    "        print(type(csv))"
   ]
  },
  {
   "cell_type": "code",
   "execution_count": 14,
   "metadata": {},
   "outputs": [
    {
     "name": "stdout",
     "output_type": "stream",
     "text": [
      "<class 'pandas.core.frame.DataFrame'>\n",
      "<class 'pandas.core.frame.DataFrame'>\n",
      "<class 'pandas.core.frame.DataFrame'>\n",
      "<class 'pandas.core.frame.DataFrame'>\n",
      "<class 'pandas.core.frame.DataFrame'>\n",
      "<class 'pandas.core.frame.DataFrame'>\n",
      "<class 'pandas.core.frame.DataFrame'>\n",
      "<class 'pandas.core.frame.DataFrame'>\n",
      "<class 'pandas.core.frame.DataFrame'>\n",
      "<class 'pandas.core.frame.DataFrame'>\n"
     ]
    }
   ],
   "source": [
    "# Calling the previous function to display the types of the file imported\n",
    "\n",
    "csv_type(csv_list)"
   ]
  },
  {
   "cell_type": "markdown",
   "metadata": {},
   "source": [
    "##### Question 1: Display the data: print the first 5 rows of each dataframe to your Jupyter notebook."
   ]
  },
  {
   "cell_type": "code",
   "execution_count": 15,
   "metadata": {},
   "outputs": [],
   "source": [
    "# Crerating a function to print out the first 5 rows of each file imported\n",
    "\n",
    "def disp_data(csv_list):\n",
    "    for file in csv_list:\n",
    "        print(file.head(5))"
   ]
  },
  {
   "cell_type": "code",
   "execution_count": 16,
   "metadata": {
    "scrolled": true
   },
   "outputs": [
    {
     "name": "stdout",
     "output_type": "stream",
     "text": [
      "      State Participation  English  Math  Reading  Science  Composite\n",
      "0  National           60%     20.3  20.7     21.4     21.0       21.0\n",
      "1   Alabama          100%     18.9  18.4     19.7     19.4       19.2\n",
      "2    Alaska           65%     18.7  19.8     20.4     19.9       19.8\n",
      "3   Arizona           62%     18.6  19.8     20.1     19.8       19.7\n",
      "4  Arkansas          100%     18.9  19.0     19.7     19.5       19.4\n",
      "        State Participation  Composite\n",
      "0     Alabama          100%       19.1\n",
      "1      Alaska           33%       20.8\n",
      "2     Arizona           66%       19.2\n",
      "3    Arkansas          100%       19.4\n",
      "4  California           27%       22.7\n",
      "        State Participation  Composite\n",
      "0     Alabama          100%       18.9\n",
      "1      Alaska           38%       20.1\n",
      "2     Arizona           73%       19.0\n",
      "3    Arkansas          100%       19.3\n",
      "4  California           23%       22.6\n",
      "       State  Participation  English  Math  Reading  Science  Composite\n",
      "0   National      45.740349     20.1  20.4     21.2     20.6       20.7\n",
      "1   Alabama      100.000000     18.5  18.1     19.3     18.8       18.8\n",
      "2    Alaska       33.000000     18.8  20.0     21.0     20.1       20.1\n",
      "3   Arizona       71.000000     18.0  19.3     19.5     19.1       19.1\n",
      "4  Arkansas      100.000000     18.7  18.4     19.4     19.1       19.0\n",
      "       State  Participation  English  Math  Reading  Science  Composite\n",
      "0   National      35.301865     19.6  19.9     20.9     20.4       20.3\n",
      "1   Alabama      100.000000     18.4  18.0     19.2     18.8       18.7\n",
      "2    Alaska       16.000000     19.4  20.5     21.6     20.6       20.6\n",
      "3   Arizona       35.000000     18.6  19.8     20.3     19.9       19.8\n",
      "4  Arkansas       99.000000     18.6  18.3     19.3     19.2       19.0\n",
      "        State Participation  Evidence-Based Reading and Writing  Math  Total\n",
      "0     Alabama            5%                                 593   572   1165\n",
      "1      Alaska           38%                                 547   533   1080\n",
      "2     Arizona           30%                                 563   553   1116\n",
      "3    Arkansas            3%                                 614   594   1208\n",
      "4  California           53%                                 531   524   1055\n",
      "        State Participation  Evidence-Based Reading and Writing  Math  Total\n",
      "0     Alabama            6%                                 595   571   1166\n",
      "1      Alaska           43%                                 562   544   1106\n",
      "2     Arizona           29%                                 577   572   1149\n",
      "3    Arkansas            5%                                 592   576   1169\n",
      "4  California           60%                                 540   536   1076\n",
      "        State Participation  EBRW  Math  Total\n",
      "0     Alabama            7%   583   560   1143\n",
      "1      Alaska           41%   556   541   1097\n",
      "2     Arizona           31%   569   565   1134\n",
      "3    Arkansas            6%   582   559   1141\n",
      "4  California           63%   534   531   1065\n",
      "       State  Participation  Evidence-Based Reading and Writing  Math  Total\n",
      "0   National      60.470016                                 528   523   1051\n",
      "1   Alabama        7.000000                                 576   551   1127\n",
      "2    Alaska       37.000000                                 555   543   1098\n",
      "3   Arizona       29.000000                                 571   568   1139\n",
      "4  Arkansas        4.000000                                 590   567   1157\n",
      "       State  Participation  Evidence-Based Reading and Writing  Math  Total\n",
      "0   National      41.128074                                 533   528   1060\n",
      "1   Alabama        3.000000                                 591   568   1159\n",
      "2    Alaska       23.000000                                 567   553   1119\n",
      "3   Arizona       11.000000                                 592   589   1181\n",
      "4  Arkansas        2.000000                                 610   584   1194\n"
     ]
    }
   ],
   "source": [
    "# Calling out the previous function to print out the first 5 rows of each imported file in csv_list\n",
    "\n",
    "disp_data(csv_list)"
   ]
  },
  {
   "cell_type": "markdown",
   "metadata": {},
   "source": [
    "#### Question 2: Check for missing values."
   ]
  },
  {
   "cell_type": "code",
   "execution_count": 17,
   "metadata": {},
   "outputs": [],
   "source": [
    "# Creating a function that will display the info of all imported files\n",
    "\n",
    "def miss_val_chk(csv_list):\n",
    "    for file in csv_list:\n",
    "        print(file.info())"
   ]
  },
  {
   "cell_type": "code",
   "execution_count": 18,
   "metadata": {
    "scrolled": true
   },
   "outputs": [
    {
     "name": "stdout",
     "output_type": "stream",
     "text": [
      "<class 'pandas.core.frame.DataFrame'>\n",
      "RangeIndex: 52 entries, 0 to 51\n",
      "Data columns (total 7 columns):\n",
      " #   Column         Non-Null Count  Dtype  \n",
      "---  ------         --------------  -----  \n",
      " 0   State          52 non-null     object \n",
      " 1   Participation  52 non-null     object \n",
      " 2   English        52 non-null     float64\n",
      " 3   Math           52 non-null     float64\n",
      " 4   Reading        52 non-null     float64\n",
      " 5   Science        52 non-null     float64\n",
      " 6   Composite      52 non-null     float64\n",
      "dtypes: float64(5), object(2)\n",
      "memory usage: 3.0+ KB\n",
      "None\n",
      "<class 'pandas.core.frame.DataFrame'>\n",
      "RangeIndex: 52 entries, 0 to 51\n",
      "Data columns (total 3 columns):\n",
      " #   Column         Non-Null Count  Dtype  \n",
      "---  ------         --------------  -----  \n",
      " 0   State          52 non-null     object \n",
      " 1   Participation  52 non-null     object \n",
      " 2   Composite      52 non-null     float64\n",
      "dtypes: float64(1), object(2)\n",
      "memory usage: 1.3+ KB\n",
      "None\n",
      "<class 'pandas.core.frame.DataFrame'>\n",
      "RangeIndex: 52 entries, 0 to 51\n",
      "Data columns (total 3 columns):\n",
      " #   Column         Non-Null Count  Dtype  \n",
      "---  ------         --------------  -----  \n",
      " 0   State          52 non-null     object \n",
      " 1   Participation  52 non-null     object \n",
      " 2   Composite      52 non-null     float64\n",
      "dtypes: float64(1), object(2)\n",
      "memory usage: 1.3+ KB\n",
      "None\n",
      "<class 'pandas.core.frame.DataFrame'>\n",
      "RangeIndex: 52 entries, 0 to 51\n",
      "Data columns (total 7 columns):\n",
      " #   Column         Non-Null Count  Dtype  \n",
      "---  ------         --------------  -----  \n",
      " 0   State          52 non-null     object \n",
      " 1   Participation  52 non-null     float64\n",
      " 2   English        52 non-null     float64\n",
      " 3   Math           52 non-null     float64\n",
      " 4   Reading        52 non-null     float64\n",
      " 5   Science        52 non-null     float64\n",
      " 6   Composite      52 non-null     float64\n",
      "dtypes: float64(6), object(1)\n",
      "memory usage: 3.0+ KB\n",
      "None\n",
      "<class 'pandas.core.frame.DataFrame'>\n",
      "RangeIndex: 52 entries, 0 to 51\n",
      "Data columns (total 7 columns):\n",
      " #   Column         Non-Null Count  Dtype  \n",
      "---  ------         --------------  -----  \n",
      " 0   State          52 non-null     object \n",
      " 1   Participation  52 non-null     float64\n",
      " 2   English        52 non-null     float64\n",
      " 3   Math           52 non-null     float64\n",
      " 4   Reading        52 non-null     float64\n",
      " 5   Science        52 non-null     float64\n",
      " 6   Composite      52 non-null     float64\n",
      "dtypes: float64(6), object(1)\n",
      "memory usage: 3.0+ KB\n",
      "None\n",
      "<class 'pandas.core.frame.DataFrame'>\n",
      "RangeIndex: 51 entries, 0 to 50\n",
      "Data columns (total 5 columns):\n",
      " #   Column                              Non-Null Count  Dtype \n",
      "---  ------                              --------------  ----- \n",
      " 0   State                               51 non-null     object\n",
      " 1   Participation                       51 non-null     object\n",
      " 2   Evidence-Based Reading and Writing  51 non-null     int64 \n",
      " 3   Math                                51 non-null     int64 \n",
      " 4   Total                               51 non-null     int64 \n",
      "dtypes: int64(3), object(2)\n",
      "memory usage: 2.1+ KB\n",
      "None\n",
      "<class 'pandas.core.frame.DataFrame'>\n",
      "RangeIndex: 51 entries, 0 to 50\n",
      "Data columns (total 5 columns):\n",
      " #   Column                              Non-Null Count  Dtype \n",
      "---  ------                              --------------  ----- \n",
      " 0   State                               51 non-null     object\n",
      " 1   Participation                       51 non-null     object\n",
      " 2   Evidence-Based Reading and Writing  51 non-null     int64 \n",
      " 3   Math                                51 non-null     int64 \n",
      " 4   Total                               51 non-null     int64 \n",
      "dtypes: int64(3), object(2)\n",
      "memory usage: 2.1+ KB\n",
      "None\n",
      "<class 'pandas.core.frame.DataFrame'>\n",
      "RangeIndex: 53 entries, 0 to 52\n",
      "Data columns (total 5 columns):\n",
      " #   Column         Non-Null Count  Dtype \n",
      "---  ------         --------------  ----- \n",
      " 0   State          53 non-null     object\n",
      " 1   Participation  53 non-null     object\n",
      " 2   EBRW           53 non-null     int64 \n",
      " 3   Math           53 non-null     int64 \n",
      " 4   Total          53 non-null     int64 \n",
      "dtypes: int64(3), object(2)\n",
      "memory usage: 2.2+ KB\n",
      "None\n",
      "<class 'pandas.core.frame.DataFrame'>\n",
      "RangeIndex: 52 entries, 0 to 51\n",
      "Data columns (total 5 columns):\n",
      " #   Column                              Non-Null Count  Dtype  \n",
      "---  ------                              --------------  -----  \n",
      " 0   State                               52 non-null     object \n",
      " 1   Participation                       52 non-null     float64\n",
      " 2   Evidence-Based Reading and Writing  52 non-null     int64  \n",
      " 3   Math                                52 non-null     int64  \n",
      " 4   Total                               52 non-null     int64  \n",
      "dtypes: float64(1), int64(3), object(1)\n",
      "memory usage: 2.2+ KB\n",
      "None\n",
      "<class 'pandas.core.frame.DataFrame'>\n",
      "RangeIndex: 52 entries, 0 to 51\n",
      "Data columns (total 5 columns):\n",
      " #   Column                              Non-Null Count  Dtype  \n",
      "---  ------                              --------------  -----  \n",
      " 0   State                               52 non-null     object \n",
      " 1   Participation                       52 non-null     float64\n",
      " 2   Evidence-Based Reading and Writing  52 non-null     int64  \n",
      " 3   Math                                52 non-null     int64  \n",
      " 4   Total                               52 non-null     int64  \n",
      "dtypes: float64(1), int64(3), object(1)\n",
      "memory usage: 2.2+ KB\n",
      "None\n"
     ]
    }
   ],
   "source": [
    "# Callout the previous function to display the info of all imported files in file_list\n",
    "miss_val_chk(csv_list)"
   ]
  },
  {
   "cell_type": "markdown",
   "metadata": {},
   "source": [
    "##### <font color=red> /!\\ We have different numbers of row in the files, We will need to be careful when merging them"
   ]
  },
  {
   "cell_type": "markdown",
   "metadata": {},
   "source": [
    "#### Question 8: Drop unnecessary columns."
   ]
  },
  {
   "cell_type": "code",
   "execution_count": 19,
   "metadata": {
    "scrolled": true
   },
   "outputs": [],
   "source": [
    "# Dropping the English,Math,Reading and Science columns from 2017,2020 and 2021 as they are not in 2018 and 2019\n",
    "\n",
    "act_2017.drop(columns=[\n",
    "    'English',\n",
    "    'Math',\n",
    "    'Reading',\n",
    "    'Science'], inplace=True)\n",
    "\n",
    "act_2020.drop(columns=[\n",
    "    'English',\n",
    "    'Math',\n",
    "    'Reading',\n",
    "    'Science'], inplace=True)\n",
    "\n",
    "act_2021.drop(columns=[\n",
    "    'English',\n",
    "    'Math',\n",
    "    'Reading',\n",
    "    'Science'], inplace=True)"
   ]
  },
  {
   "cell_type": "markdown",
   "metadata": {},
   "source": [
    "#### Question 7: Rename Columns.\n",
    "    . Column names should be all lowercase.\n",
    "    . Column names should not contain spaces (underscores will suffice--this allows for using the df.column_name method to access columns in addition"
   ]
  },
  {
   "cell_type": "code",
   "execution_count": 20,
   "metadata": {},
   "outputs": [],
   "source": [
    "# Renaming all the columns to make it easier to refer to them\n",
    "# Create a function that will force the columns names into lower case AND replace the spaces with underscores\n",
    "\n",
    "def rname_cols(file_list):\n",
    "    for file in file_list:\n",
    "        file.columns = (file.columns.str.lower())\n",
    "        file.columns = (file.columns.str.replace(' ','_'))\n",
    "        print(file.head())"
   ]
  },
  {
   "cell_type": "code",
   "execution_count": 21,
   "metadata": {
    "scrolled": true
   },
   "outputs": [
    {
     "name": "stdout",
     "output_type": "stream",
     "text": [
      "      state participation  composite\n",
      "0  National           60%       21.0\n",
      "1   Alabama          100%       19.2\n",
      "2    Alaska           65%       19.8\n",
      "3   Arizona           62%       19.7\n",
      "4  Arkansas          100%       19.4\n",
      "        state participation  composite\n",
      "0     Alabama          100%       19.1\n",
      "1      Alaska           33%       20.8\n",
      "2     Arizona           66%       19.2\n",
      "3    Arkansas          100%       19.4\n",
      "4  California           27%       22.7\n",
      "        state participation  composite\n",
      "0     Alabama          100%       18.9\n",
      "1      Alaska           38%       20.1\n",
      "2     Arizona           73%       19.0\n",
      "3    Arkansas          100%       19.3\n",
      "4  California           23%       22.6\n",
      "       state  participation  composite\n",
      "0   National      45.740349       20.7\n",
      "1   Alabama      100.000000       18.8\n",
      "2    Alaska       33.000000       20.1\n",
      "3   Arizona       71.000000       19.1\n",
      "4  Arkansas      100.000000       19.0\n",
      "       state  participation  composite\n",
      "0   National      35.301865       20.3\n",
      "1   Alabama      100.000000       18.7\n",
      "2    Alaska       16.000000       20.6\n",
      "3   Arizona       35.000000       19.8\n",
      "4  Arkansas       99.000000       19.0\n",
      "        state participation  evidence-based_reading_and_writing  math  total\n",
      "0     Alabama            5%                                 593   572   1165\n",
      "1      Alaska           38%                                 547   533   1080\n",
      "2     Arizona           30%                                 563   553   1116\n",
      "3    Arkansas            3%                                 614   594   1208\n",
      "4  California           53%                                 531   524   1055\n",
      "        state participation  evidence-based_reading_and_writing  math  total\n",
      "0     Alabama            6%                                 595   571   1166\n",
      "1      Alaska           43%                                 562   544   1106\n",
      "2     Arizona           29%                                 577   572   1149\n",
      "3    Arkansas            5%                                 592   576   1169\n",
      "4  California           60%                                 540   536   1076\n",
      "        state participation  ebrw  math  total\n",
      "0     Alabama            7%   583   560   1143\n",
      "1      Alaska           41%   556   541   1097\n",
      "2     Arizona           31%   569   565   1134\n",
      "3    Arkansas            6%   582   559   1141\n",
      "4  California           63%   534   531   1065\n",
      "       state  participation  evidence-based_reading_and_writing  math  total\n",
      "0   National      60.470016                                 528   523   1051\n",
      "1   Alabama        7.000000                                 576   551   1127\n",
      "2    Alaska       37.000000                                 555   543   1098\n",
      "3   Arizona       29.000000                                 571   568   1139\n",
      "4  Arkansas        4.000000                                 590   567   1157\n",
      "       state  participation  evidence-based_reading_and_writing  math  total\n",
      "0   National      41.128074                                 533   528   1060\n",
      "1   Alabama        3.000000                                 591   568   1159\n",
      "2    Alaska       23.000000                                 567   553   1119\n",
      "3   Arizona       11.000000                                 592   589   1181\n",
      "4  Arkansas        2.000000                                 610   584   1194\n"
     ]
    }
   ],
   "source": [
    "rname_cols(csv_list)"
   ]
  },
  {
   "cell_type": "code",
   "execution_count": 22,
   "metadata": {
    "scrolled": true
   },
   "outputs": [],
   "source": [
    "# Renaming the participation and composite columns in act files prior to merge\n",
    "\n",
    "act_2017.rename(columns={\n",
    "    'participation':'part_2017',\n",
    "    'composite':'comp_2017'}, inplace=True)\n",
    "\n",
    "act_2018.rename(columns={\n",
    "    'participation':'part_2018',\n",
    "    'composite':'comp_2018'}, inplace=True)\n",
    "\n",
    "act_2019.rename(columns={\n",
    "    'participation':'part_2019',\n",
    "    'composite':'comp_2019'}, inplace=True)\n",
    "\n",
    "act_2020.rename(columns={\n",
    "    'participation':'part_2020',\n",
    "    'composite':'comp_2020'}, inplace=True)\n",
    "\n",
    "act_2021.rename(columns={\n",
    "    'participation':'part_2021',\n",
    "    'composite':'comp_2021'}, inplace=True)"
   ]
  },
  {
   "cell_type": "code",
   "execution_count": 23,
   "metadata": {},
   "outputs": [],
   "source": [
    "# Renaming the columns in sat files prior to merge\n",
    "\n",
    "sat_2017.rename(columns={\n",
    "    'participation':'part_2017',\n",
    "    'evidence-based_reading_and_writing':'ebrw_2017',\n",
    "    'math':'math_2017',\n",
    "    'total':'total_2017'}, inplace=True)\n",
    "\n",
    "sat_2018.rename(columns={\n",
    "    'participation':'part_2018',\n",
    "    'evidence-based_reading_and_writing':'ebrw_2018',\n",
    "    'math':'math_2018',\n",
    "    'total':'total_2018'}, inplace=True)\n",
    "\n",
    "sat_2019.rename(columns={\n",
    "    'participation':'part_2019',\n",
    "    'ebrw':'ebrw_2019',\n",
    "    'math':'math_2019',\n",
    "    'total':'total_2019'}, inplace=True)\n",
    "\n",
    "sat_2020.rename(columns={\n",
    "    'participation':'part_2020',\n",
    "    'evidence-based_reading_and_writing':'ebrw_2020',\n",
    "    'math':'math_2020',\n",
    "    'total':'total_2020'}, inplace=True)\n",
    "\n",
    "sat_2021.rename(columns={\n",
    "    'participation':'part_2021',\n",
    "    'evidence-based_reading_and_writing':'ebrw_2021',\n",
    "    'math':'math_2021',\n",
    "    'total':'total_2021'}, inplace=True)"
   ]
  },
  {
   "cell_type": "code",
   "execution_count": 24,
   "metadata": {},
   "outputs": [],
   "source": [
    "# Removing white space in ACT and SAT file for years 2020 and 2021 in the state column.\n",
    "\n",
    "act_2020[\"state\"] = act_2020[\"state\"].map(lambda x: x.strip())\n",
    "act_2021[\"state\"] = act_2021[\"state\"].map(lambda x: x.strip())\n",
    "\n",
    "sat_2020[\"state\"] = sat_2020[\"state\"].map(lambda x: x.strip())\n",
    "sat_2021[\"state\"] = sat_2021[\"state\"].map(lambda x: x.strip())"
   ]
  },
  {
   "cell_type": "markdown",
   "metadata": {},
   "source": [
    "#### Question 3: Check for any obvious issues with the observations (keep in mind the minimum & maximum possible values for each test/subtest)."
   ]
  },
  {
   "cell_type": "code",
   "execution_count": 25,
   "metadata": {
    "scrolled": false
   },
   "outputs": [
    {
     "name": "stdout",
     "output_type": "stream",
     "text": [
      "Empty DataFrame\n",
      "Columns: [state, part_2017, comp_2017]\n",
      "Index: []\n",
      "Empty DataFrame\n",
      "Columns: [state, part_2018, comp_2018]\n",
      "Index: []\n",
      "Empty DataFrame\n",
      "Columns: [state, part_2019, comp_2019]\n",
      "Index: []\n",
      "Empty DataFrame\n",
      "Columns: [state, part_2020, comp_2020]\n",
      "Index: []\n",
      "Empty DataFrame\n",
      "Columns: [state, part_2021, comp_2021]\n",
      "Index: []\n"
     ]
    }
   ],
   "source": [
    "# Checking if there is any ACT score below or above the correct range\n",
    " \n",
    "print(act_2017[(act_2017['comp_2017'] < 1) | (act_2017['comp_2017'] > 36)])\n",
    "print(act_2018[(act_2018['comp_2018'] < 1) | (act_2018['comp_2018'] > 36)])\n",
    "print(act_2019[(act_2019['comp_2019'] < 1) | (act_2019['comp_2019'] > 36)])\n",
    "print(act_2020[(act_2020['comp_2020'] < 1) | (act_2020['comp_2020'] > 36)])\n",
    "print(act_2021[(act_2021['comp_2021'] < 1) | (act_2021['comp_2021'] > 36)])"
   ]
  },
  {
   "cell_type": "code",
   "execution_count": 26,
   "metadata": {
    "scrolled": true
   },
   "outputs": [
    {
     "data": {
      "text/html": [
       "<div>\n",
       "<style scoped>\n",
       "    .dataframe tbody tr th:only-of-type {\n",
       "        vertical-align: middle;\n",
       "    }\n",
       "\n",
       "    .dataframe tbody tr th {\n",
       "        vertical-align: top;\n",
       "    }\n",
       "\n",
       "    .dataframe thead th {\n",
       "        text-align: right;\n",
       "    }\n",
       "</style>\n",
       "<table border=\"1\" class=\"dataframe\">\n",
       "  <thead>\n",
       "    <tr style=\"text-align: right;\">\n",
       "      <th></th>\n",
       "      <th>state</th>\n",
       "      <th>part_2018</th>\n",
       "      <th>comp_2018</th>\n",
       "    </tr>\n",
       "  </thead>\n",
       "  <tbody>\n",
       "    <tr>\n",
       "      <th>0</th>\n",
       "      <td>False</td>\n",
       "      <td>False</td>\n",
       "      <td>False</td>\n",
       "    </tr>\n",
       "    <tr>\n",
       "      <th>1</th>\n",
       "      <td>False</td>\n",
       "      <td>False</td>\n",
       "      <td>False</td>\n",
       "    </tr>\n",
       "    <tr>\n",
       "      <th>2</th>\n",
       "      <td>False</td>\n",
       "      <td>False</td>\n",
       "      <td>False</td>\n",
       "    </tr>\n",
       "    <tr>\n",
       "      <th>3</th>\n",
       "      <td>False</td>\n",
       "      <td>False</td>\n",
       "      <td>False</td>\n",
       "    </tr>\n",
       "    <tr>\n",
       "      <th>4</th>\n",
       "      <td>False</td>\n",
       "      <td>False</td>\n",
       "      <td>False</td>\n",
       "    </tr>\n",
       "    <tr>\n",
       "      <th>5</th>\n",
       "      <td>False</td>\n",
       "      <td>False</td>\n",
       "      <td>False</td>\n",
       "    </tr>\n",
       "    <tr>\n",
       "      <th>6</th>\n",
       "      <td>False</td>\n",
       "      <td>False</td>\n",
       "      <td>False</td>\n",
       "    </tr>\n",
       "    <tr>\n",
       "      <th>7</th>\n",
       "      <td>False</td>\n",
       "      <td>False</td>\n",
       "      <td>False</td>\n",
       "    </tr>\n",
       "    <tr>\n",
       "      <th>8</th>\n",
       "      <td>False</td>\n",
       "      <td>False</td>\n",
       "      <td>False</td>\n",
       "    </tr>\n",
       "    <tr>\n",
       "      <th>9</th>\n",
       "      <td>False</td>\n",
       "      <td>False</td>\n",
       "      <td>False</td>\n",
       "    </tr>\n",
       "    <tr>\n",
       "      <th>10</th>\n",
       "      <td>False</td>\n",
       "      <td>False</td>\n",
       "      <td>False</td>\n",
       "    </tr>\n",
       "    <tr>\n",
       "      <th>11</th>\n",
       "      <td>False</td>\n",
       "      <td>False</td>\n",
       "      <td>False</td>\n",
       "    </tr>\n",
       "    <tr>\n",
       "      <th>12</th>\n",
       "      <td>False</td>\n",
       "      <td>False</td>\n",
       "      <td>False</td>\n",
       "    </tr>\n",
       "    <tr>\n",
       "      <th>13</th>\n",
       "      <td>False</td>\n",
       "      <td>False</td>\n",
       "      <td>False</td>\n",
       "    </tr>\n",
       "    <tr>\n",
       "      <th>14</th>\n",
       "      <td>False</td>\n",
       "      <td>False</td>\n",
       "      <td>False</td>\n",
       "    </tr>\n",
       "    <tr>\n",
       "      <th>15</th>\n",
       "      <td>False</td>\n",
       "      <td>False</td>\n",
       "      <td>False</td>\n",
       "    </tr>\n",
       "    <tr>\n",
       "      <th>16</th>\n",
       "      <td>False</td>\n",
       "      <td>False</td>\n",
       "      <td>False</td>\n",
       "    </tr>\n",
       "    <tr>\n",
       "      <th>17</th>\n",
       "      <td>False</td>\n",
       "      <td>False</td>\n",
       "      <td>False</td>\n",
       "    </tr>\n",
       "    <tr>\n",
       "      <th>18</th>\n",
       "      <td>False</td>\n",
       "      <td>False</td>\n",
       "      <td>False</td>\n",
       "    </tr>\n",
       "    <tr>\n",
       "      <th>19</th>\n",
       "      <td>False</td>\n",
       "      <td>False</td>\n",
       "      <td>False</td>\n",
       "    </tr>\n",
       "    <tr>\n",
       "      <th>20</th>\n",
       "      <td>False</td>\n",
       "      <td>False</td>\n",
       "      <td>False</td>\n",
       "    </tr>\n",
       "    <tr>\n",
       "      <th>21</th>\n",
       "      <td>False</td>\n",
       "      <td>False</td>\n",
       "      <td>False</td>\n",
       "    </tr>\n",
       "    <tr>\n",
       "      <th>22</th>\n",
       "      <td>False</td>\n",
       "      <td>False</td>\n",
       "      <td>False</td>\n",
       "    </tr>\n",
       "    <tr>\n",
       "      <th>23</th>\n",
       "      <td>False</td>\n",
       "      <td>False</td>\n",
       "      <td>False</td>\n",
       "    </tr>\n",
       "    <tr>\n",
       "      <th>24</th>\n",
       "      <td>False</td>\n",
       "      <td>False</td>\n",
       "      <td>False</td>\n",
       "    </tr>\n",
       "    <tr>\n",
       "      <th>25</th>\n",
       "      <td>False</td>\n",
       "      <td>False</td>\n",
       "      <td>False</td>\n",
       "    </tr>\n",
       "    <tr>\n",
       "      <th>26</th>\n",
       "      <td>False</td>\n",
       "      <td>False</td>\n",
       "      <td>False</td>\n",
       "    </tr>\n",
       "    <tr>\n",
       "      <th>27</th>\n",
       "      <td>False</td>\n",
       "      <td>False</td>\n",
       "      <td>False</td>\n",
       "    </tr>\n",
       "    <tr>\n",
       "      <th>28</th>\n",
       "      <td>False</td>\n",
       "      <td>False</td>\n",
       "      <td>False</td>\n",
       "    </tr>\n",
       "    <tr>\n",
       "      <th>29</th>\n",
       "      <td>False</td>\n",
       "      <td>False</td>\n",
       "      <td>False</td>\n",
       "    </tr>\n",
       "    <tr>\n",
       "      <th>30</th>\n",
       "      <td>False</td>\n",
       "      <td>False</td>\n",
       "      <td>False</td>\n",
       "    </tr>\n",
       "    <tr>\n",
       "      <th>31</th>\n",
       "      <td>False</td>\n",
       "      <td>False</td>\n",
       "      <td>False</td>\n",
       "    </tr>\n",
       "    <tr>\n",
       "      <th>32</th>\n",
       "      <td>False</td>\n",
       "      <td>False</td>\n",
       "      <td>False</td>\n",
       "    </tr>\n",
       "    <tr>\n",
       "      <th>33</th>\n",
       "      <td>False</td>\n",
       "      <td>False</td>\n",
       "      <td>False</td>\n",
       "    </tr>\n",
       "    <tr>\n",
       "      <th>34</th>\n",
       "      <td>False</td>\n",
       "      <td>False</td>\n",
       "      <td>False</td>\n",
       "    </tr>\n",
       "    <tr>\n",
       "      <th>35</th>\n",
       "      <td>False</td>\n",
       "      <td>False</td>\n",
       "      <td>False</td>\n",
       "    </tr>\n",
       "    <tr>\n",
       "      <th>36</th>\n",
       "      <td>False</td>\n",
       "      <td>False</td>\n",
       "      <td>False</td>\n",
       "    </tr>\n",
       "    <tr>\n",
       "      <th>37</th>\n",
       "      <td>False</td>\n",
       "      <td>False</td>\n",
       "      <td>False</td>\n",
       "    </tr>\n",
       "    <tr>\n",
       "      <th>38</th>\n",
       "      <td>False</td>\n",
       "      <td>False</td>\n",
       "      <td>False</td>\n",
       "    </tr>\n",
       "    <tr>\n",
       "      <th>39</th>\n",
       "      <td>False</td>\n",
       "      <td>False</td>\n",
       "      <td>False</td>\n",
       "    </tr>\n",
       "    <tr>\n",
       "      <th>40</th>\n",
       "      <td>False</td>\n",
       "      <td>False</td>\n",
       "      <td>False</td>\n",
       "    </tr>\n",
       "    <tr>\n",
       "      <th>41</th>\n",
       "      <td>False</td>\n",
       "      <td>False</td>\n",
       "      <td>False</td>\n",
       "    </tr>\n",
       "    <tr>\n",
       "      <th>42</th>\n",
       "      <td>False</td>\n",
       "      <td>False</td>\n",
       "      <td>False</td>\n",
       "    </tr>\n",
       "    <tr>\n",
       "      <th>43</th>\n",
       "      <td>False</td>\n",
       "      <td>False</td>\n",
       "      <td>False</td>\n",
       "    </tr>\n",
       "    <tr>\n",
       "      <th>44</th>\n",
       "      <td>False</td>\n",
       "      <td>False</td>\n",
       "      <td>False</td>\n",
       "    </tr>\n",
       "    <tr>\n",
       "      <th>45</th>\n",
       "      <td>False</td>\n",
       "      <td>False</td>\n",
       "      <td>False</td>\n",
       "    </tr>\n",
       "    <tr>\n",
       "      <th>46</th>\n",
       "      <td>False</td>\n",
       "      <td>False</td>\n",
       "      <td>False</td>\n",
       "    </tr>\n",
       "    <tr>\n",
       "      <th>47</th>\n",
       "      <td>False</td>\n",
       "      <td>False</td>\n",
       "      <td>False</td>\n",
       "    </tr>\n",
       "    <tr>\n",
       "      <th>48</th>\n",
       "      <td>False</td>\n",
       "      <td>False</td>\n",
       "      <td>False</td>\n",
       "    </tr>\n",
       "    <tr>\n",
       "      <th>49</th>\n",
       "      <td>False</td>\n",
       "      <td>False</td>\n",
       "      <td>False</td>\n",
       "    </tr>\n",
       "    <tr>\n",
       "      <th>50</th>\n",
       "      <td>False</td>\n",
       "      <td>False</td>\n",
       "      <td>False</td>\n",
       "    </tr>\n",
       "    <tr>\n",
       "      <th>51</th>\n",
       "      <td>False</td>\n",
       "      <td>False</td>\n",
       "      <td>False</td>\n",
       "    </tr>\n",
       "  </tbody>\n",
       "</table>\n",
       "</div>"
      ],
      "text/plain": [
       "    state  part_2018  comp_2018\n",
       "0   False      False      False\n",
       "1   False      False      False\n",
       "2   False      False      False\n",
       "3   False      False      False\n",
       "4   False      False      False\n",
       "5   False      False      False\n",
       "6   False      False      False\n",
       "7   False      False      False\n",
       "8   False      False      False\n",
       "9   False      False      False\n",
       "10  False      False      False\n",
       "11  False      False      False\n",
       "12  False      False      False\n",
       "13  False      False      False\n",
       "14  False      False      False\n",
       "15  False      False      False\n",
       "16  False      False      False\n",
       "17  False      False      False\n",
       "18  False      False      False\n",
       "19  False      False      False\n",
       "20  False      False      False\n",
       "21  False      False      False\n",
       "22  False      False      False\n",
       "23  False      False      False\n",
       "24  False      False      False\n",
       "25  False      False      False\n",
       "26  False      False      False\n",
       "27  False      False      False\n",
       "28  False      False      False\n",
       "29  False      False      False\n",
       "30  False      False      False\n",
       "31  False      False      False\n",
       "32  False      False      False\n",
       "33  False      False      False\n",
       "34  False      False      False\n",
       "35  False      False      False\n",
       "36  False      False      False\n",
       "37  False      False      False\n",
       "38  False      False      False\n",
       "39  False      False      False\n",
       "40  False      False      False\n",
       "41  False      False      False\n",
       "42  False      False      False\n",
       "43  False      False      False\n",
       "44  False      False      False\n",
       "45  False      False      False\n",
       "46  False      False      False\n",
       "47  False      False      False\n",
       "48  False      False      False\n",
       "49  False      False      False\n",
       "50  False      False      False\n",
       "51  False      False      False"
      ]
     },
     "execution_count": 26,
     "metadata": {},
     "output_type": "execute_result"
    }
   ],
   "source": [
    "# Print null values in the dataframes\n",
    "act_2018.isnull()"
   ]
  },
  {
   "cell_type": "code",
   "execution_count": 27,
   "metadata": {
    "scrolled": true
   },
   "outputs": [
    {
     "name": "stdout",
     "output_type": "stream",
     "text": [
      "Empty DataFrame\n",
      "Columns: [state, part_2017, ebrw_2017, math_2017, total_2017]\n",
      "Index: []\n",
      "       state part_2017  ebrw_2017  math_2017  total_2017\n",
      "20  Maryland       69%        536         52        1060\n",
      "Empty DataFrame\n",
      "Columns: [state, part_2017, ebrw_2017, math_2017, total_2017]\n",
      "Index: []\n",
      "Empty DataFrame\n",
      "Columns: [state, part_2018, ebrw_2018, math_2018, total_2018]\n",
      "Index: []\n",
      "Empty DataFrame\n",
      "Columns: [state, part_2018, ebrw_2018, math_2018, total_2018]\n",
      "Index: []\n",
      "Empty DataFrame\n",
      "Columns: [state, part_2018, ebrw_2018, math_2018, total_2018]\n",
      "Index: []\n",
      "Empty DataFrame\n",
      "Columns: [state, part_2019, ebrw_2019, math_2019, total_2019]\n",
      "Index: []\n",
      "Empty DataFrame\n",
      "Columns: [state, part_2019, ebrw_2019, math_2019, total_2019]\n",
      "Index: []\n",
      "Empty DataFrame\n",
      "Columns: [state, part_2019, ebrw_2019, math_2019, total_2019]\n",
      "Index: []\n",
      "Empty DataFrame\n",
      "Columns: [state, part_2020, ebrw_2020, math_2020, total_2020]\n",
      "Index: []\n",
      "Empty DataFrame\n",
      "Columns: [state, part_2020, ebrw_2020, math_2020, total_2020]\n",
      "Index: []\n",
      "Empty DataFrame\n",
      "Columns: [state, part_2020, ebrw_2020, math_2020, total_2020]\n",
      "Index: []\n",
      "Empty DataFrame\n",
      "Columns: [state, part_2021, ebrw_2021, math_2021, total_2021]\n",
      "Index: []\n",
      "Empty DataFrame\n",
      "Columns: [state, part_2021, ebrw_2021, math_2021, total_2021]\n",
      "Index: []\n",
      "Empty DataFrame\n",
      "Columns: [state, part_2021, ebrw_2021, math_2021, total_2021]\n",
      "Index: []\n"
     ]
    }
   ],
   "source": [
    "# Checking if there is any SAT score below or above the correct range\n",
    "\n",
    "print(sat_2017[(sat_2017['ebrw_2017'] < 200) | (sat_2017['ebrw_2017'] > 800)])\n",
    "print(sat_2017[(sat_2017['math_2017'] < 200) | (sat_2017['math_2017'] > 800)])\n",
    "print(sat_2017[(sat_2017['total_2017'] < 400) | (sat_2017['total_2017'] > 1600)])\n",
    "\n",
    "print(sat_2018[(sat_2018['ebrw_2018'] < 200) | (sat_2018['ebrw_2018'] > 800)])\n",
    "print(sat_2018[(sat_2018['math_2018'] < 200) | (sat_2018['math_2018'] > 800)])\n",
    "print(sat_2018[(sat_2018['total_2018'] < 400) | (sat_2018['total_2018'] > 1600)])\n",
    "\n",
    "print(sat_2019[(sat_2019['ebrw_2019'] < 200) | (sat_2019['ebrw_2019'] > 800)])\n",
    "print(sat_2019[(sat_2019['math_2019'] < 200) | (sat_2019['math_2019'] > 800)])\n",
    "print(sat_2019[(sat_2019['total_2019'] < 400) | (sat_2019['total_2019'] > 1600)])\n",
    "\n",
    "print(sat_2020[(sat_2020['ebrw_2020'] < 200) | (sat_2020['ebrw_2020'] > 800)])\n",
    "print(sat_2020[(sat_2020['math_2020'] < 200) | (sat_2020['math_2020'] > 800)])\n",
    "print(sat_2020[(sat_2020['total_2020'] < 400) | (sat_2020['total_2020'] > 1600)])\n",
    "\n",
    "print(sat_2021[(sat_2021['ebrw_2021'] < 200) | (sat_2021['ebrw_2021'] > 800)])\n",
    "print(sat_2021[(sat_2021['math_2021'] < 200) | (sat_2021['math_2021'] > 800)])\n",
    "print(sat_2021[(sat_2021['total_2021'] < 400) | (sat_2021['total_2021'] > 1600)])\n"
   ]
  },
  {
   "cell_type": "markdown",
   "metadata": {},
   "source": [
    "#### Question 4: Fix any errors you identified in steps 2-3."
   ]
  },
  {
   "cell_type": "code",
   "execution_count": 28,
   "metadata": {
    "scrolled": true
   },
   "outputs": [
    {
     "data": {
      "text/html": [
       "<div>\n",
       "<style scoped>\n",
       "    .dataframe tbody tr th:only-of-type {\n",
       "        vertical-align: middle;\n",
       "    }\n",
       "\n",
       "    .dataframe tbody tr th {\n",
       "        vertical-align: top;\n",
       "    }\n",
       "\n",
       "    .dataframe thead th {\n",
       "        text-align: right;\n",
       "    }\n",
       "</style>\n",
       "<table border=\"1\" class=\"dataframe\">\n",
       "  <thead>\n",
       "    <tr style=\"text-align: right;\">\n",
       "      <th></th>\n",
       "      <th>state</th>\n",
       "      <th>part_2021</th>\n",
       "      <th>ebrw_2021</th>\n",
       "      <th>math_2021</th>\n",
       "      <th>total_2021</th>\n",
       "    </tr>\n",
       "  </thead>\n",
       "  <tbody>\n",
       "    <tr>\n",
       "      <th>0</th>\n",
       "      <td>National</td>\n",
       "      <td>41.128074</td>\n",
       "      <td>533</td>\n",
       "      <td>528</td>\n",
       "      <td>1060</td>\n",
       "    </tr>\n",
       "    <tr>\n",
       "      <th>1</th>\n",
       "      <td>Alabama</td>\n",
       "      <td>3.000000</td>\n",
       "      <td>591</td>\n",
       "      <td>568</td>\n",
       "      <td>1159</td>\n",
       "    </tr>\n",
       "    <tr>\n",
       "      <th>2</th>\n",
       "      <td>Alaska</td>\n",
       "      <td>23.000000</td>\n",
       "      <td>567</td>\n",
       "      <td>553</td>\n",
       "      <td>1119</td>\n",
       "    </tr>\n",
       "    <tr>\n",
       "      <th>3</th>\n",
       "      <td>Arizona</td>\n",
       "      <td>11.000000</td>\n",
       "      <td>592</td>\n",
       "      <td>589</td>\n",
       "      <td>1181</td>\n",
       "    </tr>\n",
       "    <tr>\n",
       "      <th>4</th>\n",
       "      <td>Arkansas</td>\n",
       "      <td>2.000000</td>\n",
       "      <td>610</td>\n",
       "      <td>584</td>\n",
       "      <td>1194</td>\n",
       "    </tr>\n",
       "    <tr>\n",
       "      <th>5</th>\n",
       "      <td>California</td>\n",
       "      <td>24.000000</td>\n",
       "      <td>527</td>\n",
       "      <td>530</td>\n",
       "      <td>1057</td>\n",
       "    </tr>\n",
       "    <tr>\n",
       "      <th>6</th>\n",
       "      <td>Colorado</td>\n",
       "      <td>56.000000</td>\n",
       "      <td>544</td>\n",
       "      <td>528</td>\n",
       "      <td>1072</td>\n",
       "    </tr>\n",
       "    <tr>\n",
       "      <th>7</th>\n",
       "      <td>Connecticut</td>\n",
       "      <td>69.000000</td>\n",
       "      <td>545</td>\n",
       "      <td>527</td>\n",
       "      <td>1072</td>\n",
       "    </tr>\n",
       "    <tr>\n",
       "      <th>8</th>\n",
       "      <td>Delaware</td>\n",
       "      <td>96.000000</td>\n",
       "      <td>499</td>\n",
       "      <td>485</td>\n",
       "      <td>984</td>\n",
       "    </tr>\n",
       "    <tr>\n",
       "      <th>9</th>\n",
       "      <td>District of Columbia</td>\n",
       "      <td>90.000000</td>\n",
       "      <td>500</td>\n",
       "      <td>487</td>\n",
       "      <td>987</td>\n",
       "    </tr>\n",
       "    <tr>\n",
       "      <th>10</th>\n",
       "      <td>Florida</td>\n",
       "      <td>81.000000</td>\n",
       "      <td>513</td>\n",
       "      <td>480</td>\n",
       "      <td>993</td>\n",
       "    </tr>\n",
       "    <tr>\n",
       "      <th>11</th>\n",
       "      <td>Georgia</td>\n",
       "      <td>41.000000</td>\n",
       "      <td>551</td>\n",
       "      <td>534</td>\n",
       "      <td>1086</td>\n",
       "    </tr>\n",
       "    <tr>\n",
       "      <th>12</th>\n",
       "      <td>Hawaii</td>\n",
       "      <td>26.000000</td>\n",
       "      <td>572</td>\n",
       "      <td>572</td>\n",
       "      <td>1144</td>\n",
       "    </tr>\n",
       "    <tr>\n",
       "      <th>13</th>\n",
       "      <td>Idaho</td>\n",
       "      <td>90.000000</td>\n",
       "      <td>502</td>\n",
       "      <td>483</td>\n",
       "      <td>985</td>\n",
       "    </tr>\n",
       "    <tr>\n",
       "      <th>14</th>\n",
       "      <td>Illinois</td>\n",
       "      <td>80.000000</td>\n",
       "      <td>508</td>\n",
       "      <td>498</td>\n",
       "      <td>1007</td>\n",
       "    </tr>\n",
       "    <tr>\n",
       "      <th>15</th>\n",
       "      <td>Indiana</td>\n",
       "      <td>43.000000</td>\n",
       "      <td>551</td>\n",
       "      <td>544</td>\n",
       "      <td>1095</td>\n",
       "    </tr>\n",
       "    <tr>\n",
       "      <th>16</th>\n",
       "      <td>Iowa</td>\n",
       "      <td>2.000000</td>\n",
       "      <td>623</td>\n",
       "      <td>620</td>\n",
       "      <td>1243</td>\n",
       "    </tr>\n",
       "    <tr>\n",
       "      <th>17</th>\n",
       "      <td>Kansas</td>\n",
       "      <td>2.000000</td>\n",
       "      <td>619</td>\n",
       "      <td>623</td>\n",
       "      <td>1243</td>\n",
       "    </tr>\n",
       "    <tr>\n",
       "      <th>18</th>\n",
       "      <td>Kentucky</td>\n",
       "      <td>2.000000</td>\n",
       "      <td>616</td>\n",
       "      <td>603</td>\n",
       "      <td>1219</td>\n",
       "    </tr>\n",
       "    <tr>\n",
       "      <th>19</th>\n",
       "      <td>Louisiana</td>\n",
       "      <td>3.000000</td>\n",
       "      <td>605</td>\n",
       "      <td>583</td>\n",
       "      <td>1188</td>\n",
       "    </tr>\n",
       "    <tr>\n",
       "      <th>20</th>\n",
       "      <td>Maine</td>\n",
       "      <td>29.000000</td>\n",
       "      <td>558</td>\n",
       "      <td>541</td>\n",
       "      <td>1099</td>\n",
       "    </tr>\n",
       "    <tr>\n",
       "      <th>21</th>\n",
       "      <td>Maryland</td>\n",
       "      <td>47.000000</td>\n",
       "      <td>542</td>\n",
       "      <td>531</td>\n",
       "      <td>1073</td>\n",
       "    </tr>\n",
       "    <tr>\n",
       "      <th>22</th>\n",
       "      <td>Massachusetts</td>\n",
       "      <td>34.000000</td>\n",
       "      <td>591</td>\n",
       "      <td>593</td>\n",
       "      <td>1184</td>\n",
       "    </tr>\n",
       "    <tr>\n",
       "      <th>23</th>\n",
       "      <td>Michigan</td>\n",
       "      <td>68.000000</td>\n",
       "      <td>523</td>\n",
       "      <td>508</td>\n",
       "      <td>1031</td>\n",
       "    </tr>\n",
       "    <tr>\n",
       "      <th>24</th>\n",
       "      <td>Minnesota</td>\n",
       "      <td>2.000000</td>\n",
       "      <td>626</td>\n",
       "      <td>636</td>\n",
       "      <td>1263</td>\n",
       "    </tr>\n",
       "    <tr>\n",
       "      <th>25</th>\n",
       "      <td>Mississippi</td>\n",
       "      <td>1.000000</td>\n",
       "      <td>612</td>\n",
       "      <td>589</td>\n",
       "      <td>1202</td>\n",
       "    </tr>\n",
       "    <tr>\n",
       "      <th>26</th>\n",
       "      <td>Missouri</td>\n",
       "      <td>2.000000</td>\n",
       "      <td>614</td>\n",
       "      <td>606</td>\n",
       "      <td>1219</td>\n",
       "    </tr>\n",
       "    <tr>\n",
       "      <th>27</th>\n",
       "      <td>Montana</td>\n",
       "      <td>5.000000</td>\n",
       "      <td>618</td>\n",
       "      <td>607</td>\n",
       "      <td>1225</td>\n",
       "    </tr>\n",
       "    <tr>\n",
       "      <th>28</th>\n",
       "      <td>Nebraska</td>\n",
       "      <td>2.000000</td>\n",
       "      <td>625</td>\n",
       "      <td>620</td>\n",
       "      <td>1246</td>\n",
       "    </tr>\n",
       "    <tr>\n",
       "      <th>29</th>\n",
       "      <td>Nevada</td>\n",
       "      <td>4.000000</td>\n",
       "      <td>596</td>\n",
       "      <td>598</td>\n",
       "      <td>1195</td>\n",
       "    </tr>\n",
       "    <tr>\n",
       "      <th>30</th>\n",
       "      <td>New Hampshire</td>\n",
       "      <td>71.000000</td>\n",
       "      <td>540</td>\n",
       "      <td>526</td>\n",
       "      <td>1065</td>\n",
       "    </tr>\n",
       "    <tr>\n",
       "      <th>31</th>\n",
       "      <td>New Jersey</td>\n",
       "      <td>48.000000</td>\n",
       "      <td>562</td>\n",
       "      <td>563</td>\n",
       "      <td>1125</td>\n",
       "    </tr>\n",
       "    <tr>\n",
       "      <th>32</th>\n",
       "      <td>New Mexico</td>\n",
       "      <td>30.000000</td>\n",
       "      <td>508</td>\n",
       "      <td>488</td>\n",
       "      <td>996</td>\n",
       "    </tr>\n",
       "    <tr>\n",
       "      <th>33</th>\n",
       "      <td>New York</td>\n",
       "      <td>55.000000</td>\n",
       "      <td>526</td>\n",
       "      <td>531</td>\n",
       "      <td>1057</td>\n",
       "    </tr>\n",
       "    <tr>\n",
       "      <th>34</th>\n",
       "      <td>North Carolina</td>\n",
       "      <td>23.000000</td>\n",
       "      <td>578</td>\n",
       "      <td>571</td>\n",
       "      <td>1150</td>\n",
       "    </tr>\n",
       "    <tr>\n",
       "      <th>35</th>\n",
       "      <td>North Dakota</td>\n",
       "      <td>1.000000</td>\n",
       "      <td>631</td>\n",
       "      <td>628</td>\n",
       "      <td>1258</td>\n",
       "    </tr>\n",
       "    <tr>\n",
       "      <th>36</th>\n",
       "      <td>Ohio</td>\n",
       "      <td>15.000000</td>\n",
       "      <td>525</td>\n",
       "      <td>523</td>\n",
       "      <td>1048</td>\n",
       "    </tr>\n",
       "    <tr>\n",
       "      <th>37</th>\n",
       "      <td>Oklahoma</td>\n",
       "      <td>6.000000</td>\n",
       "      <td>535</td>\n",
       "      <td>507</td>\n",
       "      <td>1042</td>\n",
       "    </tr>\n",
       "    <tr>\n",
       "      <th>38</th>\n",
       "      <td>Oregon</td>\n",
       "      <td>17.000000</td>\n",
       "      <td>565</td>\n",
       "      <td>554</td>\n",
       "      <td>1119</td>\n",
       "    </tr>\n",
       "    <tr>\n",
       "      <th>39</th>\n",
       "      <td>Pennsylvania</td>\n",
       "      <td>39.000000</td>\n",
       "      <td>566</td>\n",
       "      <td>557</td>\n",
       "      <td>1123</td>\n",
       "    </tr>\n",
       "    <tr>\n",
       "      <th>40</th>\n",
       "      <td>Rhode Island</td>\n",
       "      <td>68.000000</td>\n",
       "      <td>514</td>\n",
       "      <td>497</td>\n",
       "      <td>1011</td>\n",
       "    </tr>\n",
       "    <tr>\n",
       "      <th>41</th>\n",
       "      <td>South Carolina</td>\n",
       "      <td>48.000000</td>\n",
       "      <td>529</td>\n",
       "      <td>507</td>\n",
       "      <td>1036</td>\n",
       "    </tr>\n",
       "    <tr>\n",
       "      <th>42</th>\n",
       "      <td>South Dakota</td>\n",
       "      <td>1.000000</td>\n",
       "      <td>605</td>\n",
       "      <td>610</td>\n",
       "      <td>1215</td>\n",
       "    </tr>\n",
       "    <tr>\n",
       "      <th>43</th>\n",
       "      <td>Tennessee</td>\n",
       "      <td>4.000000</td>\n",
       "      <td>618</td>\n",
       "      <td>602</td>\n",
       "      <td>1220</td>\n",
       "    </tr>\n",
       "    <tr>\n",
       "      <th>44</th>\n",
       "      <td>Texas</td>\n",
       "      <td>59.000000</td>\n",
       "      <td>505</td>\n",
       "      <td>498</td>\n",
       "      <td>1003</td>\n",
       "    </tr>\n",
       "    <tr>\n",
       "      <th>45</th>\n",
       "      <td>Utah</td>\n",
       "      <td>1.000000</td>\n",
       "      <td>621</td>\n",
       "      <td>617</td>\n",
       "      <td>1238</td>\n",
       "    </tr>\n",
       "    <tr>\n",
       "      <th>46</th>\n",
       "      <td>Vermont</td>\n",
       "      <td>41.000000</td>\n",
       "      <td>571</td>\n",
       "      <td>553</td>\n",
       "      <td>1124</td>\n",
       "    </tr>\n",
       "    <tr>\n",
       "      <th>47</th>\n",
       "      <td>Virginia</td>\n",
       "      <td>41.000000</td>\n",
       "      <td>584</td>\n",
       "      <td>567</td>\n",
       "      <td>1151</td>\n",
       "    </tr>\n",
       "    <tr>\n",
       "      <th>48</th>\n",
       "      <td>Washington</td>\n",
       "      <td>27.000000</td>\n",
       "      <td>537</td>\n",
       "      <td>535</td>\n",
       "      <td>1072</td>\n",
       "    </tr>\n",
       "    <tr>\n",
       "      <th>49</th>\n",
       "      <td>West Virginia</td>\n",
       "      <td>45.000000</td>\n",
       "      <td>520</td>\n",
       "      <td>487</td>\n",
       "      <td>1007</td>\n",
       "    </tr>\n",
       "    <tr>\n",
       "      <th>50</th>\n",
       "      <td>Wisconsin</td>\n",
       "      <td>1.000000</td>\n",
       "      <td>604</td>\n",
       "      <td>611</td>\n",
       "      <td>1215</td>\n",
       "    </tr>\n",
       "    <tr>\n",
       "      <th>51</th>\n",
       "      <td>Wyoming</td>\n",
       "      <td>2.000000</td>\n",
       "      <td>626</td>\n",
       "      <td>607</td>\n",
       "      <td>1233</td>\n",
       "    </tr>\n",
       "  </tbody>\n",
       "</table>\n",
       "</div>"
      ],
      "text/plain": [
       "                   state  part_2021  ebrw_2021  math_2021  total_2021\n",
       "0               National  41.128074        533        528        1060\n",
       "1                Alabama   3.000000        591        568        1159\n",
       "2                 Alaska  23.000000        567        553        1119\n",
       "3                Arizona  11.000000        592        589        1181\n",
       "4               Arkansas   2.000000        610        584        1194\n",
       "5             California  24.000000        527        530        1057\n",
       "6               Colorado  56.000000        544        528        1072\n",
       "7            Connecticut  69.000000        545        527        1072\n",
       "8               Delaware  96.000000        499        485         984\n",
       "9   District of Columbia  90.000000        500        487         987\n",
       "10               Florida  81.000000        513        480         993\n",
       "11               Georgia  41.000000        551        534        1086\n",
       "12                Hawaii  26.000000        572        572        1144\n",
       "13                 Idaho  90.000000        502        483         985\n",
       "14              Illinois  80.000000        508        498        1007\n",
       "15               Indiana  43.000000        551        544        1095\n",
       "16                  Iowa   2.000000        623        620        1243\n",
       "17                Kansas   2.000000        619        623        1243\n",
       "18              Kentucky   2.000000        616        603        1219\n",
       "19             Louisiana   3.000000        605        583        1188\n",
       "20                 Maine  29.000000        558        541        1099\n",
       "21              Maryland  47.000000        542        531        1073\n",
       "22         Massachusetts  34.000000        591        593        1184\n",
       "23              Michigan  68.000000        523        508        1031\n",
       "24             Minnesota   2.000000        626        636        1263\n",
       "25           Mississippi   1.000000        612        589        1202\n",
       "26              Missouri   2.000000        614        606        1219\n",
       "27               Montana   5.000000        618        607        1225\n",
       "28              Nebraska   2.000000        625        620        1246\n",
       "29                Nevada   4.000000        596        598        1195\n",
       "30         New Hampshire  71.000000        540        526        1065\n",
       "31            New Jersey  48.000000        562        563        1125\n",
       "32            New Mexico  30.000000        508        488         996\n",
       "33              New York  55.000000        526        531        1057\n",
       "34        North Carolina  23.000000        578        571        1150\n",
       "35          North Dakota   1.000000        631        628        1258\n",
       "36                  Ohio  15.000000        525        523        1048\n",
       "37              Oklahoma   6.000000        535        507        1042\n",
       "38                Oregon  17.000000        565        554        1119\n",
       "39          Pennsylvania  39.000000        566        557        1123\n",
       "40          Rhode Island  68.000000        514        497        1011\n",
       "41        South Carolina  48.000000        529        507        1036\n",
       "42          South Dakota   1.000000        605        610        1215\n",
       "43             Tennessee   4.000000        618        602        1220\n",
       "44                 Texas  59.000000        505        498        1003\n",
       "45                  Utah   1.000000        621        617        1238\n",
       "46               Vermont  41.000000        571        553        1124\n",
       "47              Virginia  41.000000        584        567        1151\n",
       "48            Washington  27.000000        537        535        1072\n",
       "49         West Virginia  45.000000        520        487        1007\n",
       "50             Wisconsin   1.000000        604        611        1215\n",
       "51               Wyoming   2.000000        626        607        1233"
      ]
     },
     "execution_count": 28,
     "metadata": {},
     "output_type": "execute_result"
    }
   ],
   "source": [
    "sat_2021"
   ]
  },
  {
   "cell_type": "code",
   "execution_count": 29,
   "metadata": {
    "scrolled": false
   },
   "outputs": [
    {
     "name": "stdout",
     "output_type": "stream",
     "text": [
      "       state part_2017  ebrw_2017  math_2017  total_2017\n",
      "20  Maryland       69%        536        524        1060\n"
     ]
    }
   ],
   "source": [
    "# Replacing incorrect value for Maryland math 2017 with the mean of all other years\n",
    "\n",
    "sat_2017.loc[sat_2017['state'] == 'Maryland','math_2017'] = (1060 - 536)\n",
    "\n",
    "# Making sure that the value has been correctly replaced\n",
    "print(sat_2017[sat_2017['state'] == 'Maryland'])"
   ]
  },
  {
   "cell_type": "code",
   "execution_count": 30,
   "metadata": {},
   "outputs": [],
   "source": [
    "# Dropping Puerto Rico and Virgin Island from sat_2019\n",
    "\n",
    "sat_2019.drop(index=[39,47], inplace=True)"
   ]
  },
  {
   "cell_type": "code",
   "execution_count": 31,
   "metadata": {},
   "outputs": [],
   "source": [
    "# Converting the percentage into decimals\n",
    "\n",
    "act_2017['part_2017'] = act_2017['part_2017'].map(perc_conv)\n",
    "act_2018['part_2018'] = act_2018['part_2018'].map(perc_conv)\n",
    "act_2019['part_2019'] = act_2019['part_2019'].map(perc_conv)\n",
    "\n",
    "act_2020['part_2020'] = act_2020['part_2020'].map(lambda x: round(x/100, 2))\n",
    "act_2021['part_2021'] = act_2021['part_2021'].map(lambda x: round(x/100, 2))\n",
    "\n",
    "sat_2017['part_2017'] = sat_2017['part_2017'].map(perc_conv)\n",
    "sat_2018['part_2018'] = sat_2018['part_2018'].map(perc_conv)\n",
    "sat_2019['part_2019'] = sat_2019['part_2019'].map(perc_conv)\n",
    "\n",
    "sat_2020['part_2020'] = sat_2020['part_2020'].map(lambda x: round(x/100, 2))\n",
    "sat_2021['part_2021'] = sat_2021['part_2021'].map(lambda x: round(x/100, 2))"
   ]
  },
  {
   "cell_type": "markdown",
   "metadata": {},
   "source": [
    "#### Question 5 :Display the data types of each feature."
   ]
  },
  {
   "cell_type": "code",
   "execution_count": 32,
   "metadata": {
    "scrolled": true
   },
   "outputs": [
    {
     "name": "stdout",
     "output_type": "stream",
     "text": [
      "state         object\n",
      "part_2017    float64\n",
      "comp_2017    float64\n",
      "dtype: object\n",
      "state         object\n",
      "part_2018    float64\n",
      "comp_2018    float64\n",
      "dtype: object\n",
      "state         object\n",
      "part_2019    float64\n",
      "comp_2019    float64\n",
      "dtype: object\n",
      "state         object\n",
      "part_2020    float64\n",
      "comp_2020    float64\n",
      "dtype: object\n",
      "state         object\n",
      "part_2021    float64\n",
      "comp_2021    float64\n",
      "dtype: object\n",
      "state          object\n",
      "part_2017     float64\n",
      "ebrw_2017       int64\n",
      "math_2017       int64\n",
      "total_2017      int64\n",
      "dtype: object\n",
      "state          object\n",
      "part_2018     float64\n",
      "ebrw_2018       int64\n",
      "math_2018       int64\n",
      "total_2018      int64\n",
      "dtype: object\n",
      "state          object\n",
      "part_2019     float64\n",
      "ebrw_2019       int64\n",
      "math_2019       int64\n",
      "total_2019      int64\n",
      "dtype: object\n",
      "state          object\n",
      "part_2020     float64\n",
      "ebrw_2020       int64\n",
      "math_2020       int64\n",
      "total_2020      int64\n",
      "dtype: object\n",
      "state          object\n",
      "part_2021     float64\n",
      "ebrw_2021       int64\n",
      "math_2021       int64\n",
      "total_2021      int64\n",
      "dtype: object\n"
     ]
    }
   ],
   "source": [
    "# Creating a function that return the types of each columns\n",
    "\n",
    "for file in csv_list:\n",
    "    print(file.dtypes)"
   ]
  },
  {
   "cell_type": "markdown",
   "metadata": {},
   "source": [
    "#### Question 9: Merge dataframes that can be merged."
   ]
  },
  {
   "cell_type": "code",
   "execution_count": 33,
   "metadata": {
    "scrolled": true
   },
   "outputs": [
    {
     "data": {
      "text/html": [
       "<div>\n",
       "<style scoped>\n",
       "    .dataframe tbody tr th:only-of-type {\n",
       "        vertical-align: middle;\n",
       "    }\n",
       "\n",
       "    .dataframe tbody tr th {\n",
       "        vertical-align: top;\n",
       "    }\n",
       "\n",
       "    .dataframe thead th {\n",
       "        text-align: right;\n",
       "    }\n",
       "</style>\n",
       "<table border=\"1\" class=\"dataframe\">\n",
       "  <thead>\n",
       "    <tr style=\"text-align: right;\">\n",
       "      <th></th>\n",
       "      <th>state</th>\n",
       "      <th>comp_2017</th>\n",
       "      <th>comp_2018</th>\n",
       "      <th>comp_2019</th>\n",
       "      <th>comp_2020</th>\n",
       "      <th>comp_2021</th>\n",
       "    </tr>\n",
       "  </thead>\n",
       "  <tbody>\n",
       "    <tr>\n",
       "      <th>0</th>\n",
       "      <td>National</td>\n",
       "      <td>21.0</td>\n",
       "      <td>NaN</td>\n",
       "      <td>20.7</td>\n",
       "      <td>20.7</td>\n",
       "      <td>20.3</td>\n",
       "    </tr>\n",
       "    <tr>\n",
       "      <th>1</th>\n",
       "      <td>Alabama</td>\n",
       "      <td>19.2</td>\n",
       "      <td>19.1</td>\n",
       "      <td>18.9</td>\n",
       "      <td>18.8</td>\n",
       "      <td>18.7</td>\n",
       "    </tr>\n",
       "    <tr>\n",
       "      <th>2</th>\n",
       "      <td>Alaska</td>\n",
       "      <td>19.8</td>\n",
       "      <td>20.8</td>\n",
       "      <td>20.1</td>\n",
       "      <td>20.1</td>\n",
       "      <td>20.6</td>\n",
       "    </tr>\n",
       "    <tr>\n",
       "      <th>3</th>\n",
       "      <td>Arizona</td>\n",
       "      <td>19.7</td>\n",
       "      <td>19.2</td>\n",
       "      <td>19.0</td>\n",
       "      <td>19.1</td>\n",
       "      <td>19.8</td>\n",
       "    </tr>\n",
       "    <tr>\n",
       "      <th>4</th>\n",
       "      <td>Arkansas</td>\n",
       "      <td>19.4</td>\n",
       "      <td>19.4</td>\n",
       "      <td>19.3</td>\n",
       "      <td>19.0</td>\n",
       "      <td>19.0</td>\n",
       "    </tr>\n",
       "    <tr>\n",
       "      <th>5</th>\n",
       "      <td>California</td>\n",
       "      <td>22.8</td>\n",
       "      <td>22.7</td>\n",
       "      <td>22.6</td>\n",
       "      <td>23.3</td>\n",
       "      <td>26.1</td>\n",
       "    </tr>\n",
       "    <tr>\n",
       "      <th>6</th>\n",
       "      <td>Colorado</td>\n",
       "      <td>20.8</td>\n",
       "      <td>23.9</td>\n",
       "      <td>23.8</td>\n",
       "      <td>23.7</td>\n",
       "      <td>23.6</td>\n",
       "    </tr>\n",
       "    <tr>\n",
       "      <th>7</th>\n",
       "      <td>Connecticut</td>\n",
       "      <td>25.2</td>\n",
       "      <td>25.6</td>\n",
       "      <td>25.5</td>\n",
       "      <td>25.9</td>\n",
       "      <td>27.2</td>\n",
       "    </tr>\n",
       "    <tr>\n",
       "      <th>8</th>\n",
       "      <td>Delaware</td>\n",
       "      <td>24.1</td>\n",
       "      <td>23.8</td>\n",
       "      <td>24.1</td>\n",
       "      <td>24.2</td>\n",
       "      <td>25.7</td>\n",
       "    </tr>\n",
       "    <tr>\n",
       "      <th>9</th>\n",
       "      <td>District of Columbia</td>\n",
       "      <td>24.2</td>\n",
       "      <td>NaN</td>\n",
       "      <td>23.5</td>\n",
       "      <td>23.1</td>\n",
       "      <td>25.6</td>\n",
       "    </tr>\n",
       "    <tr>\n",
       "      <th>10</th>\n",
       "      <td>Florida</td>\n",
       "      <td>19.8</td>\n",
       "      <td>19.9</td>\n",
       "      <td>20.1</td>\n",
       "      <td>20.6</td>\n",
       "      <td>20.4</td>\n",
       "    </tr>\n",
       "    <tr>\n",
       "      <th>11</th>\n",
       "      <td>Georgia</td>\n",
       "      <td>21.4</td>\n",
       "      <td>21.4</td>\n",
       "      <td>21.4</td>\n",
       "      <td>21.7</td>\n",
       "      <td>22.6</td>\n",
       "    </tr>\n",
       "    <tr>\n",
       "      <th>12</th>\n",
       "      <td>Hawaii</td>\n",
       "      <td>19.0</td>\n",
       "      <td>18.9</td>\n",
       "      <td>19.0</td>\n",
       "      <td>18.5</td>\n",
       "      <td>18.2</td>\n",
       "    </tr>\n",
       "    <tr>\n",
       "      <th>13</th>\n",
       "      <td>Idaho</td>\n",
       "      <td>22.3</td>\n",
       "      <td>22.3</td>\n",
       "      <td>22.5</td>\n",
       "      <td>22.7</td>\n",
       "      <td>23.0</td>\n",
       "    </tr>\n",
       "    <tr>\n",
       "      <th>14</th>\n",
       "      <td>Illinois</td>\n",
       "      <td>21.4</td>\n",
       "      <td>23.9</td>\n",
       "      <td>24.3</td>\n",
       "      <td>24.7</td>\n",
       "      <td>25.2</td>\n",
       "    </tr>\n",
       "    <tr>\n",
       "      <th>15</th>\n",
       "      <td>Indiana</td>\n",
       "      <td>22.6</td>\n",
       "      <td>22.5</td>\n",
       "      <td>22.5</td>\n",
       "      <td>22.6</td>\n",
       "      <td>23.1</td>\n",
       "    </tr>\n",
       "    <tr>\n",
       "      <th>16</th>\n",
       "      <td>Iowa</td>\n",
       "      <td>21.9</td>\n",
       "      <td>21.8</td>\n",
       "      <td>21.6</td>\n",
       "      <td>21.1</td>\n",
       "      <td>21.5</td>\n",
       "    </tr>\n",
       "    <tr>\n",
       "      <th>17</th>\n",
       "      <td>Kansas</td>\n",
       "      <td>21.7</td>\n",
       "      <td>21.6</td>\n",
       "      <td>21.2</td>\n",
       "      <td>20.4</td>\n",
       "      <td>19.9</td>\n",
       "    </tr>\n",
       "    <tr>\n",
       "      <th>18</th>\n",
       "      <td>Kentucky</td>\n",
       "      <td>20.0</td>\n",
       "      <td>20.2</td>\n",
       "      <td>19.8</td>\n",
       "      <td>19.5</td>\n",
       "      <td>19.2</td>\n",
       "    </tr>\n",
       "    <tr>\n",
       "      <th>19</th>\n",
       "      <td>Louisiana</td>\n",
       "      <td>19.5</td>\n",
       "      <td>19.2</td>\n",
       "      <td>18.8</td>\n",
       "      <td>18.7</td>\n",
       "      <td>18.4</td>\n",
       "    </tr>\n",
       "    <tr>\n",
       "      <th>20</th>\n",
       "      <td>Maine</td>\n",
       "      <td>24.3</td>\n",
       "      <td>24.0</td>\n",
       "      <td>24.3</td>\n",
       "      <td>24.9</td>\n",
       "      <td>25.6</td>\n",
       "    </tr>\n",
       "    <tr>\n",
       "      <th>21</th>\n",
       "      <td>Maine</td>\n",
       "      <td>24.3</td>\n",
       "      <td>24.0</td>\n",
       "      <td>24.3</td>\n",
       "      <td>24.9</td>\n",
       "      <td>25.6</td>\n",
       "    </tr>\n",
       "    <tr>\n",
       "      <th>22</th>\n",
       "      <td>Maryland</td>\n",
       "      <td>23.6</td>\n",
       "      <td>22.5</td>\n",
       "      <td>22.3</td>\n",
       "      <td>23.8</td>\n",
       "      <td>25.5</td>\n",
       "    </tr>\n",
       "    <tr>\n",
       "      <th>23</th>\n",
       "      <td>Massachusetts</td>\n",
       "      <td>25.4</td>\n",
       "      <td>25.5</td>\n",
       "      <td>25.5</td>\n",
       "      <td>26.0</td>\n",
       "      <td>27.6</td>\n",
       "    </tr>\n",
       "    <tr>\n",
       "      <th>24</th>\n",
       "      <td>Michigan</td>\n",
       "      <td>24.1</td>\n",
       "      <td>24.2</td>\n",
       "      <td>24.4</td>\n",
       "      <td>24.6</td>\n",
       "      <td>25.1</td>\n",
       "    </tr>\n",
       "    <tr>\n",
       "      <th>25</th>\n",
       "      <td>Minnesota</td>\n",
       "      <td>21.5</td>\n",
       "      <td>21.3</td>\n",
       "      <td>21.4</td>\n",
       "      <td>21.3</td>\n",
       "      <td>21.6</td>\n",
       "    </tr>\n",
       "    <tr>\n",
       "      <th>26</th>\n",
       "      <td>Mississippi</td>\n",
       "      <td>18.6</td>\n",
       "      <td>18.6</td>\n",
       "      <td>18.4</td>\n",
       "      <td>18.2</td>\n",
       "      <td>18.1</td>\n",
       "    </tr>\n",
       "    <tr>\n",
       "      <th>27</th>\n",
       "      <td>Missouri</td>\n",
       "      <td>20.4</td>\n",
       "      <td>20.0</td>\n",
       "      <td>20.8</td>\n",
       "      <td>20.7</td>\n",
       "      <td>20.6</td>\n",
       "    </tr>\n",
       "    <tr>\n",
       "      <th>28</th>\n",
       "      <td>Montana</td>\n",
       "      <td>20.3</td>\n",
       "      <td>20.0</td>\n",
       "      <td>19.8</td>\n",
       "      <td>19.9</td>\n",
       "      <td>20.4</td>\n",
       "    </tr>\n",
       "    <tr>\n",
       "      <th>29</th>\n",
       "      <td>Nebraska</td>\n",
       "      <td>21.4</td>\n",
       "      <td>20.1</td>\n",
       "      <td>20.0</td>\n",
       "      <td>19.9</td>\n",
       "      <td>20.0</td>\n",
       "    </tr>\n",
       "    <tr>\n",
       "      <th>30</th>\n",
       "      <td>Nevada</td>\n",
       "      <td>17.8</td>\n",
       "      <td>17.7</td>\n",
       "      <td>17.9</td>\n",
       "      <td>17.9</td>\n",
       "      <td>17.8</td>\n",
       "    </tr>\n",
       "    <tr>\n",
       "      <th>31</th>\n",
       "      <td>New Hampshire</td>\n",
       "      <td>25.5</td>\n",
       "      <td>25.1</td>\n",
       "      <td>25.0</td>\n",
       "      <td>25.7</td>\n",
       "      <td>26.6</td>\n",
       "    </tr>\n",
       "    <tr>\n",
       "      <th>32</th>\n",
       "      <td>New Jersey</td>\n",
       "      <td>23.9</td>\n",
       "      <td>23.7</td>\n",
       "      <td>24.2</td>\n",
       "      <td>24.4</td>\n",
       "      <td>25.1</td>\n",
       "    </tr>\n",
       "    <tr>\n",
       "      <th>33</th>\n",
       "      <td>New Mexico</td>\n",
       "      <td>19.7</td>\n",
       "      <td>19.4</td>\n",
       "      <td>19.3</td>\n",
       "      <td>19.3</td>\n",
       "      <td>20.7</td>\n",
       "    </tr>\n",
       "    <tr>\n",
       "      <th>34</th>\n",
       "      <td>New York</td>\n",
       "      <td>24.2</td>\n",
       "      <td>24.5</td>\n",
       "      <td>24.5</td>\n",
       "      <td>24.9</td>\n",
       "      <td>26.3</td>\n",
       "    </tr>\n",
       "    <tr>\n",
       "      <th>35</th>\n",
       "      <td>North Carolina</td>\n",
       "      <td>19.1</td>\n",
       "      <td>19.1</td>\n",
       "      <td>19.0</td>\n",
       "      <td>18.8</td>\n",
       "      <td>18.9</td>\n",
       "    </tr>\n",
       "    <tr>\n",
       "      <th>36</th>\n",
       "      <td>North Dakota</td>\n",
       "      <td>20.3</td>\n",
       "      <td>20.3</td>\n",
       "      <td>19.9</td>\n",
       "      <td>19.6</td>\n",
       "      <td>19.6</td>\n",
       "    </tr>\n",
       "    <tr>\n",
       "      <th>37</th>\n",
       "      <td>Ohio</td>\n",
       "      <td>22.0</td>\n",
       "      <td>20.3</td>\n",
       "      <td>20.0</td>\n",
       "      <td>19.9</td>\n",
       "      <td>19.6</td>\n",
       "    </tr>\n",
       "    <tr>\n",
       "      <th>38</th>\n",
       "      <td>Oklahoma</td>\n",
       "      <td>19.4</td>\n",
       "      <td>19.3</td>\n",
       "      <td>18.9</td>\n",
       "      <td>18.7</td>\n",
       "      <td>19.7</td>\n",
       "    </tr>\n",
       "    <tr>\n",
       "      <th>39</th>\n",
       "      <td>Oregon</td>\n",
       "      <td>21.8</td>\n",
       "      <td>21.3</td>\n",
       "      <td>21.1</td>\n",
       "      <td>21.0</td>\n",
       "      <td>20.6</td>\n",
       "    </tr>\n",
       "    <tr>\n",
       "      <th>40</th>\n",
       "      <td>Pennsylvania</td>\n",
       "      <td>23.7</td>\n",
       "      <td>23.5</td>\n",
       "      <td>23.6</td>\n",
       "      <td>23.7</td>\n",
       "      <td>25.0</td>\n",
       "    </tr>\n",
       "    <tr>\n",
       "      <th>41</th>\n",
       "      <td>Rhode Island</td>\n",
       "      <td>24.0</td>\n",
       "      <td>24.2</td>\n",
       "      <td>24.7</td>\n",
       "      <td>24.8</td>\n",
       "      <td>25.8</td>\n",
       "    </tr>\n",
       "    <tr>\n",
       "      <th>42</th>\n",
       "      <td>South Carolina</td>\n",
       "      <td>18.7</td>\n",
       "      <td>18.3</td>\n",
       "      <td>18.8</td>\n",
       "      <td>18.4</td>\n",
       "      <td>18.6</td>\n",
       "    </tr>\n",
       "    <tr>\n",
       "      <th>43</th>\n",
       "      <td>South Dakota</td>\n",
       "      <td>21.8</td>\n",
       "      <td>21.9</td>\n",
       "      <td>21.6</td>\n",
       "      <td>21.7</td>\n",
       "      <td>21.6</td>\n",
       "    </tr>\n",
       "    <tr>\n",
       "      <th>44</th>\n",
       "      <td>Tennessee</td>\n",
       "      <td>19.8</td>\n",
       "      <td>19.6</td>\n",
       "      <td>19.4</td>\n",
       "      <td>19.3</td>\n",
       "      <td>19.1</td>\n",
       "    </tr>\n",
       "    <tr>\n",
       "      <th>45</th>\n",
       "      <td>Texas</td>\n",
       "      <td>20.7</td>\n",
       "      <td>20.7</td>\n",
       "      <td>20.5</td>\n",
       "      <td>20.2</td>\n",
       "      <td>20.1</td>\n",
       "    </tr>\n",
       "    <tr>\n",
       "      <th>46</th>\n",
       "      <td>Utah</td>\n",
       "      <td>20.3</td>\n",
       "      <td>20.4</td>\n",
       "      <td>20.3</td>\n",
       "      <td>20.2</td>\n",
       "      <td>20.6</td>\n",
       "    </tr>\n",
       "    <tr>\n",
       "      <th>47</th>\n",
       "      <td>Vermont</td>\n",
       "      <td>23.6</td>\n",
       "      <td>24.1</td>\n",
       "      <td>24.1</td>\n",
       "      <td>23.3</td>\n",
       "      <td>24.7</td>\n",
       "    </tr>\n",
       "    <tr>\n",
       "      <th>48</th>\n",
       "      <td>Virginia</td>\n",
       "      <td>23.8</td>\n",
       "      <td>23.9</td>\n",
       "      <td>24.0</td>\n",
       "      <td>24.4</td>\n",
       "      <td>25.5</td>\n",
       "    </tr>\n",
       "    <tr>\n",
       "      <th>49</th>\n",
       "      <td>Washington</td>\n",
       "      <td>21.9</td>\n",
       "      <td>22.2</td>\n",
       "      <td>22.1</td>\n",
       "      <td>22.9</td>\n",
       "      <td>23.6</td>\n",
       "    </tr>\n",
       "    <tr>\n",
       "      <th>50</th>\n",
       "      <td>West Virginia</td>\n",
       "      <td>20.4</td>\n",
       "      <td>20.3</td>\n",
       "      <td>20.8</td>\n",
       "      <td>20.9</td>\n",
       "      <td>20.8</td>\n",
       "    </tr>\n",
       "    <tr>\n",
       "      <th>51</th>\n",
       "      <td>Wisconsin</td>\n",
       "      <td>20.5</td>\n",
       "      <td>20.5</td>\n",
       "      <td>20.3</td>\n",
       "      <td>20.1</td>\n",
       "      <td>20.0</td>\n",
       "    </tr>\n",
       "    <tr>\n",
       "      <th>52</th>\n",
       "      <td>Wyoming</td>\n",
       "      <td>20.2</td>\n",
       "      <td>20.0</td>\n",
       "      <td>19.8</td>\n",
       "      <td>19.7</td>\n",
       "      <td>19.8</td>\n",
       "    </tr>\n",
       "  </tbody>\n",
       "</table>\n",
       "</div>"
      ],
      "text/plain": [
       "                   state  comp_2017  comp_2018  comp_2019  comp_2020  \\\n",
       "0               National       21.0        NaN       20.7       20.7   \n",
       "1                Alabama       19.2       19.1       18.9       18.8   \n",
       "2                 Alaska       19.8       20.8       20.1       20.1   \n",
       "3                Arizona       19.7       19.2       19.0       19.1   \n",
       "4               Arkansas       19.4       19.4       19.3       19.0   \n",
       "5             California       22.8       22.7       22.6       23.3   \n",
       "6               Colorado       20.8       23.9       23.8       23.7   \n",
       "7            Connecticut       25.2       25.6       25.5       25.9   \n",
       "8               Delaware       24.1       23.8       24.1       24.2   \n",
       "9   District of Columbia       24.2        NaN       23.5       23.1   \n",
       "10               Florida       19.8       19.9       20.1       20.6   \n",
       "11               Georgia       21.4       21.4       21.4       21.7   \n",
       "12                Hawaii       19.0       18.9       19.0       18.5   \n",
       "13                 Idaho       22.3       22.3       22.5       22.7   \n",
       "14              Illinois       21.4       23.9       24.3       24.7   \n",
       "15               Indiana       22.6       22.5       22.5       22.6   \n",
       "16                  Iowa       21.9       21.8       21.6       21.1   \n",
       "17                Kansas       21.7       21.6       21.2       20.4   \n",
       "18              Kentucky       20.0       20.2       19.8       19.5   \n",
       "19             Louisiana       19.5       19.2       18.8       18.7   \n",
       "20                 Maine       24.3       24.0       24.3       24.9   \n",
       "21                 Maine       24.3       24.0       24.3       24.9   \n",
       "22              Maryland       23.6       22.5       22.3       23.8   \n",
       "23         Massachusetts       25.4       25.5       25.5       26.0   \n",
       "24              Michigan       24.1       24.2       24.4       24.6   \n",
       "25             Minnesota       21.5       21.3       21.4       21.3   \n",
       "26           Mississippi       18.6       18.6       18.4       18.2   \n",
       "27              Missouri       20.4       20.0       20.8       20.7   \n",
       "28               Montana       20.3       20.0       19.8       19.9   \n",
       "29              Nebraska       21.4       20.1       20.0       19.9   \n",
       "30                Nevada       17.8       17.7       17.9       17.9   \n",
       "31         New Hampshire       25.5       25.1       25.0       25.7   \n",
       "32            New Jersey       23.9       23.7       24.2       24.4   \n",
       "33            New Mexico       19.7       19.4       19.3       19.3   \n",
       "34              New York       24.2       24.5       24.5       24.9   \n",
       "35        North Carolina       19.1       19.1       19.0       18.8   \n",
       "36          North Dakota       20.3       20.3       19.9       19.6   \n",
       "37                  Ohio       22.0       20.3       20.0       19.9   \n",
       "38              Oklahoma       19.4       19.3       18.9       18.7   \n",
       "39                Oregon       21.8       21.3       21.1       21.0   \n",
       "40          Pennsylvania       23.7       23.5       23.6       23.7   \n",
       "41          Rhode Island       24.0       24.2       24.7       24.8   \n",
       "42        South Carolina       18.7       18.3       18.8       18.4   \n",
       "43          South Dakota       21.8       21.9       21.6       21.7   \n",
       "44             Tennessee       19.8       19.6       19.4       19.3   \n",
       "45                 Texas       20.7       20.7       20.5       20.2   \n",
       "46                  Utah       20.3       20.4       20.3       20.2   \n",
       "47               Vermont       23.6       24.1       24.1       23.3   \n",
       "48              Virginia       23.8       23.9       24.0       24.4   \n",
       "49            Washington       21.9       22.2       22.1       22.9   \n",
       "50         West Virginia       20.4       20.3       20.8       20.9   \n",
       "51             Wisconsin       20.5       20.5       20.3       20.1   \n",
       "52               Wyoming       20.2       20.0       19.8       19.7   \n",
       "\n",
       "    comp_2021  \n",
       "0        20.3  \n",
       "1        18.7  \n",
       "2        20.6  \n",
       "3        19.8  \n",
       "4        19.0  \n",
       "5        26.1  \n",
       "6        23.6  \n",
       "7        27.2  \n",
       "8        25.7  \n",
       "9        25.6  \n",
       "10       20.4  \n",
       "11       22.6  \n",
       "12       18.2  \n",
       "13       23.0  \n",
       "14       25.2  \n",
       "15       23.1  \n",
       "16       21.5  \n",
       "17       19.9  \n",
       "18       19.2  \n",
       "19       18.4  \n",
       "20       25.6  \n",
       "21       25.6  \n",
       "22       25.5  \n",
       "23       27.6  \n",
       "24       25.1  \n",
       "25       21.6  \n",
       "26       18.1  \n",
       "27       20.6  \n",
       "28       20.4  \n",
       "29       20.0  \n",
       "30       17.8  \n",
       "31       26.6  \n",
       "32       25.1  \n",
       "33       20.7  \n",
       "34       26.3  \n",
       "35       18.9  \n",
       "36       19.6  \n",
       "37       19.6  \n",
       "38       19.7  \n",
       "39       20.6  \n",
       "40       25.0  \n",
       "41       25.8  \n",
       "42       18.6  \n",
       "43       21.6  \n",
       "44       19.1  \n",
       "45       20.1  \n",
       "46       20.6  \n",
       "47       24.7  \n",
       "48       25.5  \n",
       "49       23.6  \n",
       "50       20.8  \n",
       "51       20.0  \n",
       "52       19.8  "
      ]
     },
     "execution_count": 33,
     "metadata": {},
     "output_type": "execute_result"
    }
   ],
   "source": [
    "# Merging act scores into a single file\n",
    "\n",
    "act_scores = pd.merge(\n",
    "    pd.merge(\n",
    "        pd.merge(\n",
    "            pd.merge(act_2017,act_2018,on='state', how='left'),\n",
    "            act_2019,on='state', how='left'),\n",
    "        act_2020,on='state', how='left'),\n",
    "    act_2021,on='state',how='left')\n",
    "\n",
    "act_scores.drop(columns=[\n",
    "    'part_2017',\n",
    "    'part_2018',\n",
    "    'part_2019',\n",
    "    'part_2020',\n",
    "    'part_2021'], inplace=True)\n",
    "\n",
    "act_scores"
   ]
  },
  {
   "cell_type": "code",
   "execution_count": 34,
   "metadata": {},
   "outputs": [],
   "source": [
    "# Merging act participations into a single file\n",
    "\n",
    "act_part = pd.merge(\n",
    "    pd.merge(\n",
    "        pd.merge(\n",
    "            pd.merge(act_2017,act_2018, on='state', how='left'),\n",
    "            act_2019,on='state', how='left'),\n",
    "        act_2020,on='state', how='left'),\n",
    "    act_2021,on='state',how='left')\n",
    "\n",
    "act_part.drop(columns=[\n",
    "    'comp_2017',\n",
    "    'comp_2018',\n",
    "    'comp_2019',\n",
    "    'comp_2020',\n",
    "    'comp_2021'], inplace=True)"
   ]
  },
  {
   "cell_type": "code",
   "execution_count": 35,
   "metadata": {
    "scrolled": true
   },
   "outputs": [],
   "source": [
    "# Merging sat scores into a single file\n",
    "\n",
    "sat_scores = pd.merge(\n",
    "    pd.merge(\n",
    "        pd.merge(\n",
    "            pd.merge(sat_2017,sat_2018,on='state', how='left'),\n",
    "            sat_2019,on='state', how='left'),\n",
    "        sat_2020,on='state', how='left'),\n",
    "    sat_2021,on='state',how='left')\n",
    "\n",
    "sat_scores.drop(columns=[\n",
    "    'part_2017','ebrw_2017','math_2017',\n",
    "    'part_2018','ebrw_2018','math_2018',\n",
    "    'part_2019','ebrw_2019','math_2019',\n",
    "    'part_2020','ebrw_2020','math_2020',\n",
    "    'part_2021','ebrw_2021','math_2021',], inplace=True)"
   ]
  },
  {
   "cell_type": "code",
   "execution_count": 36,
   "metadata": {},
   "outputs": [],
   "source": [
    "# Merging sat participations into a single file\n",
    "\n",
    "sat_part = pd.merge(\n",
    "    pd.merge(\n",
    "        pd.merge(\n",
    "            pd.merge(sat_2017,sat_2018, on='state', how='left'),\n",
    "            sat_2019,on='state', how='left'),\n",
    "        sat_2020,on='state', how='left'),\n",
    "    sat_2021,on='state',how='left')\n",
    "\n",
    "sat_part.drop(columns=[\n",
    "    'ebrw_2017', 'math_2017','total_2017',\n",
    "    'ebrw_2018', 'math_2018','total_2018',\n",
    "    'ebrw_2019', 'math_2019','total_2019',\n",
    "    'ebrw_2020', 'math_2020','total_2020',\n",
    "    'ebrw_2021', 'math_2021','total_2021'], inplace=True)"
   ]
  },
  {
   "cell_type": "markdown",
   "metadata": {},
   "source": [
    "#### Question 10: Perform any additional cleaning that you feel is necessary."
   ]
  },
  {
   "cell_type": "code",
   "execution_count": 37,
   "metadata": {},
   "outputs": [],
   "source": [
    "# Export the combined scores and participation for ACT\n",
    "\n",
    "act_scores.to_csv('../data/act_scores_comp.csv', index=False)\n",
    "act_part.to_csv('../data/act_part.csv', index=False)"
   ]
  },
  {
   "cell_type": "markdown",
   "metadata": {},
   "source": [
    "#### Question 11: Save your cleaned and merged dataframes as csv files."
   ]
  },
  {
   "cell_type": "code",
   "execution_count": 38,
   "metadata": {},
   "outputs": [],
   "source": [
    "# Export the combined scores and participation for SAT\n",
    "\n",
    "sat_scores.to_csv('../data/sat_scores_comp.csv', index=False)\n",
    "sat_part.to_csv('../data/sat_part.csv', index=False)"
   ]
  },
  {
   "cell_type": "markdown",
   "metadata": {},
   "source": [
    "### Data Dictionary\n",
    "\n",
    "Now that we've fixed our data, and given it appropriate names, let's create a [data dictionary](http://library.ucmerced.edu/node/10249). \n",
    "\n",
    "A data dictionary provides a quick overview of features/variables/columns, alongside data types and descriptions. The more descriptive you can be, the more useful this document is.\n",
    "\n",
    "Example of a Fictional Data Dictionary Entry: \n",
    "\n",
    "|Feature|Type|Dataset|Description|\n",
    "|---|---|---|---|\n",
    "|**county_pop**|*integer*|2010 census|The population of the county (units in thousands, where 2.5 represents 2500 people).| \n",
    "|**per_poverty**|*float*|2010 census|The percent of the county over the age of 18 living below the 200% of official US poverty rate (units percent to two decimal places 98.10 means 98.1%)|\n",
    "\n",
    "[Here's a quick link to a short guide for formatting markdown in Jupyter notebooks](https://jupyter-notebook.readthedocs.io/en/stable/examples/Notebook/Working%20With%20Markdown%20Cells.html).\n",
    "\n",
    "Provided is the skeleton for formatting a markdown table, with columns headers that will help you create a data dictionary to quickly summarize your data, as well as some examples. **This would be a great thing to copy and paste into your custom README for this project.**\n",
    "\n",
    "*Note*: if you are unsure of what a feature is, check the source of the data! This can be found in the README."
   ]
  },
  {
   "cell_type": "markdown",
   "metadata": {},
   "source": [
    "**To-Do:** *Edit the table below to create your own data dictionary for the datasets you chose.*\n",
    "\n",
    "|Feature|Type|Dataset|Description|\n",
    "|---|---|---|---|\n",
    "|column name|int/float/object|ACT/SAT|This is an example| \n",
    "\n",
    "Markdown table generator"
   ]
  },
  {
   "cell_type": "markdown",
   "metadata": {},
   "source": [
    "## Exploratory Data Analysis\n",
    "\n",
    "Complete the following steps to explore your data. You are welcome to do more EDA than the steps outlined here as you feel necessary:\n",
    "1. Summary Statistics.\n",
    "2. Use a **dictionary comprehension** to apply the standard deviation function you create in part 1 to each numeric column in the dataframe.  **No loops**.\n",
    "    - Assign the output to variable `sd` as a dictionary where: \n",
    "        - Each column name is now a key \n",
    "        - That standard deviation of the column is the value \n",
    "        - *Example Output :* `{'ACT_Math': 120, 'ACT_Reading': 120, ...}`\n",
    "3. Investigate trends in the data.\n",
    "    - Using sorting and/or masking (along with the `.head()` method to avoid printing our entire dataframe), consider questions relevant to your problem statement. Some examples are provided below (but feel free to change these questions for your specific problem):\n",
    "        - Which states have the highest and lowest participation rates for the 2017, 2019, or 2019 SAT and ACT?\n",
    "        - Which states have the highest and lowest mean total/composite scores for the 2017, 2019, or 2019 SAT and ACT?\n",
    "        - Do any states with 100% participation on a given test have a rate change year-to-year?\n",
    "        - Do any states show have >50% participation on *both* tests each year?\n",
    "        - Which colleges have the highest median SAT and ACT scores for admittance?\n",
    "        - Which California school districts have the highest and lowest mean test scores?\n",
    "    - **You should comment on your findings at each step in a markdown cell below your code block**. Make sure you include at least one example of sorting your dataframe by a column, and one example of using boolean filtering (i.e., masking) to select a subset of the dataframe."
   ]
  },
  {
   "cell_type": "code",
   "execution_count": 39,
   "metadata": {},
   "outputs": [],
   "source": [
    "act_part.drop(index=0, inplace=True)\n",
    "act_scores.drop(index=0, inplace=True)"
   ]
  },
  {
   "cell_type": "markdown",
   "metadata": {},
   "source": [
    "#### 2. Use a dictionary comprehension to apply the standard deviation function you create in part 1 to each numeric column in the dataframe. No loops"
   ]
  },
  {
   "cell_type": "code",
   "execution_count": 40,
   "metadata": {},
   "outputs": [
    {
     "data": {
      "text/plain": [
       "{'comp_2017': 2.017911657040839,\n",
       " 'comp_2018': nan,\n",
       " 'comp_2019': 2.1868521864102073,\n",
       " 'comp_2020': 2.3976219419106424,\n",
       " 'comp_2021': 2.8963913479080627}"
      ]
     },
     "execution_count": 40,
     "metadata": {},
     "output_type": "execute_result"
    }
   ],
   "source": [
    "# Dictionary Comprehension for act_scores\n",
    "\n",
    "{key:dev_calc(act_scores[key]) for key in act_scores.columns if key !='state'}"
   ]
  },
  {
   "cell_type": "code",
   "execution_count": 41,
   "metadata": {},
   "outputs": [
    {
     "data": {
      "text/plain": [
       "{'part_2017': 0.324827673931085,\n",
       " 'part_2018': nan,\n",
       " 'part_2019': 0.34609849984886265,\n",
       " 'part_2020': 0.3567010147242721,\n",
       " 'part_2021': 0.3669579486735156}"
      ]
     },
     "execution_count": 41,
     "metadata": {},
     "output_type": "execute_result"
    }
   ],
   "source": [
    "# Dictionary Comprehension for act_part\n",
    "\n",
    "{key:dev_calc(act_part[key]) for key in act_part.columns if key !='state'}"
   ]
  },
  {
   "cell_type": "code",
   "execution_count": 42,
   "metadata": {},
   "outputs": [
    {
     "data": {
      "text/plain": [
       "{'total_2017': 91.58351056778743,\n",
       " 'total_2018': 93.22742384464433,\n",
       " 'total_2019': 96.24027185617864,\n",
       " 'total_2020': 88.36506796493464,\n",
       " 'total_2021': 87.49095191313594}"
      ]
     },
     "execution_count": 42,
     "metadata": {},
     "output_type": "execute_result"
    }
   ],
   "source": [
    "# Dictionary Comprehension for sat_scores\n",
    "\n",
    "{key:dev_calc(sat_scores[key]) for key in sat_scores.columns if key !=\"state\"}"
   ]
  },
  {
   "cell_type": "code",
   "execution_count": 43,
   "metadata": {
    "scrolled": true
   },
   "outputs": [
    {
     "data": {
      "text/plain": [
       "{'part_2017': 0.3492907076664507,\n",
       " 'part_2018': 0.3694661922353942,\n",
       " 'part_2019': 0.3836584048685726,\n",
       " 'part_2020': 0.3854271585903205,\n",
       " 'part_2021': 0.2870813234512301}"
      ]
     },
     "execution_count": 43,
     "metadata": {},
     "output_type": "execute_result"
    }
   ],
   "source": [
    "# Dictionary comprehension for sat_part\n",
    "\n",
    "{key:dev_calc(sat_part[key]) for key in sat_part.columns if key !='state'}"
   ]
  },
  {
   "cell_type": "markdown",
   "metadata": {},
   "source": [
    "##### <font color=red> /!\\ Check with Ryan"
   ]
  },
  {
   "cell_type": "code",
   "execution_count": 44,
   "metadata": {},
   "outputs": [],
   "source": [
    "# Trends Investigation\n",
    "\n",
    "# Loading merged data sets\n",
    "act_scores = pd.read_csv('../data/act_scores_comp.csv')\n",
    "act_part = pd.read_csv('../data/act_part.csv')\n",
    "sat_part = pd.read_csv('../data/sat_part.csv')\n",
    "sat_scores = pd.read_csv('../data/sat_scores_comp.csv')"
   ]
  },
  {
   "cell_type": "code",
   "execution_count": 45,
   "metadata": {},
   "outputs": [],
   "source": [
    "# Dropping The National row from ACT combined files since I need to calculate it manually\n",
    "\n",
    "act_part.drop(index=0, inplace=True)\n",
    "act_scores.drop(index=0, inplace=True)\n",
    "\n",
    "act_part.reset_index(inplace=True)\n",
    "act_scores.reset_index(inplace=True)"
   ]
  },
  {
   "cell_type": "markdown",
   "metadata": {},
   "source": [
    "Dropping the National Row fro ACT files as I will calculate this using Python. Not removing it means that I will get wrong data into my calculations as it doesn't represent any state."
   ]
  },
  {
   "cell_type": "code",
   "execution_count": 46,
   "metadata": {},
   "outputs": [
    {
     "name": "stdout",
     "output_type": "stream",
     "text": [
      "index        26.50\n",
      "part_2017     0.64\n",
      "part_2018     0.61\n",
      "part_2019     0.58\n",
      "part_2020     0.56\n",
      "part_2021     0.44\n",
      "dtype: float64\n",
      "index        26.500\n",
      "comp_2017    21.573\n",
      "comp_2018    21.504\n",
      "comp_2019    21.519\n",
      "comp_2020    21.571\n",
      "comp_2021    22.077\n",
      "dtype: float64\n"
     ]
    }
   ],
   "source": [
    "# Return the average score and participation for ACT\n",
    "print(act_part.mean(numeric_only=True).round(2))\n",
    "print(act_scores.mean(numeric_only=True).round(3))"
   ]
  },
  {
   "cell_type": "markdown",
   "metadata": {},
   "source": [
    "We can see that the average participation rate for ACT has been consistently dropping since 2017 with the biggest drop in 2021.\n",
    "\n",
    "At the same time, average scores saw a consistent decrease between 2017 and 2019 but then increased in 2020 and 2021."
   ]
  },
  {
   "cell_type": "code",
   "execution_count": 47,
   "metadata": {
    "scrolled": false
   },
   "outputs": [
    {
     "name": "stdout",
     "output_type": "stream",
     "text": [
      "index        26.500\n",
      "part_2017     0.680\n",
      "part_2018     0.660\n",
      "part_2019     0.515\n",
      "part_2020     0.445\n",
      "part_2021     0.270\n",
      "dtype: float64\n",
      "index        26.50\n",
      "comp_2017    21.40\n",
      "comp_2018    21.30\n",
      "comp_2019    21.15\n",
      "comp_2020    20.95\n",
      "comp_2021    20.75\n",
      "dtype: float64\n"
     ]
    }
   ],
   "source": [
    "# Return the median score and participation for ACT\n",
    "print(act_part.median(numeric_only=True))\n",
    "print(act_scores.median(numeric_only=True))"
   ]
  },
  {
   "cell_type": "markdown",
   "metadata": {},
   "source": [
    "For ACT, the median participation is pretty similar to the mean for 2017 to 2020. However, for 2021 it is very far from the mean (0.44 to 0.27).\n",
    "This means that for 2021 a lot of states had a lower scores compared to 2017 to 2019 but some states had a very high scores with helped mitigate the mean."
   ]
  },
  {
   "cell_type": "code",
   "execution_count": 48,
   "metadata": {
    "scrolled": false
   },
   "outputs": [
    {
     "name": "stdout",
     "output_type": "stream",
     "text": [
      "part_2017    0.40\n",
      "part_2018    0.46\n",
      "part_2019    0.49\n",
      "part_2020    0.49\n",
      "part_2021    0.31\n",
      "dtype: float64\n",
      "total_2017    1126.10\n",
      "total_2018    1120.02\n",
      "total_2019    1113.08\n",
      "total_2020    1100.35\n",
      "total_2021    1123.00\n",
      "dtype: float64\n"
     ]
    }
   ],
   "source": [
    "# Return the average score and participation for SAT\n",
    "print(sat_part.mean(numeric_only=True).round(2))\n",
    "print(sat_scores.mean(numeric_only=True).round(2))"
   ]
  },
  {
   "cell_type": "markdown",
   "metadata": {},
   "source": [
    "We can see that the average participation rate for SAT has been consistently increasing between 2017 and 2019. It stabilised in 2020 and had a big drop in 2021.\n",
    "\n",
    "At the same time, average scores were consistently dropping until 2020 and only saw a big increase in 2021.\n",
    "\n",
    "There seems to be a strong correlation between low participation rate and high scores"
   ]
  },
  {
   "cell_type": "code",
   "execution_count": 49,
   "metadata": {
    "scrolled": false
   },
   "outputs": [
    {
     "name": "stdout",
     "output_type": "stream",
     "text": [
      "part_2017    0.38\n",
      "part_2018    0.52\n",
      "part_2019    0.54\n",
      "part_2020    0.51\n",
      "part_2021    0.26\n",
      "dtype: float64\n",
      "total_2017    1107.0\n",
      "total_2018    1098.0\n",
      "total_2019    1097.0\n",
      "total_2020    1095.0\n",
      "total_2021    1123.0\n",
      "dtype: float64\n"
     ]
    }
   ],
   "source": [
    "# Return the median score and participation for SAT\n",
    "print(sat_part.median(numeric_only=True))\n",
    "print(sat_scores.median(numeric_only=True).round(3))"
   ]
  },
  {
   "cell_type": "markdown",
   "metadata": {},
   "source": [
    "Participation median is quite similar to the mean for SAT Participation wich mean that the data should be evenly distributed.\n",
    "\n",
    "Same observation can be made for the scores where the mean is quite similar to the median"
   ]
  },
  {
   "cell_type": "markdown",
   "metadata": {},
   "source": [
    "###### 1: Summary Statistics."
   ]
  },
  {
   "cell_type": "code",
   "execution_count": 50,
   "metadata": {
    "scrolled": true
   },
   "outputs": [
    {
     "data": {
      "text/html": [
       "<div>\n",
       "<style scoped>\n",
       "    .dataframe tbody tr th:only-of-type {\n",
       "        vertical-align: middle;\n",
       "    }\n",
       "\n",
       "    .dataframe tbody tr th {\n",
       "        vertical-align: top;\n",
       "    }\n",
       "\n",
       "    .dataframe thead th {\n",
       "        text-align: right;\n",
       "    }\n",
       "</style>\n",
       "<table border=\"1\" class=\"dataframe\">\n",
       "  <thead>\n",
       "    <tr style=\"text-align: right;\">\n",
       "      <th></th>\n",
       "      <th>index</th>\n",
       "      <th>part_2017</th>\n",
       "      <th>part_2018</th>\n",
       "      <th>part_2019</th>\n",
       "      <th>part_2020</th>\n",
       "      <th>part_2021</th>\n",
       "    </tr>\n",
       "  </thead>\n",
       "  <tbody>\n",
       "    <tr>\n",
       "      <th>count</th>\n",
       "      <td>52.0000</td>\n",
       "      <td>52.0000</td>\n",
       "      <td>51.0000</td>\n",
       "      <td>52.0000</td>\n",
       "      <td>52.0000</td>\n",
       "      <td>52.0000</td>\n",
       "    </tr>\n",
       "    <tr>\n",
       "      <th>mean</th>\n",
       "      <td>26.5000</td>\n",
       "      <td>0.6415</td>\n",
       "      <td>0.6124</td>\n",
       "      <td>0.5765</td>\n",
       "      <td>0.5590</td>\n",
       "      <td>0.4373</td>\n",
       "    </tr>\n",
       "    <tr>\n",
       "      <th>std</th>\n",
       "      <td>15.1548</td>\n",
       "      <td>0.3280</td>\n",
       "      <td>0.3465</td>\n",
       "      <td>0.3495</td>\n",
       "      <td>0.3602</td>\n",
       "      <td>0.3705</td>\n",
       "    </tr>\n",
       "    <tr>\n",
       "      <th>min</th>\n",
       "      <td>1.0000</td>\n",
       "      <td>0.0800</td>\n",
       "      <td>0.0700</td>\n",
       "      <td>0.0600</td>\n",
       "      <td>0.0500</td>\n",
       "      <td>0.0200</td>\n",
       "    </tr>\n",
       "    <tr>\n",
       "      <th>25%</th>\n",
       "      <td>13.7500</td>\n",
       "      <td>0.3100</td>\n",
       "      <td>0.2700</td>\n",
       "      <td>0.2375</td>\n",
       "      <td>0.2000</td>\n",
       "      <td>0.0900</td>\n",
       "    </tr>\n",
       "    <tr>\n",
       "      <th>50%</th>\n",
       "      <td>26.5000</td>\n",
       "      <td>0.6800</td>\n",
       "      <td>0.6600</td>\n",
       "      <td>0.5150</td>\n",
       "      <td>0.4450</td>\n",
       "      <td>0.2700</td>\n",
       "    </tr>\n",
       "    <tr>\n",
       "      <th>75%</th>\n",
       "      <td>39.2500</td>\n",
       "      <td>1.0000</td>\n",
       "      <td>1.0000</td>\n",
       "      <td>1.0000</td>\n",
       "      <td>1.0000</td>\n",
       "      <td>0.8525</td>\n",
       "    </tr>\n",
       "    <tr>\n",
       "      <th>max</th>\n",
       "      <td>52.0000</td>\n",
       "      <td>1.0000</td>\n",
       "      <td>1.0000</td>\n",
       "      <td>1.0000</td>\n",
       "      <td>1.0000</td>\n",
       "      <td>1.0000</td>\n",
       "    </tr>\n",
       "  </tbody>\n",
       "</table>\n",
       "</div>"
      ],
      "text/plain": [
       "         index  part_2017  part_2018  part_2019  part_2020  part_2021\n",
       "count  52.0000    52.0000    51.0000    52.0000    52.0000    52.0000\n",
       "mean   26.5000     0.6415     0.6124     0.5765     0.5590     0.4373\n",
       "std    15.1548     0.3280     0.3465     0.3495     0.3602     0.3705\n",
       "min     1.0000     0.0800     0.0700     0.0600     0.0500     0.0200\n",
       "25%    13.7500     0.3100     0.2700     0.2375     0.2000     0.0900\n",
       "50%    26.5000     0.6800     0.6600     0.5150     0.4450     0.2700\n",
       "75%    39.2500     1.0000     1.0000     1.0000     1.0000     0.8525\n",
       "max    52.0000     1.0000     1.0000     1.0000     1.0000     1.0000"
      ]
     },
     "execution_count": 50,
     "metadata": {},
     "output_type": "execute_result"
    }
   ],
   "source": [
    "# Return statistics on the ACT participation\n",
    "act_part.describe().round(4)"
   ]
  },
  {
   "cell_type": "markdown",
   "metadata": {},
   "source": [
    "ACT Participation mean is dropping year on year and standard deviation is getting bigger each year.\n",
    "\n",
    "2021 is the year with the single lowest participation state. "
   ]
  },
  {
   "cell_type": "code",
   "execution_count": 51,
   "metadata": {
    "scrolled": false
   },
   "outputs": [
    {
     "data": {
      "text/html": [
       "<div>\n",
       "<style scoped>\n",
       "    .dataframe tbody tr th:only-of-type {\n",
       "        vertical-align: middle;\n",
       "    }\n",
       "\n",
       "    .dataframe tbody tr th {\n",
       "        vertical-align: top;\n",
       "    }\n",
       "\n",
       "    .dataframe thead th {\n",
       "        text-align: right;\n",
       "    }\n",
       "</style>\n",
       "<table border=\"1\" class=\"dataframe\">\n",
       "  <thead>\n",
       "    <tr style=\"text-align: right;\">\n",
       "      <th></th>\n",
       "      <th>index</th>\n",
       "      <th>comp_2017</th>\n",
       "      <th>comp_2018</th>\n",
       "      <th>comp_2019</th>\n",
       "      <th>comp_2020</th>\n",
       "      <th>comp_2021</th>\n",
       "    </tr>\n",
       "  </thead>\n",
       "  <tbody>\n",
       "    <tr>\n",
       "      <th>count</th>\n",
       "      <td>52.0000</td>\n",
       "      <td>52.0000</td>\n",
       "      <td>51.0000</td>\n",
       "      <td>52.0000</td>\n",
       "      <td>52.0000</td>\n",
       "      <td>52.0000</td>\n",
       "    </tr>\n",
       "    <tr>\n",
       "      <th>mean</th>\n",
       "      <td>26.5000</td>\n",
       "      <td>21.5731</td>\n",
       "      <td>21.5039</td>\n",
       "      <td>21.5192</td>\n",
       "      <td>21.5712</td>\n",
       "      <td>22.0769</td>\n",
       "    </tr>\n",
       "    <tr>\n",
       "      <th>std</th>\n",
       "      <td>15.1548</td>\n",
       "      <td>2.0376</td>\n",
       "      <td>2.1203</td>\n",
       "      <td>2.2082</td>\n",
       "      <td>2.4210</td>\n",
       "      <td>2.9246</td>\n",
       "    </tr>\n",
       "    <tr>\n",
       "      <th>min</th>\n",
       "      <td>1.0000</td>\n",
       "      <td>17.8000</td>\n",
       "      <td>17.7000</td>\n",
       "      <td>17.9000</td>\n",
       "      <td>17.9000</td>\n",
       "      <td>17.8000</td>\n",
       "    </tr>\n",
       "    <tr>\n",
       "      <th>25%</th>\n",
       "      <td>13.7500</td>\n",
       "      <td>19.8000</td>\n",
       "      <td>19.9500</td>\n",
       "      <td>19.8000</td>\n",
       "      <td>19.5750</td>\n",
       "      <td>19.7750</td>\n",
       "    </tr>\n",
       "    <tr>\n",
       "      <th>50%</th>\n",
       "      <td>26.5000</td>\n",
       "      <td>21.4000</td>\n",
       "      <td>21.3000</td>\n",
       "      <td>21.1500</td>\n",
       "      <td>20.9500</td>\n",
       "      <td>20.7500</td>\n",
       "    </tr>\n",
       "    <tr>\n",
       "      <th>75%</th>\n",
       "      <td>39.2500</td>\n",
       "      <td>23.6250</td>\n",
       "      <td>23.7500</td>\n",
       "      <td>23.8500</td>\n",
       "      <td>23.7250</td>\n",
       "      <td>25.1250</td>\n",
       "    </tr>\n",
       "    <tr>\n",
       "      <th>max</th>\n",
       "      <td>52.0000</td>\n",
       "      <td>25.5000</td>\n",
       "      <td>25.6000</td>\n",
       "      <td>25.5000</td>\n",
       "      <td>26.0000</td>\n",
       "      <td>27.6000</td>\n",
       "    </tr>\n",
       "  </tbody>\n",
       "</table>\n",
       "</div>"
      ],
      "text/plain": [
       "         index  comp_2017  comp_2018  comp_2019  comp_2020  comp_2021\n",
       "count  52.0000    52.0000    51.0000    52.0000    52.0000    52.0000\n",
       "mean   26.5000    21.5731    21.5039    21.5192    21.5712    22.0769\n",
       "std    15.1548     2.0376     2.1203     2.2082     2.4210     2.9246\n",
       "min     1.0000    17.8000    17.7000    17.9000    17.9000    17.8000\n",
       "25%    13.7500    19.8000    19.9500    19.8000    19.5750    19.7750\n",
       "50%    26.5000    21.4000    21.3000    21.1500    20.9500    20.7500\n",
       "75%    39.2500    23.6250    23.7500    23.8500    23.7250    25.1250\n",
       "max    52.0000    25.5000    25.6000    25.5000    26.0000    27.6000"
      ]
     },
     "execution_count": 51,
     "metadata": {},
     "output_type": "execute_result"
    }
   ],
   "source": [
    "# Return statistics on the ACT scores\n",
    "act_scores.describe().round(4)"
   ]
  },
  {
   "cell_type": "markdown",
   "metadata": {},
   "source": [
    "ACT Scores standard deviation seems to increase year on year. Meaning that the scores are getting more spread out as the years goes by.\n",
    "\n",
    "The quartile repartition seems to be pretty even  except for 2021 where scores between 50 and 75 are getting higher.\n",
    "\n",
    "2021 was also the year with the highest score"
   ]
  },
  {
   "cell_type": "code",
   "execution_count": 52,
   "metadata": {
    "scrolled": true
   },
   "outputs": [
    {
     "data": {
      "text/html": [
       "<div>\n",
       "<style scoped>\n",
       "    .dataframe tbody tr th:only-of-type {\n",
       "        vertical-align: middle;\n",
       "    }\n",
       "\n",
       "    .dataframe tbody tr th {\n",
       "        vertical-align: top;\n",
       "    }\n",
       "\n",
       "    .dataframe thead th {\n",
       "        text-align: right;\n",
       "    }\n",
       "</style>\n",
       "<table border=\"1\" class=\"dataframe\">\n",
       "  <thead>\n",
       "    <tr style=\"text-align: right;\">\n",
       "      <th></th>\n",
       "      <th>part_2017</th>\n",
       "      <th>part_2018</th>\n",
       "      <th>part_2019</th>\n",
       "      <th>part_2020</th>\n",
       "      <th>part_2021</th>\n",
       "    </tr>\n",
       "  </thead>\n",
       "  <tbody>\n",
       "    <tr>\n",
       "      <th>count</th>\n",
       "      <td>51.0000</td>\n",
       "      <td>51.0000</td>\n",
       "      <td>51.0000</td>\n",
       "      <td>51.0000</td>\n",
       "      <td>51.0000</td>\n",
       "    </tr>\n",
       "    <tr>\n",
       "      <th>mean</th>\n",
       "      <td>0.3980</td>\n",
       "      <td>0.4575</td>\n",
       "      <td>0.4906</td>\n",
       "      <td>0.4871</td>\n",
       "      <td>0.3100</td>\n",
       "    </tr>\n",
       "    <tr>\n",
       "      <th>std</th>\n",
       "      <td>0.3528</td>\n",
       "      <td>0.3731</td>\n",
       "      <td>0.3875</td>\n",
       "      <td>0.3893</td>\n",
       "      <td>0.2899</td>\n",
       "    </tr>\n",
       "    <tr>\n",
       "      <th>min</th>\n",
       "      <td>0.0200</td>\n",
       "      <td>0.0200</td>\n",
       "      <td>0.0200</td>\n",
       "      <td>0.0200</td>\n",
       "      <td>0.0100</td>\n",
       "    </tr>\n",
       "    <tr>\n",
       "      <th>25%</th>\n",
       "      <td>0.0400</td>\n",
       "      <td>0.0450</td>\n",
       "      <td>0.0550</td>\n",
       "      <td>0.0450</td>\n",
       "      <td>0.0250</td>\n",
       "    </tr>\n",
       "    <tr>\n",
       "      <th>50%</th>\n",
       "      <td>0.3800</td>\n",
       "      <td>0.5200</td>\n",
       "      <td>0.5400</td>\n",
       "      <td>0.5100</td>\n",
       "      <td>0.2600</td>\n",
       "    </tr>\n",
       "    <tr>\n",
       "      <th>75%</th>\n",
       "      <td>0.6600</td>\n",
       "      <td>0.7750</td>\n",
       "      <td>0.8200</td>\n",
       "      <td>0.8500</td>\n",
       "      <td>0.4800</td>\n",
       "    </tr>\n",
       "    <tr>\n",
       "      <th>max</th>\n",
       "      <td>1.0000</td>\n",
       "      <td>1.0000</td>\n",
       "      <td>1.0000</td>\n",
       "      <td>1.0000</td>\n",
       "      <td>0.9600</td>\n",
       "    </tr>\n",
       "  </tbody>\n",
       "</table>\n",
       "</div>"
      ],
      "text/plain": [
       "       part_2017  part_2018  part_2019  part_2020  part_2021\n",
       "count    51.0000    51.0000    51.0000    51.0000    51.0000\n",
       "mean      0.3980     0.4575     0.4906     0.4871     0.3100\n",
       "std       0.3528     0.3731     0.3875     0.3893     0.2899\n",
       "min       0.0200     0.0200     0.0200     0.0200     0.0100\n",
       "25%       0.0400     0.0450     0.0550     0.0450     0.0250\n",
       "50%       0.3800     0.5200     0.5400     0.5100     0.2600\n",
       "75%       0.6600     0.7750     0.8200     0.8500     0.4800\n",
       "max       1.0000     1.0000     1.0000     1.0000     0.9600"
      ]
     },
     "execution_count": 52,
     "metadata": {},
     "output_type": "execute_result"
    }
   ],
   "source": [
    "# Return statistics on the SAT participation\n",
    "sat_part.describe().round(4)"
   ]
  },
  {
   "cell_type": "markdown",
   "metadata": {},
   "source": [
    "SAT Participation deviation in 2021 is lower than the previous year, meaning that the participation rate for that year is more evenly situated.\n",
    "\n",
    "2021 is also the first year where no state has achieved 100% participation."
   ]
  },
  {
   "cell_type": "code",
   "execution_count": 53,
   "metadata": {
    "scrolled": false
   },
   "outputs": [
    {
     "data": {
      "text/html": [
       "<div>\n",
       "<style scoped>\n",
       "    .dataframe tbody tr th:only-of-type {\n",
       "        vertical-align: middle;\n",
       "    }\n",
       "\n",
       "    .dataframe tbody tr th {\n",
       "        vertical-align: top;\n",
       "    }\n",
       "\n",
       "    .dataframe thead th {\n",
       "        text-align: right;\n",
       "    }\n",
       "</style>\n",
       "<table border=\"1\" class=\"dataframe\">\n",
       "  <thead>\n",
       "    <tr style=\"text-align: right;\">\n",
       "      <th></th>\n",
       "      <th>total_2017</th>\n",
       "      <th>total_2018</th>\n",
       "      <th>total_2019</th>\n",
       "      <th>total_2020</th>\n",
       "      <th>total_2021</th>\n",
       "    </tr>\n",
       "  </thead>\n",
       "  <tbody>\n",
       "    <tr>\n",
       "      <th>count</th>\n",
       "      <td>51.0000</td>\n",
       "      <td>51.0000</td>\n",
       "      <td>51.0000</td>\n",
       "      <td>51.0000</td>\n",
       "      <td>51.0000</td>\n",
       "    </tr>\n",
       "    <tr>\n",
       "      <th>mean</th>\n",
       "      <td>1126.0980</td>\n",
       "      <td>1120.0196</td>\n",
       "      <td>1113.0784</td>\n",
       "      <td>1100.3529</td>\n",
       "      <td>1123.0000</td>\n",
       "    </tr>\n",
       "    <tr>\n",
       "      <th>std</th>\n",
       "      <td>92.4948</td>\n",
       "      <td>94.1551</td>\n",
       "      <td>97.1979</td>\n",
       "      <td>89.2443</td>\n",
       "      <td>88.3615</td>\n",
       "    </tr>\n",
       "    <tr>\n",
       "      <th>min</th>\n",
       "      <td>950.0000</td>\n",
       "      <td>977.0000</td>\n",
       "      <td>943.0000</td>\n",
       "      <td>936.0000</td>\n",
       "      <td>984.0000</td>\n",
       "    </tr>\n",
       "    <tr>\n",
       "      <th>25%</th>\n",
       "      <td>1055.5000</td>\n",
       "      <td>1057.5000</td>\n",
       "      <td>1038.0000</td>\n",
       "      <td>1027.5000</td>\n",
       "      <td>1052.5000</td>\n",
       "    </tr>\n",
       "    <tr>\n",
       "      <th>50%</th>\n",
       "      <td>1107.0000</td>\n",
       "      <td>1098.0000</td>\n",
       "      <td>1097.0000</td>\n",
       "      <td>1095.0000</td>\n",
       "      <td>1123.0000</td>\n",
       "    </tr>\n",
       "    <tr>\n",
       "      <th>75%</th>\n",
       "      <td>1212.0000</td>\n",
       "      <td>1204.0000</td>\n",
       "      <td>1210.0000</td>\n",
       "      <td>1185.5000</td>\n",
       "      <td>1208.5000</td>\n",
       "    </tr>\n",
       "    <tr>\n",
       "      <th>max</th>\n",
       "      <td>1295.0000</td>\n",
       "      <td>1298.0000</td>\n",
       "      <td>1284.0000</td>\n",
       "      <td>1257.0000</td>\n",
       "      <td>1263.0000</td>\n",
       "    </tr>\n",
       "  </tbody>\n",
       "</table>\n",
       "</div>"
      ],
      "text/plain": [
       "       total_2017  total_2018  total_2019  total_2020  total_2021\n",
       "count     51.0000     51.0000     51.0000     51.0000     51.0000\n",
       "mean    1126.0980   1120.0196   1113.0784   1100.3529   1123.0000\n",
       "std       92.4948     94.1551     97.1979     89.2443     88.3615\n",
       "min      950.0000    977.0000    943.0000    936.0000    984.0000\n",
       "25%     1055.5000   1057.5000   1038.0000   1027.5000   1052.5000\n",
       "50%     1107.0000   1098.0000   1097.0000   1095.0000   1123.0000\n",
       "75%     1212.0000   1204.0000   1210.0000   1185.5000   1208.5000\n",
       "max     1295.0000   1298.0000   1284.0000   1257.0000   1263.0000"
      ]
     },
     "execution_count": 53,
     "metadata": {},
     "output_type": "execute_result"
    }
   ],
   "source": [
    "# Return statistics on the SAT scores\n",
    "sat_scores.describe().round(4)"
   ]
  },
  {
   "cell_type": "markdown",
   "metadata": {},
   "source": [
    "SAT scores deviation for 2019 is higher than the other years, meaning that scores were more spread out on that particular year"
   ]
  },
  {
   "cell_type": "code",
   "execution_count": 54,
   "metadata": {
    "scrolled": false
   },
   "outputs": [
    {
     "data": {
      "text/html": [
       "<div>\n",
       "<style scoped>\n",
       "    .dataframe tbody tr th:only-of-type {\n",
       "        vertical-align: middle;\n",
       "    }\n",
       "\n",
       "    .dataframe tbody tr th {\n",
       "        vertical-align: top;\n",
       "    }\n",
       "\n",
       "    .dataframe thead th {\n",
       "        text-align: right;\n",
       "    }\n",
       "</style>\n",
       "<table border=\"1\" class=\"dataframe\">\n",
       "  <thead>\n",
       "    <tr style=\"text-align: right;\">\n",
       "      <th></th>\n",
       "      <th>state</th>\n",
       "      <th>part_2017</th>\n",
       "      <th>part_2018</th>\n",
       "      <th>part_2019</th>\n",
       "      <th>part_2020</th>\n",
       "      <th>part_2021</th>\n",
       "    </tr>\n",
       "  </thead>\n",
       "  <tbody>\n",
       "    <tr>\n",
       "      <th>7</th>\n",
       "      <td>Delaware</td>\n",
       "      <td>1.00</td>\n",
       "      <td>1.00</td>\n",
       "      <td>1.00</td>\n",
       "      <td>1.00</td>\n",
       "      <td>0.96</td>\n",
       "    </tr>\n",
       "    <tr>\n",
       "      <th>8</th>\n",
       "      <td>District of Columbia</td>\n",
       "      <td>1.00</td>\n",
       "      <td>0.92</td>\n",
       "      <td>0.94</td>\n",
       "      <td>1.00</td>\n",
       "      <td>0.90</td>\n",
       "    </tr>\n",
       "    <tr>\n",
       "      <th>12</th>\n",
       "      <td>Idaho</td>\n",
       "      <td>0.93</td>\n",
       "      <td>1.00</td>\n",
       "      <td>1.00</td>\n",
       "      <td>1.00</td>\n",
       "      <td>0.90</td>\n",
       "    </tr>\n",
       "    <tr>\n",
       "      <th>9</th>\n",
       "      <td>Florida</td>\n",
       "      <td>0.83</td>\n",
       "      <td>0.56</td>\n",
       "      <td>1.00</td>\n",
       "      <td>1.00</td>\n",
       "      <td>0.81</td>\n",
       "    </tr>\n",
       "    <tr>\n",
       "      <th>13</th>\n",
       "      <td>Illinois</td>\n",
       "      <td>0.09</td>\n",
       "      <td>0.99</td>\n",
       "      <td>1.00</td>\n",
       "      <td>0.98</td>\n",
       "      <td>0.80</td>\n",
       "    </tr>\n",
       "  </tbody>\n",
       "</table>\n",
       "</div>"
      ],
      "text/plain": [
       "                   state  part_2017  part_2018  part_2019  part_2020  \\\n",
       "7               Delaware       1.00       1.00       1.00       1.00   \n",
       "8   District of Columbia       1.00       0.92       0.94       1.00   \n",
       "12                 Idaho       0.93       1.00       1.00       1.00   \n",
       "9                Florida       0.83       0.56       1.00       1.00   \n",
       "13              Illinois       0.09       0.99       1.00       0.98   \n",
       "\n",
       "    part_2021  \n",
       "7        0.96  \n",
       "8        0.90  \n",
       "12       0.90  \n",
       "9        0.81  \n",
       "13       0.80  "
      ]
     },
     "execution_count": 54,
     "metadata": {},
     "output_type": "execute_result"
    }
   ],
   "source": [
    "# Printing the top 5 rows of state participation sorted by 2021 year\n",
    "\n",
    "sat_part.sort_values(by='part_2021',ascending=False).head(5)"
   ]
  },
  {
   "cell_type": "code",
   "execution_count": 55,
   "metadata": {},
   "outputs": [
    {
     "data": {
      "text/html": [
       "<div>\n",
       "<style scoped>\n",
       "    .dataframe tbody tr th:only-of-type {\n",
       "        vertical-align: middle;\n",
       "    }\n",
       "\n",
       "    .dataframe tbody tr th {\n",
       "        vertical-align: top;\n",
       "    }\n",
       "\n",
       "    .dataframe thead th {\n",
       "        text-align: right;\n",
       "    }\n",
       "</style>\n",
       "<table border=\"1\" class=\"dataframe\">\n",
       "  <thead>\n",
       "    <tr style=\"text-align: right;\">\n",
       "      <th></th>\n",
       "      <th>index</th>\n",
       "      <th>state</th>\n",
       "      <th>comp_2017</th>\n",
       "      <th>comp_2018</th>\n",
       "      <th>comp_2019</th>\n",
       "      <th>comp_2020</th>\n",
       "      <th>comp_2021</th>\n",
       "    </tr>\n",
       "  </thead>\n",
       "  <tbody>\n",
       "    <tr>\n",
       "      <th>16</th>\n",
       "      <td>17</td>\n",
       "      <td>Kansas</td>\n",
       "      <td>21.7</td>\n",
       "      <td>21.6</td>\n",
       "      <td>21.2</td>\n",
       "      <td>20.4</td>\n",
       "      <td>19.9</td>\n",
       "    </tr>\n",
       "  </tbody>\n",
       "</table>\n",
       "</div>"
      ],
      "text/plain": [
       "    index   state  comp_2017  comp_2018  comp_2019  comp_2020  comp_2021\n",
       "16     17  Kansas       21.7       21.6       21.2       20.4       19.9"
      ]
     },
     "execution_count": 55,
     "metadata": {},
     "output_type": "execute_result"
    }
   ],
   "source": [
    "# Printing the scores of Kansas\n",
    "\n",
    "act_scores[act_scores['state'] == 'Kansas']"
   ]
  },
  {
   "cell_type": "markdown",
   "metadata": {},
   "source": [
    "##### <font color=red> /!\\ Check with Ryan if this meet requirements"
   ]
  },
  {
   "cell_type": "code",
   "execution_count": 56,
   "metadata": {
    "scrolled": true
   },
   "outputs": [
    {
     "name": "stdout",
     "output_type": "stream",
     "text": [
      "32 states have lower averaged scores during/post Covid period than before\n",
      "6 states have higher averaged scores during/post Covid period than before\n",
      "13 states have same averaged scores during/post Covid period and before\n"
     ]
    },
    {
     "data": {
      "text/html": [
       "<div>\n",
       "<style scoped>\n",
       "    .dataframe tbody tr th:only-of-type {\n",
       "        vertical-align: middle;\n",
       "    }\n",
       "\n",
       "    .dataframe tbody tr th {\n",
       "        vertical-align: top;\n",
       "    }\n",
       "\n",
       "    .dataframe thead th {\n",
       "        text-align: right;\n",
       "    }\n",
       "</style>\n",
       "<table border=\"1\" class=\"dataframe\">\n",
       "  <thead>\n",
       "    <tr style=\"text-align: right;\">\n",
       "      <th></th>\n",
       "      <th>state</th>\n",
       "      <th>part_diff</th>\n",
       "    </tr>\n",
       "  </thead>\n",
       "  <tbody>\n",
       "    <tr>\n",
       "      <th>5</th>\n",
       "      <td>Colorado</td>\n",
       "      <td>-0.273333</td>\n",
       "    </tr>\n",
       "    <tr>\n",
       "      <th>13</th>\n",
       "      <td>Illinois</td>\n",
       "      <td>-0.260000</td>\n",
       "    </tr>\n",
       "    <tr>\n",
       "      <th>49</th>\n",
       "      <td>West Virginia</td>\n",
       "      <td>-0.230000</td>\n",
       "    </tr>\n",
       "    <tr>\n",
       "      <th>9</th>\n",
       "      <td>Florida</td>\n",
       "      <td>-0.183333</td>\n",
       "    </tr>\n",
       "    <tr>\n",
       "      <th>41</th>\n",
       "      <td>South Carolina</td>\n",
       "      <td>-0.166667</td>\n",
       "    </tr>\n",
       "  </tbody>\n",
       "</table>\n",
       "</div>"
      ],
      "text/plain": [
       "             state  part_diff\n",
       "5         Colorado  -0.273333\n",
       "13        Illinois  -0.260000\n",
       "49   West Virginia  -0.230000\n",
       "9          Florida  -0.183333\n",
       "41  South Carolina  -0.166667"
      ]
     },
     "execution_count": 56,
     "metadata": {},
     "output_type": "execute_result"
    }
   ],
   "source": [
    "# Creating three new columns in the act_part file\n",
    "# part_pcovid will correspond to the participation mean pre covid\n",
    "# part_acovid will correspond to the participation mean post covid\n",
    "# part_diff will be the difference between the participation pre covid and post covid\n",
    "\n",
    "act_part['part_pcovid'] = ((act_part['part_2017'] +\n",
    "                            act_part['part_2018'] + \n",
    "                            act_part['part_2019']) /3)\n",
    "\n",
    "act_part['part_acovid'] = ((act_part['part_2020'] +\n",
    "                            act_part['part_2020'])/2)\n",
    "\n",
    "act_part['part_diff'] = (act_part['part_acovid'] -\n",
    "                         act_part['part_pcovid'])\n",
    "\n",
    "# Return the sum of all the negative and positive values in act_part['part_diff']\n",
    "# We return '1' for every time we browse through act_scores['comp_diff'] where the number is negative and positive\n",
    "\n",
    "print(sum(1 for x in act_part['part_diff'] if x < 0),\n",
    "      'states have lower averaged scores during/post Covid period than before')\n",
    "\n",
    "print(sum(1 for x in act_part['part_diff'] if x > 0),\n",
    "      'states have higher averaged scores during/post Covid period than before')\n",
    "\n",
    "print(sum(1 for x in act_part['part_diff'] if x == 0),\n",
    "      'states have same averaged scores during/post Covid period and before')\n",
    "\n",
    "act_part[['state','part_diff']].sort_values(by='part_diff',ascending=True).head(5)   \n",
    "\n",
    "# A positive number mean an increase post-covid of participation by this much\n",
    "# A negative number mean a decrease post-covid of participation by this much"
   ]
  },
  {
   "cell_type": "code",
   "execution_count": null,
   "metadata": {},
   "outputs": [],
   "source": []
  },
  {
   "cell_type": "code",
   "execution_count": 57,
   "metadata": {
    "scrolled": true
   },
   "outputs": [
    {
     "name": "stdout",
     "output_type": "stream",
     "text": [
      "27 states have lower averaged scores during/post Covid period than before\n",
      "24 states have higher averaged scores during/post Covid period than before\n",
      "0 states have same averaged scores during/post Covid period and before\n"
     ]
    },
    {
     "data": {
      "text/html": [
       "<div>\n",
       "<style scoped>\n",
       "    .dataframe tbody tr th:only-of-type {\n",
       "        vertical-align: middle;\n",
       "    }\n",
       "\n",
       "    .dataframe tbody tr th {\n",
       "        vertical-align: top;\n",
       "    }\n",
       "\n",
       "    .dataframe thead th {\n",
       "        text-align: right;\n",
       "    }\n",
       "</style>\n",
       "<table border=\"1\" class=\"dataframe\">\n",
       "  <thead>\n",
       "    <tr style=\"text-align: right;\">\n",
       "      <th></th>\n",
       "      <th>state</th>\n",
       "      <th>comp_diff</th>\n",
       "    </tr>\n",
       "  </thead>\n",
       "  <tbody>\n",
       "    <tr>\n",
       "      <th>16</th>\n",
       "      <td>Kansas</td>\n",
       "      <td>-1.100000</td>\n",
       "    </tr>\n",
       "    <tr>\n",
       "      <th>36</th>\n",
       "      <td>Ohio</td>\n",
       "      <td>-0.866667</td>\n",
       "    </tr>\n",
       "    <tr>\n",
       "      <th>15</th>\n",
       "      <td>Iowa</td>\n",
       "      <td>-0.666667</td>\n",
       "    </tr>\n",
       "    <tr>\n",
       "      <th>46</th>\n",
       "      <td>Vermont</td>\n",
       "      <td>-0.633333</td>\n",
       "    </tr>\n",
       "    <tr>\n",
       "      <th>28</th>\n",
       "      <td>Nebraska</td>\n",
       "      <td>-0.600000</td>\n",
       "    </tr>\n",
       "  </tbody>\n",
       "</table>\n",
       "</div>"
      ],
      "text/plain": [
       "       state  comp_diff\n",
       "16    Kansas  -1.100000\n",
       "36      Ohio  -0.866667\n",
       "15      Iowa  -0.666667\n",
       "46   Vermont  -0.633333\n",
       "28  Nebraska  -0.600000"
      ]
     },
     "execution_count": 57,
     "metadata": {},
     "output_type": "execute_result"
    }
   ],
   "source": [
    "# Creating three new columns in the act_scores file\n",
    "# scores_pcovid will correspond to the participation mean pre covid\n",
    "# scores_acovid will correspond to the participation mean post covid\n",
    "# scores_diff will be the difference between the participation pre covid and post covid\n",
    "\n",
    "act_scores['comp_pcovid'] = ((act_scores['comp_2017'] +\n",
    "                                act_scores['comp_2018'] +\n",
    "                                act_scores['comp_2019']) /3)\n",
    "\n",
    "act_scores['comp_acovid'] = ((act_scores['comp_2020'] +\n",
    "                                act_scores['comp_2020'])/2)\n",
    "\n",
    "act_scores['comp_diff'] = (act_scores['comp_acovid'] -\n",
    "                                act_scores['comp_pcovid']) \n",
    "\n",
    "# Return the sum of all the negative and positive values in act_scores['comp_diff']\n",
    "# We return '1' for every time we browse through act_scores['comp_diff'] where the number is negative and positive\n",
    "\n",
    "print(sum(1 for x in act_scores['comp_diff'] if x < 0),\n",
    "      'states have lower averaged scores during/post Covid period than before')\n",
    "\n",
    "print(sum(1 for x in act_scores['comp_diff'] if x > 0),\n",
    "      'states have higher averaged scores during/post Covid period than before')\n",
    "\n",
    "print(sum(1 for x in act_scores['comp_diff'] if x == 0),\n",
    "      'states have same averaged scores during/post Covid period and before')\n",
    "\n",
    "act_scores[['state','comp_diff']].sort_values(by='comp_diff',ascending=True).head(5)\n",
    "\n",
    "# A positive number mean an increase post-covid of participation by this much\n",
    "# A negative number mean a decrease post-covid of participation by this much"
   ]
  },
  {
   "cell_type": "code",
   "execution_count": 58,
   "metadata": {
    "scrolled": true
   },
   "outputs": [
    {
     "name": "stdout",
     "output_type": "stream",
     "text": [
      "12 states have lower averaged participation during/post Covid period than before\n",
      "29 states have higher averaged participation during/post Covid period than before\n",
      "10 states have same averaged participation during/post Covid period and before\n"
     ]
    },
    {
     "data": {
      "text/html": [
       "<div>\n",
       "<style scoped>\n",
       "    .dataframe tbody tr th:only-of-type {\n",
       "        vertical-align: middle;\n",
       "    }\n",
       "\n",
       "    .dataframe tbody tr th {\n",
       "        vertical-align: top;\n",
       "    }\n",
       "\n",
       "    .dataframe thead th {\n",
       "        text-align: right;\n",
       "    }\n",
       "</style>\n",
       "<table border=\"1\" class=\"dataframe\">\n",
       "  <thead>\n",
       "    <tr style=\"text-align: right;\">\n",
       "      <th></th>\n",
       "      <th>state</th>\n",
       "      <th>part_diff</th>\n",
       "    </tr>\n",
       "  </thead>\n",
       "  <tbody>\n",
       "    <tr>\n",
       "      <th>28</th>\n",
       "      <td>Nevada</td>\n",
       "      <td>-0.060000</td>\n",
       "    </tr>\n",
       "    <tr>\n",
       "      <th>11</th>\n",
       "      <td>Hawaii</td>\n",
       "      <td>-0.040000</td>\n",
       "    </tr>\n",
       "    <tr>\n",
       "      <th>1</th>\n",
       "      <td>Alaska</td>\n",
       "      <td>-0.036667</td>\n",
       "    </tr>\n",
       "    <tr>\n",
       "      <th>33</th>\n",
       "      <td>North Carolina</td>\n",
       "      <td>-0.026667</td>\n",
       "    </tr>\n",
       "    <tr>\n",
       "      <th>29</th>\n",
       "      <td>New Hampshire</td>\n",
       "      <td>-0.026667</td>\n",
       "    </tr>\n",
       "  </tbody>\n",
       "</table>\n",
       "</div>"
      ],
      "text/plain": [
       "             state  part_diff\n",
       "28          Nevada  -0.060000\n",
       "11          Hawaii  -0.040000\n",
       "1           Alaska  -0.036667\n",
       "33  North Carolina  -0.026667\n",
       "29   New Hampshire  -0.026667"
      ]
     },
     "execution_count": 58,
     "metadata": {},
     "output_type": "execute_result"
    }
   ],
   "source": [
    "# Creating three new columns in the sat_part file\n",
    "# part_pcovid will correspond to the participation mean pre covid\n",
    "# part_acovid will correspond to the participation mean post covid\n",
    "# part_diff will be the difference between the participation pre covid and post covid\n",
    "\n",
    "sat_part['part_pcovid'] = ((sat_part['part_2017'] +\n",
    "                            sat_part['part_2018'] +\n",
    "                            sat_part['part_2019']) /3)\n",
    "\n",
    "sat_part['part_acovid'] = ((sat_part['part_2020'] +\n",
    "                            sat_part['part_2020'])/2)\n",
    "\n",
    "sat_part['part_diff'] = (sat_part['part_acovid'] -\n",
    "                         sat_part['part_pcovid'])\n",
    "\n",
    "# Return the sum of all the negative values in act_part['part_diff']\n",
    "# We return '1' for every time we browse through act_part['part_diff'] where the number is negative\n",
    "\n",
    "print(sum(1 for x in sat_part['part_diff'] if x < 0.000000),\n",
    "      'states have lower averaged participation during/post Covid period than before')\n",
    "\n",
    "print(sum(1 for x in sat_part['part_diff'] if x > 0.000000),\n",
    "      'states have higher averaged participation during/post Covid period than before')\n",
    "\n",
    "print(sum(1 for x in sat_part['part_diff'] if x == 0.000000),\n",
    "      'states have same averaged participation during/post Covid period and before')\n",
    "\n",
    "sat_part[['state','part_diff']].sort_values(by='part_diff',ascending=True).head(5) \n",
    "\n",
    "# A positive number mean an increase post-covid of participation by this much\n",
    "# A negative number mean a decrease post-covid of participation by this much"
   ]
  },
  {
   "cell_type": "code",
   "execution_count": 59,
   "metadata": {
    "scrolled": true
   },
   "outputs": [
    {
     "name": "stdout",
     "output_type": "stream",
     "text": [
      "41 states have lower averaged scores during/post Covid period than before\n",
      "10 states have higher averaged scores during/post Covid period than before\n",
      "0 states have same averaged scores during/post Covid period and before\n",
      "(-100.001, -0.1]    41\n",
      "(0.1, 50.0]         10\n",
      "(-0.1, 0.1]          0\n",
      "Name: total_diff, dtype: int64\n"
     ]
    },
    {
     "data": {
      "text/html": [
       "<div>\n",
       "<style scoped>\n",
       "    .dataframe tbody tr th:only-of-type {\n",
       "        vertical-align: middle;\n",
       "    }\n",
       "\n",
       "    .dataframe tbody tr th {\n",
       "        vertical-align: top;\n",
       "    }\n",
       "\n",
       "    .dataframe thead th {\n",
       "        text-align: right;\n",
       "    }\n",
       "</style>\n",
       "<table border=\"1\" class=\"dataframe\">\n",
       "  <thead>\n",
       "    <tr style=\"text-align: right;\">\n",
       "      <th></th>\n",
       "      <th>state</th>\n",
       "      <th>total_diff</th>\n",
       "    </tr>\n",
       "  </thead>\n",
       "  <tbody>\n",
       "    <tr>\n",
       "      <th>48</th>\n",
       "      <td>West Virginia</td>\n",
       "      <td>-73.333333</td>\n",
       "    </tr>\n",
       "    <tr>\n",
       "      <th>5</th>\n",
       "      <td>Colorado</td>\n",
       "      <td>-71.333333</td>\n",
       "    </tr>\n",
       "    <tr>\n",
       "      <th>36</th>\n",
       "      <td>Oklahoma</td>\n",
       "      <td>-53.000000</td>\n",
       "    </tr>\n",
       "    <tr>\n",
       "      <th>31</th>\n",
       "      <td>New Mexico</td>\n",
       "      <td>-46.333333</td>\n",
       "    </tr>\n",
       "    <tr>\n",
       "      <th>49</th>\n",
       "      <td>Wisconsin</td>\n",
       "      <td>-46.333333</td>\n",
       "    </tr>\n",
       "  </tbody>\n",
       "</table>\n",
       "</div>"
      ],
      "text/plain": [
       "            state  total_diff\n",
       "48  West Virginia  -73.333333\n",
       "5        Colorado  -71.333333\n",
       "36       Oklahoma  -53.000000\n",
       "31     New Mexico  -46.333333\n",
       "49      Wisconsin  -46.333333"
      ]
     },
     "execution_count": 59,
     "metadata": {},
     "output_type": "execute_result"
    }
   ],
   "source": [
    "# Creating three new columns in the sat_scores file\n",
    "# scores_pcovid will correspond to the participation mean pre covid\n",
    "# scores_acovid will correspond to the participation mean post covid\n",
    "# scores_diff will be the difference between the participation pre covid and post covid\n",
    "\n",
    "sat_scores['total_pcovid'] = ((sat_scores['total_2017'] +\n",
    "                                sat_scores['total_2018'] +\n",
    "                                sat_scores['total_2019']) /3)\n",
    "\n",
    "sat_scores['total_acovid'] = ((sat_scores['total_2020'] +\n",
    "                               sat_scores['total_2020'])/2)\n",
    "\n",
    "sat_scores['total_diff'] = (sat_scores['total_acovid'] -\n",
    "                            sat_scores['total_pcovid']) \n",
    "\n",
    "# Return the sum of all the negative and positive values in act_scores['comp_diff']\n",
    "# We return '1' for every time we browse through act_scores['comp_diff'] where the number is negative and positive\n",
    "\n",
    "print(sum(1 for x in sat_scores['total_diff'] if x < 0),\n",
    "      'states have lower averaged scores during/post Covid period than before')\n",
    "\n",
    "print(sum(1 for x in sat_scores['total_diff'] if x > 0),\n",
    "      'states have higher averaged scores during/post Covid period than before')\n",
    "\n",
    "print(sum(1 for x in sat_scores['total_diff'] if x == 0),\n",
    "      'states have same averaged scores during/post Covid period and before')\n",
    "\n",
    "# Create a view to count positives negatives diff\n",
    "print(sat_scores['total_diff'].value_counts(bins= [-100,-0.1,0.1,50]))\n",
    "\n",
    "sat_scores[['state','total_diff']].sort_values(by='total_diff',ascending=True).head(5)\n",
    "\n",
    "# A positive number mean an increase post-covid of participation by this much\n",
    "# A negative number mean a decrease post-covid of participation by this much\n"
   ]
  },
  {
   "cell_type": "code",
   "execution_count": 60,
   "metadata": {},
   "outputs": [
    {
     "name": "stdout",
     "output_type": "stream",
     "text": [
      "0.25   -35.833333\n",
      "0.50   -16.333333\n",
      "0.75    -3.166667\n",
      "Name: total_diff, dtype: float64\n",
      "13\n",
      "13\n",
      "15\n"
     ]
    }
   ],
   "source": [
    "# Display Quartiles and then do a count below the values\n",
    "\n",
    "#Interquartile range ??\n",
    "\n",
    "print(sat_scores['total_diff'].quantile([.25,.50,.75]))\n",
    "\n",
    "#print((act_scores['comp_diff']) < 0.35)\n",
    "print(sum(1 for x in sat_scores['total_diff'] if x <= (-35.833333)))\n",
    "print(sum(1 for x in sat_scores['total_diff'] if x > (-35.833333) and x <= (-16.333333)))\n",
    "print(sum(1 for x in sat_scores['total_diff'] if x > (-16.333333) and x <= 0))"
   ]
  },
  {
   "cell_type": "code",
   "execution_count": 61,
   "metadata": {},
   "outputs": [
    {
     "name": "stdout",
     "output_type": "stream",
     "text": [
      "(-100.001, -1e-07]    27\n",
      "(1e-07, 100.0]        24\n",
      "(-1e-07, 1e-07]        0\n",
      "Name: comp_diff, dtype: int64\n",
      "(-1.001, -1e-05]    32\n",
      "(-1e-05, 1e-05]     13\n",
      "(1e-05, 1.0]         6\n",
      "Name: part_diff, dtype: int64\n",
      "(-100.001, -0.1]    41\n",
      "(0.1, 50.0]         10\n",
      "(-0.1, 0.1]          0\n",
      "Name: total_diff, dtype: int64\n",
      "(1e-05, 1.0]       29\n",
      "(-0.01, 1e-05]     14\n",
      "(-1.001, -0.01]     8\n",
      "Name: part_diff, dtype: int64\n"
     ]
    }
   ],
   "source": [
    "# Create a view to count positives negatives diff\n",
    "\n",
    "print(act_scores['comp_diff'].value_counts(bins =[-100,-0.0000001,0.0000001,100]))\n",
    "print(act_part['part_diff'].value_counts(bins=[-1,-0.00001,0.00001,1]))\n",
    "\n",
    "print(sat_scores['total_diff'].value_counts(bins= [-100,-0.1,0.1,50]))\n",
    "print(sat_part['part_diff'].value_counts(bins= [-1,-0.01,0.00001,1]))"
   ]
  },
  {
   "cell_type": "markdown",
   "metadata": {},
   "source": [
    "#### EDA Findings\n",
    "\n",
    "#### ACT\n",
    "\n",
    "The average ACT participation has been dropping year on year.\n",
    "    The biggest drop is for 2021 with a drop of 12% compared to the previous year\n",
    "\n",
    "The average ACT composite score has been dropping pre-covid. There was an increase in 2020 and 2021\n",
    "--> Less people taking the test and better results. Students who did not participate would have gotten results below average ?\n",
    "\n",
    "The 2021 participation mean and median are very far from each other (mean= 0.44 - median is 0.27)\n",
    "\n",
    "###### SCORE\n",
    "Top 5 negative diff\n",
    "- Kansas (-1.1)\n",
    "- Ohio (-0.866667)\n",
    "- Iowa (-0.666667)\n",
    "- Vermont (-0.633333)\n",
    "- Nebraska (-0.6)\n",
    "\n",
    "Top 5 positive diff\n",
    "- Illinois (1.5)\n",
    "- Maryland (1)\n",
    "- Colorado (0.866667)\n",
    "- Washington (0.833333)\n",
    "- Maine (0.7)\n",
    "\n",
    "###### PARTICIPATION\n",
    "Top 5 negative diff\n",
    "- Colorado (-0.273333)\n",
    "- Illinois (-0.260000)\n",
    "- West Virginia (-0.23)\n",
    "- Florida (-0.183333)\n",
    "- South Carolina (-0.166667)\n",
    "\n",
    "Top 5 positive diff\n",
    "- Kansas (0.1)\n",
    "- Ohio (0.083333)\n",
    "- Nebraska (0.053333)\n",
    "- Arizona (0.04)\n",
    "- Iowa (0.01)\n",
    "\n",
    "For ACT it seems that there is a correlation between the participation rate and the score\n",
    "- Among the 5 states that saw the biggest drop in scores, 3 of them are among the top 5 in participation increase (Kansas, Ohio and Nebraska)\n",
    "- Among the 5 states that saw the biggest increase in scores, 2 of them are among the top 5 in participation drop (Colorado, Illinois) \n",
    "\n",
    "#### SAT\n",
    "\n",
    "The average SAT participation was steadily increasing year on year (+~5%) pre-covid and started dropping in 2020. The biggest drop once again is in 2021 with 17% less participation than 2020\n",
    "\n",
    "The average SAT composite score has been dropping consistently pre-covid (+~6 points). It dropped twice as much as average in 2020 (-13%) but increase by 23 points in 2021.\n",
    "--> Test scores have been decreasing pre-covid despite an increase in the participants numbers. In 2021 they have seen a big increase despite the biggest drop in participation (-18% participation, +23 points)\n",
    "\n",
    "###### SCORE\n",
    "Top 5 negative diff\n",
    "- West Virginia (-73.333333)\n",
    "- Colorado (-71.333333)\n",
    "- Oklahoma (-53)\n",
    "- New Mexico (-46.333333)\n",
    "- Wisconsin (-46.333333)\n",
    "\n",
    "Top 5 positive diff\n",
    "- Utah (44.666667)\n",
    "- Hawaii (30)\n",
    "- Nevada(12.666667)\n",
    "- Columbia (11.666667)\n",
    "- Arizona (6)\n",
    "\n",
    "###### PARTICIPATION\n",
    "Top 5 negative diff\n",
    "- Nevada (-0.6)\n",
    "- Hawaii (-0.4)\n",
    "- Alaska (-0.036667)\n",
    "- North Carolina (-0.026667)\n",
    "- New Hampshire (-0.026667)\n",
    "\n",
    "Top 5 positive diff\n",
    "- West Virginia (0.51)\n",
    "- Colorado (0.296667)\n",
    "- Illinois (0.286667)\n",
    "- Florida (0.203333)\n",
    "- Maryland (0.123333)\n",
    "\n",
    "###### GLOBAL\n",
    "\n",
    "- ACT Participation post Covid has been more impacted than the SAT Participation.\n",
    "\n",
    "For SAT, it seems that there is also a correlation between the participation rate and the score\n",
    "- Among the 5 states that saw the biggest drop in scores, 2 of them are among the top 5 in participation increase (West Virginia, Colorado)\n",
    "- Among the 5 states that saw the biggest increase in scores, 2 of them are among the top 5 in participation drop (Hawaii, Nevada)\n",
    "\n",
    "Globally it seems that is a correlation between the decrease in participation in one exam type and an increase in the other\n",
    "- Among the 5 states that saw the biggest drop in ACT participation, 3 of them are in the top 5 in SAT participation increase (West Virginia, Colorado, Illinois)\n",
    "- However, there doesn't seem to be the same correlation with SAT participation towards ACT."
   ]
  },
  {
   "cell_type": "markdown",
   "metadata": {},
   "source": [
    "## Visualize the Data\n",
    "\n",
    "There's not a magic bullet recommendation for the right number of plots to understand a given dataset, but visualizing your data is *always* a good idea. Not only does it allow you to quickly convey your findings (even if you have a non-technical audience), it will often reveal trends in your data that escaped you when you were looking only at numbers. It is important to not only create visualizations, but to **interpret your visualizations** as well.\n",
    "\n",
    "**Every plot should**:\n",
    "- Have a title\n",
    "- Have axis labels\n",
    "- Have appropriate tick labels\n",
    "- Text is legible in a plot\n",
    "- Plots demonstrate meaningful and valid relationships\n",
    "- Have an interpretation to aid understanding\n",
    "\n",
    "Here is an example of what your plots should look like following the above guidelines. Note that while the content of this example is unrelated, the principles of visualization hold:\n",
    "\n",
    "![](https://snag.gy/hCBR1U.jpg)\n",
    "*Interpretation: The above image shows that as we increase our spending on advertising, our sales numbers also tend to increase. There is a positive correlation between advertising spending and sales.*\n",
    "\n",
    "---\n",
    "\n",
    "Here are some prompts to get you started with visualizations. Feel free to add additional visualizations as you see fit:\n",
    "1. Use Seaborn's heatmap with pandas `.corr()` to visualize correlations between all numeric features.\n",
    "    - Heatmaps are generally not appropriate for presentations, and should often be excluded from reports as they can be visually overwhelming. **However**, they can be extremely useful in identify relationships of potential interest (as well as identifying potential collinearity before modeling).\n",
    "    - Please take time to format your output, adding a title. Look through some of the additional arguments and options. (Axis labels aren't really necessary, as long as the title is informative).\n",
    "2. Visualize distributions using histograms. If you have a lot, consider writing a custom function and use subplots.\n",
    "    - *OPTIONAL*: Summarize the underlying distributions of your features (in words & statistics)\n",
    "         - Be thorough in your verbal description of these distributions.\n",
    "         - Be sure to back up these summaries with statistics.\n",
    "         - We generally assume that data we sample from a population will be normally distributed. Do we observe this trend? Explain your answers for each distribution and how you think this will affect estimates made from these data.\n",
    "3. Plot and interpret boxplots. \n",
    "    - Boxplots demonstrate central tendency and spread in variables. In a certain sense, these are somewhat redundant with histograms, but you may be better able to identify clear outliers or differences in IQR, etc.\n",
    "    - Multiple values can be plotted to a single boxplot as long as they are of the same relative scale (meaning they have similar min/max values).\n",
    "    - Each boxplot should:\n",
    "        - Only include variables of a similar scale\n",
    "        - Have clear labels for each variable\n",
    "        - Have appropriate titles and labels\n",
    "4. Plot and interpret scatter plots to view relationships between features. Feel free to write a custom function, and subplot if you'd like. Functions save both time and space.\n",
    "    - Your plots should have:\n",
    "        - Two clearly labeled axes\n",
    "        - A proper title\n",
    "        - Colors and symbols that are clear and unmistakable\n",
    "5. Additional plots of your choosing.\n",
    "    - Are there any additional trends or relationships you haven't explored? Was there something interesting you saw that you'd like to dive further into? It's likely that there are a few more plots you might want to generate to support your narrative and recommendations that you are building toward. **As always, make sure you're interpreting your plots as you go**."
   ]
  },
  {
   "cell_type": "code",
   "execution_count": 62,
   "metadata": {},
   "outputs": [
    {
     "data": {
      "text/html": [
       "<div>\n",
       "<style scoped>\n",
       "    .dataframe tbody tr th:only-of-type {\n",
       "        vertical-align: middle;\n",
       "    }\n",
       "\n",
       "    .dataframe tbody tr th {\n",
       "        vertical-align: top;\n",
       "    }\n",
       "\n",
       "    .dataframe thead th {\n",
       "        text-align: right;\n",
       "    }\n",
       "</style>\n",
       "<table border=\"1\" class=\"dataframe\">\n",
       "  <thead>\n",
       "    <tr style=\"text-align: right;\">\n",
       "      <th></th>\n",
       "      <th>state</th>\n",
       "      <th>part_pcovid_act</th>\n",
       "      <th>part_acovid_act</th>\n",
       "      <th>part_pcovid_sat</th>\n",
       "      <th>part_acovid_sat</th>\n",
       "      <th>scores_pcovid_act</th>\n",
       "      <th>scores_acovid_act</th>\n",
       "      <th>scores_pcovid_sat</th>\n",
       "      <th>scores_acovid_sat</th>\n",
       "    </tr>\n",
       "  </thead>\n",
       "  <tbody>\n",
       "    <tr>\n",
       "      <th>0</th>\n",
       "      <td>Alabama</td>\n",
       "      <td>1.000000</td>\n",
       "      <td>1.00</td>\n",
       "      <td>0.060000</td>\n",
       "      <td>0.07</td>\n",
       "      <td>19.066667</td>\n",
       "      <td>18.8</td>\n",
       "      <td>1158.000000</td>\n",
       "      <td>1127.0</td>\n",
       "    </tr>\n",
       "    <tr>\n",
       "      <th>1</th>\n",
       "      <td>Alaska</td>\n",
       "      <td>0.453333</td>\n",
       "      <td>0.33</td>\n",
       "      <td>0.406667</td>\n",
       "      <td>0.37</td>\n",
       "      <td>20.233333</td>\n",
       "      <td>20.1</td>\n",
       "      <td>1094.333333</td>\n",
       "      <td>1098.0</td>\n",
       "    </tr>\n",
       "    <tr>\n",
       "      <th>2</th>\n",
       "      <td>Arizona</td>\n",
       "      <td>0.670000</td>\n",
       "      <td>0.71</td>\n",
       "      <td>0.300000</td>\n",
       "      <td>0.29</td>\n",
       "      <td>19.300000</td>\n",
       "      <td>19.1</td>\n",
       "      <td>1133.000000</td>\n",
       "      <td>1139.0</td>\n",
       "    </tr>\n",
       "    <tr>\n",
       "      <th>3</th>\n",
       "      <td>Arkansas</td>\n",
       "      <td>1.000000</td>\n",
       "      <td>1.00</td>\n",
       "      <td>0.046667</td>\n",
       "      <td>0.04</td>\n",
       "      <td>19.366667</td>\n",
       "      <td>19.0</td>\n",
       "      <td>1172.666667</td>\n",
       "      <td>1157.0</td>\n",
       "    </tr>\n",
       "    <tr>\n",
       "      <th>4</th>\n",
       "      <td>California</td>\n",
       "      <td>0.270000</td>\n",
       "      <td>0.19</td>\n",
       "      <td>0.586667</td>\n",
       "      <td>0.67</td>\n",
       "      <td>22.700000</td>\n",
       "      <td>23.3</td>\n",
       "      <td>1065.333333</td>\n",
       "      <td>1049.0</td>\n",
       "    </tr>\n",
       "  </tbody>\n",
       "</table>\n",
       "</div>"
      ],
      "text/plain": [
       "        state  part_pcovid_act  part_acovid_act  part_pcovid_sat  \\\n",
       "0     Alabama         1.000000             1.00         0.060000   \n",
       "1      Alaska         0.453333             0.33         0.406667   \n",
       "2     Arizona         0.670000             0.71         0.300000   \n",
       "3    Arkansas         1.000000             1.00         0.046667   \n",
       "4  California         0.270000             0.19         0.586667   \n",
       "\n",
       "   part_acovid_sat  scores_pcovid_act  scores_acovid_act  scores_pcovid_sat  \\\n",
       "0             0.07          19.066667               18.8        1158.000000   \n",
       "1             0.37          20.233333               20.1        1094.333333   \n",
       "2             0.29          19.300000               19.1        1133.000000   \n",
       "3             0.04          19.366667               19.0        1172.666667   \n",
       "4             0.67          22.700000               23.3        1065.333333   \n",
       "\n",
       "   scores_acovid_sat  \n",
       "0             1127.0  \n",
       "1             1098.0  \n",
       "2             1139.0  \n",
       "3             1157.0  \n",
       "4             1049.0  "
      ]
     },
     "execution_count": 62,
     "metadata": {},
     "output_type": "execute_result"
    }
   ],
   "source": [
    "# Creating a dataframe including the act and sat part scores pre-covid\n",
    "\n",
    "act_part_covid = act_part[['state',\n",
    "                           'part_pcovid',\n",
    "                           'part_acovid']]\n",
    "\n",
    "sat_part_covid = sat_part[['state',\n",
    "                           'part_pcovid',\n",
    "                           'part_acovid']]\n",
    "\n",
    "part_covid = pd.merge(act_part_covid,sat_part_covid,on='state', how='left')\n",
    "\n",
    "\n",
    "# RENAME THE NEW COLUMNS \n",
    "part_covid.columns = ['state',\n",
    "                      'part_pcovid_act',\n",
    "                      'part_acovid_act',\n",
    "                      'part_pcovid_sat',\n",
    "                      'part_acovid_sat']\n",
    "\n",
    "act_scores_covid = act_scores[['state',\n",
    "                              'comp_pcovid',\n",
    "                              'comp_acovid']]\n",
    "\n",
    "sat_scores_covid = sat_scores[['state',\n",
    "                               'total_pcovid',\n",
    "                               'total_acovid']]\n",
    "\n",
    "scores_covid = pd.merge(act_scores_covid, sat_scores_covid, on='state', how='left')\n",
    "\n",
    "# RENAME THE NEW COLUMNS\n",
    "scores_covid.columns = ['state',\n",
    "                       'scores_pcovid_act',\n",
    "                       'scores_acovid_act',\n",
    "                       'scores_pcovid_sat',\n",
    "                       'scores_acovid_sat']\n",
    "\n",
    "part_scores_combined = pd.merge(part_covid, scores_covid, on='state', how='left')\n",
    "\n",
    "part_scores_combined.head()"
   ]
  },
  {
   "cell_type": "code",
   "execution_count": 63,
   "metadata": {
    "scrolled": true
   },
   "outputs": [],
   "source": [
    "# CREATING A NEW DATAFRAME FOR ACT/SAT PART AND SCORES COMBINED\n",
    "\n",
    "part_year_combined = pd.merge(act_part,sat_part,on='state', how='left')\n",
    "scores_year_combined = pd.merge(act_scores,sat_scores,on='state', how='left')\n",
    "\n",
    "#RENAMING COLUMNS\n",
    "\n",
    "part_year_combined.columns = ['index',\n",
    "                              'state',\n",
    "                             'part_2017_act',\n",
    "                             'part_2018_act',\n",
    "                             'part_2019_act',\n",
    "                             'part_2020_act',\n",
    "                             'part_2021_act',\n",
    "                             'part_pcovid_act',\n",
    "                             'part_acovid_act',\n",
    "                             'part_diff_act',\n",
    "                             'part_2017_sat',\n",
    "                             'part_2018_sat',\n",
    "                             'part_2019_sat',\n",
    "                             'part_2020_sat',\n",
    "                             'part_2021_sat',\n",
    "                             'part_pcovid_sat',\n",
    "                             'part_acovid_sat',\n",
    "                             'part_diff_sat']\n",
    "\n",
    "scores_year_combined.columns = ['index',\n",
    "                                'state',\n",
    "                             'comp_2017_act',\n",
    "                             'comp_2018_act',\n",
    "                             'comp_2019_act',\n",
    "                             'comp_2020_act',\n",
    "                             'comp_2021_act',\n",
    "                             'comp_pcovid_act',\n",
    "                             'comp_acovid_act',\n",
    "                             'comp_diff_act',\n",
    "                             'comp_2017_sat',\n",
    "                             'comp_2018_sat',\n",
    "                             'comp_2019_sat',\n",
    "                             'comp_2020_sat',\n",
    "                             'comp_2021_sat',\n",
    "                             'comp_pcovid_sat',\n",
    "                             'comp_acovid_sat',\n",
    "                             'comp_diff_sat']\n",
    "\n"
   ]
  },
  {
   "cell_type": "code",
   "execution_count": 64,
   "metadata": {},
   "outputs": [
    {
     "data": {
      "text/html": [
       "<div>\n",
       "<style scoped>\n",
       "    .dataframe tbody tr th:only-of-type {\n",
       "        vertical-align: middle;\n",
       "    }\n",
       "\n",
       "    .dataframe tbody tr th {\n",
       "        vertical-align: top;\n",
       "    }\n",
       "\n",
       "    .dataframe thead th {\n",
       "        text-align: right;\n",
       "    }\n",
       "</style>\n",
       "<table border=\"1\" class=\"dataframe\">\n",
       "  <thead>\n",
       "    <tr style=\"text-align: right;\">\n",
       "      <th></th>\n",
       "      <th>index</th>\n",
       "      <th>state</th>\n",
       "      <th>part_2017_act</th>\n",
       "      <th>part_2018_act</th>\n",
       "      <th>part_2019_act</th>\n",
       "      <th>part_2020_act</th>\n",
       "      <th>part_2021_act</th>\n",
       "      <th>part_pcovid_act</th>\n",
       "      <th>part_acovid_act</th>\n",
       "      <th>part_diff_act</th>\n",
       "      <th>part_2017_sat</th>\n",
       "      <th>part_2018_sat</th>\n",
       "      <th>part_2019_sat</th>\n",
       "      <th>part_2020_sat</th>\n",
       "      <th>part_2021_sat</th>\n",
       "      <th>part_pcovid_sat</th>\n",
       "      <th>part_acovid_sat</th>\n",
       "      <th>part_diff_sat</th>\n",
       "    </tr>\n",
       "  </thead>\n",
       "  <tbody>\n",
       "    <tr>\n",
       "      <th>0</th>\n",
       "      <td>1</td>\n",
       "      <td>Alabama</td>\n",
       "      <td>1.00</td>\n",
       "      <td>1.00</td>\n",
       "      <td>1.00</td>\n",
       "      <td>1.00</td>\n",
       "      <td>1.00</td>\n",
       "      <td>1.000000</td>\n",
       "      <td>1.00</td>\n",
       "      <td>0.000000</td>\n",
       "      <td>0.05</td>\n",
       "      <td>0.06</td>\n",
       "      <td>0.07</td>\n",
       "      <td>0.07</td>\n",
       "      <td>0.03</td>\n",
       "      <td>0.060000</td>\n",
       "      <td>0.07</td>\n",
       "      <td>0.010000</td>\n",
       "    </tr>\n",
       "    <tr>\n",
       "      <th>1</th>\n",
       "      <td>2</td>\n",
       "      <td>Alaska</td>\n",
       "      <td>0.65</td>\n",
       "      <td>0.33</td>\n",
       "      <td>0.38</td>\n",
       "      <td>0.33</td>\n",
       "      <td>0.16</td>\n",
       "      <td>0.453333</td>\n",
       "      <td>0.33</td>\n",
       "      <td>-0.123333</td>\n",
       "      <td>0.38</td>\n",
       "      <td>0.43</td>\n",
       "      <td>0.41</td>\n",
       "      <td>0.37</td>\n",
       "      <td>0.23</td>\n",
       "      <td>0.406667</td>\n",
       "      <td>0.37</td>\n",
       "      <td>-0.036667</td>\n",
       "    </tr>\n",
       "    <tr>\n",
       "      <th>2</th>\n",
       "      <td>3</td>\n",
       "      <td>Arizona</td>\n",
       "      <td>0.62</td>\n",
       "      <td>0.66</td>\n",
       "      <td>0.73</td>\n",
       "      <td>0.71</td>\n",
       "      <td>0.35</td>\n",
       "      <td>0.670000</td>\n",
       "      <td>0.71</td>\n",
       "      <td>0.040000</td>\n",
       "      <td>0.30</td>\n",
       "      <td>0.29</td>\n",
       "      <td>0.31</td>\n",
       "      <td>0.29</td>\n",
       "      <td>0.11</td>\n",
       "      <td>0.300000</td>\n",
       "      <td>0.29</td>\n",
       "      <td>-0.010000</td>\n",
       "    </tr>\n",
       "    <tr>\n",
       "      <th>3</th>\n",
       "      <td>4</td>\n",
       "      <td>Arkansas</td>\n",
       "      <td>1.00</td>\n",
       "      <td>1.00</td>\n",
       "      <td>1.00</td>\n",
       "      <td>1.00</td>\n",
       "      <td>0.99</td>\n",
       "      <td>1.000000</td>\n",
       "      <td>1.00</td>\n",
       "      <td>0.000000</td>\n",
       "      <td>0.03</td>\n",
       "      <td>0.05</td>\n",
       "      <td>0.06</td>\n",
       "      <td>0.04</td>\n",
       "      <td>0.02</td>\n",
       "      <td>0.046667</td>\n",
       "      <td>0.04</td>\n",
       "      <td>-0.006667</td>\n",
       "    </tr>\n",
       "    <tr>\n",
       "      <th>4</th>\n",
       "      <td>5</td>\n",
       "      <td>California</td>\n",
       "      <td>0.31</td>\n",
       "      <td>0.27</td>\n",
       "      <td>0.23</td>\n",
       "      <td>0.19</td>\n",
       "      <td>0.05</td>\n",
       "      <td>0.270000</td>\n",
       "      <td>0.19</td>\n",
       "      <td>-0.080000</td>\n",
       "      <td>0.53</td>\n",
       "      <td>0.60</td>\n",
       "      <td>0.63</td>\n",
       "      <td>0.67</td>\n",
       "      <td>0.24</td>\n",
       "      <td>0.586667</td>\n",
       "      <td>0.67</td>\n",
       "      <td>0.083333</td>\n",
       "    </tr>\n",
       "  </tbody>\n",
       "</table>\n",
       "</div>"
      ],
      "text/plain": [
       "   index       state  part_2017_act  part_2018_act  part_2019_act  \\\n",
       "0      1     Alabama           1.00           1.00           1.00   \n",
       "1      2      Alaska           0.65           0.33           0.38   \n",
       "2      3     Arizona           0.62           0.66           0.73   \n",
       "3      4    Arkansas           1.00           1.00           1.00   \n",
       "4      5  California           0.31           0.27           0.23   \n",
       "\n",
       "   part_2020_act  part_2021_act  part_pcovid_act  part_acovid_act  \\\n",
       "0           1.00           1.00         1.000000             1.00   \n",
       "1           0.33           0.16         0.453333             0.33   \n",
       "2           0.71           0.35         0.670000             0.71   \n",
       "3           1.00           0.99         1.000000             1.00   \n",
       "4           0.19           0.05         0.270000             0.19   \n",
       "\n",
       "   part_diff_act  part_2017_sat  part_2018_sat  part_2019_sat  part_2020_sat  \\\n",
       "0       0.000000           0.05           0.06           0.07           0.07   \n",
       "1      -0.123333           0.38           0.43           0.41           0.37   \n",
       "2       0.040000           0.30           0.29           0.31           0.29   \n",
       "3       0.000000           0.03           0.05           0.06           0.04   \n",
       "4      -0.080000           0.53           0.60           0.63           0.67   \n",
       "\n",
       "   part_2021_sat  part_pcovid_sat  part_acovid_sat  part_diff_sat  \n",
       "0           0.03         0.060000             0.07       0.010000  \n",
       "1           0.23         0.406667             0.37      -0.036667  \n",
       "2           0.11         0.300000             0.29      -0.010000  \n",
       "3           0.02         0.046667             0.04      -0.006667  \n",
       "4           0.24         0.586667             0.67       0.083333  "
      ]
     },
     "execution_count": 64,
     "metadata": {},
     "output_type": "execute_result"
    }
   ],
   "source": [
    "part_year_combined.head()"
   ]
  },
  {
   "cell_type": "code",
   "execution_count": 65,
   "metadata": {},
   "outputs": [],
   "source": [
    "#DROPPING COLUMNS NOT USED\n",
    "\n",
    "part_year_combined.drop(['index',\n",
    "                         'part_pcovid_act',\n",
    "                         'part_acovid_act',\n",
    "                         'part_pcovid_sat',\n",
    "                         'part_acovid_sat',\n",
    "                         'part_diff_act',\n",
    "                         'part_diff_sat'], axis=1, inplace=True)\n",
    "\n",
    "scores_year_combined.drop(['index',\n",
    "                           'comp_pcovid_act',\n",
    "                         'comp_acovid_act',\n",
    "                         'comp_pcovid_sat',\n",
    "                         'comp_acovid_sat',\n",
    "                         'comp_diff_act',\n",
    "                         'comp_diff_sat'], axis=1, inplace=True)"
   ]
  },
  {
   "cell_type": "code",
   "execution_count": 86,
   "metadata": {},
   "outputs": [
    {
     "data": {
      "text/html": [
       "<div>\n",
       "<style scoped>\n",
       "    .dataframe tbody tr th:only-of-type {\n",
       "        vertical-align: middle;\n",
       "    }\n",
       "\n",
       "    .dataframe tbody tr th {\n",
       "        vertical-align: top;\n",
       "    }\n",
       "\n",
       "    .dataframe thead th {\n",
       "        text-align: right;\n",
       "    }\n",
       "</style>\n",
       "<table border=\"1\" class=\"dataframe\">\n",
       "  <thead>\n",
       "    <tr style=\"text-align: right;\">\n",
       "      <th></th>\n",
       "      <th>state</th>\n",
       "      <th>comp_2017_act</th>\n",
       "      <th>comp_2018_act</th>\n",
       "      <th>comp_2019_act</th>\n",
       "      <th>comp_2020_act</th>\n",
       "      <th>comp_2021_act</th>\n",
       "      <th>comp_2017_sat</th>\n",
       "      <th>comp_2018_sat</th>\n",
       "      <th>comp_2019_sat</th>\n",
       "      <th>comp_2020_sat</th>\n",
       "      <th>comp_2021_sat</th>\n",
       "    </tr>\n",
       "  </thead>\n",
       "  <tbody>\n",
       "    <tr>\n",
       "      <th>0</th>\n",
       "      <td>Alabama</td>\n",
       "      <td>19.2</td>\n",
       "      <td>19.1</td>\n",
       "      <td>18.9</td>\n",
       "      <td>18.8</td>\n",
       "      <td>18.7</td>\n",
       "      <td>1165</td>\n",
       "      <td>1166</td>\n",
       "      <td>1143</td>\n",
       "      <td>1127</td>\n",
       "      <td>1159</td>\n",
       "    </tr>\n",
       "    <tr>\n",
       "      <th>1</th>\n",
       "      <td>Alaska</td>\n",
       "      <td>19.8</td>\n",
       "      <td>20.8</td>\n",
       "      <td>20.1</td>\n",
       "      <td>20.1</td>\n",
       "      <td>20.6</td>\n",
       "      <td>1080</td>\n",
       "      <td>1106</td>\n",
       "      <td>1097</td>\n",
       "      <td>1098</td>\n",
       "      <td>1119</td>\n",
       "    </tr>\n",
       "    <tr>\n",
       "      <th>2</th>\n",
       "      <td>Arizona</td>\n",
       "      <td>19.7</td>\n",
       "      <td>19.2</td>\n",
       "      <td>19.0</td>\n",
       "      <td>19.1</td>\n",
       "      <td>19.8</td>\n",
       "      <td>1116</td>\n",
       "      <td>1149</td>\n",
       "      <td>1134</td>\n",
       "      <td>1139</td>\n",
       "      <td>1181</td>\n",
       "    </tr>\n",
       "    <tr>\n",
       "      <th>3</th>\n",
       "      <td>Arkansas</td>\n",
       "      <td>19.4</td>\n",
       "      <td>19.4</td>\n",
       "      <td>19.3</td>\n",
       "      <td>19.0</td>\n",
       "      <td>19.0</td>\n",
       "      <td>1208</td>\n",
       "      <td>1169</td>\n",
       "      <td>1141</td>\n",
       "      <td>1157</td>\n",
       "      <td>1194</td>\n",
       "    </tr>\n",
       "    <tr>\n",
       "      <th>4</th>\n",
       "      <td>California</td>\n",
       "      <td>22.8</td>\n",
       "      <td>22.7</td>\n",
       "      <td>22.6</td>\n",
       "      <td>23.3</td>\n",
       "      <td>26.1</td>\n",
       "      <td>1055</td>\n",
       "      <td>1076</td>\n",
       "      <td>1065</td>\n",
       "      <td>1049</td>\n",
       "      <td>1057</td>\n",
       "    </tr>\n",
       "  </tbody>\n",
       "</table>\n",
       "</div>"
      ],
      "text/plain": [
       "        state  comp_2017_act  comp_2018_act  comp_2019_act  comp_2020_act  \\\n",
       "0     Alabama           19.2           19.1           18.9           18.8   \n",
       "1      Alaska           19.8           20.8           20.1           20.1   \n",
       "2     Arizona           19.7           19.2           19.0           19.1   \n",
       "3    Arkansas           19.4           19.4           19.3           19.0   \n",
       "4  California           22.8           22.7           22.6           23.3   \n",
       "\n",
       "   comp_2021_act  comp_2017_sat  comp_2018_sat  comp_2019_sat  comp_2020_sat  \\\n",
       "0           18.7           1165           1166           1143           1127   \n",
       "1           20.6           1080           1106           1097           1098   \n",
       "2           19.8           1116           1149           1134           1139   \n",
       "3           19.0           1208           1169           1141           1157   \n",
       "4           26.1           1055           1076           1065           1049   \n",
       "\n",
       "   comp_2021_sat  \n",
       "0           1159  \n",
       "1           1119  \n",
       "2           1181  \n",
       "3           1194  \n",
       "4           1057  "
      ]
     },
     "execution_count": 86,
     "metadata": {},
     "output_type": "execute_result"
    }
   ],
   "source": [
    "scores_year_combined.head()"
   ]
  },
  {
   "cell_type": "code",
   "execution_count": 67,
   "metadata": {
    "scrolled": true
   },
   "outputs": [
    {
     "data": {
      "text/plain": [
       "<AxesSubplot:xlabel='state'>"
      ]
     },
     "execution_count": 67,
     "metadata": {},
     "output_type": "execute_result"
    },
    {
     "data": {
      "image/png": "[encoded data removed]",
      "text/plain": [
       "<Figure size 3600x864 with 1 Axes>"
      ]
     },
     "metadata": {
      "needs_background": "light"
     },
     "output_type": "display_data"
    }
   ],
   "source": [
    "# Plotting the difference of scores mean pre and post covid\n",
    "\n",
    "sat_scores[['state','total_2017','total_2018','total_acovid','total_pcovid']].plot(x='state', figsize=(50,12), kind='bar')"
   ]
  },
  {
   "cell_type": "code",
   "execution_count": 68,
   "metadata": {
    "scrolled": true
   },
   "outputs": [
    {
     "data": {
      "image/png": "[encoded data removed]",
      "text/plain": [
       "<Figure size 3600x864 with 1 Axes>"
      ]
     },
     "metadata": {
      "needs_background": "light"
     },
     "output_type": "display_data"
    }
   ],
   "source": [
    "# Plotting participation pre and post covid by state for sat\n",
    "# SORT THE VIEW\n",
    "# OVERLAP ??\n",
    "\n",
    "sat_part[['state','part_acovid','part_pcovid']].plot(x='state', figsize=(50,12), kind='bar')\n",
    "plt.savefig('../data/figs/sat_pcovid_acovid_part.png')"
   ]
  },
  {
   "cell_type": "code",
   "execution_count": 69,
   "metadata": {
    "scrolled": false
   },
   "outputs": [
    {
     "data": {
      "image/png": "[encoded data removed]",
      "text/plain": [
       "<Figure size 3600x864 with 1 Axes>"
      ]
     },
     "metadata": {
      "needs_background": "light"
     },
     "output_type": "display_data"
    }
   ],
   "source": [
    "# Plotting participation pre and post covid by state for ACT\n",
    "\n",
    "act_part[['state','part_acovid','part_pcovid']].plot(x='state', figsize=(50,12), kind='bar')\n",
    "plt.savefig('../data/figs/act_pcovid_acovid_part.png')"
   ]
  },
  {
   "cell_type": "code",
   "execution_count": 70,
   "metadata": {
    "scrolled": false
   },
   "outputs": [
    {
     "data": {
      "image/png": "[encoded data removed]",
      "text/plain": [
       "<Figure size 3600x864 with 1 Axes>"
      ]
     },
     "metadata": {
      "needs_background": "light"
     },
     "output_type": "display_data"
    }
   ],
   "source": [
    "act_scores[['state','comp_acovid','comp_pcovid']].plot(x='state',figsize=(50,12),kind='bar')\n",
    "plt.savefig('../data/figs/act_acovid_pcovid_scores.png')"
   ]
  },
  {
   "cell_type": "code",
   "execution_count": null,
   "metadata": {
    "scrolled": true
   },
   "outputs": [],
   "source": []
  },
  {
   "cell_type": "code",
   "execution_count": null,
   "metadata": {},
   "outputs": [],
   "source": []
  },
  {
   "cell_type": "code",
   "execution_count": 71,
   "metadata": {},
   "outputs": [
    {
     "data": {
      "text/plain": [
       "<AxesSubplot:ylabel='state'>"
      ]
     },
     "execution_count": 71,
     "metadata": {},
     "output_type": "execute_result"
    },
    {
     "data": {
      "image/png": "[encoded data removed]",
      "text/plain": [
       "<Figure size 864x1440 with 1 Axes>"
      ]
     },
     "metadata": {
      "needs_background": "light"
     },
     "output_type": "display_data"
    }
   ],
   "source": [
    "# PARTICIPATION PRE COVID FOR ACT AND SAT BY STATE\n",
    "\n",
    "part_covid[['state',\n",
    "            'part_pcovid_act',\n",
    "            'part_pcovid_sat']].sort_values(by='part_pcovid_act').plot(x='state',figsize=(12,20),kind='barh')\n",
    "#plt.savefig('../data/figs/part_sat_act_comparison.png')"
   ]
  },
  {
   "cell_type": "code",
   "execution_count": 72,
   "metadata": {},
   "outputs": [
    {
     "data": {
      "text/plain": [
       "<AxesSubplot:ylabel='state'>"
      ]
     },
     "execution_count": 72,
     "metadata": {},
     "output_type": "execute_result"
    },
    {
     "data": {
      "image/png": "[encoded data removed]",
      "text/plain": [
       "<Figure size 864x864 with 1 Axes>"
      ]
     },
     "metadata": {
      "needs_background": "light"
     },
     "output_type": "display_data"
    }
   ],
   "source": [
    "# PARTICIPATION AFTER COVID FOR ACT AND SAT BY STATE WHERE SAT IS AOBE 70%\n",
    "# When passing the condition, use the .loc\n",
    "\n",
    "part_covid[['state','part_acovid_act','part_acovid_sat']].loc[\n",
    "    part_covid['part_acovid_sat'] > 0.7, :].sort_values(\n",
    "    by='part_acovid_sat').plot(\n",
    "    x='state',figsize=(12,12),kind='barh')"
   ]
  },
  {
   "cell_type": "code",
   "execution_count": 73,
   "metadata": {},
   "outputs": [
    {
     "data": {
      "text/plain": [
       "<AxesSubplot:ylabel='state'>"
      ]
     },
     "execution_count": 73,
     "metadata": {},
     "output_type": "execute_result"
    },
    {
     "data": {
      "image/png": "[encoded data removed]",
      "text/plain": [
       "<Figure size 864x1440 with 1 Axes>"
      ]
     },
     "metadata": {
      "needs_background": "light"
     },
     "output_type": "display_data"
    }
   ],
   "source": [
    "# PARTICIPATION PRECOVID FOR ACT AND POST COVID FOR SAT BY STATE\n",
    "\n",
    "part_covid[['state',\n",
    "            'part_pcovid_act',\n",
    "            'part_acovid_sat']].sort_values(\n",
    "    by='part_pcovid_act').plot(\n",
    "    x='state', figsize=(12,20),kind='barh')"
   ]
  },
  {
   "cell_type": "code",
   "execution_count": 74,
   "metadata": {},
   "outputs": [
    {
     "data": {
      "text/plain": [
       "<AxesSubplot:ylabel='state'>"
      ]
     },
     "execution_count": 74,
     "metadata": {},
     "output_type": "execute_result"
    },
    {
     "data": {
      "image/png": "[encoded data removed]",
      "text/plain": [
       "<Figure size 864x1440 with 1 Axes>"
      ]
     },
     "metadata": {
      "needs_background": "light"
     },
     "output_type": "display_data"
    }
   ],
   "source": [
    "# PARTICIPATION POST COVID FOR ACT AND PRE COVID FOR SAT BY STATE\n",
    "\n",
    "part_covid[['state',\n",
    "            'part_pcovid_sat',\n",
    "            'part_acovid_act']].sort_values(\n",
    "    by='part_pcovid_sat').plot(\n",
    "    x='state', figsize=(12,20),kind='barh')"
   ]
  },
  {
   "cell_type": "code",
   "execution_count": 75,
   "metadata": {
    "scrolled": true
   },
   "outputs": [
    {
     "data": {
      "text/plain": [
       "<AxesSubplot:xlabel='part_acovid_sat', ylabel='scores_acovid_sat'>"
      ]
     },
     "execution_count": 75,
     "metadata": {},
     "output_type": "execute_result"
    },
    {
     "data": {
      "image/png": "[encoded data removed]",
      "text/plain": [
       "<Figure size 1080x360 with 1 Axes>"
      ]
     },
     "metadata": {
      "needs_background": "light"
     },
     "output_type": "display_data"
    }
   ],
   "source": [
    "# SCATTER PLOT OF ACT PARTICIPATION PRE AND POST COVID BY STATE\n",
    "\n",
    "part_scores_combined.plot(x='part_acovid_sat',y='scores_acovid_sat', figsize=(15,5),kind='scatter')"
   ]
  },
  {
   "cell_type": "code",
   "execution_count": 76,
   "metadata": {
    "scrolled": false
   },
   "outputs": [
    {
     "data": {
      "text/plain": [
       "<AxesSubplot:xlabel='part_pcovid_sat', ylabel='scores_pcovid_sat'>"
      ]
     },
     "execution_count": 76,
     "metadata": {},
     "output_type": "execute_result"
    },
    {
     "data": {
      "image/png": "[encoded data removed]",
      "text/plain": [
       "<Figure size 1080x360 with 1 Axes>"
      ]
     },
     "metadata": {
      "needs_background": "light"
     },
     "output_type": "display_data"
    }
   ],
   "source": [
    "part_scores_combined.plot(x='part_pcovid_sat', y='scores_pcovid_sat', figsize=(15,5), kind='scatter')"
   ]
  },
  {
   "cell_type": "code",
   "execution_count": 77,
   "metadata": {
    "scrolled": true
   },
   "outputs": [
    {
     "data": {
      "text/plain": [
       "<AxesSubplot:xlabel='part_pcovid_act', ylabel='part_acovid_act'>"
      ]
     },
     "execution_count": 77,
     "metadata": {},
     "output_type": "execute_result"
    },
    {
     "data": {
      "image/png": "[encoded data removed]",
      "text/plain": [
       "<Figure size 1080x360 with 1 Axes>"
      ]
     },
     "metadata": {
      "needs_background": "light"
     },
     "output_type": "display_data"
    }
   ],
   "source": [
    "part_scores_combined.plot(x='part_pcovid_act', y='part_acovid_act', figsize=(15,5), kind='scatter')"
   ]
  },
  {
   "cell_type": "code",
   "execution_count": 117,
   "metadata": {
    "scrolled": false
   },
   "outputs": [
    {
     "data": {
      "text/plain": [
       "array([[<AxesSubplot:title={'center':'part_pcovid_act'}>,\n",
       "        <AxesSubplot:title={'center':'part_acovid_act'}>,\n",
       "        <AxesSubplot:title={'center':'part_pcovid_sat'}>],\n",
       "       [<AxesSubplot:title={'center':'part_acovid_sat'}>,\n",
       "        <AxesSubplot:title={'center':'scores_pcovid_act'}>,\n",
       "        <AxesSubplot:title={'center':'scores_acovid_act'}>],\n",
       "       [<AxesSubplot:title={'center':'scores_pcovid_sat'}>,\n",
       "        <AxesSubplot:title={'center':'scores_acovid_sat'}>,\n",
       "        <AxesSubplot:>]], dtype=object)"
      ]
     },
     "execution_count": 117,
     "metadata": {},
     "output_type": "execute_result"
    },
    {
     "data": {
      "image/png": "[encoded data removed]",
      "text/plain": [
       "<Figure size 1152x576 with 9 Axes>"
      ]
     },
     "metadata": {
      "needs_background": "light"
     },
     "output_type": "display_data"
    }
   ],
   "source": [
    "part_scores_combined.hist(figsize=(16,8),sharey=True, bins=10)"
   ]
  },
  {
   "cell_type": "markdown",
   "metadata": {},
   "source": [
    "Be thorough in your verbal description of these distributions.\n",
    "Be sure to back up these summaries with statistics.\n",
    "We generally assume that data we sample from a population will be normally distributed. Do we observe this trend? Explain your answers for each distribution and how you think this will affect estimates made from these data."
   ]
  },
  {
   "cell_type": "code",
   "execution_count": 80,
   "metadata": {},
   "outputs": [
    {
     "data": {
      "image/png": "[encoded data removed]",
      "text/plain": [
       "<Figure size 432x288 with 1 Axes>"
      ]
     },
     "metadata": {
      "needs_background": "light"
     },
     "output_type": "display_data"
    }
   ],
   "source": [
    "# HISTOGRAM THAT SHOWS THE REPARTITION OF SAT PARTICIPATION AFTER COVID\n",
    "\n",
    "part_scores_combined['part_acovid_sat'].plot(kind='hist',bins=10);\n",
    "plt.xlabel('Participation');\n",
    "plt.ylabel('Scores');"
   ]
  },
  {
   "cell_type": "code",
   "execution_count": 81,
   "metadata": {
    "scrolled": false
   },
   "outputs": [
    {
     "data": {
      "image/png": "[encoded data removed]",
      "text/plain": [
       "<Figure size 432x288 with 1 Axes>"
      ]
     },
     "metadata": {
      "needs_background": "light"
     },
     "output_type": "display_data"
    }
   ],
   "source": [
    "# HISTOGRAM THAT SHOWS THE REPARTITION OF ACT PARTICIPATION AFTER COVID\n",
    "\n",
    "part_scores_combined['part_acovid_act'].plot(kind='hist',bins=10);\n",
    "plt.xlabel('Participation');\n",
    "plt.ylabel('Scores');"
   ]
  },
  {
   "cell_type": "markdown",
   "metadata": {},
   "source": [
    "There is a high negative correlation between SAT participation and SAT scores.\n",
    "The higher the attendance, the lesser the score"
   ]
  },
  {
   "cell_type": "code",
   "execution_count": 125,
   "metadata": {},
   "outputs": [
    {
     "data": {
      "text/plain": [
       "<AxesSubplot:ylabel='state'>"
      ]
     },
     "execution_count": 125,
     "metadata": {},
     "output_type": "execute_result"
    },
    {
     "data": {
      "image/png": "[encoded data removed]",
      "text/plain": [
       "<Figure size 360x360 with 1 Axes>"
      ]
     },
     "metadata": {
      "needs_background": "light"
     },
     "output_type": "display_data"
    }
   ],
   "source": [
    "part_covid[['state','part_pcovid_act','part_pcovid_sat']].loc[\n",
    "    part_covid['state'] == ('West Virginia'), :].plot(\n",
    "    x='state',figsize=(5,5),kind='barh')"
   ]
  },
  {
   "cell_type": "markdown",
   "metadata": {},
   "source": [
    "- ACT Participation post Covid has been more impacted than the SAT Participation.\n",
    "\n",
    "For SAT, it seems that there is also a correlation between the participation rate and the score\n",
    "- Among the 5 states that saw the biggest drop in scores, 2 of them are among the top 5 in participation increase (West Virginia, Colorado)\n",
    "- Among the 5 states that saw the biggest increase in scores, 2 of them are among the top 5 in participation drop (Hawaii, Nevada)\n",
    "\n",
    "Globally it seems that is a correlation between the decrease in participation in one exam type and an increase in the other\n",
    "- Among the 5 states that saw the biggest drop in ACT participation, 3 of them are in the top 5 in SAT participation increase (West Virginia, Colorado, Illinois)\n",
    "- However, there doesn't seem to be the same correlation with SAT participation towards ACT."
   ]
  },
  {
   "cell_type": "code",
   "execution_count": 82,
   "metadata": {
    "scrolled": true
   },
   "outputs": [
    {
     "data": {
      "text/plain": [
       "<AxesSubplot:>"
      ]
     },
     "execution_count": 82,
     "metadata": {},
     "output_type": "execute_result"
    },
    {
     "data": {
      "image/png": "[encoded data removed]",
      "text/plain": [
       "<Figure size 432x288 with 1 Axes>"
      ]
     },
     "metadata": {
      "needs_background": "light"
     },
     "output_type": "display_data"
    }
   ],
   "source": [
    "# CREATING A BOX PLOT\n",
    "\n",
    "part_covid.plot(kind='box')"
   ]
  },
  {
   "cell_type": "markdown",
   "metadata": {},
   "source": [
    "Boxplots demonstrate central tendency and spread in variables. In a certain sense, these are somewhat redundant with histograms, but you may be better able to identify clear outliers or differences in IQR, etc.\n",
    "Multiple values can be plotted to a single boxplot as long as they are of the same relative scale (meaning they have similar min/max values).\n",
    "Each boxplot should:\n",
    "Only include variables of a similar scale\n",
    "Have clear labels for each variable\n",
    "Have appropriate titles and labels"
   ]
  },
  {
   "cell_type": "code",
   "execution_count": 107,
   "metadata": {
    "scrolled": true
   },
   "outputs": [
    {
     "data": {
      "text/plain": [
       "<matplotlib.legend.Legend at 0x258d39f7f10>"
      ]
     },
     "execution_count": 107,
     "metadata": {},
     "output_type": "execute_result"
    },
    {
     "data": {
      "image/png": "[encoded data removed]",
      "text/plain": [
       "<Figure size 432x288 with 1 Axes>"
      ]
     },
     "metadata": {
      "needs_background": "light"
     },
     "output_type": "display_data"
    }
   ],
   "source": [
    "# CREATING A LINE PLOT COMPARING PARTICIPATION OF ACT AND SAT THROUGHOUT THE YEAR\n",
    "\n",
    "#CREATING ONE PLOT FOR ACT\n",
    "part_year_combined[['part_2017_act', 'part_2018_act', 'part_2019_act',\n",
    "       'part_2020_act', 'part_2021_act']].mean().plot(kind = 'line', alpha = 0.5, label = \"blue\")\n",
    "# CREATING ONE PLOT FOR SAT\n",
    "part_year_combined[['part_2017_sat', 'part_2018_sat',\n",
    "       'part_2019_sat', 'part_2020_sat', 'part_2021_sat']].mean().plot(kind = 'line', alpha = 0.5)\n",
    "plt.legend()"
   ]
  },
  {
   "cell_type": "code",
   "execution_count": 110,
   "metadata": {},
   "outputs": [
    {
     "data": {
      "text/plain": [
       "<matplotlib.legend.Legend at 0x258d3b22760>"
      ]
     },
     "execution_count": 110,
     "metadata": {},
     "output_type": "execute_result"
    },
    {
     "data": {
      "image/png": "[encoded data removed]",
      "text/plain": [
       "<Figure size 432x288 with 1 Axes>"
      ]
     },
     "metadata": {
      "needs_background": "light"
     },
     "output_type": "display_data"
    }
   ],
   "source": [
    "# CREATING A LINE PLOT COMPARING SCORES OF ACT AND SAT THROUGHOUT THE YEAR\n",
    "\n",
    "#CREATING ONE PLOT FOR ACT\n",
    "scores_year_combined[['comp_2017_act', 'comp_2018_act', 'comp_2019_act',\n",
    "       'comp_2020_act', 'comp_2021_act']].mean().plot(kind = 'line', alpha = 0.5, label = \"blue\")\n",
    "\n",
    "plt.legend()"
   ]
  },
  {
   "cell_type": "code",
   "execution_count": 111,
   "metadata": {
    "scrolled": false
   },
   "outputs": [
    {
     "data": {
      "text/plain": [
       "<AxesSubplot:>"
      ]
     },
     "execution_count": 111,
     "metadata": {},
     "output_type": "execute_result"
    },
    {
     "data": {
      "image/png": "[encoded data removed]",
      "text/plain": [
       "<Figure size 432x288 with 1 Axes>"
      ]
     },
     "metadata": {
      "needs_background": "light"
     },
     "output_type": "display_data"
    }
   ],
   "source": [
    "# PLOTTING SCORES EVOLUTION FOR SAT\n",
    "\n",
    "scores_year_combined[['comp_2017_sat', 'comp_2018_sat',\n",
    "       'comp_2019_sat', 'comp_2020_sat', 'comp_2021_sat']].mean().plot(kind = 'line', alpha = 0.5)"
   ]
  },
  {
   "cell_type": "code",
   "execution_count": 85,
   "metadata": {},
   "outputs": [
    {
     "data": {
      "text/plain": [
       "<AxesSubplot:>"
      ]
     },
     "execution_count": 85,
     "metadata": {},
     "output_type": "execute_result"
    },
    {
     "data": {
      "image/png": "[encoded data removed]",
      "text/plain": [
       "<Figure size 432x288 with 2 Axes>"
      ]
     },
     "metadata": {
      "needs_background": "light"
     },
     "output_type": "display_data"
    }
   ],
   "source": [
    "sbn.heatmap(sat_scores.corr(),annot = True, cmap = 'coolwarm')"
   ]
  },
  {
   "cell_type": "markdown",
   "metadata": {},
   "source": [
    "## Visualizations used in presentation"
   ]
  },
  {
   "cell_type": "code",
   "execution_count": 159,
   "metadata": {
    "scrolled": false
   },
   "outputs": [
    {
     "data": {
      "text/html": [
       "<div>\n",
       "<style scoped>\n",
       "    .dataframe tbody tr th:only-of-type {\n",
       "        vertical-align: middle;\n",
       "    }\n",
       "\n",
       "    .dataframe tbody tr th {\n",
       "        vertical-align: top;\n",
       "    }\n",
       "\n",
       "    .dataframe thead th {\n",
       "        text-align: right;\n",
       "    }\n",
       "</style>\n",
       "<table border=\"1\" class=\"dataframe\">\n",
       "  <thead>\n",
       "    <tr style=\"text-align: right;\">\n",
       "      <th></th>\n",
       "      <th>state</th>\n",
       "      <th>part_2017</th>\n",
       "      <th>part_2018</th>\n",
       "      <th>part_2019</th>\n",
       "      <th>part_2020</th>\n",
       "      <th>part_2021</th>\n",
       "      <th>part_pcovid</th>\n",
       "      <th>part_acovid</th>\n",
       "      <th>part_diff</th>\n",
       "    </tr>\n",
       "  </thead>\n",
       "  <tbody>\n",
       "    <tr>\n",
       "      <th>20</th>\n",
       "      <td>Maryland</td>\n",
       "      <td>0.69</td>\n",
       "      <td>0.76</td>\n",
       "      <td>0.82</td>\n",
       "      <td>0.88</td>\n",
       "      <td>0.47</td>\n",
       "      <td>0.756667</td>\n",
       "      <td>0.88</td>\n",
       "      <td>0.123333</td>\n",
       "    </tr>\n",
       "    <tr>\n",
       "      <th>9</th>\n",
       "      <td>Florida</td>\n",
       "      <td>0.83</td>\n",
       "      <td>0.56</td>\n",
       "      <td>1.00</td>\n",
       "      <td>1.00</td>\n",
       "      <td>0.81</td>\n",
       "      <td>0.796667</td>\n",
       "      <td>1.00</td>\n",
       "      <td>0.203333</td>\n",
       "    </tr>\n",
       "    <tr>\n",
       "      <th>13</th>\n",
       "      <td>Illinois</td>\n",
       "      <td>0.09</td>\n",
       "      <td>0.99</td>\n",
       "      <td>1.00</td>\n",
       "      <td>0.98</td>\n",
       "      <td>0.80</td>\n",
       "      <td>0.693333</td>\n",
       "      <td>0.98</td>\n",
       "      <td>0.286667</td>\n",
       "    </tr>\n",
       "    <tr>\n",
       "      <th>5</th>\n",
       "      <td>Colorado</td>\n",
       "      <td>0.11</td>\n",
       "      <td>1.00</td>\n",
       "      <td>1.00</td>\n",
       "      <td>1.00</td>\n",
       "      <td>0.56</td>\n",
       "      <td>0.703333</td>\n",
       "      <td>1.00</td>\n",
       "      <td>0.296667</td>\n",
       "    </tr>\n",
       "    <tr>\n",
       "      <th>48</th>\n",
       "      <td>West Virginia</td>\n",
       "      <td>0.14</td>\n",
       "      <td>0.28</td>\n",
       "      <td>0.99</td>\n",
       "      <td>0.98</td>\n",
       "      <td>0.45</td>\n",
       "      <td>0.470000</td>\n",
       "      <td>0.98</td>\n",
       "      <td>0.510000</td>\n",
       "    </tr>\n",
       "  </tbody>\n",
       "</table>\n",
       "</div>"
      ],
      "text/plain": [
       "            state  part_2017  part_2018  part_2019  part_2020  part_2021  \\\n",
       "20       Maryland       0.69       0.76       0.82       0.88       0.47   \n",
       "9         Florida       0.83       0.56       1.00       1.00       0.81   \n",
       "13       Illinois       0.09       0.99       1.00       0.98       0.80   \n",
       "5        Colorado       0.11       1.00       1.00       1.00       0.56   \n",
       "48  West Virginia       0.14       0.28       0.99       0.98       0.45   \n",
       "\n",
       "    part_pcovid  part_acovid  part_diff  \n",
       "20     0.756667         0.88   0.123333  \n",
       "9      0.796667         1.00   0.203333  \n",
       "13     0.693333         0.98   0.286667  \n",
       "5      0.703333         1.00   0.296667  \n",
       "48     0.470000         0.98   0.510000  "
      ]
     },
     "execution_count": 159,
     "metadata": {},
     "output_type": "execute_result"
    },
    {
     "data": {
      "image/png": "[encoded data removed]",
      "text/plain": [
       "<Figure size 720x360 with 1 Axes>"
      ]
     },
     "metadata": {
      "needs_background": "light"
     },
     "output_type": "display_data"
    }
   ],
   "source": [
    "# Displaying States with highest increase in participation post-covid for SAT \n",
    "\n",
    "sat_part[['state','part_diff']].loc[\n",
    "    sat_part['part_diff'] > (0.1), :].sort_values(\n",
    "    by='part_diff').plot(\n",
    "    x='state',kind = 'barh',figsize=(10,5), alpha = 0.5,)\n",
    "\n",
    "# Print the 5 highest positive participation difference for accuracy check\n",
    "sat_part.sort_values(by='part_diff').tail()"
   ]
  },
  {
   "cell_type": "markdown",
   "metadata": {},
   "source": [
    "We notice that 4 states have had an increase in participation Post-Covid superior to 20%\n",
    "* West Virginia\n",
    "* Colorado\n",
    "* Illinois\n",
    "* Florida"
   ]
  },
  {
   "cell_type": "code",
   "execution_count": 160,
   "metadata": {
    "scrolled": false
   },
   "outputs": [
    {
     "data": {
      "text/html": [
       "<div>\n",
       "<style scoped>\n",
       "    .dataframe tbody tr th:only-of-type {\n",
       "        vertical-align: middle;\n",
       "    }\n",
       "\n",
       "    .dataframe tbody tr th {\n",
       "        vertical-align: top;\n",
       "    }\n",
       "\n",
       "    .dataframe thead th {\n",
       "        text-align: right;\n",
       "    }\n",
       "</style>\n",
       "<table border=\"1\" class=\"dataframe\">\n",
       "  <thead>\n",
       "    <tr style=\"text-align: right;\">\n",
       "      <th></th>\n",
       "      <th>index</th>\n",
       "      <th>state</th>\n",
       "      <th>part_2017</th>\n",
       "      <th>part_2018</th>\n",
       "      <th>part_2019</th>\n",
       "      <th>part_2020</th>\n",
       "      <th>part_2021</th>\n",
       "      <th>part_pcovid</th>\n",
       "      <th>part_acovid</th>\n",
       "      <th>part_diff</th>\n",
       "    </tr>\n",
       "  </thead>\n",
       "  <tbody>\n",
       "    <tr>\n",
       "      <th>0</th>\n",
       "      <td>1</td>\n",
       "      <td>Alabama</td>\n",
       "      <td>1.00</td>\n",
       "      <td>1.00</td>\n",
       "      <td>1.00</td>\n",
       "      <td>1.00</td>\n",
       "      <td>1.00</td>\n",
       "      <td>1.000000</td>\n",
       "      <td>1.00</td>\n",
       "      <td>0.000000</td>\n",
       "    </tr>\n",
       "    <tr>\n",
       "      <th>1</th>\n",
       "      <td>2</td>\n",
       "      <td>Alaska</td>\n",
       "      <td>0.65</td>\n",
       "      <td>0.33</td>\n",
       "      <td>0.38</td>\n",
       "      <td>0.33</td>\n",
       "      <td>0.16</td>\n",
       "      <td>0.453333</td>\n",
       "      <td>0.33</td>\n",
       "      <td>-0.123333</td>\n",
       "    </tr>\n",
       "    <tr>\n",
       "      <th>2</th>\n",
       "      <td>3</td>\n",
       "      <td>Arizona</td>\n",
       "      <td>0.62</td>\n",
       "      <td>0.66</td>\n",
       "      <td>0.73</td>\n",
       "      <td>0.71</td>\n",
       "      <td>0.35</td>\n",
       "      <td>0.670000</td>\n",
       "      <td>0.71</td>\n",
       "      <td>0.040000</td>\n",
       "    </tr>\n",
       "    <tr>\n",
       "      <th>3</th>\n",
       "      <td>4</td>\n",
       "      <td>Arkansas</td>\n",
       "      <td>1.00</td>\n",
       "      <td>1.00</td>\n",
       "      <td>1.00</td>\n",
       "      <td>1.00</td>\n",
       "      <td>0.99</td>\n",
       "      <td>1.000000</td>\n",
       "      <td>1.00</td>\n",
       "      <td>0.000000</td>\n",
       "    </tr>\n",
       "    <tr>\n",
       "      <th>4</th>\n",
       "      <td>5</td>\n",
       "      <td>California</td>\n",
       "      <td>0.31</td>\n",
       "      <td>0.27</td>\n",
       "      <td>0.23</td>\n",
       "      <td>0.19</td>\n",
       "      <td>0.05</td>\n",
       "      <td>0.270000</td>\n",
       "      <td>0.19</td>\n",
       "      <td>-0.080000</td>\n",
       "    </tr>\n",
       "  </tbody>\n",
       "</table>\n",
       "</div>"
      ],
      "text/plain": [
       "   index       state  part_2017  part_2018  part_2019  part_2020  part_2021  \\\n",
       "0      1     Alabama       1.00       1.00       1.00       1.00       1.00   \n",
       "1      2      Alaska       0.65       0.33       0.38       0.33       0.16   \n",
       "2      3     Arizona       0.62       0.66       0.73       0.71       0.35   \n",
       "3      4    Arkansas       1.00       1.00       1.00       1.00       0.99   \n",
       "4      5  California       0.31       0.27       0.23       0.19       0.05   \n",
       "\n",
       "   part_pcovid  part_acovid  part_diff  \n",
       "0     1.000000         1.00   0.000000  \n",
       "1     0.453333         0.33  -0.123333  \n",
       "2     0.670000         0.71   0.040000  \n",
       "3     1.000000         1.00   0.000000  \n",
       "4     0.270000         0.19  -0.080000  "
      ]
     },
     "execution_count": 160,
     "metadata": {},
     "output_type": "execute_result"
    },
    {
     "data": {
      "image/png": "[encoded data removed]",
      "text/plain": [
       "<Figure size 720x360 with 1 Axes>"
      ]
     },
     "metadata": {
      "needs_background": "light"
     },
     "output_type": "display_data"
    }
   ],
   "source": [
    "# Displaying States with highest decrease in participation post-covid for ACT \n",
    "\n",
    "act_part[['state','part_diff']].loc[\n",
    "    act_part['part_diff'] < (-0.1), :].sort_values(\n",
    "    by='part_diff').plot(\n",
    "    x='state',kind = 'barh',figsize=(10,5), alpha = 0.5,)\n",
    "\n",
    "act_part.head()"
   ]
  },
  {
   "cell_type": "markdown",
   "metadata": {},
   "source": [
    "We notice that 6 states have had decrease in participation Post-Covid superior to 15%\n",
    "* Colorado\n",
    "* Illinois\n",
    "* West Virginia\n",
    "* Florida\n",
    "* South Carolina\n",
    "* Missouri\n",
    "\n",
    "Using the previous graph we can see that the 4 states with the biggest drop in participation in ACT are also the 4 states with the highest participation in SAT Post-Covid. \n",
    "This means that these were relying more heavily on ACT pre-covid and either chose or were forced to make the change to SAT during Covid period."
   ]
  },
  {
   "cell_type": "code",
   "execution_count": null,
   "metadata": {},
   "outputs": [],
   "source": []
  },
  {
   "cell_type": "code",
   "execution_count": null,
   "metadata": {},
   "outputs": [],
   "source": []
  },
  {
   "cell_type": "code",
   "execution_count": null,
   "metadata": {},
   "outputs": [],
   "source": []
  },
  {
   "cell_type": "markdown",
   "metadata": {},
   "source": [
    "## Conclusions and Recommendations"
   ]
  },
  {
   "cell_type": "markdown",
   "metadata": {},
   "source": [
    "Based on your exploration of the data, what are you key takeaways and recommendations? Make sure to answer your question of interest or address your problem statement here."
   ]
  },
  {
   "cell_type": "markdown",
   "metadata": {},
   "source": [
    "**To-Do:** *Edit this cell with your conclusions and recommendations.*"
   ]
  },
  {
   "cell_type": "markdown",
   "metadata": {},
   "source": [
    "Don't forget to create your README!\n",
    "\n",
    "**To-Do:** *If you combine your problem statement, data dictionary, brief summary of your analysis, and conclusions/recommendations, you have an amazing README.md file that quickly aligns your audience to the contents of your project.* Don't forget to cite your data sources!"
   ]
  },
  {
   "cell_type": "code",
   "execution_count": null,
   "metadata": {},
   "outputs": [],
   "source": []
  }
 ],
 "metadata": {
  "anaconda-cloud": {},
  "kernelspec": {
   "display_name": "Python 3 (ipykernel)",
   "language": "python",
   "name": "python3"
  },
  "language_info": {
   "codemirror_mode": {
    "name": "ipython",
    "version": 3
   },
   "file_extension": ".py",
   "mimetype": "text/x-python",
   "name": "python",
   "nbconvert_exporter": "python",
   "pygments_lexer": "ipython3",
   "version": "3.9.12"
  }
 },
 "nbformat": 4,
 "nbformat_minor": 4
}
