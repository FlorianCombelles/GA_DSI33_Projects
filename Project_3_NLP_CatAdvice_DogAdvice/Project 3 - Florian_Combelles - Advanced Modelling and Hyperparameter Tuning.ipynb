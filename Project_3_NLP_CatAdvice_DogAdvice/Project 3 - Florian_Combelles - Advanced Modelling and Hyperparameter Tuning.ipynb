{
 "cells": [
  {
   "cell_type": "markdown",
   "id": "1d91da0f",
   "metadata": {},
   "source": [
    "# Project 3 Web APIs & NLP - Florian Combelles"
   ]
  },
  {
   "cell_type": "markdown",
   "id": "0521037f",
   "metadata": {},
   "source": [
    "In week four we've learned about a few different classifiers. In week five we'll learn about webscraping, APIs, and Natural Language Processing (NLP). This project will put those skills to the test.\n",
    "\n",
    "For project 3, your goal is two-fold:\n",
    "1. Using [Pushshift's](https://github.com/pushshift/api) API, you'll collect posts from two subreddits of your choosing.\n",
    "2. You'll then use NLP to train a classifier on which subreddit a given post came from. This is a binary classification problem.\n",
    "\n",
    "###### Requirements\n",
    "\n",
    "- Gather and prepare your data using the `requests` library.\n",
    "- **Create and compare two models**. One of these must be a Naive Bayes classifier, however the other can be a classifier of your choosing: logistic regression, KNN, SVM, etc.\n",
    "- A Jupyter Notebook with your analysis for a peer audience of data scientists.\n",
    "- An executive summary of your results.\n",
    "- A short presentation outlining your process and findings for a semi-technical audience."
   ]
  },
  {
   "cell_type": "markdown",
   "id": "ced75b99",
   "metadata": {},
   "source": [
    "## Problem Statement and background"
   ]
  },
  {
   "cell_type": "markdown",
   "id": "b0a2584c",
   "metadata": {},
   "source": [
    "###### Problem Statement\n",
    "\n",
    "During Covid 19, we have seen an increase in the number of new pet owners in Singapore.\n",
    "These new inexperienced pet owners are facing a lack of ressources on how to care for their new pets.\n",
    "\n",
    "This leads to them having to overrely on veterinarians and pet stores to provides information and respond to their queries.\n",
    "\n",
    "This influx of inexperienced pets owners overly reliant on vets and pet store reduces their work efficiency and distract them from their main responsibilites\n",
    "\n",
    "\n",
    "##### Background\n",
    "\n",
    "We are working for a company called Pet Smart.\n",
    "\n",
    "We are releasing a new mobile app that includes two features:\n",
    "* A chat box where you can ask your cat or dog related question and get an answer from a team of experts.\n",
    "* Articles that provides informations and tips on how to care for your pets."
   ]
  },
  {
   "cell_type": "markdown",
   "id": "8a0e142d",
   "metadata": {},
   "source": [
    "## Part 4: Hyperparameter Tuning, Word2Vec and Conclusion\n",
    "\n",
    "In this section, we will use Pipelines and Hyperparameter tuning to see if we can increase the results of our models.\n",
    "Unlike the previous part were we manually keyed in parameters for both our Vectorizer, we will be making use of the Pipeline and GridSearchCV modules from SKLearnto automate the search for the best parameters.\n",
    "\n",
    "\n",
    "We will also use Word2Vec to create a model that will return the most similar words based on our dataset."
   ]
  },
  {
   "cell_type": "markdown",
   "id": "969c30b9",
   "metadata": {},
   "source": [
    "##### Importing Libraries"
   ]
  },
  {
   "cell_type": "code",
   "execution_count": 1,
   "id": "d9ea801a",
   "metadata": {},
   "outputs": [],
   "source": [
    "import numpy as np\n",
    "import pandas as pd\n",
    "import seaborn as sns\n",
    "import matplotlib.pyplot as plt\n",
    "import sklearn\n",
    "\n",
    "from sklearn.feature_extraction.text import CountVectorizer\n",
    "from sklearn.feature_extraction.text import TfidfVectorizer\n",
    "\n",
    "from sklearn.linear_model import LogisticRegression\n",
    "from sklearn.model_selection import train_test_split\n",
    "from sklearn.model_selection import cross_val_predict, cross_val_score, RepeatedStratifiedKFold\n",
    "from sklearn.model_selection import GridSearchCV\n",
    "from sklearn.ensemble import RandomForestClassifier\n",
    "\n",
    "from sklearn import metrics\n",
    "from sklearn.metrics import classification_report\n",
    "from sklearn.metrics import confusion_matrix\n",
    "from sklearn.metrics import precision_score, recall_score, accuracy_score, f1_score\n",
    "from sklearn.metrics import plot_roc_curve, roc_auc_score\n",
    "from sklearn.neighbors import KNeighborsClassifier\n",
    "\n",
    "from sklearn.naive_bayes import BernoulliNB\n",
    "from sklearn.naive_bayes import GaussianNB\n",
    "from sklearn.naive_bayes import MultinomialNB\n",
    "from sklearn.pipeline import Pipeline\n",
    "\n",
    "import gensim"
   ]
  },
  {
   "cell_type": "markdown",
   "id": "47d94231",
   "metadata": {},
   "source": [
    "##### Loading non vectorized dataset\n",
    "\n",
    "Since we will be looking for the best parameters for our Vectorizer and models we will need to load the non vectorized data."
   ]
  },
  {
   "cell_type": "code",
   "execution_count": 2,
   "id": "81b32cdf",
   "metadata": {},
   "outputs": [],
   "source": [
    "cat_dog = pd.read_csv('data/cat_dog.csv')"
   ]
  },
  {
   "cell_type": "code",
   "execution_count": 3,
   "id": "260f8abb",
   "metadata": {},
   "outputs": [
    {
     "data": {
      "text/plain": [
       "Index(['Unnamed: 0', 'created_utc', 'domain', 'is_robot_indexable', 'selftext',\n",
       "       'subreddit', 'title', 'post_hint', 'content_word_count',\n",
       "       'content_lemmatized', 'content_joined'],\n",
       "      dtype='object')"
      ]
     },
     "execution_count": 3,
     "metadata": {},
     "output_type": "execute_result"
    }
   ],
   "source": [
    "cat_dog.columns"
   ]
  },
  {
   "cell_type": "markdown",
   "id": "e34c8144",
   "metadata": {},
   "source": [
    "##### Define X and Y variables\n",
    "\n",
    "We are defining new X and Y variables that will be used by all the models"
   ]
  },
  {
   "cell_type": "code",
   "execution_count": 4,
   "id": "260f3266",
   "metadata": {},
   "outputs": [],
   "source": [
    "X = cat_dog['content_joined']\n",
    "y = cat_dog['subreddit']"
   ]
  },
  {
   "cell_type": "markdown",
   "id": "30f71e5b",
   "metadata": {},
   "source": [
    "##### Define Variables"
   ]
  },
  {
   "cell_type": "code",
   "execution_count": 5,
   "id": "7d7e15da",
   "metadata": {},
   "outputs": [],
   "source": [
    "X_train, X_test, y_train, y_test = train_test_split(X,\n",
    "                                                    y,\n",
    "                                                    test_size=0.30,\n",
    "                                                    stratify=y,\n",
    "                                                    random_state=1)"
   ]
  },
  {
   "cell_type": "markdown",
   "id": "abcbc419",
   "metadata": {},
   "source": [
    "### Multinomial Naive Bayes"
   ]
  },
  {
   "cell_type": "markdown",
   "id": "a8db59de",
   "metadata": {},
   "source": [
    "##### Using CountVectorizer"
   ]
  },
  {
   "cell_type": "markdown",
   "id": "29470891",
   "metadata": {},
   "source": [
    "##### Create a Pipeline to identify best CountVectorizer parameters\n",
    "\n",
    "We are creating a pipeline that will include the Vectorizing method along with the Model"
   ]
  },
  {
   "cell_type": "code",
   "execution_count": 6,
   "id": "016d507f",
   "metadata": {},
   "outputs": [],
   "source": [
    "pipe_cv_mn = Pipeline([('cvec_mn', CountVectorizer()),\n",
    "                ('nb_cv', MultinomialNB())])"
   ]
  },
  {
   "cell_type": "code",
   "execution_count": 7,
   "id": "24a86f85",
   "metadata": {
    "scrolled": true
   },
   "outputs": [
    {
     "data": {
      "text/plain": [
       "{'memory': None,\n",
       " 'steps': [('cvec_mn', CountVectorizer()), ('nb_cv', MultinomialNB())],\n",
       " 'verbose': False,\n",
       " 'cvec_mn': CountVectorizer(),\n",
       " 'nb_cv': MultinomialNB(),\n",
       " 'cvec_mn__analyzer': 'word',\n",
       " 'cvec_mn__binary': False,\n",
       " 'cvec_mn__decode_error': 'strict',\n",
       " 'cvec_mn__dtype': numpy.int64,\n",
       " 'cvec_mn__encoding': 'utf-8',\n",
       " 'cvec_mn__input': 'content',\n",
       " 'cvec_mn__lowercase': True,\n",
       " 'cvec_mn__max_df': 1.0,\n",
       " 'cvec_mn__max_features': None,\n",
       " 'cvec_mn__min_df': 1,\n",
       " 'cvec_mn__ngram_range': (1, 1),\n",
       " 'cvec_mn__preprocessor': None,\n",
       " 'cvec_mn__stop_words': None,\n",
       " 'cvec_mn__strip_accents': None,\n",
       " 'cvec_mn__token_pattern': '(?u)\\\\b\\\\w\\\\w+\\\\b',\n",
       " 'cvec_mn__tokenizer': None,\n",
       " 'cvec_mn__vocabulary': None,\n",
       " 'nb_cv__alpha': 1.0,\n",
       " 'nb_cv__class_prior': None,\n",
       " 'nb_cv__fit_prior': True}"
      ]
     },
     "execution_count": 7,
     "metadata": {},
     "output_type": "execute_result"
    }
   ],
   "source": [
    "# Printing the parameters for our pipeline\n",
    "\n",
    "pipe_cv_mn.get_params()"
   ]
  },
  {
   "cell_type": "markdown",
   "id": "756592da",
   "metadata": {},
   "source": [
    "##### Define GridSearchCV parameters\n",
    "\n",
    "Defining our parameters for the current Vectorizing method and Model."
   ]
  },
  {
   "cell_type": "code",
   "execution_count": 8,
   "id": "8d76a129",
   "metadata": {},
   "outputs": [],
   "source": [
    "pipe_cv_mn_params = {\n",
    "    'cvec_mn__max_features': [9_000], #[3_000, 4_000, 7_000, 9_000],\n",
    "    'cvec_mn__min_df': [2], #[2, 3],\n",
    "    'cvec_mn__max_df': [0.5], #[0.5 ,.7 ,.9],\n",
    "    'cvec_mn__ngram_range': [(1,2)]} #[(1,1), (1,2)]}"
   ]
  },
  {
   "cell_type": "raw",
   "id": "611b319f",
   "metadata": {},
   "source": [
    "Pipe Best Parameters:\n",
    "\n",
    "{'cvec_mn__max_df': 0.5,\n",
    " 'cvec_mn__max_features': 9000,\n",
    " 'cvec_mn__min_df': 2,\n",
    " 'cvec_mn__ngram_range': (1, 2)}"
   ]
  },
  {
   "cell_type": "markdown",
   "id": "a57390b8",
   "metadata": {},
   "source": [
    "##### Instantiate GridSearchCV\n",
    "\n",
    "Now that we have our parameters, we can fit our model with the parameters list.\n",
    "\n",
    "The GridSearchCV will then test all the different combinations of parameters and return the optimal settings that will provide the highest results."
   ]
  },
  {
   "cell_type": "code",
   "execution_count": 9,
   "id": "6cdaa712",
   "metadata": {},
   "outputs": [],
   "source": [
    "gs_cv_mn = GridSearchCV(pipe_cv_mn, param_grid=pipe_cv_mn_params, cv=5)"
   ]
  },
  {
   "cell_type": "code",
   "execution_count": 10,
   "id": "f4c80c37",
   "metadata": {},
   "outputs": [
    {
     "data": {
      "text/plain": [
       "GridSearchCV(cv=5,\n",
       "             estimator=Pipeline(steps=[('cvec_mn', CountVectorizer()),\n",
       "                                       ('nb_cv', MultinomialNB())]),\n",
       "             param_grid={'cvec_mn__max_df': [0.5],\n",
       "                         'cvec_mn__max_features': [9000],\n",
       "                         'cvec_mn__min_df': [2],\n",
       "                         'cvec_mn__ngram_range': [(1, 2)]})"
      ]
     },
     "execution_count": 10,
     "metadata": {},
     "output_type": "execute_result"
    }
   ],
   "source": [
    "gs_cv_mn.fit(X_train, y_train)"
   ]
  },
  {
   "cell_type": "code",
   "execution_count": 11,
   "id": "536dbed5",
   "metadata": {},
   "outputs": [
    {
     "data": {
      "text/plain": [
       "0.8786390242644593"
      ]
     },
     "execution_count": 11,
     "metadata": {},
     "output_type": "execute_result"
    }
   ],
   "source": [
    "gs_cv_mn.best_score_"
   ]
  },
  {
   "cell_type": "code",
   "execution_count": 12,
   "id": "c1b6879f",
   "metadata": {},
   "outputs": [
    {
     "data": {
      "text/plain": [
       "{'cvec_mn__max_df': 0.5,\n",
       " 'cvec_mn__max_features': 9000,\n",
       " 'cvec_mn__min_df': 2,\n",
       " 'cvec_mn__ngram_range': (1, 2)}"
      ]
     },
     "execution_count": 12,
     "metadata": {},
     "output_type": "execute_result"
    }
   ],
   "source": [
    "gs_cv_mn.best_params_"
   ]
  },
  {
   "cell_type": "code",
   "execution_count": 13,
   "id": "df911f29",
   "metadata": {},
   "outputs": [
    {
     "name": "stdout",
     "output_type": "stream",
     "text": [
      "CrossVal Score:[0.88172043 0.88888889 0.92114695 0.8705036  0.83093525]\n",
      "Average CrossVal Score: 0.8786390242644593\n",
      "Model Score: 0.968413496051687\n"
     ]
    }
   ],
   "source": [
    "crossval_gs_cv_mn = cross_val_score(gs_cv_mn, X_train, y_train, cv=5)\n",
    "crossvalavg_gs_cv_mn = cross_val_score(gs_cv_mn, X_train, y_train, cv=5).mean()\n",
    "gs_cv_mn_score = gs_cv_mn.score(X_train, y_train)\n",
    "\n",
    "print(f'CrossVal Score:{crossval_gs_cv_mn}')\n",
    "print(f'Average CrossVal Score: {crossvalavg_gs_cv_mn}')\n",
    "print(f'Model Score: {gs_cv_mn_score}')"
   ]
  },
  {
   "cell_type": "code",
   "execution_count": 14,
   "id": "6e12760a",
   "metadata": {},
   "outputs": [
    {
     "name": "stdout",
     "output_type": "stream",
     "text": [
      "Prediction Accuracy: 0.8879598662207357\n",
      "Prediction Recall: 0.8523489932885906\n",
      "Prediction Precision: 0.9169675090252708\n",
      "Prediction F1: 0.8834782608695652\n"
     ]
    }
   ],
   "source": [
    "y_pred_gs_cv_mn = gs_cv_mn.predict(X_test)\n",
    "\n",
    "accuracy_gs_cv_mn = accuracy_score(y_test, y_pred_gs_cv_mn)\n",
    "recall_gs_cv_mn = recall_score(y_test, y_pred_gs_cv_mn)\n",
    "precision_gs_cv_mn = precision_score(y_test, y_pred_gs_cv_mn)\n",
    "f1_gs_cv_mn = f1_score(y_test, y_pred_gs_cv_mn)\n",
    "\n",
    "print(f'Prediction Accuracy: {accuracy_gs_cv_mn}\\nPrediction Recall: {recall_gs_cv_mn}\\nPrediction Precision: {precision_gs_cv_mn}\\nPrediction F1: {f1_gs_cv_mn}')"
   ]
  },
  {
   "cell_type": "code",
   "execution_count": 15,
   "id": "22b10102",
   "metadata": {},
   "outputs": [],
   "source": [
    "# Plotting Confusion Matrix\n",
    "\n",
    "cm_gs_cv_mn = confusion_matrix(y_test, y_pred_gs_cv_mn)\n",
    "\n",
    "annot_labels = []\n",
    "for index,value in enumerate(cm_gs_cv_mn):\n",
    "    if index == 0:\n",
    "        annot_labels.append(['TN = ' + str(value[0]), 'FP = ' + str(value[1])])\n",
    "    if index == 1:\n",
    "        annot_labels.append(['FN = ' + str(value[0]), 'TP = ' + str(value[1])]);"
   ]
  },
  {
   "cell_type": "code",
   "execution_count": 16,
   "id": "c0c3cd3a",
   "metadata": {},
   "outputs": [
    {
     "data": {
      "image/png": "[encoded data removed]",
      "text/plain": [
       "<Figure size 360x360 with 2 Axes>"
      ]
     },
     "metadata": {
      "needs_background": "light"
     },
     "output_type": "display_data"
    }
   ],
   "source": [
    "plt.figure(figsize=(5,5))\n",
    "sns.heatmap(cm_gs_cv_mn, annot=np.array(annot_labels),\n",
    "            fmt=\"\",\n",
    "            annot_kws={\"size\": 10},\n",
    "            linewidths=.5,\n",
    "            square = True,\n",
    "            cmap = 'Blues',\n",
    "            xticklabels = ['Cat', 'Dog'],\n",
    "            yticklabels = ['Cat', 'Dog'],\n",
    "            );\n",
    "\n",
    "plt.ylabel('Actual label', fontsize = 7);\n",
    "plt.xlabel('Predicted label', fontsize = 7);\n",
    "plt.title('Accuracy: {:.3f}'.format(accuracy_gs_cv_mn)+'\\n'\n",
    "          +'Precision: {:.3f}'.format(precision_gs_cv_mn)+'\\n'\n",
    "          +'Recall: {:.3f}'.format(recall_gs_cv_mn)+'\\n'\n",
    "          +'F1: {:.3f}'.format(f1_gs_cv_mn)+'\\n', size = 10);\n",
    "plt.tick_params(labelsize= 7)"
   ]
  },
  {
   "cell_type": "code",
   "execution_count": 17,
   "id": "79639cfb",
   "metadata": {},
   "outputs": [
    {
     "name": "stderr",
     "output_type": "stream",
     "text": [
      "C:\\Users\\flori\\anaconda3\\lib\\site-packages\\sklearn\\utils\\deprecation.py:87: FutureWarning: Function plot_roc_curve is deprecated; Function :func:`plot_roc_curve` is deprecated in 1.0 and will be removed in 1.2. Use one of the class methods: :meth:`sklearn.metric.RocCurveDisplay.from_predictions` or :meth:`sklearn.metric.RocCurveDisplay.from_estimator`.\n",
      "  warnings.warn(msg, category=FutureWarning)\n"
     ]
    },
    {
     "data": {
      "image/png": "[encoded data removed]",
      "text/plain": [
       "<Figure size 432x288 with 1 Axes>"
      ]
     },
     "metadata": {
      "needs_background": "light"
     },
     "output_type": "display_data"
    }
   ],
   "source": [
    "plot_roc_curve(gs_cv_mn, X_test, y_test)\n",
    "plt.plot([0, 1], [0, 1],\n",
    "         label='baseline', linestyle='--')\n",
    "plt.legend();"
   ]
  },
  {
   "cell_type": "code",
   "execution_count": 18,
   "id": "d7cd9f20",
   "metadata": {},
   "outputs": [
    {
     "data": {
      "text/plain": [
       "Pipeline(steps=[('cvec_mn',\n",
       "                 CountVectorizer(max_df=0.5, max_features=9000, min_df=2,\n",
       "                                 ngram_range=(1, 2))),\n",
       "                ('nb_cv', MultinomialNB())])"
      ]
     },
     "execution_count": 18,
     "metadata": {},
     "output_type": "execute_result"
    }
   ],
   "source": [
    "gs_cv_mn.best_estimator_"
   ]
  },
  {
   "cell_type": "code",
   "execution_count": 19,
   "id": "ac428d1d",
   "metadata": {},
   "outputs": [
    {
     "data": {
      "text/plain": [
       "array(['abandoned', 'ability', 'able', ..., 'zone', 'zoom', 'zoomies'],\n",
       "      dtype=object)"
      ]
     },
     "execution_count": 19,
     "metadata": {},
     "output_type": "execute_result"
    }
   ],
   "source": [
    "gs_cv_mn.best_estimator_[\"cvec_mn\"].get_feature_names_out()"
   ]
  },
  {
   "cell_type": "code",
   "execution_count": 20,
   "id": "f4dace1a",
   "metadata": {},
   "outputs": [
    {
     "data": {
      "text/plain": [
       "array([ -8.90908662, -10.11305942,  -6.84222386, ..., -10.11305942,\n",
       "       -10.11305942,  -8.81377644])"
      ]
     },
     "execution_count": 20,
     "metadata": {},
     "output_type": "execute_result"
    }
   ],
   "source": [
    "gs_cv_mn.best_estimator_[\"nb_cv\"].feature_log_prob_[0]"
   ]
  },
  {
   "cell_type": "code",
   "execution_count": 21,
   "id": "dbef3c43",
   "metadata": {},
   "outputs": [
    {
     "data": {
      "text/plain": [
       "array([ -9.08042149, -10.17903378,  -6.92093724, ..., -10.87218096,\n",
       "       -10.87218096, -10.87218096])"
      ]
     },
     "execution_count": 21,
     "metadata": {},
     "output_type": "execute_result"
    }
   ],
   "source": [
    "gs_cv_mn.best_estimator_[\"nb_cv\"].feature_log_prob_[1]"
   ]
  },
  {
   "cell_type": "code",
   "execution_count": 22,
   "id": "5f6c52e6",
   "metadata": {},
   "outputs": [],
   "source": [
    "prob_df = gs_cv_mn.best_estimator_[\"nb_cv\"].feature_log_prob_[1] - gs_cv_mn.best_estimator_[\"nb_cv\"].feature_log_prob_[0]"
   ]
  },
  {
   "cell_type": "code",
   "execution_count": 23,
   "id": "b572687d",
   "metadata": {},
   "outputs": [
    {
     "data": {
      "text/html": [
       "<div>\n",
       "<style scoped>\n",
       "    .dataframe tbody tr th:only-of-type {\n",
       "        vertical-align: middle;\n",
       "    }\n",
       "\n",
       "    .dataframe tbody tr th {\n",
       "        vertical-align: top;\n",
       "    }\n",
       "\n",
       "    .dataframe thead th {\n",
       "        text-align: right;\n",
       "    }\n",
       "</style>\n",
       "<table border=\"1\" class=\"dataframe\">\n",
       "  <thead>\n",
       "    <tr style=\"text-align: right;\">\n",
       "      <th></th>\n",
       "      <th>feature</th>\n",
       "      <th>coef</th>\n",
       "    </tr>\n",
       "  </thead>\n",
       "  <tbody>\n",
       "    <tr>\n",
       "      <th>4971</th>\n",
       "      <td>pup</td>\n",
       "      <td>4.616157</td>\n",
       "    </tr>\n",
       "    <tr>\n",
       "      <th>7101</th>\n",
       "      <td>teeth</td>\n",
       "      <td>4.077160</td>\n",
       "    </tr>\n",
       "    <tr>\n",
       "      <th>511</th>\n",
       "      <td>bark</td>\n",
       "      <td>4.028370</td>\n",
       "    </tr>\n",
       "    <tr>\n",
       "      <th>2809</th>\n",
       "      <td>golden</td>\n",
       "      <td>3.977077</td>\n",
       "    </tr>\n",
       "    <tr>\n",
       "      <th>621</th>\n",
       "      <td>bichon</td>\n",
       "      <td>3.835998</td>\n",
       "    </tr>\n",
       "    <tr>\n",
       "      <th>...</th>\n",
       "      <td>...</td>\n",
       "      <td>...</td>\n",
       "    </tr>\n",
       "    <tr>\n",
       "      <th>715</th>\n",
       "      <td>box</td>\n",
       "      <td>-3.729536</td>\n",
       "    </tr>\n",
       "    <tr>\n",
       "      <th>3829</th>\n",
       "      <td>litter</td>\n",
       "      <td>-3.735218</td>\n",
       "    </tr>\n",
       "    <tr>\n",
       "      <th>4072</th>\n",
       "      <td>meowing</td>\n",
       "      <td>-3.787644</td>\n",
       "    </tr>\n",
       "    <tr>\n",
       "      <th>3830</th>\n",
       "      <td>litter box</td>\n",
       "      <td>-4.109026</td>\n",
       "    </tr>\n",
       "    <tr>\n",
       "      <th>3507</th>\n",
       "      <td>kitten</td>\n",
       "      <td>-4.533796</td>\n",
       "    </tr>\n",
       "  </tbody>\n",
       "</table>\n",
       "<p>9000 rows × 2 columns</p>\n",
       "</div>"
      ],
      "text/plain": [
       "         feature      coef\n",
       "4971         pup  4.616157\n",
       "7101       teeth  4.077160\n",
       "511         bark  4.028370\n",
       "2809      golden  3.977077\n",
       "621       bichon  3.835998\n",
       "...          ...       ...\n",
       "715          box -3.729536\n",
       "3829      litter -3.735218\n",
       "4072     meowing -3.787644\n",
       "3830  litter box -4.109026\n",
       "3507      kitten -4.533796\n",
       "\n",
       "[9000 rows x 2 columns]"
      ]
     },
     "execution_count": 23,
     "metadata": {},
     "output_type": "execute_result"
    }
   ],
   "source": [
    "pd.DataFrame({\"feature\":gs_cv_mn.best_estimator_[\"cvec_mn\"].get_feature_names_out(),\n",
    "             'coef': prob_df }).sort_values(by='coef', ascending=False)"
   ]
  },
  {
   "cell_type": "markdown",
   "id": "6d0fc04e",
   "metadata": {},
   "source": [
    "##### Using Term Frequency - Inverse Document Frequency"
   ]
  },
  {
   "cell_type": "markdown",
   "id": "98b09634",
   "metadata": {},
   "source": [
    "##### Create a Pipeline to identify best CountVectorizer parameters"
   ]
  },
  {
   "cell_type": "code",
   "execution_count": 24,
   "id": "65d908be",
   "metadata": {},
   "outputs": [],
   "source": [
    "pipe_tfidf_mn = Pipeline([('tfidf_mn', TfidfVectorizer()),\n",
    "                ('nb_tfidf', MultinomialNB())])"
   ]
  },
  {
   "cell_type": "code",
   "execution_count": 25,
   "id": "70b931e9",
   "metadata": {
    "scrolled": true
   },
   "outputs": [
    {
     "data": {
      "text/plain": [
       "{'memory': None,\n",
       " 'steps': [('tfidf_mn', TfidfVectorizer()), ('nb_tfidf', MultinomialNB())],\n",
       " 'verbose': False,\n",
       " 'tfidf_mn': TfidfVectorizer(),\n",
       " 'nb_tfidf': MultinomialNB(),\n",
       " 'tfidf_mn__analyzer': 'word',\n",
       " 'tfidf_mn__binary': False,\n",
       " 'tfidf_mn__decode_error': 'strict',\n",
       " 'tfidf_mn__dtype': numpy.float64,\n",
       " 'tfidf_mn__encoding': 'utf-8',\n",
       " 'tfidf_mn__input': 'content',\n",
       " 'tfidf_mn__lowercase': True,\n",
       " 'tfidf_mn__max_df': 1.0,\n",
       " 'tfidf_mn__max_features': None,\n",
       " 'tfidf_mn__min_df': 1,\n",
       " 'tfidf_mn__ngram_range': (1, 1),\n",
       " 'tfidf_mn__norm': 'l2',\n",
       " 'tfidf_mn__preprocessor': None,\n",
       " 'tfidf_mn__smooth_idf': True,\n",
       " 'tfidf_mn__stop_words': None,\n",
       " 'tfidf_mn__strip_accents': None,\n",
       " 'tfidf_mn__sublinear_tf': False,\n",
       " 'tfidf_mn__token_pattern': '(?u)\\\\b\\\\w\\\\w+\\\\b',\n",
       " 'tfidf_mn__tokenizer': None,\n",
       " 'tfidf_mn__use_idf': True,\n",
       " 'tfidf_mn__vocabulary': None,\n",
       " 'nb_tfidf__alpha': 1.0,\n",
       " 'nb_tfidf__class_prior': None,\n",
       " 'nb_tfidf__fit_prior': True}"
      ]
     },
     "execution_count": 25,
     "metadata": {},
     "output_type": "execute_result"
    }
   ],
   "source": [
    "pipe_tfidf_mn.get_params()"
   ]
  },
  {
   "cell_type": "markdown",
   "id": "9a8c6295",
   "metadata": {},
   "source": [
    "##### Define GridSearchCV parameters"
   ]
  },
  {
   "cell_type": "code",
   "execution_count": 26,
   "id": "1782a700",
   "metadata": {},
   "outputs": [],
   "source": [
    "pipe_tfidf_mn_params = {\n",
    "    'tfidf_mn__max_features': [9_000], #[3_000, 4_000, 7_000, 9_000],\n",
    "    'tfidf_mn__min_df': [2], #[2, 3],\n",
    "    'tfidf_mn__max_df': [0.5]} #[0.5 ,.7 ,.9]}"
   ]
  },
  {
   "cell_type": "raw",
   "id": "8dbee019",
   "metadata": {},
   "source": [
    "Pipe Best Parameters:\n",
    "    \n",
    "{'tfidf_mn__max_df': 0.5,\n",
    " 'tfidf_mn__max_features': 9000,\n",
    " 'tfidf_mn__min_df': 2}"
   ]
  },
  {
   "cell_type": "markdown",
   "id": "e4e7999a",
   "metadata": {},
   "source": [
    "##### Instantiate GridSearchCV"
   ]
  },
  {
   "cell_type": "code",
   "execution_count": 27,
   "id": "612f18a9",
   "metadata": {},
   "outputs": [],
   "source": [
    "gs_tfidf_mn = GridSearchCV(pipe_tfidf_mn, param_grid=pipe_tfidf_mn_params, cv=5)"
   ]
  },
  {
   "cell_type": "code",
   "execution_count": 28,
   "id": "18140618",
   "metadata": {
    "scrolled": false
   },
   "outputs": [
    {
     "data": {
      "text/plain": [
       "GridSearchCV(cv=5,\n",
       "             estimator=Pipeline(steps=[('tfidf_mn', TfidfVectorizer()),\n",
       "                                       ('nb_tfidf', MultinomialNB())]),\n",
       "             param_grid={'tfidf_mn__max_df': [0.5],\n",
       "                         'tfidf_mn__max_features': [9000],\n",
       "                         'tfidf_mn__min_df': [2]})"
      ]
     },
     "execution_count": 28,
     "metadata": {},
     "output_type": "execute_result"
    }
   ],
   "source": [
    "gs_tfidf_mn.fit(X_train, y_train)"
   ]
  },
  {
   "cell_type": "code",
   "execution_count": 29,
   "id": "b9f295ac",
   "metadata": {},
   "outputs": [
    {
     "data": {
      "text/plain": [
       "0.839148036409582"
      ]
     },
     "execution_count": 29,
     "metadata": {},
     "output_type": "execute_result"
    }
   ],
   "source": [
    "gs_tfidf_mn.best_score_"
   ]
  },
  {
   "cell_type": "code",
   "execution_count": 30,
   "id": "d7db7fb1",
   "metadata": {},
   "outputs": [
    {
     "data": {
      "text/plain": [
       "{'tfidf_mn__max_df': 0.5,\n",
       " 'tfidf_mn__max_features': 9000,\n",
       " 'tfidf_mn__min_df': 2}"
      ]
     },
     "execution_count": 30,
     "metadata": {},
     "output_type": "execute_result"
    }
   ],
   "source": [
    "gs_tfidf_mn.best_params_"
   ]
  },
  {
   "cell_type": "code",
   "execution_count": 31,
   "id": "f4f9bd31",
   "metadata": {},
   "outputs": [
    {
     "name": "stdout",
     "output_type": "stream",
     "text": [
      "CrossVal Score:[0.82437276 0.88172043 0.8781362  0.81654676 0.79496403]\n",
      "Average CrossVal Score: 0.839148036409582\n",
      "Model Score: 0.9483129935391242\n"
     ]
    }
   ],
   "source": [
    "crossval_gs_tfidf_mn = cross_val_score(gs_tfidf_mn, X_train, y_train, cv=5)\n",
    "crossvalavg_gs_tfidf_mn = cross_val_score(gs_tfidf_mn, X_train, y_train, cv=5).mean()\n",
    "gs_tfidf_mn_score = gs_tfidf_mn.score(X_train, y_train)\n",
    "\n",
    "print(f'CrossVal Score:{crossval_gs_tfidf_mn}')\n",
    "print(f'Average CrossVal Score: {crossvalavg_gs_tfidf_mn}')\n",
    "print(f'Model Score: {gs_tfidf_mn_score}')"
   ]
  },
  {
   "cell_type": "code",
   "execution_count": 32,
   "id": "b2298cd5",
   "metadata": {},
   "outputs": [
    {
     "name": "stdout",
     "output_type": "stream",
     "text": [
      "Prediction Accuracy: 0.8478260869565217\n",
      "Prediction Recall: 0.7483221476510067\n",
      "Prediction Precision: 0.9330543933054394\n",
      "Prediction F1: 0.8305400372439478\n"
     ]
    }
   ],
   "source": [
    "y_pred_gs_tfidf_mn = gs_tfidf_mn.predict(X_test)\n",
    "\n",
    "accuracy_gs_tfidf_mn = accuracy_score(y_test, y_pred_gs_tfidf_mn)\n",
    "recall_gs_tfidf_mn = recall_score(y_test, y_pred_gs_tfidf_mn)\n",
    "precision_gs_tfidf_mn = precision_score(y_test, y_pred_gs_tfidf_mn)\n",
    "f1_gs_tfidf_mn = f1_score(y_test, y_pred_gs_tfidf_mn)\n",
    "\n",
    "print(f'Prediction Accuracy: {accuracy_gs_tfidf_mn}\\nPrediction Recall: {recall_gs_tfidf_mn}\\nPrediction Precision: {precision_gs_tfidf_mn}\\nPrediction F1: {f1_gs_tfidf_mn}')"
   ]
  },
  {
   "cell_type": "code",
   "execution_count": 33,
   "id": "5a4b3d53",
   "metadata": {},
   "outputs": [],
   "source": [
    "# Plotting Confusion Matrix\n",
    "\n",
    "cm_gs_tfidf_mn = confusion_matrix(y_test, y_pred_gs_tfidf_mn)\n",
    "\n",
    "annot_labels = []\n",
    "for index,value in enumerate(cm_gs_tfidf_mn):\n",
    "    if index == 0:\n",
    "        annot_labels.append(['TN = ' + str(value[0]), 'FP = ' + str(value[1])])\n",
    "    if index == 1:\n",
    "        annot_labels.append(['FN = ' + str(value[0]), 'TP = ' + str(value[1])]);"
   ]
  },
  {
   "cell_type": "code",
   "execution_count": 34,
   "id": "57bb8a61",
   "metadata": {},
   "outputs": [
    {
     "data": {
      "image/png": "[encoded data removed]",
      "text/plain": [
       "<Figure size 360x360 with 2 Axes>"
      ]
     },
     "metadata": {
      "needs_background": "light"
     },
     "output_type": "display_data"
    }
   ],
   "source": [
    "plt.figure(figsize=(5,5))\n",
    "sns.heatmap(cm_gs_tfidf_mn, annot=np.array(annot_labels),\n",
    "            fmt=\"\",\n",
    "            annot_kws={\"size\": 10},\n",
    "            linewidths=.5,\n",
    "            square = True,\n",
    "            cmap = 'Blues',\n",
    "            xticklabels = ['Cat', 'Dog'],\n",
    "            yticklabels = ['Cat', 'Dog'],\n",
    "            );\n",
    "\n",
    "plt.ylabel('Actual label', fontsize = 7);\n",
    "plt.xlabel('Predicted label', fontsize = 7);\n",
    "plt.title('Accuracy: {:.3f}'.format(accuracy_gs_tfidf_mn)+'\\n'\n",
    "          +'Precision: {:.3f}'.format(precision_gs_tfidf_mn)+'\\n'\n",
    "          +'Recall: {:.3f}'.format(recall_gs_tfidf_mn)+'\\n'\n",
    "          +'F1: {:.3f}'.format(f1_gs_tfidf_mn)+'\\n', size = 10);\n",
    "plt.tick_params(labelsize= 7)"
   ]
  },
  {
   "cell_type": "code",
   "execution_count": 35,
   "id": "15a3b0a3",
   "metadata": {},
   "outputs": [
    {
     "name": "stderr",
     "output_type": "stream",
     "text": [
      "C:\\Users\\flori\\anaconda3\\lib\\site-packages\\sklearn\\utils\\deprecation.py:87: FutureWarning: Function plot_roc_curve is deprecated; Function :func:`plot_roc_curve` is deprecated in 1.0 and will be removed in 1.2. Use one of the class methods: :meth:`sklearn.metric.RocCurveDisplay.from_predictions` or :meth:`sklearn.metric.RocCurveDisplay.from_estimator`.\n",
      "  warnings.warn(msg, category=FutureWarning)\n"
     ]
    },
    {
     "data": {
      "image/png": "[encoded data removed]",
      "text/plain": [
       "<Figure size 432x288 with 1 Axes>"
      ]
     },
     "metadata": {
      "needs_background": "light"
     },
     "output_type": "display_data"
    }
   ],
   "source": [
    "plot_roc_curve(gs_tfidf_mn, X_test, y_test)\n",
    "plt.plot([0, 1], [0, 1],\n",
    "         label='baseline', linestyle='--')\n",
    "plt.legend();"
   ]
  },
  {
   "cell_type": "markdown",
   "id": "585a44ef",
   "metadata": {},
   "source": [
    "### Logistic Regression"
   ]
  },
  {
   "cell_type": "markdown",
   "id": "c68d5dc6",
   "metadata": {},
   "source": [
    "##### Using CountVectorizer"
   ]
  },
  {
   "cell_type": "markdown",
   "id": "9c853b95",
   "metadata": {},
   "source": [
    "##### Create a Pipeline to identify best CountVectorizer parameters"
   ]
  },
  {
   "cell_type": "code",
   "execution_count": 36,
   "id": "0d876e60",
   "metadata": {},
   "outputs": [],
   "source": [
    "pipe_cv_lr = Pipeline([('cvec_lr', CountVectorizer()),\n",
    "                ('lr_cv', LogisticRegression())])"
   ]
  },
  {
   "cell_type": "code",
   "execution_count": 37,
   "id": "1e08dab9",
   "metadata": {
    "scrolled": true
   },
   "outputs": [
    {
     "data": {
      "text/plain": [
       "{'memory': None,\n",
       " 'steps': [('cvec_lr', CountVectorizer()), ('lr_cv', LogisticRegression())],\n",
       " 'verbose': False,\n",
       " 'cvec_lr': CountVectorizer(),\n",
       " 'lr_cv': LogisticRegression(),\n",
       " 'cvec_lr__analyzer': 'word',\n",
       " 'cvec_lr__binary': False,\n",
       " 'cvec_lr__decode_error': 'strict',\n",
       " 'cvec_lr__dtype': numpy.int64,\n",
       " 'cvec_lr__encoding': 'utf-8',\n",
       " 'cvec_lr__input': 'content',\n",
       " 'cvec_lr__lowercase': True,\n",
       " 'cvec_lr__max_df': 1.0,\n",
       " 'cvec_lr__max_features': None,\n",
       " 'cvec_lr__min_df': 1,\n",
       " 'cvec_lr__ngram_range': (1, 1),\n",
       " 'cvec_lr__preprocessor': None,\n",
       " 'cvec_lr__stop_words': None,\n",
       " 'cvec_lr__strip_accents': None,\n",
       " 'cvec_lr__token_pattern': '(?u)\\\\b\\\\w\\\\w+\\\\b',\n",
       " 'cvec_lr__tokenizer': None,\n",
       " 'cvec_lr__vocabulary': None,\n",
       " 'lr_cv__C': 1.0,\n",
       " 'lr_cv__class_weight': None,\n",
       " 'lr_cv__dual': False,\n",
       " 'lr_cv__fit_intercept': True,\n",
       " 'lr_cv__intercept_scaling': 1,\n",
       " 'lr_cv__l1_ratio': None,\n",
       " 'lr_cv__max_iter': 100,\n",
       " 'lr_cv__multi_class': 'auto',\n",
       " 'lr_cv__n_jobs': None,\n",
       " 'lr_cv__penalty': 'l2',\n",
       " 'lr_cv__random_state': None,\n",
       " 'lr_cv__solver': 'lbfgs',\n",
       " 'lr_cv__tol': 0.0001,\n",
       " 'lr_cv__verbose': 0,\n",
       " 'lr_cv__warm_start': False}"
      ]
     },
     "execution_count": 37,
     "metadata": {},
     "output_type": "execute_result"
    }
   ],
   "source": [
    "pipe_cv_lr.get_params()"
   ]
  },
  {
   "cell_type": "markdown",
   "id": "5e496847",
   "metadata": {},
   "source": [
    "##### Define GridSearchCV parameters"
   ]
  },
  {
   "cell_type": "code",
   "execution_count": 38,
   "id": "34ee9ec1",
   "metadata": {},
   "outputs": [],
   "source": [
    "pipe_cv_lr_params = {\n",
    "    'cvec_lr__max_features': [4_000], #[3_000, 4_000, 7_000, 9_000],\n",
    "    'cvec_lr__min_df': [2], #[2, 3],\n",
    "    'cvec_lr__max_df': [0.5], #[0.5 ,.7 ,.9],\n",
    "    'cvec_lr__ngram_range': [(1,1)], #[(1,1), (1,2)],\n",
    "    'lr_cv__C': [0.1], #[1.0, 0.1, 0.01],\n",
    "    'lr_cv__penalty': ['l2'],\n",
    "    'lr_cv__solver': ['liblinear']} #['newton-cg', 'lbfgs', 'liblinear']}"
   ]
  },
  {
   "cell_type": "raw",
   "id": "aeab5349",
   "metadata": {},
   "source": [
    "Pipeline Best Parameters:\n",
    "\n",
    "{'cvec_lr__max_df': 0.5,\n",
    " 'cvec_lr__max_features': 4000,\n",
    " 'cvec_lr__min_df': 2,\n",
    " 'cvec_lr__ngram_range': (1, 1),\n",
    " 'lr_cv__C': 0.1,\n",
    " 'lr_cv__penalty': 'l2',\n",
    " 'lr_cv__solver': 'liblinear'}"
   ]
  },
  {
   "cell_type": "markdown",
   "id": "e608b38b",
   "metadata": {},
   "source": [
    "##### Instantiate GridSearchCV"
   ]
  },
  {
   "cell_type": "code",
   "execution_count": 39,
   "id": "322a6ce1",
   "metadata": {},
   "outputs": [],
   "source": [
    "gs_cv_lr = GridSearchCV(pipe_cv_lr, param_grid=pipe_cv_lr_params, cv=5)"
   ]
  },
  {
   "cell_type": "code",
   "execution_count": 40,
   "id": "3f5e3b17",
   "metadata": {},
   "outputs": [
    {
     "data": {
      "text/plain": [
       "GridSearchCV(cv=5,\n",
       "             estimator=Pipeline(steps=[('cvec_lr', CountVectorizer()),\n",
       "                                       ('lr_cv', LogisticRegression())]),\n",
       "             param_grid={'cvec_lr__max_df': [0.5],\n",
       "                         'cvec_lr__max_features': [4000],\n",
       "                         'cvec_lr__min_df': [2],\n",
       "                         'cvec_lr__ngram_range': [(1, 1)], 'lr_cv__C': [0.1],\n",
       "                         'lr_cv__penalty': ['l2'],\n",
       "                         'lr_cv__solver': ['liblinear']})"
      ]
     },
     "execution_count": 40,
     "metadata": {},
     "output_type": "execute_result"
    }
   ],
   "source": [
    "gs_cv_lr.fit(X_train, y_train)"
   ]
  },
  {
   "cell_type": "code",
   "execution_count": 41,
   "id": "6c12035d",
   "metadata": {},
   "outputs": [
    {
     "data": {
      "text/plain": [
       "0.8528016296640107"
      ]
     },
     "execution_count": 41,
     "metadata": {},
     "output_type": "execute_result"
    }
   ],
   "source": [
    "gs_cv_lr.best_score_"
   ]
  },
  {
   "cell_type": "code",
   "execution_count": 42,
   "id": "28b52359",
   "metadata": {
    "scrolled": true
   },
   "outputs": [
    {
     "data": {
      "text/plain": [
       "{'cvec_lr__max_df': 0.5,\n",
       " 'cvec_lr__max_features': 4000,\n",
       " 'cvec_lr__min_df': 2,\n",
       " 'cvec_lr__ngram_range': (1, 1),\n",
       " 'lr_cv__C': 0.1,\n",
       " 'lr_cv__penalty': 'l2',\n",
       " 'lr_cv__solver': 'liblinear'}"
      ]
     },
     "execution_count": 42,
     "metadata": {},
     "output_type": "execute_result"
    }
   ],
   "source": [
    "gs_cv_lr.best_params_"
   ]
  },
  {
   "cell_type": "code",
   "execution_count": 43,
   "id": "99203626",
   "metadata": {},
   "outputs": [
    {
     "name": "stdout",
     "output_type": "stream",
     "text": [
      "CrossVal Score:[0.86021505 0.85663082 0.88888889 0.84172662 0.81654676]\n",
      "Average CrossVal Score: 0.8528016296640107\n",
      "Model Score: 0.9734386216798278\n"
     ]
    }
   ],
   "source": [
    "crossval_gs_cv_lr = cross_val_score(gs_cv_lr, X_train, y_train, cv=5)\n",
    "crossvalavg_gs_cv_lr = cross_val_score(gs_cv_lr, X_train, y_train, cv=5).mean()\n",
    "gs_cv_lr_score = gs_cv_lr.score(X_train, y_train)\n",
    "\n",
    "print(f'CrossVal Score:{crossval_gs_cv_lr}')\n",
    "print(f'Average CrossVal Score: {crossvalavg_gs_cv_lr}')\n",
    "print(f'Model Score: {gs_cv_lr_score}')"
   ]
  },
  {
   "cell_type": "code",
   "execution_count": 44,
   "id": "70b7b854",
   "metadata": {},
   "outputs": [
    {
     "name": "stdout",
     "output_type": "stream",
     "text": [
      "Prediction Accuracy: 0.8444816053511706\n",
      "Prediction Recall: 0.889261744966443\n",
      "Prediction Precision: 0.8153846153846154\n",
      "Prediction F1: 0.8507223113964687\n"
     ]
    }
   ],
   "source": [
    "y_pred_gs_cv_lr = gs_cv_lr.predict(X_test)\n",
    "\n",
    "accuracy_gs_cv_lr = accuracy_score(y_test, y_pred_gs_cv_lr)\n",
    "recall_gs_cv_lr = recall_score(y_test, y_pred_gs_cv_lr)\n",
    "precision_gs_cv_lr = precision_score(y_test, y_pred_gs_cv_lr)\n",
    "f1_gs_cv_lr = f1_score(y_test, y_pred_gs_cv_lr)\n",
    "\n",
    "print(f'Prediction Accuracy: {accuracy_gs_cv_lr}\\nPrediction Recall: {recall_gs_cv_lr}\\nPrediction Precision: {precision_gs_cv_lr}\\nPrediction F1: {f1_gs_cv_lr}')"
   ]
  },
  {
   "cell_type": "code",
   "execution_count": 45,
   "id": "51f0b8e4",
   "metadata": {},
   "outputs": [],
   "source": [
    "# Plotting Confusion Matrix\n",
    "\n",
    "cm_gs_cv_lr = confusion_matrix(y_test, y_pred_gs_cv_lr)\n",
    "\n",
    "annot_labels = []\n",
    "for index,value in enumerate(cm_gs_cv_lr):\n",
    "    if index == 0:\n",
    "        annot_labels.append(['TN = ' + str(value[0]), 'FP = ' + str(value[1])])\n",
    "    if index == 1:\n",
    "        annot_labels.append(['FN = ' + str(value[0]), 'TP = ' + str(value[1])]);"
   ]
  },
  {
   "cell_type": "code",
   "execution_count": 46,
   "id": "91103f45",
   "metadata": {},
   "outputs": [
    {
     "data": {
      "image/png": "[encoded data removed]",
      "text/plain": [
       "<Figure size 360x360 with 2 Axes>"
      ]
     },
     "metadata": {
      "needs_background": "light"
     },
     "output_type": "display_data"
    }
   ],
   "source": [
    "plt.figure(figsize=(5,5))\n",
    "sns.heatmap(cm_gs_cv_lr, annot=np.array(annot_labels),\n",
    "            fmt=\"\",\n",
    "            annot_kws={\"size\": 10},\n",
    "            linewidths=.5,\n",
    "            square = True,\n",
    "            cmap = 'Blues',\n",
    "            xticklabels = ['Cat', 'Dog'],\n",
    "            yticklabels = ['Cat', 'Dog'],\n",
    "            );\n",
    "\n",
    "plt.ylabel('Actual label', fontsize = 7);\n",
    "plt.xlabel('Predicted label', fontsize = 7);\n",
    "plt.title('Accuracy: {:.3f}'.format(accuracy_gs_cv_lr)+'\\n'\n",
    "          +'Precision: {:.3f}'.format(precision_gs_cv_lr)+'\\n'\n",
    "          +'Recall: {:.3f}'.format(recall_gs_cv_lr)+'\\n'\n",
    "          +'F1: {:.3f}'.format(f1_gs_cv_lr)+'\\n', size = 10);\n",
    "plt.tick_params(labelsize= 7)"
   ]
  },
  {
   "cell_type": "code",
   "execution_count": 47,
   "id": "af6a1150",
   "metadata": {},
   "outputs": [
    {
     "name": "stderr",
     "output_type": "stream",
     "text": [
      "C:\\Users\\flori\\anaconda3\\lib\\site-packages\\sklearn\\utils\\deprecation.py:87: FutureWarning: Function plot_roc_curve is deprecated; Function :func:`plot_roc_curve` is deprecated in 1.0 and will be removed in 1.2. Use one of the class methods: :meth:`sklearn.metric.RocCurveDisplay.from_predictions` or :meth:`sklearn.metric.RocCurveDisplay.from_estimator`.\n",
      "  warnings.warn(msg, category=FutureWarning)\n"
     ]
    },
    {
     "data": {
      "image/png": "[encoded data removed]",
      "text/plain": [
       "<Figure size 432x288 with 1 Axes>"
      ]
     },
     "metadata": {
      "needs_background": "light"
     },
     "output_type": "display_data"
    }
   ],
   "source": [
    "plot_roc_curve(gs_cv_lr, X_test, y_test)\n",
    "plt.plot([0, 1], [0, 1],\n",
    "         label='baseline', linestyle='--')\n",
    "plt.legend();"
   ]
  },
  {
   "cell_type": "markdown",
   "id": "f4241a57",
   "metadata": {},
   "source": [
    "### Logistic Regression"
   ]
  },
  {
   "cell_type": "markdown",
   "id": "aaba5b4f",
   "metadata": {},
   "source": [
    "##### Using TF-IDF"
   ]
  },
  {
   "cell_type": "markdown",
   "id": "ad6ec055",
   "metadata": {},
   "source": [
    "##### Create a Pipeline to identify best CountVectorizer parameters"
   ]
  },
  {
   "cell_type": "code",
   "execution_count": 48,
   "id": "c32feeb0",
   "metadata": {},
   "outputs": [],
   "source": [
    "pipe_tfidf_lr = Pipeline([('tfidf_lr', TfidfVectorizer()),\n",
    "                ('lr_tfidf', LogisticRegression())])"
   ]
  },
  {
   "cell_type": "code",
   "execution_count": 49,
   "id": "bd3592a2",
   "metadata": {
    "scrolled": true
   },
   "outputs": [
    {
     "data": {
      "text/plain": [
       "{'memory': None,\n",
       " 'steps': [('tfidf_lr', TfidfVectorizer()),\n",
       "  ('lr_tfidf', LogisticRegression())],\n",
       " 'verbose': False,\n",
       " 'tfidf_lr': TfidfVectorizer(),\n",
       " 'lr_tfidf': LogisticRegression(),\n",
       " 'tfidf_lr__analyzer': 'word',\n",
       " 'tfidf_lr__binary': False,\n",
       " 'tfidf_lr__decode_error': 'strict',\n",
       " 'tfidf_lr__dtype': numpy.float64,\n",
       " 'tfidf_lr__encoding': 'utf-8',\n",
       " 'tfidf_lr__input': 'content',\n",
       " 'tfidf_lr__lowercase': True,\n",
       " 'tfidf_lr__max_df': 1.0,\n",
       " 'tfidf_lr__max_features': None,\n",
       " 'tfidf_lr__min_df': 1,\n",
       " 'tfidf_lr__ngram_range': (1, 1),\n",
       " 'tfidf_lr__norm': 'l2',\n",
       " 'tfidf_lr__preprocessor': None,\n",
       " 'tfidf_lr__smooth_idf': True,\n",
       " 'tfidf_lr__stop_words': None,\n",
       " 'tfidf_lr__strip_accents': None,\n",
       " 'tfidf_lr__sublinear_tf': False,\n",
       " 'tfidf_lr__token_pattern': '(?u)\\\\b\\\\w\\\\w+\\\\b',\n",
       " 'tfidf_lr__tokenizer': None,\n",
       " 'tfidf_lr__use_idf': True,\n",
       " 'tfidf_lr__vocabulary': None,\n",
       " 'lr_tfidf__C': 1.0,\n",
       " 'lr_tfidf__class_weight': None,\n",
       " 'lr_tfidf__dual': False,\n",
       " 'lr_tfidf__fit_intercept': True,\n",
       " 'lr_tfidf__intercept_scaling': 1,\n",
       " 'lr_tfidf__l1_ratio': None,\n",
       " 'lr_tfidf__max_iter': 100,\n",
       " 'lr_tfidf__multi_class': 'auto',\n",
       " 'lr_tfidf__n_jobs': None,\n",
       " 'lr_tfidf__penalty': 'l2',\n",
       " 'lr_tfidf__random_state': None,\n",
       " 'lr_tfidf__solver': 'lbfgs',\n",
       " 'lr_tfidf__tol': 0.0001,\n",
       " 'lr_tfidf__verbose': 0,\n",
       " 'lr_tfidf__warm_start': False}"
      ]
     },
     "execution_count": 49,
     "metadata": {},
     "output_type": "execute_result"
    }
   ],
   "source": [
    "pipe_tfidf_lr.get_params()"
   ]
  },
  {
   "cell_type": "markdown",
   "id": "46473296",
   "metadata": {},
   "source": [
    "##### Define GridSearchCV parameters"
   ]
  },
  {
   "cell_type": "code",
   "execution_count": 50,
   "id": "ed900002",
   "metadata": {},
   "outputs": [],
   "source": [
    "pipe_tfidf_lr_params = {\n",
    "    'tfidf_lr__max_features': [3_000], #[3_000, 4_000, 7_000, 9_000],\n",
    "    'tfidf_lr__min_df': [2], #[2, 3],\n",
    "    'tfidf_lr__max_df': [0.5], #[0.5 ,.7 ,.9],\n",
    "    'lr_tfidf__C': [1.0], #[1.0, 0.1, 0.01],\n",
    "    'lr_tfidf__penalty': ['l2'],\n",
    "    'lr_tfidf__solver': ['newton-cg']} #['newton-cg', 'lbfgs', 'liblinear']}"
   ]
  },
  {
   "cell_type": "raw",
   "id": "6bbd8673",
   "metadata": {},
   "source": [
    "Pipeline Best Parameters:\n",
    "\n",
    "{'lr_tfidf__C': 1.0,\n",
    " 'lr_tfidf__penalty': 'l2',\n",
    " 'lr_tfidf__solver': 'newton-cg',\n",
    " 'tfidf_lr__max_df': 0.5,\n",
    " 'tfidf_lr__max_features': 3000,\n",
    " 'tfidf_lr__min_df': 2}"
   ]
  },
  {
   "cell_type": "markdown",
   "id": "0b934ed4",
   "metadata": {},
   "source": [
    "##### Instantiate GridSearchCV"
   ]
  },
  {
   "cell_type": "code",
   "execution_count": 51,
   "id": "726c4880",
   "metadata": {},
   "outputs": [],
   "source": [
    "gs_tfidf_lr = GridSearchCV(pipe_tfidf_lr, param_grid=pipe_tfidf_lr_params, cv=5)"
   ]
  },
  {
   "cell_type": "code",
   "execution_count": 52,
   "id": "d613970b",
   "metadata": {},
   "outputs": [
    {
     "data": {
      "text/plain": [
       "GridSearchCV(cv=5,\n",
       "             estimator=Pipeline(steps=[('tfidf_lr', TfidfVectorizer()),\n",
       "                                       ('lr_tfidf', LogisticRegression())]),\n",
       "             param_grid={'lr_tfidf__C': [1.0], 'lr_tfidf__penalty': ['l2'],\n",
       "                         'lr_tfidf__solver': ['newton-cg'],\n",
       "                         'tfidf_lr__max_df': [0.5],\n",
       "                         'tfidf_lr__max_features': [3000],\n",
       "                         'tfidf_lr__min_df': [2]})"
      ]
     },
     "execution_count": 52,
     "metadata": {},
     "output_type": "execute_result"
    }
   ],
   "source": [
    "gs_tfidf_lr.fit(X_train, y_train)"
   ]
  },
  {
   "cell_type": "code",
   "execution_count": 53,
   "id": "9908ab98",
   "metadata": {},
   "outputs": [
    {
     "data": {
      "text/plain": [
       "0.8571130192620098"
      ]
     },
     "execution_count": 53,
     "metadata": {},
     "output_type": "execute_result"
    }
   ],
   "source": [
    "gs_tfidf_lr.best_score_"
   ]
  },
  {
   "cell_type": "code",
   "execution_count": 54,
   "id": "a36ad9e6",
   "metadata": {},
   "outputs": [
    {
     "data": {
      "text/plain": [
       "{'lr_tfidf__C': 1.0,\n",
       " 'lr_tfidf__penalty': 'l2',\n",
       " 'lr_tfidf__solver': 'newton-cg',\n",
       " 'tfidf_lr__max_df': 0.5,\n",
       " 'tfidf_lr__max_features': 3000,\n",
       " 'tfidf_lr__min_df': 2}"
      ]
     },
     "execution_count": 54,
     "metadata": {},
     "output_type": "execute_result"
    }
   ],
   "source": [
    "gs_tfidf_lr.best_params_"
   ]
  },
  {
   "cell_type": "code",
   "execution_count": 55,
   "id": "e60d7332",
   "metadata": {},
   "outputs": [
    {
     "name": "stdout",
     "output_type": "stream",
     "text": [
      "CrossVal Score:[0.85304659 0.8781362  0.88172043 0.85251799 0.82014388]\n",
      "Average CrossVal Score: 0.8571130192620098\n",
      "Model Score: 0.95908111988514\n"
     ]
    }
   ],
   "source": [
    "crossval_gs_tfidf_lr = cross_val_score(gs_tfidf_lr, X_train, y_train, cv=5)\n",
    "crossvalavg_gs_tfidf_lr = cross_val_score(gs_tfidf_lr, X_train, y_train, cv=5).mean()\n",
    "gs_tfidf_lr_score = gs_tfidf_lr.score(X_train, y_train)\n",
    "\n",
    "print(f'CrossVal Score:{crossval_gs_tfidf_lr}')\n",
    "print(f'Average CrossVal Score: {crossvalavg_gs_tfidf_lr}')\n",
    "print(f'Model Score: {gs_tfidf_lr_score}')"
   ]
  },
  {
   "cell_type": "code",
   "execution_count": 56,
   "id": "e92efbe5",
   "metadata": {},
   "outputs": [
    {
     "name": "stdout",
     "output_type": "stream",
     "text": [
      "Prediction Accuracy: 0.8578595317725752\n",
      "Prediction Recall: 0.8825503355704698\n",
      "Prediction Precision: 0.8402555910543131\n",
      "Prediction F1: 0.8608837970540099\n"
     ]
    }
   ],
   "source": [
    "y_pred_gs_tfidf_lr = gs_tfidf_lr.predict(X_test)\n",
    "\n",
    "accuracy_gs_tfidf_lr = accuracy_score(y_test, y_pred_gs_tfidf_lr)\n",
    "recall_gs_tfidf_lr = recall_score(y_test, y_pred_gs_tfidf_lr)\n",
    "precision_gs_tfidf_lr = precision_score(y_test, y_pred_gs_tfidf_lr)\n",
    "f1_gs_tfidf_lr = f1_score(y_test, y_pred_gs_tfidf_lr)\n",
    "\n",
    "print(f'Prediction Accuracy: {accuracy_gs_tfidf_lr}\\nPrediction Recall: {recall_gs_tfidf_lr}\\nPrediction Precision: {precision_gs_tfidf_lr}\\nPrediction F1: {f1_gs_tfidf_lr}')"
   ]
  },
  {
   "cell_type": "code",
   "execution_count": 57,
   "id": "fd0e8575",
   "metadata": {},
   "outputs": [],
   "source": [
    "# Plotting Confusion Matrix\n",
    "\n",
    "cm_gs_tfidf_lr = confusion_matrix(y_test, y_pred_gs_tfidf_lr)\n",
    "\n",
    "annot_labels = []\n",
    "for index,value in enumerate(cm_gs_tfidf_lr):\n",
    "    if index == 0:\n",
    "        annot_labels.append(['TN = ' + str(value[0]), 'FP = ' + str(value[1])])\n",
    "    if index == 1:\n",
    "        annot_labels.append(['FN = ' + str(value[0]), 'TP = ' + str(value[1])]);"
   ]
  },
  {
   "cell_type": "code",
   "execution_count": 58,
   "id": "b1726cec",
   "metadata": {},
   "outputs": [
    {
     "data": {
      "image/png": "[encoded data removed]",
      "text/plain": [
       "<Figure size 360x360 with 2 Axes>"
      ]
     },
     "metadata": {
      "needs_background": "light"
     },
     "output_type": "display_data"
    }
   ],
   "source": [
    "plt.figure(figsize=(5,5))\n",
    "sns.heatmap(cm_gs_tfidf_lr, annot=np.array(annot_labels),\n",
    "            fmt=\"\",\n",
    "            annot_kws={\"size\": 10},\n",
    "            linewidths=.5,\n",
    "            square = True,\n",
    "            cmap = 'Blues',\n",
    "            xticklabels = ['Cat', 'Dog'],\n",
    "            yticklabels = ['Cat', 'Dog'],\n",
    "            );\n",
    "\n",
    "plt.ylabel('Actual label', fontsize = 7);\n",
    "plt.xlabel('Predicted label', fontsize = 7);\n",
    "plt.title('Accuracy: {:.3f}'.format(accuracy_gs_tfidf_lr)+'\\n'\n",
    "          +'Precision: {:.3f}'.format(precision_gs_tfidf_lr)+'\\n'\n",
    "          +'Recall: {:.3f}'.format(recall_gs_tfidf_lr)+'\\n'\n",
    "          +'F1: {:.3f}'.format(f1_gs_tfidf_lr)+'\\n', size = 10);\n",
    "plt.tick_params(labelsize= 7)"
   ]
  },
  {
   "cell_type": "code",
   "execution_count": 59,
   "id": "d3f53062",
   "metadata": {},
   "outputs": [
    {
     "name": "stderr",
     "output_type": "stream",
     "text": [
      "C:\\Users\\flori\\anaconda3\\lib\\site-packages\\sklearn\\utils\\deprecation.py:87: FutureWarning: Function plot_roc_curve is deprecated; Function :func:`plot_roc_curve` is deprecated in 1.0 and will be removed in 1.2. Use one of the class methods: :meth:`sklearn.metric.RocCurveDisplay.from_predictions` or :meth:`sklearn.metric.RocCurveDisplay.from_estimator`.\n",
      "  warnings.warn(msg, category=FutureWarning)\n"
     ]
    },
    {
     "data": {
      "image/png": "[encoded data removed]",
      "text/plain": [
       "<Figure size 432x288 with 1 Axes>"
      ]
     },
     "metadata": {
      "needs_background": "light"
     },
     "output_type": "display_data"
    }
   ],
   "source": [
    "plot_roc_curve(gs_tfidf_lr, X_test, y_test)\n",
    "plt.plot([0, 1], [0, 1],\n",
    "         label='baseline', linestyle='--')\n",
    "plt.legend();"
   ]
  },
  {
   "cell_type": "markdown",
   "id": "84d824bd",
   "metadata": {},
   "source": [
    "### K Nearest Neighbours"
   ]
  },
  {
   "cell_type": "markdown",
   "id": "047c73ce",
   "metadata": {},
   "source": [
    "##### Using CountVectorizer"
   ]
  },
  {
   "cell_type": "markdown",
   "id": "6dcab3d3",
   "metadata": {},
   "source": [
    "##### Create a Pipeline to identify best CountVectorizer parameters"
   ]
  },
  {
   "cell_type": "code",
   "execution_count": 60,
   "id": "405c729a",
   "metadata": {},
   "outputs": [],
   "source": [
    "pipe_cv_knn = Pipeline([('cvec_knn', CountVectorizer()),\n",
    "                ('knn_cv', KNeighborsClassifier())])"
   ]
  },
  {
   "cell_type": "code",
   "execution_count": 61,
   "id": "96908fd9",
   "metadata": {
    "scrolled": true
   },
   "outputs": [
    {
     "data": {
      "text/plain": [
       "{'memory': None,\n",
       " 'steps': [('cvec_knn', CountVectorizer()),\n",
       "  ('knn_cv', KNeighborsClassifier())],\n",
       " 'verbose': False,\n",
       " 'cvec_knn': CountVectorizer(),\n",
       " 'knn_cv': KNeighborsClassifier(),\n",
       " 'cvec_knn__analyzer': 'word',\n",
       " 'cvec_knn__binary': False,\n",
       " 'cvec_knn__decode_error': 'strict',\n",
       " 'cvec_knn__dtype': numpy.int64,\n",
       " 'cvec_knn__encoding': 'utf-8',\n",
       " 'cvec_knn__input': 'content',\n",
       " 'cvec_knn__lowercase': True,\n",
       " 'cvec_knn__max_df': 1.0,\n",
       " 'cvec_knn__max_features': None,\n",
       " 'cvec_knn__min_df': 1,\n",
       " 'cvec_knn__ngram_range': (1, 1),\n",
       " 'cvec_knn__preprocessor': None,\n",
       " 'cvec_knn__stop_words': None,\n",
       " 'cvec_knn__strip_accents': None,\n",
       " 'cvec_knn__token_pattern': '(?u)\\\\b\\\\w\\\\w+\\\\b',\n",
       " 'cvec_knn__tokenizer': None,\n",
       " 'cvec_knn__vocabulary': None,\n",
       " 'knn_cv__algorithm': 'auto',\n",
       " 'knn_cv__leaf_size': 30,\n",
       " 'knn_cv__metric': 'minkowski',\n",
       " 'knn_cv__metric_params': None,\n",
       " 'knn_cv__n_jobs': None,\n",
       " 'knn_cv__n_neighbors': 5,\n",
       " 'knn_cv__p': 2,\n",
       " 'knn_cv__weights': 'uniform'}"
      ]
     },
     "execution_count": 61,
     "metadata": {},
     "output_type": "execute_result"
    }
   ],
   "source": [
    "pipe_cv_knn.get_params()"
   ]
  },
  {
   "cell_type": "markdown",
   "id": "f02a4b1b",
   "metadata": {},
   "source": [
    "##### Define GridSearchCV parameters"
   ]
  },
  {
   "cell_type": "code",
   "execution_count": 62,
   "id": "bc8d6398",
   "metadata": {},
   "outputs": [],
   "source": [
    "pipe_cv_knn_params = {\n",
    "    'cvec_knn__max_features': [4_000], #[3_000, 4_000, 7_000, 9_000],\n",
    "    'cvec_knn__min_df': [2], #[2, 3],\n",
    "    'cvec_knn__max_df': [0.5], #[0.5 ,.7 ,.9],\n",
    "    'cvec_knn__ngram_range': [(1,1)], #[(1,1), (1,2)],\n",
    "    'knn_cv__weights': ['uniform'], #['uniform','distance'],\n",
    "    'knn_cv__n_neighbors': [1]} #[1,3,5]}"
   ]
  },
  {
   "cell_type": "raw",
   "id": "f89c56b2",
   "metadata": {},
   "source": [
    "Pipeline Best Parameters:\n",
    "\n",
    "{'cvec_knn__max_df': 0.5,\n",
    " 'cvec_knn__max_features': 4000,\n",
    " 'cvec_knn__min_df': 2,\n",
    " 'cvec_knn__ngram_range': (1, 1),\n",
    " 'knn_cv__n_neighbors': 1,\n",
    " 'knn_cv__weights': 'uniform'}"
   ]
  },
  {
   "cell_type": "markdown",
   "id": "2fc802e7",
   "metadata": {},
   "source": [
    "##### Instantiate GridSearchCV"
   ]
  },
  {
   "cell_type": "code",
   "execution_count": 63,
   "id": "faa533d3",
   "metadata": {},
   "outputs": [],
   "source": [
    "gs_cv_knn = GridSearchCV(pipe_cv_knn, param_grid=pipe_cv_knn_params, cv=5)"
   ]
  },
  {
   "cell_type": "code",
   "execution_count": 64,
   "id": "6c2b97ff",
   "metadata": {},
   "outputs": [
    {
     "data": {
      "text/plain": [
       "GridSearchCV(cv=5,\n",
       "             estimator=Pipeline(steps=[('cvec_knn', CountVectorizer()),\n",
       "                                       ('knn_cv', KNeighborsClassifier())]),\n",
       "             param_grid={'cvec_knn__max_df': [0.5],\n",
       "                         'cvec_knn__max_features': [4000],\n",
       "                         'cvec_knn__min_df': [2],\n",
       "                         'cvec_knn__ngram_range': [(1, 1)],\n",
       "                         'knn_cv__n_neighbors': [1],\n",
       "                         'knn_cv__weights': ['uniform']})"
      ]
     },
     "execution_count": 64,
     "metadata": {},
     "output_type": "execute_result"
    }
   ],
   "source": [
    "gs_cv_knn.fit(X_train, y_train)"
   ]
  },
  {
   "cell_type": "code",
   "execution_count": 65,
   "id": "31f1ac64",
   "metadata": {},
   "outputs": [
    {
     "data": {
      "text/plain": [
       "0.6503932338000568"
      ]
     },
     "execution_count": 65,
     "metadata": {},
     "output_type": "execute_result"
    }
   ],
   "source": [
    "gs_cv_knn.best_score_"
   ]
  },
  {
   "cell_type": "code",
   "execution_count": 66,
   "id": "52340f7e",
   "metadata": {
    "scrolled": true
   },
   "outputs": [
    {
     "data": {
      "text/plain": [
       "{'cvec_knn__max_df': 0.5,\n",
       " 'cvec_knn__max_features': 4000,\n",
       " 'cvec_knn__min_df': 2,\n",
       " 'cvec_knn__ngram_range': (1, 1),\n",
       " 'knn_cv__n_neighbors': 1,\n",
       " 'knn_cv__weights': 'uniform'}"
      ]
     },
     "execution_count": 66,
     "metadata": {},
     "output_type": "execute_result"
    }
   ],
   "source": [
    "gs_cv_knn.best_params_"
   ]
  },
  {
   "cell_type": "code",
   "execution_count": 67,
   "id": "6d55dff8",
   "metadata": {},
   "outputs": [
    {
     "name": "stdout",
     "output_type": "stream",
     "text": [
      "CrossVal Score:[0.65949821 0.64157706 0.65232975 0.67985612 0.61870504]\n",
      "Average CrossVal Score: 0.6503932338000568\n",
      "Model Score: 0.9985642498205313\n"
     ]
    }
   ],
   "source": [
    "crossval_gs_cv_knn = cross_val_score(gs_cv_knn, X_train, y_train, cv=5)\n",
    "crossvalavg_gs_cv_knn = cross_val_score(gs_cv_knn, X_train, y_train, cv=5).mean()\n",
    "gs_cv_knn_score = gs_cv_knn.score(X_train, y_train)\n",
    "\n",
    "print(f'CrossVal Score:{crossval_gs_cv_knn}')\n",
    "print(f'Average CrossVal Score: {crossvalavg_gs_cv_knn}')\n",
    "print(f'Model Score: {gs_cv_knn_score}')"
   ]
  },
  {
   "cell_type": "code",
   "execution_count": 68,
   "id": "2816c4f4",
   "metadata": {},
   "outputs": [
    {
     "name": "stdout",
     "output_type": "stream",
     "text": [
      "Prediction Accuracy: 0.6471571906354515\n",
      "Prediction Recall: 0.9093959731543624\n",
      "Prediction Precision: 0.5956043956043956\n",
      "Prediction F1: 0.7197875166002655\n"
     ]
    }
   ],
   "source": [
    "y_pred_gs_cv_knn = gs_cv_knn.predict(X_test)\n",
    "\n",
    "accuracy_gs_cv_knn = accuracy_score(y_test, y_pred_gs_cv_knn)\n",
    "recall_gs_cv_knn = recall_score(y_test, y_pred_gs_cv_knn)\n",
    "precision_gs_cv_knn = precision_score(y_test, y_pred_gs_cv_knn)\n",
    "f1_gs_cv_knn = f1_score(y_test, y_pred_gs_cv_knn)\n",
    "\n",
    "print(f'Prediction Accuracy: {accuracy_gs_cv_knn}\\nPrediction Recall: {recall_gs_cv_knn}\\nPrediction Precision: {precision_gs_cv_knn}\\nPrediction F1: {f1_gs_cv_knn}')"
   ]
  },
  {
   "cell_type": "code",
   "execution_count": 69,
   "id": "3c3ff10f",
   "metadata": {},
   "outputs": [],
   "source": [
    "# Plotting Confusion Matrix\n",
    "\n",
    "cm_gs_cv_knn = confusion_matrix(y_test, y_pred_gs_cv_knn)\n",
    "\n",
    "annot_labels = []\n",
    "for index,value in enumerate(cm_gs_cv_knn):\n",
    "    if index == 0:\n",
    "        annot_labels.append(['TN = ' + str(value[0]), 'FP = ' + str(value[1])])\n",
    "    if index == 1:\n",
    "        annot_labels.append(['FN = ' + str(value[0]), 'TP = ' + str(value[1])]);"
   ]
  },
  {
   "cell_type": "code",
   "execution_count": 70,
   "id": "874e761a",
   "metadata": {},
   "outputs": [
    {
     "data": {
      "image/png": "[encoded data removed]",
      "text/plain": [
       "<Figure size 360x360 with 2 Axes>"
      ]
     },
     "metadata": {
      "needs_background": "light"
     },
     "output_type": "display_data"
    }
   ],
   "source": [
    "plt.figure(figsize=(5,5))\n",
    "sns.heatmap(cm_gs_cv_knn, annot=np.array(annot_labels),\n",
    "            fmt=\"\",\n",
    "            annot_kws={\"size\": 10},\n",
    "            linewidths=.5,\n",
    "            square = True,\n",
    "            cmap = 'Blues',\n",
    "            xticklabels = ['Cat', 'Dog'],\n",
    "            yticklabels = ['Cat', 'Dog'],\n",
    "            );\n",
    "\n",
    "plt.ylabel('Actual label', fontsize = 7);\n",
    "plt.xlabel('Predicted label', fontsize = 7);\n",
    "plt.title('Accuracy: {:.3f}'.format(accuracy_gs_cv_knn)+'\\n'\n",
    "          +'Precision: {:.3f}'.format(precision_gs_cv_knn)+'\\n'\n",
    "          +'Recall: {:.3f}'.format(recall_gs_cv_knn)+'\\n'\n",
    "          +'F1: {:.3f}'.format(f1_gs_cv_knn)+'\\n', size = 10);\n",
    "plt.tick_params(labelsize= 7)"
   ]
  },
  {
   "cell_type": "code",
   "execution_count": 71,
   "id": "baedd384",
   "metadata": {},
   "outputs": [
    {
     "name": "stderr",
     "output_type": "stream",
     "text": [
      "C:\\Users\\flori\\anaconda3\\lib\\site-packages\\sklearn\\utils\\deprecation.py:87: FutureWarning: Function plot_roc_curve is deprecated; Function :func:`plot_roc_curve` is deprecated in 1.0 and will be removed in 1.2. Use one of the class methods: :meth:`sklearn.metric.RocCurveDisplay.from_predictions` or :meth:`sklearn.metric.RocCurveDisplay.from_estimator`.\n",
      "  warnings.warn(msg, category=FutureWarning)\n"
     ]
    },
    {
     "data": {
      "image/png": "[encoded data removed]",
      "text/plain": [
       "<Figure size 432x288 with 1 Axes>"
      ]
     },
     "metadata": {
      "needs_background": "light"
     },
     "output_type": "display_data"
    }
   ],
   "source": [
    "plot_roc_curve(gs_cv_knn, X_test, y_test)\n",
    "plt.plot([0, 1], [0, 1],\n",
    "         label='baseline', linestyle='--')\n",
    "plt.legend();"
   ]
  },
  {
   "cell_type": "markdown",
   "id": "e1bca5ba",
   "metadata": {},
   "source": [
    "##### Using TF-IDF"
   ]
  },
  {
   "cell_type": "markdown",
   "id": "857771bc",
   "metadata": {},
   "source": [
    "##### Create a Pipeline to identify best TFIDF parameters"
   ]
  },
  {
   "cell_type": "code",
   "execution_count": 72,
   "id": "86a3f5c5",
   "metadata": {},
   "outputs": [],
   "source": [
    "pipe_tfidf_knn = Pipeline([('tfidf_knn', TfidfVectorizer()),\n",
    "                ('knn_tfidf', KNeighborsClassifier())])"
   ]
  },
  {
   "cell_type": "code",
   "execution_count": 73,
   "id": "61429f99",
   "metadata": {
    "scrolled": true
   },
   "outputs": [
    {
     "data": {
      "text/plain": [
       "{'memory': None,\n",
       " 'steps': [('tfidf_knn', TfidfVectorizer()),\n",
       "  ('knn_tfidf', KNeighborsClassifier())],\n",
       " 'verbose': False,\n",
       " 'tfidf_knn': TfidfVectorizer(),\n",
       " 'knn_tfidf': KNeighborsClassifier(),\n",
       " 'tfidf_knn__analyzer': 'word',\n",
       " 'tfidf_knn__binary': False,\n",
       " 'tfidf_knn__decode_error': 'strict',\n",
       " 'tfidf_knn__dtype': numpy.float64,\n",
       " 'tfidf_knn__encoding': 'utf-8',\n",
       " 'tfidf_knn__input': 'content',\n",
       " 'tfidf_knn__lowercase': True,\n",
       " 'tfidf_knn__max_df': 1.0,\n",
       " 'tfidf_knn__max_features': None,\n",
       " 'tfidf_knn__min_df': 1,\n",
       " 'tfidf_knn__ngram_range': (1, 1),\n",
       " 'tfidf_knn__norm': 'l2',\n",
       " 'tfidf_knn__preprocessor': None,\n",
       " 'tfidf_knn__smooth_idf': True,\n",
       " 'tfidf_knn__stop_words': None,\n",
       " 'tfidf_knn__strip_accents': None,\n",
       " 'tfidf_knn__sublinear_tf': False,\n",
       " 'tfidf_knn__token_pattern': '(?u)\\\\b\\\\w\\\\w+\\\\b',\n",
       " 'tfidf_knn__tokenizer': None,\n",
       " 'tfidf_knn__use_idf': True,\n",
       " 'tfidf_knn__vocabulary': None,\n",
       " 'knn_tfidf__algorithm': 'auto',\n",
       " 'knn_tfidf__leaf_size': 30,\n",
       " 'knn_tfidf__metric': 'minkowski',\n",
       " 'knn_tfidf__metric_params': None,\n",
       " 'knn_tfidf__n_jobs': None,\n",
       " 'knn_tfidf__n_neighbors': 5,\n",
       " 'knn_tfidf__p': 2,\n",
       " 'knn_tfidf__weights': 'uniform'}"
      ]
     },
     "execution_count": 73,
     "metadata": {},
     "output_type": "execute_result"
    }
   ],
   "source": [
    "pipe_tfidf_knn.get_params()"
   ]
  },
  {
   "cell_type": "markdown",
   "id": "3bf6ec04",
   "metadata": {},
   "source": [
    "##### Define GridSearchCV parameters"
   ]
  },
  {
   "cell_type": "code",
   "execution_count": 74,
   "id": "46d5b34c",
   "metadata": {},
   "outputs": [],
   "source": [
    "pipe_tfidf_knn_params = {\n",
    "    'tfidf_knn__max_features': [3_000], #[3_000, 4_000, 7_000, 9_000],\n",
    "    'tfidf_knn__min_df': [2], #[2, 3],\n",
    "    'tfidf_knn__max_df': [0.5], #[0.5 ,.7 ,.9],\n",
    "    'knn_tfidf__weights': ['distance'], #['uniform','distance'],\n",
    "    'knn_tfidf__n_neighbors': [5]} #[1,3,5]}"
   ]
  },
  {
   "cell_type": "raw",
   "id": "3116e51a",
   "metadata": {},
   "source": [
    "Pipeline Best Parameters:\n",
    "\n",
    "{'knn_tfidf__n_neighbors': 5,\n",
    " 'knn_tfidf__weights': 'distance',\n",
    " 'tfidf_knn__max_df': 0.5,\n",
    " 'tfidf_knn__max_features': 3000,\n",
    " 'tfidf_knn__min_df': 2}"
   ]
  },
  {
   "cell_type": "markdown",
   "id": "b133ccd0",
   "metadata": {},
   "source": [
    "##### Instantiate GridSearchCV"
   ]
  },
  {
   "cell_type": "code",
   "execution_count": 75,
   "id": "f73bc661",
   "metadata": {},
   "outputs": [],
   "source": [
    "gs_tfidf_knn = GridSearchCV(pipe_tfidf_knn, param_grid=pipe_tfidf_knn_params, cv=5)"
   ]
  },
  {
   "cell_type": "code",
   "execution_count": 76,
   "id": "9e7b3577",
   "metadata": {},
   "outputs": [
    {
     "data": {
      "text/plain": [
       "GridSearchCV(cv=5,\n",
       "             estimator=Pipeline(steps=[('tfidf_knn', TfidfVectorizer()),\n",
       "                                       ('knn_tfidf', KNeighborsClassifier())]),\n",
       "             param_grid={'knn_tfidf__n_neighbors': [5],\n",
       "                         'knn_tfidf__weights': ['distance'],\n",
       "                         'tfidf_knn__max_df': [0.5],\n",
       "                         'tfidf_knn__max_features': [3000],\n",
       "                         'tfidf_knn__min_df': [2]})"
      ]
     },
     "execution_count": 76,
     "metadata": {},
     "output_type": "execute_result"
    }
   ],
   "source": [
    "gs_tfidf_knn.fit(X_train, y_train)"
   ]
  },
  {
   "cell_type": "code",
   "execution_count": 77,
   "id": "eafabd67",
   "metadata": {},
   "outputs": [
    {
     "data": {
      "text/plain": [
       "0.5555736056316237"
      ]
     },
     "execution_count": 77,
     "metadata": {},
     "output_type": "execute_result"
    }
   ],
   "source": [
    "gs_tfidf_knn.best_score_"
   ]
  },
  {
   "cell_type": "code",
   "execution_count": 78,
   "id": "ab122515",
   "metadata": {
    "scrolled": true
   },
   "outputs": [
    {
     "data": {
      "text/plain": [
       "{'knn_tfidf__n_neighbors': 5,\n",
       " 'knn_tfidf__weights': 'distance',\n",
       " 'tfidf_knn__max_df': 0.5,\n",
       " 'tfidf_knn__max_features': 3000,\n",
       " 'tfidf_knn__min_df': 2}"
      ]
     },
     "execution_count": 78,
     "metadata": {},
     "output_type": "execute_result"
    }
   ],
   "source": [
    "gs_tfidf_knn.best_params_"
   ]
  },
  {
   "cell_type": "code",
   "execution_count": 79,
   "id": "f1f11a41",
   "metadata": {},
   "outputs": [
    {
     "name": "stdout",
     "output_type": "stream",
     "text": [
      "CrossVal Score:[0.50537634 0.73835125 0.50896057 0.50719424 0.51798561]\n",
      "Average CrossVal Score: 0.5555736056316237\n",
      "Model Score: 0.9985642498205313\n"
     ]
    }
   ],
   "source": [
    "crossval_gs_tfidf_knn = cross_val_score(gs_tfidf_knn, X_train, y_train, cv=5)\n",
    "crossvalavg_gs_tfidf_knn = cross_val_score(gs_tfidf_knn, X_train, y_train, cv=5).mean()\n",
    "gs_tfidf_knn_score = gs_tfidf_knn.score(X_train, y_train)\n",
    "\n",
    "print(f'CrossVal Score:{crossval_gs_tfidf_knn}')\n",
    "print(f'Average CrossVal Score: {crossvalavg_gs_tfidf_knn}')\n",
    "print(f'Model Score: {gs_tfidf_knn_score}')"
   ]
  },
  {
   "cell_type": "code",
   "execution_count": 80,
   "id": "10556101",
   "metadata": {},
   "outputs": [
    {
     "name": "stdout",
     "output_type": "stream",
     "text": [
      "Prediction Accuracy: 0.5150501672240803\n",
      "Prediction Recall: 0.9966442953020134\n",
      "Prediction Precision: 0.5068259385665529\n",
      "Prediction F1: 0.671945701357466\n"
     ]
    }
   ],
   "source": [
    "y_pred_gs_tfidf_knn = gs_tfidf_knn.predict(X_test)\n",
    "\n",
    "accuracy_gs_tfidf_knn = accuracy_score(y_test, y_pred_gs_tfidf_knn)\n",
    "recall_gs_tfidf_knn = recall_score(y_test, y_pred_gs_tfidf_knn)\n",
    "precision_gs_tfidf_knn = precision_score(y_test, y_pred_gs_tfidf_knn)\n",
    "f1_gs_tfidf_knn = f1_score(y_test, y_pred_gs_tfidf_knn)\n",
    "\n",
    "print(f'Prediction Accuracy: {accuracy_gs_tfidf_knn}\\nPrediction Recall: {recall_gs_tfidf_knn}\\nPrediction Precision: {precision_gs_tfidf_knn}\\nPrediction F1: {f1_gs_tfidf_knn}')"
   ]
  },
  {
   "cell_type": "code",
   "execution_count": 81,
   "id": "af89f837",
   "metadata": {},
   "outputs": [],
   "source": [
    "# Plotting Confusion Matrix\n",
    "\n",
    "cm_gs_tfidf_knn = confusion_matrix(y_test, y_pred_gs_tfidf_knn)\n",
    "\n",
    "annot_labels = []\n",
    "for index,value in enumerate(cm_gs_tfidf_knn):\n",
    "    if index == 0:\n",
    "        annot_labels.append(['TN = ' + str(value[0]), 'FP = ' + str(value[1])])\n",
    "    if index == 1:\n",
    "        annot_labels.append(['FN = ' + str(value[0]), 'TP = ' + str(value[1])]);"
   ]
  },
  {
   "cell_type": "code",
   "execution_count": 82,
   "id": "1fd97fc4",
   "metadata": {},
   "outputs": [
    {
     "data": {
      "image/png": "[encoded data removed]",
      "text/plain": [
       "<Figure size 360x360 with 2 Axes>"
      ]
     },
     "metadata": {
      "needs_background": "light"
     },
     "output_type": "display_data"
    }
   ],
   "source": [
    "plt.figure(figsize=(5,5))\n",
    "sns.heatmap(cm_gs_tfidf_knn, annot=np.array(annot_labels),\n",
    "            fmt=\"\",\n",
    "            annot_kws={\"size\": 10},\n",
    "            linewidths=.5,\n",
    "            square = True,\n",
    "            cmap = 'Blues',\n",
    "            xticklabels = ['Cat', 'Dog'],\n",
    "            yticklabels = ['Cat', 'Dog'],\n",
    "            );\n",
    "\n",
    "plt.ylabel('Actual label', fontsize = 7);\n",
    "plt.xlabel('Predicted label', fontsize = 7);\n",
    "plt.title('Accuracy: {:.3f}'.format(accuracy_gs_tfidf_knn)+'\\n'\n",
    "          +'Precision: {:.3f}'.format(precision_gs_tfidf_knn)+'\\n'\n",
    "          +'Recall: {:.3f}'.format(recall_gs_tfidf_knn)+'\\n'\n",
    "          +'F1: {:.3f}'.format(f1_gs_tfidf_knn)+'\\n', size = 10);\n",
    "plt.tick_params(labelsize= 7)"
   ]
  },
  {
   "cell_type": "code",
   "execution_count": 83,
   "id": "b998a610",
   "metadata": {},
   "outputs": [
    {
     "name": "stderr",
     "output_type": "stream",
     "text": [
      "C:\\Users\\flori\\anaconda3\\lib\\site-packages\\sklearn\\utils\\deprecation.py:87: FutureWarning: Function plot_roc_curve is deprecated; Function :func:`plot_roc_curve` is deprecated in 1.0 and will be removed in 1.2. Use one of the class methods: :meth:`sklearn.metric.RocCurveDisplay.from_predictions` or :meth:`sklearn.metric.RocCurveDisplay.from_estimator`.\n",
      "  warnings.warn(msg, category=FutureWarning)\n"
     ]
    },
    {
     "data": {
      "image/png": "[encoded data removed]",
      "text/plain": [
       "<Figure size 432x288 with 1 Axes>"
      ]
     },
     "metadata": {
      "needs_background": "light"
     },
     "output_type": "display_data"
    }
   ],
   "source": [
    "plot_roc_curve(gs_tfidf_knn, X_test, y_test)\n",
    "plt.plot([0, 1], [0, 1],\n",
    "         label='baseline', linestyle='--')\n",
    "plt.legend();"
   ]
  },
  {
   "cell_type": "markdown",
   "id": "fe0afee5",
   "metadata": {},
   "source": [
    "### Random Forest"
   ]
  },
  {
   "cell_type": "markdown",
   "id": "598789b8",
   "metadata": {},
   "source": [
    "##### Using CountVectorizer"
   ]
  },
  {
   "cell_type": "markdown",
   "id": "610576a3",
   "metadata": {},
   "source": [
    "##### Create a Pipeline to identify best CountVectorizer parameters"
   ]
  },
  {
   "cell_type": "code",
   "execution_count": 84,
   "id": "852c50aa",
   "metadata": {},
   "outputs": [],
   "source": [
    "pipe_cv_rf = Pipeline([('cvec_rf', CountVectorizer()),\n",
    "                ('rf_cv', RandomForestClassifier())])"
   ]
  },
  {
   "cell_type": "code",
   "execution_count": 85,
   "id": "f1ec5e35",
   "metadata": {
    "scrolled": true
   },
   "outputs": [
    {
     "data": {
      "text/plain": [
       "{'memory': None,\n",
       " 'steps': [('cvec_rf', CountVectorizer()),\n",
       "  ('rf_cv', RandomForestClassifier())],\n",
       " 'verbose': False,\n",
       " 'cvec_rf': CountVectorizer(),\n",
       " 'rf_cv': RandomForestClassifier(),\n",
       " 'cvec_rf__analyzer': 'word',\n",
       " 'cvec_rf__binary': False,\n",
       " 'cvec_rf__decode_error': 'strict',\n",
       " 'cvec_rf__dtype': numpy.int64,\n",
       " 'cvec_rf__encoding': 'utf-8',\n",
       " 'cvec_rf__input': 'content',\n",
       " 'cvec_rf__lowercase': True,\n",
       " 'cvec_rf__max_df': 1.0,\n",
       " 'cvec_rf__max_features': None,\n",
       " 'cvec_rf__min_df': 1,\n",
       " 'cvec_rf__ngram_range': (1, 1),\n",
       " 'cvec_rf__preprocessor': None,\n",
       " 'cvec_rf__stop_words': None,\n",
       " 'cvec_rf__strip_accents': None,\n",
       " 'cvec_rf__token_pattern': '(?u)\\\\b\\\\w\\\\w+\\\\b',\n",
       " 'cvec_rf__tokenizer': None,\n",
       " 'cvec_rf__vocabulary': None,\n",
       " 'rf_cv__bootstrap': True,\n",
       " 'rf_cv__ccp_alpha': 0.0,\n",
       " 'rf_cv__class_weight': None,\n",
       " 'rf_cv__criterion': 'gini',\n",
       " 'rf_cv__max_depth': None,\n",
       " 'rf_cv__max_features': 'auto',\n",
       " 'rf_cv__max_leaf_nodes': None,\n",
       " 'rf_cv__max_samples': None,\n",
       " 'rf_cv__min_impurity_decrease': 0.0,\n",
       " 'rf_cv__min_samples_leaf': 1,\n",
       " 'rf_cv__min_samples_split': 2,\n",
       " 'rf_cv__min_weight_fraction_leaf': 0.0,\n",
       " 'rf_cv__n_estimators': 100,\n",
       " 'rf_cv__n_jobs': None,\n",
       " 'rf_cv__oob_score': False,\n",
       " 'rf_cv__random_state': None,\n",
       " 'rf_cv__verbose': 0,\n",
       " 'rf_cv__warm_start': False}"
      ]
     },
     "execution_count": 85,
     "metadata": {},
     "output_type": "execute_result"
    }
   ],
   "source": [
    "pipe_cv_rf.get_params()"
   ]
  },
  {
   "cell_type": "markdown",
   "id": "6f3544c2",
   "metadata": {},
   "source": [
    "##### Define GridSearchCV parameters"
   ]
  },
  {
   "cell_type": "code",
   "execution_count": 86,
   "id": "2df3c759",
   "metadata": {},
   "outputs": [],
   "source": [
    "pipe_cv_rf_params = {\n",
    "    'cvec_rf__max_features': [3_000], #[3_000, 4_000, 7_000, 9_000],\n",
    "    'cvec_rf__min_df': [2], #[2, 3],\n",
    "    'cvec_rf__max_df': [0.9], #[0.5 ,.7 ,.9],\n",
    "    'cvec_rf__ngram_range': [(1,1)], #[(1,1), (1,2)],\n",
    "    'rf_cv__max_depth' : [6], #[4,5,6],\n",
    "    'rf_cv__n_estimators': [1500]} #[500,1000,1500]}"
   ]
  },
  {
   "cell_type": "raw",
   "id": "ee992345",
   "metadata": {},
   "source": [
    "Pipeline Best Parameters:\n",
    "\n",
    "{'cvec_rf__max_df': 0.9,\n",
    " 'cvec_rf__max_features': 3000,\n",
    " 'cvec_rf__min_df': 3,\n",
    " 'cvec_rf__ngram_range': (1, 1),\n",
    " 'rf_cv__max_depth': 6,\n",
    " 'rf_cv__n_estimators': 1500}"
   ]
  },
  {
   "cell_type": "markdown",
   "id": "a420ad62",
   "metadata": {},
   "source": [
    "##### Instantiate GridSearchCV"
   ]
  },
  {
   "cell_type": "code",
   "execution_count": 87,
   "id": "f0dae1c1",
   "metadata": {},
   "outputs": [],
   "source": [
    "gs_cv_rf = GridSearchCV(pipe_cv_rf, param_grid=pipe_cv_rf_params, cv=5)"
   ]
  },
  {
   "cell_type": "code",
   "execution_count": 88,
   "id": "578a886d",
   "metadata": {},
   "outputs": [
    {
     "data": {
      "text/plain": [
       "GridSearchCV(cv=5,\n",
       "             estimator=Pipeline(steps=[('cvec_rf', CountVectorizer()),\n",
       "                                       ('rf_cv', RandomForestClassifier())]),\n",
       "             param_grid={'cvec_rf__max_df': [0.9],\n",
       "                         'cvec_rf__max_features': [3000],\n",
       "                         'cvec_rf__min_df': [2],\n",
       "                         'cvec_rf__ngram_range': [(1, 1)],\n",
       "                         'rf_cv__max_depth': [6],\n",
       "                         'rf_cv__n_estimators': [1500]})"
      ]
     },
     "execution_count": 88,
     "metadata": {},
     "output_type": "execute_result"
    }
   ],
   "source": [
    "gs_cv_rf.fit(X_train, y_train)"
   ]
  },
  {
   "cell_type": "code",
   "execution_count": 89,
   "id": "8bf8a32b",
   "metadata": {},
   "outputs": [
    {
     "data": {
      "text/plain": [
       "0.806129290116294"
      ]
     },
     "execution_count": 89,
     "metadata": {},
     "output_type": "execute_result"
    }
   ],
   "source": [
    "gs_cv_rf.best_score_"
   ]
  },
  {
   "cell_type": "code",
   "execution_count": 90,
   "id": "745837b6",
   "metadata": {
    "scrolled": true
   },
   "outputs": [
    {
     "data": {
      "text/plain": [
       "{'cvec_rf__max_df': 0.9,\n",
       " 'cvec_rf__max_features': 3000,\n",
       " 'cvec_rf__min_df': 2,\n",
       " 'cvec_rf__ngram_range': (1, 1),\n",
       " 'rf_cv__max_depth': 6,\n",
       " 'rf_cv__n_estimators': 1500}"
      ]
     },
     "execution_count": 90,
     "metadata": {},
     "output_type": "execute_result"
    }
   ],
   "source": [
    "gs_cv_rf.best_params_"
   ]
  },
  {
   "cell_type": "code",
   "execution_count": 91,
   "id": "e44a0e55",
   "metadata": {},
   "outputs": [
    {
     "name": "stdout",
     "output_type": "stream",
     "text": [
      "CrossVal Score:[0.83512545 0.80645161 0.81362007 0.79136691 0.75179856]\n",
      "Average CrossVal Score: 0.8032670637683401\n",
      "Model Score: 0.8923187365398421\n"
     ]
    }
   ],
   "source": [
    "crossval_gs_cv_rf = cross_val_score(gs_cv_rf, X_train, y_train, cv=5)\n",
    "crossvalavg_gs_cv_rf = cross_val_score(gs_cv_rf, X_train, y_train, cv=5).mean()\n",
    "gs_cv_rf_score = gs_cv_rf.score(X_train, y_train)\n",
    "\n",
    "print(f'CrossVal Score:{crossval_gs_cv_rf}')\n",
    "print(f'Average CrossVal Score: {crossvalavg_gs_cv_rf}')\n",
    "print(f'Model Score: {gs_cv_rf_score}')"
   ]
  },
  {
   "cell_type": "code",
   "execution_count": 92,
   "id": "e5742d3d",
   "metadata": {},
   "outputs": [
    {
     "name": "stdout",
     "output_type": "stream",
     "text": [
      "Prediction Accuracy: 0.8193979933110368\n",
      "Prediction Recall: 0.8590604026845637\n",
      "Prediction Precision: 0.7950310559006211\n",
      "Prediction F1: 0.8258064516129032\n"
     ]
    }
   ],
   "source": [
    "y_pred_gs_cv_rf = gs_cv_rf.predict(X_test)\n",
    "\n",
    "accuracy_gs_cv_rf = accuracy_score(y_test, y_pred_gs_cv_rf)\n",
    "recall_gs_cv_rf = recall_score(y_test, y_pred_gs_cv_rf)\n",
    "precision_gs_cv_rf = precision_score(y_test, y_pred_gs_cv_rf)\n",
    "f1_gs_cv_rf = f1_score(y_test, y_pred_gs_cv_rf)\n",
    "\n",
    "print(f'Prediction Accuracy: {accuracy_gs_cv_rf}\\nPrediction Recall: {recall_gs_cv_rf}\\nPrediction Precision: {precision_gs_cv_rf}\\nPrediction F1: {f1_gs_cv_rf}')"
   ]
  },
  {
   "cell_type": "code",
   "execution_count": 93,
   "id": "e5cd118c",
   "metadata": {},
   "outputs": [],
   "source": [
    "# Plotting Confusion Matrix\n",
    "\n",
    "cm_gs_cv_rf = confusion_matrix(y_test, y_pred_gs_cv_rf)\n",
    "\n",
    "annot_labels = []\n",
    "for index,value in enumerate(cm_gs_cv_rf):\n",
    "    if index == 0:\n",
    "        annot_labels.append(['TN = ' + str(value[0]), 'FP = ' + str(value[1])])\n",
    "    if index == 1:\n",
    "        annot_labels.append(['FN = ' + str(value[0]), 'TP = ' + str(value[1])]);"
   ]
  },
  {
   "cell_type": "code",
   "execution_count": 94,
   "id": "2c666f72",
   "metadata": {},
   "outputs": [
    {
     "data": {
      "image/png": "[encoded data removed]",
      "text/plain": [
       "<Figure size 360x360 with 2 Axes>"
      ]
     },
     "metadata": {
      "needs_background": "light"
     },
     "output_type": "display_data"
    }
   ],
   "source": [
    "plt.figure(figsize=(5,5))\n",
    "sns.heatmap(cm_gs_cv_rf, annot=np.array(annot_labels),\n",
    "            fmt=\"\",\n",
    "            annot_kws={\"size\": 10},\n",
    "            linewidths=.5,\n",
    "            square = True,\n",
    "            cmap = 'Blues',\n",
    "            xticklabels = ['Cat', 'Dog'],\n",
    "            yticklabels = ['Cat', 'Dog'],\n",
    "            );\n",
    "\n",
    "plt.ylabel('Actual label', fontsize = 7);\n",
    "plt.xlabel('Predicted label', fontsize = 7);\n",
    "plt.title('Accuracy: {:.3f}'.format(accuracy_gs_cv_rf)+'\\n'\n",
    "          +'Precision: {:.3f}'.format(precision_gs_cv_rf)+'\\n'\n",
    "          +'Recall: {:.3f}'.format(recall_gs_cv_rf)+'\\n'\n",
    "          +'F1: {:.3f}'.format(f1_gs_cv_rf)+'\\n', size = 10);\n",
    "plt.tick_params(labelsize= 7)"
   ]
  },
  {
   "cell_type": "code",
   "execution_count": 95,
   "id": "985c714c",
   "metadata": {},
   "outputs": [
    {
     "name": "stderr",
     "output_type": "stream",
     "text": [
      "C:\\Users\\flori\\anaconda3\\lib\\site-packages\\sklearn\\utils\\deprecation.py:87: FutureWarning: Function plot_roc_curve is deprecated; Function :func:`plot_roc_curve` is deprecated in 1.0 and will be removed in 1.2. Use one of the class methods: :meth:`sklearn.metric.RocCurveDisplay.from_predictions` or :meth:`sklearn.metric.RocCurveDisplay.from_estimator`.\n",
      "  warnings.warn(msg, category=FutureWarning)\n"
     ]
    },
    {
     "data": {
      "image/png": "[encoded data removed]",
      "text/plain": [
       "<Figure size 432x288 with 1 Axes>"
      ]
     },
     "metadata": {
      "needs_background": "light"
     },
     "output_type": "display_data"
    }
   ],
   "source": [
    "plot_roc_curve(gs_cv_rf, X_test, y_test)\n",
    "plt.plot([0, 1], [0, 1],\n",
    "         label='baseline', linestyle='--')\n",
    "plt.legend();"
   ]
  },
  {
   "cell_type": "markdown",
   "id": "0087952c",
   "metadata": {},
   "source": [
    "##### Using TF-IDF"
   ]
  },
  {
   "cell_type": "markdown",
   "id": "10790bfc",
   "metadata": {},
   "source": [
    "##### Create a Pipeline to identify best TF-IDF parameters"
   ]
  },
  {
   "cell_type": "code",
   "execution_count": 96,
   "id": "926025e7",
   "metadata": {},
   "outputs": [],
   "source": [
    "pipe_tfidf_rf = Pipeline([('tfidf_rf', TfidfVectorizer()),\n",
    "                ('rf_tfidf', RandomForestClassifier())])"
   ]
  },
  {
   "cell_type": "code",
   "execution_count": 97,
   "id": "5cc80dd7",
   "metadata": {
    "scrolled": true
   },
   "outputs": [
    {
     "data": {
      "text/plain": [
       "{'memory': None,\n",
       " 'steps': [('tfidf_rf', TfidfVectorizer()),\n",
       "  ('rf_tfidf', RandomForestClassifier())],\n",
       " 'verbose': False,\n",
       " 'tfidf_rf': TfidfVectorizer(),\n",
       " 'rf_tfidf': RandomForestClassifier(),\n",
       " 'tfidf_rf__analyzer': 'word',\n",
       " 'tfidf_rf__binary': False,\n",
       " 'tfidf_rf__decode_error': 'strict',\n",
       " 'tfidf_rf__dtype': numpy.float64,\n",
       " 'tfidf_rf__encoding': 'utf-8',\n",
       " 'tfidf_rf__input': 'content',\n",
       " 'tfidf_rf__lowercase': True,\n",
       " 'tfidf_rf__max_df': 1.0,\n",
       " 'tfidf_rf__max_features': None,\n",
       " 'tfidf_rf__min_df': 1,\n",
       " 'tfidf_rf__ngram_range': (1, 1),\n",
       " 'tfidf_rf__norm': 'l2',\n",
       " 'tfidf_rf__preprocessor': None,\n",
       " 'tfidf_rf__smooth_idf': True,\n",
       " 'tfidf_rf__stop_words': None,\n",
       " 'tfidf_rf__strip_accents': None,\n",
       " 'tfidf_rf__sublinear_tf': False,\n",
       " 'tfidf_rf__token_pattern': '(?u)\\\\b\\\\w\\\\w+\\\\b',\n",
       " 'tfidf_rf__tokenizer': None,\n",
       " 'tfidf_rf__use_idf': True,\n",
       " 'tfidf_rf__vocabulary': None,\n",
       " 'rf_tfidf__bootstrap': True,\n",
       " 'rf_tfidf__ccp_alpha': 0.0,\n",
       " 'rf_tfidf__class_weight': None,\n",
       " 'rf_tfidf__criterion': 'gini',\n",
       " 'rf_tfidf__max_depth': None,\n",
       " 'rf_tfidf__max_features': 'auto',\n",
       " 'rf_tfidf__max_leaf_nodes': None,\n",
       " 'rf_tfidf__max_samples': None,\n",
       " 'rf_tfidf__min_impurity_decrease': 0.0,\n",
       " 'rf_tfidf__min_samples_leaf': 1,\n",
       " 'rf_tfidf__min_samples_split': 2,\n",
       " 'rf_tfidf__min_weight_fraction_leaf': 0.0,\n",
       " 'rf_tfidf__n_estimators': 100,\n",
       " 'rf_tfidf__n_jobs': None,\n",
       " 'rf_tfidf__oob_score': False,\n",
       " 'rf_tfidf__random_state': None,\n",
       " 'rf_tfidf__verbose': 0,\n",
       " 'rf_tfidf__warm_start': False}"
      ]
     },
     "execution_count": 97,
     "metadata": {},
     "output_type": "execute_result"
    }
   ],
   "source": [
    "pipe_tfidf_rf.get_params()"
   ]
  },
  {
   "cell_type": "markdown",
   "id": "0372b261",
   "metadata": {},
   "source": [
    "##### Define GridSearchCV parameters"
   ]
  },
  {
   "cell_type": "code",
   "execution_count": 99,
   "id": "d90b91db",
   "metadata": {},
   "outputs": [],
   "source": [
    "pipe_tfidf_rf_params = {\n",
    "    'tfidf_rf__max_features': [7000], #[3_000, 4_000, 7_000, 9_000],\n",
    "    'tfidf_rf__min_df': [3], #[2, 3],\n",
    "    'tfidf_rf__max_df': [0.9], #[0.5 ,.7 ,.9],\n",
    "    'rf_tfidf__max_depth' : [6], #[4,5,6],\n",
    "    'rf_tfidf__n_estimators': [1000]} #[500,1000,1500]}"
   ]
  },
  {
   "cell_type": "raw",
   "id": "29962d37",
   "metadata": {},
   "source": [
    "Pipeline Best Parameters:\n",
    "\n",
    "{'rf_tfidf__max_depth': 6,\n",
    " 'rf_tfidf__n_estimators': 1000,\n",
    " 'tfidf_rf__max_df': 0.9,\n",
    " 'tfidf_rf__max_features': 7000,\n",
    " 'tfidf_rf__min_df': 3}"
   ]
  },
  {
   "cell_type": "markdown",
   "id": "93ada346",
   "metadata": {},
   "source": [
    "##### Instantiate GridSearchCV"
   ]
  },
  {
   "cell_type": "code",
   "execution_count": 100,
   "id": "98154784",
   "metadata": {},
   "outputs": [],
   "source": [
    "gs_tfidf_rf = GridSearchCV(pipe_tfidf_rf, param_grid=pipe_tfidf_rf_params, cv=5)"
   ]
  },
  {
   "cell_type": "code",
   "execution_count": 101,
   "id": "35daaf20",
   "metadata": {},
   "outputs": [
    {
     "data": {
      "text/plain": [
       "GridSearchCV(cv=5,\n",
       "             estimator=Pipeline(steps=[('tfidf_rf', TfidfVectorizer()),\n",
       "                                       ('rf_tfidf', RandomForestClassifier())]),\n",
       "             param_grid={'rf_tfidf__max_depth': [6],\n",
       "                         'rf_tfidf__n_estimators': [1000],\n",
       "                         'tfidf_rf__max_df': [0.9],\n",
       "                         'tfidf_rf__max_features': [7000],\n",
       "                         'tfidf_rf__min_df': [3]})"
      ]
     },
     "execution_count": 101,
     "metadata": {},
     "output_type": "execute_result"
    }
   ],
   "source": [
    "gs_tfidf_rf.fit(X_train, y_train)"
   ]
  },
  {
   "cell_type": "code",
   "execution_count": 102,
   "id": "961bc6c4",
   "metadata": {},
   "outputs": [
    {
     "data": {
      "text/plain": [
       "0.8011036332224544"
      ]
     },
     "execution_count": 102,
     "metadata": {},
     "output_type": "execute_result"
    }
   ],
   "source": [
    "gs_tfidf_rf.best_score_"
   ]
  },
  {
   "cell_type": "code",
   "execution_count": 103,
   "id": "d6f15be4",
   "metadata": {
    "scrolled": true
   },
   "outputs": [
    {
     "data": {
      "text/plain": [
       "{'rf_tfidf__max_depth': 6,\n",
       " 'rf_tfidf__n_estimators': 1000,\n",
       " 'tfidf_rf__max_df': 0.9,\n",
       " 'tfidf_rf__max_features': 7000,\n",
       " 'tfidf_rf__min_df': 3}"
      ]
     },
     "execution_count": 103,
     "metadata": {},
     "output_type": "execute_result"
    }
   ],
   "source": [
    "gs_tfidf_rf.best_params_"
   ]
  },
  {
   "cell_type": "code",
   "execution_count": 104,
   "id": "414d769f",
   "metadata": {},
   "outputs": [
    {
     "name": "stdout",
     "output_type": "stream",
     "text": [
      "CrossVal Score:[0.83512545 0.81362007 0.82437276 0.80935252 0.75899281]\n",
      "Average CrossVal Score: 0.7968025579536371\n",
      "Model Score: 0.908829863603733\n"
     ]
    }
   ],
   "source": [
    "crossval_gs_tfidf_rf = cross_val_score(gs_tfidf_rf, X_train, y_train, cv=5)\n",
    "crossvalavg_gs_tfidf_rf = cross_val_score(gs_tfidf_rf, X_train, y_train, cv=5).mean()\n",
    "gs_tfidf_rf_score = gs_tfidf_rf.score(X_train, y_train)\n",
    "\n",
    "print(f'CrossVal Score:{crossval_gs_tfidf_rf}')\n",
    "print(f'Average CrossVal Score: {crossvalavg_gs_tfidf_rf}')\n",
    "print(f'Model Score: {gs_tfidf_rf_score}')"
   ]
  },
  {
   "cell_type": "code",
   "execution_count": 105,
   "id": "2f6307ce",
   "metadata": {},
   "outputs": [
    {
     "name": "stdout",
     "output_type": "stream",
     "text": [
      "Prediction Accuracy: 0.8160535117056856\n",
      "Prediction Recall: 0.8389261744966443\n",
      "Prediction Precision: 0.8012820512820513\n",
      "Prediction F1: 0.819672131147541\n"
     ]
    }
   ],
   "source": [
    "y_pred_gs_tfidf_rf = gs_tfidf_rf.predict(X_test)\n",
    "\n",
    "accuracy_gs_tfidf_rf = accuracy_score(y_test, y_pred_gs_tfidf_rf)\n",
    "recall_gs_tfidf_rf = recall_score(y_test, y_pred_gs_tfidf_rf)\n",
    "precision_gs_tfidf_rf = precision_score(y_test, y_pred_gs_tfidf_rf)\n",
    "f1_gs_tfidf_rf = f1_score(y_test, y_pred_gs_tfidf_rf)\n",
    "\n",
    "print(f'Prediction Accuracy: {accuracy_gs_tfidf_rf}\\nPrediction Recall: {recall_gs_tfidf_rf}\\nPrediction Precision: {precision_gs_tfidf_rf}\\nPrediction F1: {f1_gs_tfidf_rf}')"
   ]
  },
  {
   "cell_type": "code",
   "execution_count": 106,
   "id": "716879e0",
   "metadata": {},
   "outputs": [],
   "source": [
    "# Plotting Confusion Matrix\n",
    "\n",
    "cm_gs_tfidf_rf = confusion_matrix(y_test, y_pred_gs_tfidf_rf)\n",
    "\n",
    "annot_labels = []\n",
    "for index,value in enumerate(cm_gs_tfidf_rf):\n",
    "    if index == 0:\n",
    "        annot_labels.append(['TN = ' + str(value[0]), 'FP = ' + str(value[1])])\n",
    "    if index == 1:\n",
    "        annot_labels.append(['FN = ' + str(value[0]), 'TP = ' + str(value[1])]);"
   ]
  },
  {
   "cell_type": "code",
   "execution_count": 107,
   "id": "da258536",
   "metadata": {},
   "outputs": [
    {
     "data": {
      "image/png": "[encoded data removed]",
      "text/plain": [
       "<Figure size 360x360 with 2 Axes>"
      ]
     },
     "metadata": {
      "needs_background": "light"
     },
     "output_type": "display_data"
    }
   ],
   "source": [
    "plt.figure(figsize=(5,5))\n",
    "sns.heatmap(cm_gs_tfidf_rf, annot=np.array(annot_labels),\n",
    "            fmt=\"\",\n",
    "            annot_kws={\"size\": 10},\n",
    "            linewidths=.5,\n",
    "            square = True,\n",
    "            cmap = 'Blues',\n",
    "            xticklabels = ['Cat', 'Dog'],\n",
    "            yticklabels = ['Cat', 'Dog'],\n",
    "            );\n",
    "\n",
    "plt.ylabel('Actual label', fontsize = 7);\n",
    "plt.xlabel('Predicted label', fontsize = 7);\n",
    "plt.title('Accuracy: {:.3f}'.format(accuracy_gs_tfidf_rf)+'\\n'\n",
    "          +'Precision: {:.3f}'.format(precision_gs_tfidf_rf)+'\\n'\n",
    "          +'Recall: {:.3f}'.format(recall_gs_tfidf_rf)+'\\n'\n",
    "          +'F1: {:.3f}'.format(f1_gs_tfidf_rf)+'\\n', size = 10);\n",
    "plt.tick_params(labelsize= 7)"
   ]
  },
  {
   "cell_type": "code",
   "execution_count": 108,
   "id": "354e85c0",
   "metadata": {},
   "outputs": [
    {
     "name": "stderr",
     "output_type": "stream",
     "text": [
      "C:\\Users\\flori\\anaconda3\\lib\\site-packages\\sklearn\\utils\\deprecation.py:87: FutureWarning: Function plot_roc_curve is deprecated; Function :func:`plot_roc_curve` is deprecated in 1.0 and will be removed in 1.2. Use one of the class methods: :meth:`sklearn.metric.RocCurveDisplay.from_predictions` or :meth:`sklearn.metric.RocCurveDisplay.from_estimator`.\n",
      "  warnings.warn(msg, category=FutureWarning)\n"
     ]
    },
    {
     "data": {
      "image/png": "[encoded data removed]",
      "text/plain": [
       "<Figure size 432x288 with 1 Axes>"
      ]
     },
     "metadata": {
      "needs_background": "light"
     },
     "output_type": "display_data"
    }
   ],
   "source": [
    "plot_roc_curve(gs_tfidf_rf, X_test, y_test)\n",
    "plt.plot([0, 1], [0, 1],\n",
    "         label='baseline', linestyle='--')\n",
    "plt.legend();"
   ]
  },
  {
   "cell_type": "markdown",
   "id": "b08783a0",
   "metadata": {},
   "source": [
    "### Getting the most similar words to Dog and Cat using Word Vectors"
   ]
  },
  {
   "cell_type": "code",
   "execution_count": 111,
   "id": "0d8f38fb",
   "metadata": {},
   "outputs": [
    {
     "data": {
      "text/plain": [
       "Index(['Unnamed: 0', 'created_utc', 'domain', 'is_robot_indexable', 'selftext',\n",
       "       'subreddit', 'title', 'post_hint', 'content_word_count',\n",
       "       'content_lemmatized', 'content_joined'],\n",
       "      dtype='object')"
      ]
     },
     "execution_count": 111,
     "metadata": {},
     "output_type": "execute_result"
    }
   ],
   "source": [
    "# Getting columns name in cat_dog csv\n",
    "\n",
    "cat_dog.columns"
   ]
  },
  {
   "cell_type": "code",
   "execution_count": 112,
   "id": "d73909d6",
   "metadata": {},
   "outputs": [],
   "source": [
    "# Clean data (remove punctuations, remove stopwords, tokenize) using the built in cleaner in gensim\n",
    "\n",
    "cat_dog['content_wv'] = cat_dog['content_joined'].apply(lambda x: gensim.utils.simple_preprocess(x))"
   ]
  },
  {
   "cell_type": "code",
   "execution_count": 113,
   "id": "58831f1a",
   "metadata": {},
   "outputs": [],
   "source": [
    "# Dropping irrelevant columns\n",
    "\n",
    "cat_dog_vectors = cat_dog.drop(labels = ['Unnamed: 0', 'created_utc', 'domain', 'is_robot_indexable', 'selftext',\n",
    "       'title', 'post_hint', 'content_joined', 'content_lemmatized'], axis= 1)"
   ]
  },
  {
   "cell_type": "code",
   "execution_count": 114,
   "id": "2be7a5cf",
   "metadata": {},
   "outputs": [],
   "source": [
    "# Split data into train and test sets\n",
    "\n",
    "X_train, X_test, y_train, y_test = train_test_split(cat_dog_vectors['content_wv'],\n",
    "                                                    cat_dog_vectors['subreddit'], test_size=0.2)"
   ]
  },
  {
   "cell_type": "code",
   "execution_count": 115,
   "id": "63bdd473",
   "metadata": {},
   "outputs": [
    {
     "data": {
      "text/plain": [
       "[('male', 0.999434769153595),\n",
       " ('female', 0.9991138577461243),\n",
       " ('week', 0.9972807168960571),\n",
       " ('adopted', 0.9962307214736938),\n",
       " ('ago', 0.9906973838806152),\n",
       " ('month', 0.9887334704399109),\n",
       " ('two', 0.9865784049034119),\n",
       " ('yr', 0.9847474694252014),\n",
       " ('got', 0.984000563621521),\n",
       " ('new', 0.983748197555542),\n",
       " ('year', 0.9836111664772034),\n",
       " ('recently', 0.9813518524169922),\n",
       " ('six', 0.9805442690849304),\n",
       " ('pyrenees', 0.978244423866272),\n",
       " ('neutered', 0.978131115436554),\n",
       " ('tabby', 0.9767935872077942),\n",
       " ('since', 0.9760797023773193),\n",
       " ('puppy', 0.9744033217430115),\n",
       " ('moved', 0.9743826985359192),\n",
       " ('rescue', 0.9739481806755066),\n",
       " ('mix', 0.9729828834533691),\n",
       " ('hi', 0.9725870490074158),\n",
       " ('spayed', 0.9721556305885315),\n",
       " ('weighs', 0.9708226919174194),\n",
       " ('corgi', 0.9706730842590332),\n",
       " ('introduced', 0.9673599600791931),\n",
       " ('beagle', 0.967110812664032),\n",
       " ('everyonei', 0.9665867686271667),\n",
       " ('half', 0.9663420915603638),\n",
       " ('resident', 0.9661742448806763)]"
      ]
     },
     "execution_count": 115,
     "metadata": {},
     "output_type": "execute_result"
    }
   ],
   "source": [
    "w2v = gensim.models.Word2Vec(X_train,vector_size = 100, window = 5, min_count =2)\n",
    "\n",
    "(w2v.wv.most_similar('kitten', topn=30))"
   ]
  },
  {
   "cell_type": "code",
   "execution_count": 116,
   "id": "fc30300b",
   "metadata": {},
   "outputs": [
    {
     "data": {
      "text/plain": [
       "[('rescue', 0.9996377825737),\n",
       " ('since', 0.9996316432952881),\n",
       " ('spayed', 0.9995356202125549),\n",
       " ('mix', 0.9994555115699768),\n",
       " ('hi', 0.9994547963142395),\n",
       " ('neutered', 0.9992582201957703),\n",
       " ('moved', 0.9989640116691589),\n",
       " ('half', 0.9988822340965271),\n",
       " ('first', 0.9987640976905823),\n",
       " ('tabby', 0.9987428188323975),\n",
       " ('recently', 0.9986351728439331),\n",
       " ('black', 0.9986200332641602),\n",
       " ('resident', 0.9984617233276367),\n",
       " ('got', 0.9984613656997681),\n",
       " ('named', 0.9983611106872559),\n",
       " ('stray', 0.9983401298522949),\n",
       " ('shelter', 0.9982818961143494),\n",
       " ('introduced', 0.998177707195282),\n",
       " ('shepherd', 0.9981620907783508),\n",
       " ('couple', 0.9980783462524414),\n",
       " ('yo', 0.9980396628379822),\n",
       " ('almost', 0.9979636669158936),\n",
       " ('new', 0.9978743195533752),\n",
       " ('rescued', 0.9978659152984619),\n",
       " ('mo', 0.9978654980659485),\n",
       " ('yr', 0.9978165626525879),\n",
       " ('last', 0.9975569248199463),\n",
       " ('three', 0.9974943399429321),\n",
       " ('pup', 0.9973388314247131),\n",
       " ('brought', 0.9972541928291321)]"
      ]
     },
     "execution_count": 116,
     "metadata": {},
     "output_type": "execute_result"
    }
   ],
   "source": [
    "w2v.wv.most_similar('puppy', topn=30)"
   ]
  },
  {
   "cell_type": "markdown",
   "id": "0ca43e0e",
   "metadata": {},
   "source": [
    "## Conclusions"
   ]
  },
  {
   "cell_type": "markdown",
   "id": "e2d47b69",
   "metadata": {},
   "source": [
    "Now that we have re-run our model using Hyperparameters Tuning let's see how our new models compares to the previous ones."
   ]
  },
  {
   "cell_type": "markdown",
   "id": "5fe549cd",
   "metadata": {},
   "source": [
    "|        Model        \t| Data Vectorization \t| Cross Val Score \t| Train Score \t| Test Accuracy \t|    Recall    \t|  Precision  \t|     F1     \t|     AUC     \t|\n",
    "|:-------------------:\t|:------------------:\t|:---------------:\t|:-----------:\t|:-------------:\t|:------------:\t|:-----------:\t|:----------:\t|-------------\t|\n",
    "| Bernoulli NB        \t| Count Vectorizer   \t|      0.74%      \t|    81.47%   \t|     71.07%    \t|    78.67%    \t|    66.76%   \t|   72.23%   \t|     0.82    \t|\n",
    "| Bernoulli NB        \t| CV with N-Grams    \t|      68.91%     \t|    83.70%   \t|     69.23%    \t|    90.90%    \t|    62.20%   \t|   73.86%   \t|     0.83    \t|\n",
    "| Bernoulli NB        \t| TF-IDF             \t|      73.80%     \t|    83.63%   \t|     70.73%    \t|    80.41%    \t|    65.90%   \t|   72.44%   \t|     0.82    \t|\n",
    "| Multinomial NB      \t| Count Vectorizer   \t|      87.79%     \t|    94.75%   \t|     89.63%    \t|    86.71%    \t|    91.17%   \t|   88.88%   \t|     0.95    \t|\n",
    "| Multinomial NB      \t| CV with N-Grams    \t|      75.23%     \t|    94.40%   \t|     76.75%    \t|    80.76%    \t|    73.33%   \t|   76.87%   \t|     0.84    \t|\n",
    "| Multinomial NB      \t| TF-IDF             \t|      79.47%     \t|    93.39%   \t|     83.44     \t|    67.48%    \t|    96.98%   \t|   79.58%   \t|     0.95    \t|\n",
    "| Gaussian NB         \t| Count Vectorizer   \t|      77.60%     \t|    91.88%   \t|     76.42%    \t|    81.81%    \t|    72.44%   \t|   76.84%   \t|     0.77    \t|\n",
    "| Gaussian NB         \t| CV with N-Grams    \t|      74.80%     \t|    96.69%   \t|     74.08%    \t|    63.98%    \t|    77.87%   \t|   70.24%   \t|     0.74    \t|\n",
    "| Gaussian NB         \t| TF-IDF             \t|      74.80%     \t|    97.70%   \t|     72.90%    \t|    74.47%    \t|    70.52%   \t|   72.44%   \t|     0.73    \t|\n",
    "| Logistic Regression \t| Count Vectorizer   \t|      84.70      \t|    99.64%   \t|     84.44%    \t|    89.16%    \t|    80.44%   \t|   84.57%   \t|     0.93    \t|\n",
    "| Logistic Regression \t| CV with N-Grams    \t|      73.00%     \t|    97.55%   \t|     74.24%    \t|    87.76%    \t|    67.83%   \t|   76.52%   \t|     0.82    \t|\n",
    "| Logistic Regression \t| TF-IDF             \t|      84.99%     \t|    96.12%   \t|     85.78%    \t|    89.51%    \t|    82.31%   \t|   85.76%   \t|     0.94    \t|\n",
    "| K-Nearest Neighbors \t| Count Vectorizer   \t|      62.89%     \t|    78.24%   \t|     60.36%    \t|    94.05%    \t|    55.01%   \t|   69.41%   \t|     0.61    \t|\n",
    "| K-Nearest Neighbors \t| CV with N-Grams    \t|      54.77%     \t|    62.67%   \t|     52.84%    \t|    99.30%    \t|    50.35%   \t|   66.82%   \t|     0.60    \t|\n",
    "| K-Nearest Neighbors \t| TF-IDF             \t|      76.16%     \t|    86.93%   \t|     81.60%    \t|    80.41%    \t|    80.98%   \t|   80.70%   \t|     0.87    \t|\n",
    "| Random Forest       \t| Count Vectorizer   \t|      79.04%     \t|    99.92%   \t|     81.10%    \t|    78.67%    \t|    81.22%   \t|   79.92%   \t|     0.92    \t|\n",
    "| Random Forest       \t| CV with N-Grams    \t|      69.34%     \t|    99.13%   \t|     68.89%    \t|    82.86%    \t|    63.36%   \t|   71.81%   \t|     0.80    \t|\n",
    "| Random Forest       \t| TF-IDF             \t|      79.68%     \t|     100%    \t|     79.59%    \t|    75.52%    \t|    80.59%   \t|   77.97%   \t|     0.91    \t|"
   ]
  },
  {
   "cell_type": "markdown",
   "id": "35937cdd",
   "metadata": {},
   "source": [
    "New models with hyperparameter tunings"
   ]
  },
  {
   "cell_type": "markdown",
   "id": "7e3e2ada",
   "metadata": {},
   "source": [
    "|        Model        \t| Data Vectorization \t| Cross Val Score \t| Train Score \t| Test Accuracy \t|    Recall    \t|  Precision  \t|     F1     \t|     AUC     \t|\n",
    "|:-------------------:\t|:------------------:\t|:---------------:\t|:-----------:\t|:-------------:\t|:------------:\t|:-----------:\t|:----------:\t|-------------\t|\n",
    "| Multinomial NB      \t| Count Vectorizer   \t|      87.86%     \t|    96.84%   \t|     88.79%    \t|    85.23%    \t|    91.69%   \t|   88.34%   \t|     0.95    \t|\n",
    "| Multinomial NB      \t| TF-IDF             \t|      83.91%     \t|    94.83%   \t|     84.78%    \t|    74.93%    \t|    93.30%   \t|   83.05%   \t|     0.95    \t|\n",
    "| Logistic Regression \t| Count Vectorizer   \t|      85.28%     \t|    97.34%   \t|     84.44%    \t|    88.92%    \t|    81.53%   \t|   85.07%   \t|     0.93    \t|\n",
    "| Logistic Regression \t| TF-IDF             \t|      85.71%     \t|    95.90%   \t|     85.78%    \t|    88.25%    \t|    84.02%   \t|   86.08%   \t|     0.94    \t|\n",
    "| K-Nearest Neighbors \t| Count Vectorizer   \t|      65.03%     \t|    99.85%   \t|     64.71%    \t|    90.93%    \t|    59.56%   \t|   71.97%   \t|     0.65    \t|\n",
    "| K-Nearest Neighbors \t| TF-IDF             \t|      55.55%     \t|    99.85%   \t|     51.50%    \t|    99.66%    \t|    50.68%   \t|   67.19%   \t|     0.52    \t|\n",
    "| Random Forest       \t| Count Vectorizer   \t|      80.25%     \t|    88.94%   \t|     81.93%    \t|    86.24%    \t|    79.32%   \t|   82.63%   \t|     0.90    \t|\n",
    "| Random Forest       \t| TF-IDF             \t|      79.68%     \t|    90.88%   \t|     81.60%    \t|    83.89%    \t|    80.12%   \t|   81.86%   \t|     0.91    \t|"
   ]
  },
  {
   "cell_type": "markdown",
   "id": "6431d9e5",
   "metadata": {},
   "source": [
    "We can see that using the Hyperparameters tuning did not allow our models to gain in much accuracy. However, it seems that our models are less prone to overfitting and Recall, Precision and F1 seems closer.\n",
    "\n",
    "Our best model remains the Multinomial Naive Bayes with Count Vecotrizer. Even thought, it does not have the best Precision or Recall, it is the model with the highest accuracy, f1 score and AUC.\n",
    "\n",
    "\n",
    "As such this is the model that we will selecting for our project."
   ]
  },
  {
   "cell_type": "markdown",
   "id": "aa884985",
   "metadata": {},
   "source": [
    "We could also try to rerun our model with new parameters in our pipelines to see if we can fine tune the hyperparameter tuning even more.\n",
    "\n",
    "This could allow us to potentially increase the results of our models."
   ]
  },
  {
   "cell_type": "markdown",
   "id": "5bd42d64",
   "metadata": {},
   "source": [
    "###### Best model parameters"
   ]
  },
  {
   "cell_type": "markdown",
   "id": "6f8c8fac",
   "metadata": {},
   "source": [
    "| Min ocurence \t| Max occurence \t| Max number of features \t| N-Gram Range       \t|\n",
    "|--------------\t|---------------\t|------------------------\t|--------------------\t|\n",
    "|       2      \t| 50% of corpus \t|          9000          \t| Unigram and Bigram \t|"
   ]
  },
  {
   "cell_type": "markdown",
   "id": "2ec56132",
   "metadata": {},
   "source": [
    "Using our model, we will be able to precit and assign queries related to cats and dogs to our team of experts with an precision of almost 92%.\n",
    "\n",
    "Using Word Vectors we are also able to provide insights on the most similar words in our traiend dataset.\n",
    "\n",
    "This can be useful to provide recommended articles based on the users searches or queries."
   ]
  },
  {
   "cell_type": "markdown",
   "id": "bce7ebc2",
   "metadata": {},
   "source": [
    "##### Limitations"
   ]
  },
  {
   "cell_type": "markdown",
   "id": "38e5b775",
   "metadata": {},
   "source": [
    "This model is specific to cats and dogs.\n",
    "* We can consider extending it to other popular animals.\n",
    "\n",
    "Recommendations and sources for articles is based on global trends.\n",
    "* In order to tailor the content to a particular population, we might want to explore using localised sources of informations"
   ]
  }
 ],
 "metadata": {
  "kernelspec": {
   "display_name": "Python 3 (ipykernel)",
   "language": "python",
   "name": "python3"
  },
  "language_info": {
   "codemirror_mode": {
    "name": "ipython",
    "version": 3
   },
   "file_extension": ".py",
   "mimetype": "text/x-python",
   "name": "python",
   "nbconvert_exporter": "python",
   "pygments_lexer": "ipython3",
   "version": "3.9.12"
  }
 },
 "nbformat": 4,
 "nbformat_minor": 5
}
