{
 "cells": [
  {
   "cell_type": "markdown",
   "id": "1d91da0f",
   "metadata": {},
   "source": [
    "# Project 3 Web APIs & NLP - Florian Combelles"
   ]
  },
  {
   "cell_type": "markdown",
   "id": "dab4066d",
   "metadata": {},
   "source": [
    "In week four we've learned about a few different classifiers. In week five we'll learn about webscraping, APIs, and Natural Language Processing (NLP). This project will put those skills to the test.\n",
    "\n",
    "For project 3, your goal is two-fold:\n",
    "1. Using [Pushshift's](https://github.com/pushshift/api) API, you'll collect posts from two subreddits of your choosing.\n",
    "2. You'll then use NLP to train a classifier on which subreddit a given post came from. This is a binary classification problem.\n",
    "\n",
    "###### Requirements\n",
    "\n",
    "- Gather and prepare your data using the `requests` library.\n",
    "- **Create and compare two models**. One of these must be a Naive Bayes classifier, however the other can be a classifier of your choosing: logistic regression, KNN, SVM, etc.\n",
    "- A Jupyter Notebook with your analysis for a peer audience of data scientists.\n",
    "- An executive summary of your results.\n",
    "- A short presentation outlining your process and findings for a semi-technical audience."
   ]
  },
  {
   "cell_type": "markdown",
   "id": "fadc91fc",
   "metadata": {},
   "source": [
    "## Problem Statement and background:"
   ]
  },
  {
   "cell_type": "markdown",
   "id": "1ae19ab6",
   "metadata": {},
   "source": [
    "###### Problem Statement\n",
    "\n",
    "During Covid 19, we have seen an increase in the number of new pet owners in Singapore.\n",
    "These new inexperienced pet owners are facing a lack of ressources on how to care for their new pets.\n",
    "\n",
    "This leads to them having to overrely on veterinarians and pet stores to provides information and respond to their queries.\n",
    "\n",
    "This influx of inexperienced pets owners overly reliant on vets and pet store reduces their work efficiency and distract them from their main responsibilites\n",
    "\n",
    "\n",
    "##### Background\n",
    "\n",
    "We are working for a company called Pet Smart.\n",
    "\n",
    "We are releasing a new mobile app that includes two features:\n",
    "* A chat box where you can ask your cat or dog related question and get an answer from a team of experts.\n",
    "* Articles that provides informations and tips on how to care for your pets.\n"
   ]
  },
  {
   "cell_type": "markdown",
   "id": "901efbc9",
   "metadata": {},
   "source": [
    "## Part 2: Data Cleaning and EDA"
   ]
  },
  {
   "cell_type": "markdown",
   "id": "0d367898",
   "metadata": {},
   "source": [
    "Now that we have asquired the data we need for our models, we need to clean it and see if we can extract some interesting insight from it"
   ]
  },
  {
   "cell_type": "markdown",
   "id": "2561f8e5",
   "metadata": {},
   "source": [
    "##### Importing Libraries\n",
    "\n",
    "For this second part, we need to import Pandas to handle our dataframes, Matplotlib and Seaborn for visualizations.\n",
    "\n",
    "We are also importing string, re and NLTK for to process our text. This includes:\n",
    "* Classification\n",
    "* Tokenization\n",
    "* Stemming and Lemmatizing\n",
    "\n",
    "Finally we also import two CountVectorizer that will transform text into numerical data that will be passed to our models."
   ]
  },
  {
   "cell_type": "code",
   "execution_count": 1,
   "id": "1ecd601a",
   "metadata": {},
   "outputs": [],
   "source": [
    "import pandas as pd\n",
    "import matplotlib.pyplot as plt\n",
    "import seaborn as sns\n",
    "\n",
    "import string\n",
    "import re\n",
    "import nltk\n",
    "\n",
    "from sklearn.feature_extraction.text import CountVectorizer\n",
    "from sklearn.feature_extraction.text import TfidfVectorizer"
   ]
  },
  {
   "cell_type": "markdown",
   "id": "76e25e0d",
   "metadata": {},
   "source": [
    "###  Data Cleaning / EDA"
   ]
  },
  {
   "cell_type": "markdown",
   "id": "63ce8835",
   "metadata": {},
   "source": [
    "##### Loading Datasets\n",
    "\n",
    "We are loading the two datasets that we created during data acquisition"
   ]
  },
  {
   "cell_type": "code",
   "execution_count": 2,
   "id": "afcccf7e",
   "metadata": {},
   "outputs": [],
   "source": [
    "dog = pd.read_csv('data/DogAdvice.csv')\n",
    "cat = pd.read_csv('data/CatAdvice.csv')"
   ]
  },
  {
   "cell_type": "markdown",
   "id": "72e138b7",
   "metadata": {},
   "source": [
    "##### Display head\n",
    "\n",
    "Display the first two entries in both dog and cat dataframes to ensure data has been correctly registered\n",
    "\n",
    "From this, we can already see that the post_hint column includes null values and that some cleaning will be required"
   ]
  },
  {
   "cell_type": "code",
   "execution_count": 3,
   "id": "4d74015c",
   "metadata": {},
   "outputs": [
    {
     "data": {
      "text/html": [
       "<div>\n",
       "<style scoped>\n",
       "    .dataframe tbody tr th:only-of-type {\n",
       "        vertical-align: middle;\n",
       "    }\n",
       "\n",
       "    .dataframe tbody tr th {\n",
       "        vertical-align: top;\n",
       "    }\n",
       "\n",
       "    .dataframe thead th {\n",
       "        text-align: right;\n",
       "    }\n",
       "</style>\n",
       "<table border=\"1\" class=\"dataframe\">\n",
       "  <thead>\n",
       "    <tr style=\"text-align: right;\">\n",
       "      <th></th>\n",
       "      <th>created_utc</th>\n",
       "      <th>domain</th>\n",
       "      <th>is_robot_indexable</th>\n",
       "      <th>selftext</th>\n",
       "      <th>subreddit</th>\n",
       "      <th>title</th>\n",
       "      <th>post_hint</th>\n",
       "    </tr>\n",
       "  </thead>\n",
       "  <tbody>\n",
       "    <tr>\n",
       "      <th>0</th>\n",
       "      <td>1669614166</td>\n",
       "      <td>self.CatAdvice</td>\n",
       "      <td>True</td>\n",
       "      <td>I have a python that I feed live mice to (idk ...</td>\n",
       "      <td>CatAdvice</td>\n",
       "      <td>Cat mouse</td>\n",
       "      <td>NaN</td>\n",
       "    </tr>\n",
       "    <tr>\n",
       "      <th>1</th>\n",
       "      <td>1669612518</td>\n",
       "      <td>self.CatAdvice</td>\n",
       "      <td>True</td>\n",
       "      <td>My cat is 2 and 1/2 years old, but unfortunate...</td>\n",
       "      <td>CatAdvice</td>\n",
       "      <td>How to touch my cats paws and not get murdered?</td>\n",
       "      <td>NaN</td>\n",
       "    </tr>\n",
       "  </tbody>\n",
       "</table>\n",
       "</div>"
      ],
      "text/plain": [
       "   created_utc          domain  is_robot_indexable  \\\n",
       "0   1669614166  self.CatAdvice                True   \n",
       "1   1669612518  self.CatAdvice                True   \n",
       "\n",
       "                                            selftext  subreddit  \\\n",
       "0  I have a python that I feed live mice to (idk ...  CatAdvice   \n",
       "1  My cat is 2 and 1/2 years old, but unfortunate...  CatAdvice   \n",
       "\n",
       "                                             title post_hint  \n",
       "0                                        Cat mouse       NaN  \n",
       "1  How to touch my cats paws and not get murdered?       NaN  "
      ]
     },
     "execution_count": 3,
     "metadata": {},
     "output_type": "execute_result"
    }
   ],
   "source": [
    "cat.head(2)"
   ]
  },
  {
   "cell_type": "code",
   "execution_count": null,
   "id": "3901c98e",
   "metadata": {},
   "outputs": [],
   "source": [
    "dog.head(2)"
   ]
  },
  {
   "cell_type": "markdown",
   "id": "dd88ee4d",
   "metadata": {},
   "source": [
    "##### Displaying columns names"
   ]
  },
  {
   "cell_type": "markdown",
   "id": "f667a073",
   "metadata": {},
   "source": [
    "Display columns names to ensure all the data we need is present"
   ]
  },
  {
   "cell_type": "code",
   "execution_count": 4,
   "id": "766b6857",
   "metadata": {},
   "outputs": [
    {
     "name": "stdout",
     "output_type": "stream",
     "text": [
      "Index(['created_utc', 'domain', 'is_robot_indexable', 'selftext', 'subreddit',\n",
      "       'title', 'post_hint'],\n",
      "      dtype='object')\n",
      "Index(['created_utc', 'domain', 'is_robot_indexable', 'selftext', 'subreddit',\n",
      "       'title', 'post_hint'],\n",
      "      dtype='object')\n"
     ]
    }
   ],
   "source": [
    "print(dog.columns)\n",
    "print(cat.columns)"
   ]
  },
  {
   "cell_type": "markdown",
   "id": "279ecac4",
   "metadata": {},
   "source": [
    "##### Display two posts from each subreddit prior to cleaning\n",
    "\n",
    "We also want to display two posts from each subredddit prior to cleaning so we can compare them with post cleaning"
   ]
  },
  {
   "cell_type": "code",
   "execution_count": 65,
   "id": "0ee9eafc",
   "metadata": {},
   "outputs": [
    {
     "data": {
      "text/plain": [
       "100    Can anyone give me advice for my cat? My mom h...\n",
       "700    We recently found a stray mom and her 5 kitten...\n",
       "Name: selftext, dtype: object"
      ]
     },
     "execution_count": 65,
     "metadata": {},
     "output_type": "execute_result"
    }
   ],
   "source": [
    "cat.iloc[[100,700],3]"
   ]
  },
  {
   "cell_type": "code",
   "execution_count": 66,
   "id": "ecaeb8c1",
   "metadata": {},
   "outputs": [
    {
     "data": {
      "text/plain": [
       "101    Hi all I have a 9 month old Dashchund as was w...\n",
       "707    We've got a 13 month old French bulldog. He is...\n",
       "Name: selftext, dtype: object"
      ]
     },
     "execution_count": 66,
     "metadata": {},
     "output_type": "execute_result"
    }
   ],
   "source": [
    "dog.iloc[[100,700],3]"
   ]
  },
  {
   "cell_type": "markdown",
   "id": "83198f78",
   "metadata": {},
   "source": [
    "##### Filling NaN values in post_hint with text\n",
    "\n",
    "post_hint column contains values that refers to the type of content is included inside the submission. Most of the submissions usually includes text only.\n",
    "\n",
    "We can safely assume that the submissions returning a null post_hint are submissions that do not include any 'content' and are only made up of text. \n",
    "\n",
    "As such we will replace all the null values with 'text'"
   ]
  },
  {
   "cell_type": "code",
   "execution_count": null,
   "id": "a78122f2",
   "metadata": {},
   "outputs": [],
   "source": [
    "print(dog['post_hint'].value_counts())"
   ]
  },
  {
   "cell_type": "code",
   "execution_count": 7,
   "id": "cac218c5",
   "metadata": {},
   "outputs": [],
   "source": [
    "dog['post_hint'].fillna(value= 'text', inplace = True)\n",
    "cat['post_hint'].fillna(value= 'text', inplace = True)"
   ]
  },
  {
   "cell_type": "markdown",
   "id": "2a0285fc",
   "metadata": {},
   "source": [
    "##### Fill null values in softtext column\n",
    "\n",
    "We also know that some people on reddit only make use of the title field when submitting their posts. Other people are also sharing content from other website or simply pictures.\n",
    "\n",
    "This lead to the submission not having any information inside it's selftext field. This would then be transformed to a 'nan' inside our dataframe.\n",
    "\n",
    "We will be removing these 'nan' words from our dataframe by replacing them with an empty word."
   ]
  },
  {
   "cell_type": "code",
   "execution_count": 8,
   "id": "c54baaeb",
   "metadata": {},
   "outputs": [],
   "source": [
    "dog['selftext'].fillna(value= '', inplace = True)\n",
    "cat['selftext'].fillna(value= '', inplace = True)"
   ]
  },
  {
   "cell_type": "markdown",
   "id": "31a73912",
   "metadata": {},
   "source": [
    "##### Removing duplicates\n",
    "\n",
    "Finally, we also know that some people posts content multiple times, either because of some delay in their connection when submitting the post or simply because they want an answer fast. \n",
    "\n",
    "However, for our project, these duplicated entries would be detrimental to our models as they would find patterns or trends where there shouldn't be any.\n",
    "\n",
    "As a result, we will remove these duplicates to ensure we only have original content in our dataset."
   ]
  },
  {
   "cell_type": "code",
   "execution_count": 9,
   "id": "71835a1d",
   "metadata": {},
   "outputs": [],
   "source": [
    "cat.drop_duplicates(subset = ['selftext', 'title'], inplace=True)\n",
    "dog.drop_duplicates(subset = ['selftext', 'title'], inplace=True)"
   ]
  },
  {
   "cell_type": "markdown",
   "id": "668b76a4",
   "metadata": {},
   "source": [
    "##### Handling removed content"
   ]
  },
  {
   "cell_type": "code",
   "execution_count": 10,
   "id": "e581103a",
   "metadata": {
    "scrolled": true
   },
   "outputs": [
    {
     "name": "stdout",
     "output_type": "stream",
     "text": [
      "True     974\n",
      "False     18\n",
      "Name: is_robot_indexable, dtype: int64\n",
      "True     986\n",
      "False     13\n",
      "Name: is_robot_indexable, dtype: int64\n"
     ]
    }
   ],
   "source": [
    "print(dog['is_robot_indexable'].value_counts())\n",
    "print(cat['is_robot_indexable'].value_counts())"
   ]
  },
  {
   "cell_type": "markdown",
   "id": "e7bdb3fd",
   "metadata": {},
   "source": [
    "From our previous experiments, we have identified that in the cat subreddit, almost half of the posts ends up being removed/deleted. Whereas in the dog subreddit almost none were removed.\n",
    "\n",
    "For the sake of posts number balance, we will be ignoring the removed posts from the CatAdvice reddit and only scrape posts that are still active by the time the scraping is done.\n",
    "\n",
    "This can probably be linked to the rules of both subreddits. The DogAdvice subreddit seems to be more general and open in terms of discussion topics whereas the CatAdvice subreddit seems stricter with the subjects that can be discussed about (ie. no medical advice). Rules being stricter on the CatAdvice subreddit, more posts seems to be removed as they would be in breach of this particular subreddit rules compared to other more lax subreddits.\n",
    "\n",
    "This results in the CatAdvice subreddit being catered more towards behavioral questions and general questions, whereas DogAdvice subreddit is more towards medical inquiry."
   ]
  },
  {
   "cell_type": "markdown",
   "id": "9d9a80c0",
   "metadata": {},
   "source": [
    "##### Counting numbers of posts with images"
   ]
  },
  {
   "cell_type": "code",
   "execution_count": 11,
   "id": "45e9d4b6",
   "metadata": {
    "scrolled": true
   },
   "outputs": [
    {
     "name": "stdout",
     "output_type": "stream",
     "text": [
      "text            648\n",
      "image           269\n",
      "hosted:video     55\n",
      "self             11\n",
      "link              6\n",
      "rich:video        3\n",
      "Name: post_hint, dtype: int64\n",
      "text    978\n",
      "self     21\n",
      "Name: post_hint, dtype: int64\n"
     ]
    }
   ],
   "source": [
    "print(dog['post_hint'].value_counts())\n",
    "print(cat['post_hint'].value_counts())"
   ]
  },
  {
   "cell_type": "markdown",
   "id": "57d1f467",
   "metadata": {},
   "source": [
    "Since the DogAdvice subreddit is more leaning towards medical information, there is a multitude of posts containing images and videos of people asking about specific conditions.\n",
    "\n",
    "Medical information being restricted on the CatAdvice subreddit we can see that the intgrality of posts are just plain text without any images or videos to support them.\n",
    "\n",
    "This would be good insights when publishing posts or articles about dogs. "
   ]
  },
  {
   "cell_type": "markdown",
   "id": "d95f4b3e",
   "metadata": {},
   "source": [
    "##### Combine Title and Selftext columns into one\n",
    "\n",
    "Since we want to classify which subreddit each post belong to, and we know that some posts do not have any selftext, we will combine the title and selftext columns.\n",
    "\n",
    "We are not dropping the posts with no selftext as they would still have relevant information inside their title field."
   ]
  },
  {
   "cell_type": "code",
   "execution_count": 12,
   "id": "84d18e83",
   "metadata": {},
   "outputs": [],
   "source": [
    "dog['content'] = dog[['title', 'selftext']].astype(str).apply(\" \".join, axis=1)\n",
    "cat['content'] = cat[['title', 'selftext']].astype(str).apply(\" \".join, axis=1)"
   ]
  },
  {
   "cell_type": "code",
   "execution_count": 2,
   "id": "2add12f7",
   "metadata": {},
   "outputs": [
    {
     "ename": "NameError",
     "evalue": "name 'dog' is not defined",
     "output_type": "error",
     "traceback": [
      "\u001b[1;31m---------------------------------------------------------------------------\u001b[0m",
      "\u001b[1;31mNameError\u001b[0m                                 Traceback (most recent call last)",
      "Input \u001b[1;32mIn [2]\u001b[0m, in \u001b[0;36m<cell line: 3>\u001b[1;34m()\u001b[0m\n\u001b[0;32m      1\u001b[0m \u001b[38;5;66;03m# Print first to ensure that the columns where combined successfuly\u001b[39;00m\n\u001b[1;32m----> 3\u001b[0m \u001b[43mdog\u001b[49m[\u001b[38;5;124m'\u001b[39m\u001b[38;5;124mcontent\u001b[39m\u001b[38;5;124m'\u001b[39m]\u001b[38;5;241m.\u001b[39mhead(\u001b[38;5;241m5\u001b[39m)\n",
      "\u001b[1;31mNameError\u001b[0m: name 'dog' is not defined"
     ]
    }
   ],
   "source": [
    "# Print first to ensure that the columns where combined successfully\n",
    "\n",
    "dog['content'].head(5)"
   ]
  },
  {
   "cell_type": "code",
   "execution_count": 14,
   "id": "2eaccc6c",
   "metadata": {
    "scrolled": false
   },
   "outputs": [
    {
     "data": {
      "text/plain": [
       "0    Cat mouse I have a python that I feed live mic...\n",
       "1    How to touch my cats paws and not get murdered...\n",
       "2    Gastric cat My cat could possibly experience g...\n",
       "3    Seeking cat integration reassurance/advice! He...\n",
       "4    Newly adopted shelter cat avoiding any contact...\n",
       "Name: content, dtype: object"
      ]
     },
     "execution_count": 14,
     "metadata": {},
     "output_type": "execute_result"
    }
   ],
   "source": [
    "# Print first to ensure that the columns where combined successfully\n",
    "\n",
    "cat['content'].head(5)"
   ]
  },
  {
   "cell_type": "markdown",
   "id": "60bb8b1b",
   "metadata": {},
   "source": [
    "##### Removing URL and HTML tags\n",
    "\n",
    "Since some posts contains iamges, videos or content coming from external sources, there will be some url present inside our text.\n",
    "\n",
    "We will be removing them from our data as they would only affect performance or our model in a negative way"
   ]
  },
  {
   "cell_type": "code",
   "execution_count": 15,
   "id": "fab972c6",
   "metadata": {},
   "outputs": [
    {
     "name": "stdout",
     "output_type": "stream",
     "text": [
      "16\n",
      "23\n"
     ]
    }
   ],
   "source": [
    "# Checking for urls inside our content\n",
    "\n",
    "print(dog['content'].str.contains('http').sum())\n",
    "print(cat['content'].str.contains('http').sum())"
   ]
  },
  {
   "cell_type": "code",
   "execution_count": 16,
   "id": "ed74b3cd",
   "metadata": {},
   "outputs": [
    {
     "data": {
      "text/html": [
       "<div>\n",
       "<style scoped>\n",
       "    .dataframe tbody tr th:only-of-type {\n",
       "        vertical-align: middle;\n",
       "    }\n",
       "\n",
       "    .dataframe tbody tr th {\n",
       "        vertical-align: top;\n",
       "    }\n",
       "\n",
       "    .dataframe thead th {\n",
       "        text-align: right;\n",
       "    }\n",
       "</style>\n",
       "<table border=\"1\" class=\"dataframe\">\n",
       "  <thead>\n",
       "    <tr style=\"text-align: right;\">\n",
       "      <th></th>\n",
       "      <th>created_utc</th>\n",
       "      <th>domain</th>\n",
       "      <th>is_robot_indexable</th>\n",
       "      <th>selftext</th>\n",
       "      <th>subreddit</th>\n",
       "      <th>title</th>\n",
       "      <th>post_hint</th>\n",
       "      <th>content</th>\n",
       "    </tr>\n",
       "  </thead>\n",
       "  <tbody>\n",
       "    <tr>\n",
       "      <th>103</th>\n",
       "      <td>1669409773</td>\n",
       "      <td>self.CatAdvice</td>\n",
       "      <td>True</td>\n",
       "      <td>This breeder has been exposed for her cruelty ...</td>\n",
       "      <td>CatAdvice</td>\n",
       "      <td>Rudycats Maine Coon Breeder UK</td>\n",
       "      <td>self</td>\n",
       "      <td>Rudycats Maine Coon Breeder UK This breeder ha...</td>\n",
       "    </tr>\n",
       "    <tr>\n",
       "      <th>106</th>\n",
       "      <td>1669407315</td>\n",
       "      <td>self.CatAdvice</td>\n",
       "      <td>True</td>\n",
       "      <td>I got a cat about a week ago and he is about 3...</td>\n",
       "      <td>CatAdvice</td>\n",
       "      <td>Is he attacking me or playing</td>\n",
       "      <td>self</td>\n",
       "      <td>Is he attacking me or playing I got a cat abou...</td>\n",
       "    </tr>\n",
       "    <tr>\n",
       "      <th>323</th>\n",
       "      <td>1668881613</td>\n",
       "      <td>self.CatAdvice</td>\n",
       "      <td>True</td>\n",
       "      <td>Hello, I'm a fourth year BSc (Hons) Veterinary...</td>\n",
       "      <td>CatAdvice</td>\n",
       "      <td>Veterinary Nurse Dissertation Survey</td>\n",
       "      <td>text</td>\n",
       "      <td>Veterinary Nurse Dissertation Survey Hello, I'...</td>\n",
       "    </tr>\n",
       "    <tr>\n",
       "      <th>459</th>\n",
       "      <td>1668599386</td>\n",
       "      <td>self.CatAdvice</td>\n",
       "      <td>True</td>\n",
       "      <td>Excuse the pictures of his/her bum! We were to...</td>\n",
       "      <td>CatAdvice</td>\n",
       "      <td>Is my kitten a girl or a boy?</td>\n",
       "      <td>self</td>\n",
       "      <td>Is my kitten a girl or a boy? Excuse the pictu...</td>\n",
       "    </tr>\n",
       "    <tr>\n",
       "      <th>461</th>\n",
       "      <td>1668593016</td>\n",
       "      <td>self.CatAdvice</td>\n",
       "      <td>True</td>\n",
       "      <td>I keep finding this weird bug in my cats water...</td>\n",
       "      <td>CatAdvice</td>\n",
       "      <td>Weird bug in cats water bowl</td>\n",
       "      <td>self</td>\n",
       "      <td>Weird bug in cats water bowl I keep finding th...</td>\n",
       "    </tr>\n",
       "    <tr>\n",
       "      <th>513</th>\n",
       "      <td>1668497882</td>\n",
       "      <td>self.CatAdvice</td>\n",
       "      <td>True</td>\n",
       "      <td>Here is the video of her doing it: https://you...</td>\n",
       "      <td>CatAdvice</td>\n",
       "      <td>My cat does this weird sound while eating. Sho...</td>\n",
       "      <td>self</td>\n",
       "      <td>My cat does this weird sound while eating. Sho...</td>\n",
       "    </tr>\n",
       "    <tr>\n",
       "      <th>536</th>\n",
       "      <td>1668458409</td>\n",
       "      <td>self.CatAdvice</td>\n",
       "      <td>True</td>\n",
       "      <td>Over the last few days, my 7 month old cat hav...</td>\n",
       "      <td>CatAdvice</td>\n",
       "      <td>Help! Does my cat have UTI?</td>\n",
       "      <td>self</td>\n",
       "      <td>Help! Does my cat have UTI? Over the last few ...</td>\n",
       "    </tr>\n",
       "    <tr>\n",
       "      <th>538</th>\n",
       "      <td>1668455425</td>\n",
       "      <td>self.CatAdvice</td>\n",
       "      <td>True</td>\n",
       "      <td>Here is a recording of it - anyone know what's...</td>\n",
       "      <td>CatAdvice</td>\n",
       "      <td>Cat pawing at mouth while gagging</td>\n",
       "      <td>self</td>\n",
       "      <td>Cat pawing at mouth while gagging Here is a re...</td>\n",
       "    </tr>\n",
       "    <tr>\n",
       "      <th>563</th>\n",
       "      <td>1668387332</td>\n",
       "      <td>self.CatAdvice</td>\n",
       "      <td>True</td>\n",
       "      <td>We have two cats: Trisk (2 years, former stray...</td>\n",
       "      <td>CatAdvice</td>\n",
       "      <td>8mo kitten attacking 2yo cat</td>\n",
       "      <td>self</td>\n",
       "      <td>8mo kitten attacking 2yo cat We have two cats:...</td>\n",
       "    </tr>\n",
       "    <tr>\n",
       "      <th>600</th>\n",
       "      <td>1668348899</td>\n",
       "      <td>self.CatAdvice</td>\n",
       "      <td>True</td>\n",
       "      <td>Hi everyone,\\n\\nMy kitty is a white male domes...</td>\n",
       "      <td>CatAdvice</td>\n",
       "      <td>Black stuff on cat's tail...what could it be?</td>\n",
       "      <td>self</td>\n",
       "      <td>Black stuff on cat's tail...what could it be? ...</td>\n",
       "    </tr>\n",
       "    <tr>\n",
       "      <th>639</th>\n",
       "      <td>1668291262</td>\n",
       "      <td>self.CatAdvice</td>\n",
       "      <td>True</td>\n",
       "      <td>[https://www.petvalu.ca/product/americas-choic...</td>\n",
       "      <td>CatAdvice</td>\n",
       "      <td>Is this pine litter safe for cats?</td>\n",
       "      <td>self</td>\n",
       "      <td>Is this pine litter safe for cats? [https://ww...</td>\n",
       "    </tr>\n",
       "    <tr>\n",
       "      <th>791</th>\n",
       "      <td>1668089757</td>\n",
       "      <td>self.CatAdvice</td>\n",
       "      <td>True</td>\n",
       "      <td>Usually he does this after/during eating it’s ...</td>\n",
       "      <td>CatAdvice</td>\n",
       "      <td>Any idea on why he’s doing this??</td>\n",
       "      <td>text</td>\n",
       "      <td>Any idea on why he’s doing this?? Usually he d...</td>\n",
       "    </tr>\n",
       "    <tr>\n",
       "      <th>799</th>\n",
       "      <td>1668080406</td>\n",
       "      <td>self.CatAdvice</td>\n",
       "      <td>True</td>\n",
       "      <td>we have 4 cats but two of them are indoor/outd...</td>\n",
       "      <td>CatAdvice</td>\n",
       "      <td>dominance? why does my cat do this?</td>\n",
       "      <td>self</td>\n",
       "      <td>dominance? why does my cat do this? we have 4 ...</td>\n",
       "    </tr>\n",
       "    <tr>\n",
       "      <th>800</th>\n",
       "      <td>1668078952</td>\n",
       "      <td>self.CatAdvice</td>\n",
       "      <td>True</td>\n",
       "      <td>Hello,\\n\\nI live in Estonia so there isn't usu...</td>\n",
       "      <td>CatAdvice</td>\n",
       "      <td>Which food is better? Grain free vs standard (...</td>\n",
       "      <td>self</td>\n",
       "      <td>Which food is better? Grain free vs standard (...</td>\n",
       "    </tr>\n",
       "    <tr>\n",
       "      <th>807</th>\n",
       "      <td>1668060792</td>\n",
       "      <td>self.CatAdvice</td>\n",
       "      <td>True</td>\n",
       "      <td>Is it normal for cats to lick the air while th...</td>\n",
       "      <td>CatAdvice</td>\n",
       "      <td>Cat licking air while sleeping?</td>\n",
       "      <td>self</td>\n",
       "      <td>Cat licking air while sleeping? Is it normal f...</td>\n",
       "    </tr>\n",
       "    <tr>\n",
       "      <th>884</th>\n",
       "      <td>1667962600</td>\n",
       "      <td>self.CatAdvice</td>\n",
       "      <td>True</td>\n",
       "      <td>Video in link. Separated at end as black one s...</td>\n",
       "      <td>CatAdvice</td>\n",
       "      <td>Is this a normal interaction or should these t...</td>\n",
       "      <td>self</td>\n",
       "      <td>Is this a normal interaction or should these t...</td>\n",
       "    </tr>\n",
       "    <tr>\n",
       "      <th>908</th>\n",
       "      <td>1667926670</td>\n",
       "      <td>self.CatAdvice</td>\n",
       "      <td>True</td>\n",
       "      <td>Hi, I got a new kitten a few weeks ago (the sm...</td>\n",
       "      <td>CatAdvice</td>\n",
       "      <td>Are these cats fighting or playing?</td>\n",
       "      <td>self</td>\n",
       "      <td>Are these cats fighting or playing? Hi, I got ...</td>\n",
       "    </tr>\n",
       "    <tr>\n",
       "      <th>911</th>\n",
       "      <td>1667924465</td>\n",
       "      <td>self.CatAdvice</td>\n",
       "      <td>True</td>\n",
       "      <td>Me and my girlfriend took in a kitten named Fr...</td>\n",
       "      <td>CatAdvice</td>\n",
       "      <td>No bedroom door is giving our 5 month year old...</td>\n",
       "      <td>self</td>\n",
       "      <td>No bedroom door is giving our 5 month year old...</td>\n",
       "    </tr>\n",
       "    <tr>\n",
       "      <th>924</th>\n",
       "      <td>1667896823</td>\n",
       "      <td>self.CatAdvice</td>\n",
       "      <td>True</td>\n",
       "      <td>I have 2 kittens (12 weeks old) and I'm lookin...</td>\n",
       "      <td>CatAdvice</td>\n",
       "      <td>Help choose a tall cat tree</td>\n",
       "      <td>text</td>\n",
       "      <td>Help choose a tall cat tree I have 2 kittens (...</td>\n",
       "    </tr>\n",
       "    <tr>\n",
       "      <th>936</th>\n",
       "      <td>1667877634</td>\n",
       "      <td>self.CatAdvice</td>\n",
       "      <td>True</td>\n",
       "      <td>Some context: a feral cat showed up and had th...</td>\n",
       "      <td>CatAdvice</td>\n",
       "      <td>Stray cat I’ve been taking care of is still ex...</td>\n",
       "      <td>self</td>\n",
       "      <td>Stray cat I’ve been taking care of is still ex...</td>\n",
       "    </tr>\n",
       "    <tr>\n",
       "      <th>942</th>\n",
       "      <td>1667871475</td>\n",
       "      <td>self.CatAdvice</td>\n",
       "      <td>True</td>\n",
       "      <td>I adopted a 4 month old kitten a week ago and ...</td>\n",
       "      <td>CatAdvice</td>\n",
       "      <td>Need help! My new 4 month old kitten is eating...</td>\n",
       "      <td>self</td>\n",
       "      <td>Need help! My new 4 month old kitten is eating...</td>\n",
       "    </tr>\n",
       "    <tr>\n",
       "      <th>951</th>\n",
       "      <td>1667838105</td>\n",
       "      <td>self.CatAdvice</td>\n",
       "      <td>True</td>\n",
       "      <td>Hello, I adopted a sweet little single male ki...</td>\n",
       "      <td>CatAdvice</td>\n",
       "      <td>Will my sporadic schedule affect my cat?</td>\n",
       "      <td>self</td>\n",
       "      <td>Will my sporadic schedule affect my cat? Hello...</td>\n",
       "    </tr>\n",
       "    <tr>\n",
       "      <th>981</th>\n",
       "      <td>1667787192</td>\n",
       "      <td>self.CatAdvice</td>\n",
       "      <td>True</td>\n",
       "      <td>Two weeks ago my partner and I adopted two (pr...</td>\n",
       "      <td>CatAdvice</td>\n",
       "      <td>Feeding Schedule for two 5-6 month old kittens</td>\n",
       "      <td>self</td>\n",
       "      <td>Feeding Schedule for two 5-6 month old kittens...</td>\n",
       "    </tr>\n",
       "  </tbody>\n",
       "</table>\n",
       "</div>"
      ],
      "text/plain": [
       "     created_utc          domain  is_robot_indexable  \\\n",
       "103   1669409773  self.CatAdvice                True   \n",
       "106   1669407315  self.CatAdvice                True   \n",
       "323   1668881613  self.CatAdvice                True   \n",
       "459   1668599386  self.CatAdvice                True   \n",
       "461   1668593016  self.CatAdvice                True   \n",
       "513   1668497882  self.CatAdvice                True   \n",
       "536   1668458409  self.CatAdvice                True   \n",
       "538   1668455425  self.CatAdvice                True   \n",
       "563   1668387332  self.CatAdvice                True   \n",
       "600   1668348899  self.CatAdvice                True   \n",
       "639   1668291262  self.CatAdvice                True   \n",
       "791   1668089757  self.CatAdvice                True   \n",
       "799   1668080406  self.CatAdvice                True   \n",
       "800   1668078952  self.CatAdvice                True   \n",
       "807   1668060792  self.CatAdvice                True   \n",
       "884   1667962600  self.CatAdvice                True   \n",
       "908   1667926670  self.CatAdvice                True   \n",
       "911   1667924465  self.CatAdvice                True   \n",
       "924   1667896823  self.CatAdvice                True   \n",
       "936   1667877634  self.CatAdvice                True   \n",
       "942   1667871475  self.CatAdvice                True   \n",
       "951   1667838105  self.CatAdvice                True   \n",
       "981   1667787192  self.CatAdvice                True   \n",
       "\n",
       "                                              selftext  subreddit  \\\n",
       "103  This breeder has been exposed for her cruelty ...  CatAdvice   \n",
       "106  I got a cat about a week ago and he is about 3...  CatAdvice   \n",
       "323  Hello, I'm a fourth year BSc (Hons) Veterinary...  CatAdvice   \n",
       "459  Excuse the pictures of his/her bum! We were to...  CatAdvice   \n",
       "461  I keep finding this weird bug in my cats water...  CatAdvice   \n",
       "513  Here is the video of her doing it: https://you...  CatAdvice   \n",
       "536  Over the last few days, my 7 month old cat hav...  CatAdvice   \n",
       "538  Here is a recording of it - anyone know what's...  CatAdvice   \n",
       "563  We have two cats: Trisk (2 years, former stray...  CatAdvice   \n",
       "600  Hi everyone,\\n\\nMy kitty is a white male domes...  CatAdvice   \n",
       "639  [https://www.petvalu.ca/product/americas-choic...  CatAdvice   \n",
       "791  Usually he does this after/during eating it’s ...  CatAdvice   \n",
       "799  we have 4 cats but two of them are indoor/outd...  CatAdvice   \n",
       "800  Hello,\\n\\nI live in Estonia so there isn't usu...  CatAdvice   \n",
       "807  Is it normal for cats to lick the air while th...  CatAdvice   \n",
       "884  Video in link. Separated at end as black one s...  CatAdvice   \n",
       "908  Hi, I got a new kitten a few weeks ago (the sm...  CatAdvice   \n",
       "911  Me and my girlfriend took in a kitten named Fr...  CatAdvice   \n",
       "924  I have 2 kittens (12 weeks old) and I'm lookin...  CatAdvice   \n",
       "936  Some context: a feral cat showed up and had th...  CatAdvice   \n",
       "942  I adopted a 4 month old kitten a week ago and ...  CatAdvice   \n",
       "951  Hello, I adopted a sweet little single male ki...  CatAdvice   \n",
       "981  Two weeks ago my partner and I adopted two (pr...  CatAdvice   \n",
       "\n",
       "                                                 title post_hint  \\\n",
       "103                     Rudycats Maine Coon Breeder UK      self   \n",
       "106                      Is he attacking me or playing      self   \n",
       "323               Veterinary Nurse Dissertation Survey      text   \n",
       "459                      Is my kitten a girl or a boy?      self   \n",
       "461                       Weird bug in cats water bowl      self   \n",
       "513  My cat does this weird sound while eating. Sho...      self   \n",
       "536                        Help! Does my cat have UTI?      self   \n",
       "538                  Cat pawing at mouth while gagging      self   \n",
       "563                       8mo kitten attacking 2yo cat      self   \n",
       "600      Black stuff on cat's tail...what could it be?      self   \n",
       "639                 Is this pine litter safe for cats?      self   \n",
       "791                  Any idea on why he’s doing this??      text   \n",
       "799                dominance? why does my cat do this?      self   \n",
       "800  Which food is better? Grain free vs standard (...      self   \n",
       "807                    Cat licking air while sleeping?      self   \n",
       "884  Is this a normal interaction or should these t...      self   \n",
       "908                Are these cats fighting or playing?      self   \n",
       "911  No bedroom door is giving our 5 month year old...      self   \n",
       "924                        Help choose a tall cat tree      text   \n",
       "936  Stray cat I’ve been taking care of is still ex...      self   \n",
       "942  Need help! My new 4 month old kitten is eating...      self   \n",
       "951           Will my sporadic schedule affect my cat?      self   \n",
       "981     Feeding Schedule for two 5-6 month old kittens      self   \n",
       "\n",
       "                                               content  \n",
       "103  Rudycats Maine Coon Breeder UK This breeder ha...  \n",
       "106  Is he attacking me or playing I got a cat abou...  \n",
       "323  Veterinary Nurse Dissertation Survey Hello, I'...  \n",
       "459  Is my kitten a girl or a boy? Excuse the pictu...  \n",
       "461  Weird bug in cats water bowl I keep finding th...  \n",
       "513  My cat does this weird sound while eating. Sho...  \n",
       "536  Help! Does my cat have UTI? Over the last few ...  \n",
       "538  Cat pawing at mouth while gagging Here is a re...  \n",
       "563  8mo kitten attacking 2yo cat We have two cats:...  \n",
       "600  Black stuff on cat's tail...what could it be? ...  \n",
       "639  Is this pine litter safe for cats? [https://ww...  \n",
       "791  Any idea on why he’s doing this?? Usually he d...  \n",
       "799  dominance? why does my cat do this? we have 4 ...  \n",
       "800  Which food is better? Grain free vs standard (...  \n",
       "807  Cat licking air while sleeping? Is it normal f...  \n",
       "884  Is this a normal interaction or should these t...  \n",
       "908  Are these cats fighting or playing? Hi, I got ...  \n",
       "911  No bedroom door is giving our 5 month year old...  \n",
       "924  Help choose a tall cat tree I have 2 kittens (...  \n",
       "936  Stray cat I’ve been taking care of is still ex...  \n",
       "942  Need help! My new 4 month old kitten is eating...  \n",
       "951  Will my sporadic schedule affect my cat? Hello...  \n",
       "981  Feeding Schedule for two 5-6 month old kittens...  "
      ]
     },
     "execution_count": 16,
     "metadata": {},
     "output_type": "execute_result"
    }
   ],
   "source": [
    "substring = 'http'\n",
    "dog[dog.apply(lambda row: row.astype(str).str.contains(substring, case=False).any(), axis=1)]\n",
    "cat[cat.apply(lambda row: row.astype(str).str.contains(substring, case=False).any(), axis=1)]"
   ]
  },
  {
   "cell_type": "code",
   "execution_count": 17,
   "id": "432cb9b7",
   "metadata": {},
   "outputs": [],
   "source": [
    "# Create a function to remove URL from the content\n",
    "\n",
    "def url_remover(text):\n",
    "    text_removed = re.sub('http://\\S+|https://\\S+', '', text)\n",
    "    return text_removed\n",
    "\n",
    "dog['content'] = dog['content'].apply(lambda x: url_remover(x))\n",
    "cat['content'] = cat['content'].apply(lambda x: url_remover(x))"
   ]
  },
  {
   "cell_type": "code",
   "execution_count": 18,
   "id": "aa7931a8",
   "metadata": {},
   "outputs": [
    {
     "name": "stdout",
     "output_type": "stream",
     "text": [
      "0\n",
      "0\n"
     ]
    }
   ],
   "source": [
    "# Checking that our urls have been removed\n",
    "\n",
    "print(dog['content'].str.contains('http').sum())\n",
    "print(cat['content'].str.contains('http').sum())"
   ]
  },
  {
   "cell_type": "markdown",
   "id": "9ab09bcb",
   "metadata": {},
   "source": [
    "We also noticed that posts contains the \\n html tag inside them. We will also be removing it as it would lead our model to focus on irrelevant information."
   ]
  },
  {
   "cell_type": "code",
   "execution_count": 19,
   "id": "01cd6762",
   "metadata": {},
   "outputs": [
    {
     "name": "stdout",
     "output_type": "stream",
     "text": [
      "370\n",
      "609\n"
     ]
    }
   ],
   "source": [
    "# Removing the '\\n' tag from HTML code inside the content\n",
    "\n",
    "# Checking for urls inside our content\n",
    "\n",
    "print(dog['content'].str.contains('\\n').sum())\n",
    "print(cat['content'].str.contains('\\n').sum())"
   ]
  },
  {
   "cell_type": "code",
   "execution_count": 20,
   "id": "f70edb44",
   "metadata": {},
   "outputs": [],
   "source": [
    "# Create a function to remove HTML tags from the content\n",
    "\n",
    "def url_remover(text):\n",
    "    text_removed = re.sub('\\n', '', text)\n",
    "    return text_removed\n",
    "\n",
    "dog['content'] = dog['content'].apply(lambda x: url_remover(x))\n",
    "cat['content'] = cat['content'].apply(lambda x: url_remover(x))"
   ]
  },
  {
   "cell_type": "code",
   "execution_count": 21,
   "id": "f24bf286",
   "metadata": {
    "scrolled": true
   },
   "outputs": [
    {
     "name": "stdout",
     "output_type": "stream",
     "text": [
      "0\n",
      "0\n"
     ]
    }
   ],
   "source": [
    "# Removing the '\\n' tag from HTML code inside the content\n",
    "\n",
    "# Checking for urls inside our content\n",
    "\n",
    "print(dog['content'].str.contains('\\n').sum())\n",
    "print(cat['content'].str.contains('\\n').sum())"
   ]
  },
  {
   "cell_type": "markdown",
   "id": "c783d7b0",
   "metadata": {},
   "source": [
    "### Distribution of posts lenghts"
   ]
  },
  {
   "cell_type": "markdown",
   "id": "4086d88d",
   "metadata": {},
   "source": [
    "Another information that can be interesting is the sizes of submissions that are posted in both subreddits.\n",
    "\n",
    "That could give us some insight on the habits of people of each subreddits"
   ]
  },
  {
   "cell_type": "code",
   "execution_count": 22,
   "id": "8175123e",
   "metadata": {
    "scrolled": true
   },
   "outputs": [],
   "source": [
    "# Create a new column that will contain the number of words of each posts\n",
    "\n",
    "dog['content_word_count'] = dog['content'].map(lambda x: len(x.split()))\n",
    "cat['content_word_count'] = cat['content'].map(lambda x: len(x.split()))"
   ]
  },
  {
   "cell_type": "code",
   "execution_count": 23,
   "id": "a6f4f89b",
   "metadata": {},
   "outputs": [
    {
     "data": {
      "text/plain": [
       "0     88\n",
       "1     86\n",
       "2    101\n",
       "3    244\n",
       "4    546\n",
       "Name: content_word_count, dtype: int64"
      ]
     },
     "execution_count": 23,
     "metadata": {},
     "output_type": "execute_result"
    }
   ],
   "source": [
    "cat['content_word_count'].head()"
   ]
  },
  {
   "cell_type": "code",
   "execution_count": 24,
   "id": "19e9a9f0",
   "metadata": {},
   "outputs": [
    {
     "data": {
      "image/png": "[encoded data removed]",
      "text/plain": [
       "<Figure size 360x360 with 1 Axes>"
      ]
     },
     "metadata": {
      "needs_background": "light"
     },
     "output_type": "display_data"
    }
   ],
   "source": [
    "ax = sns.displot(cat['content_word_count'], kde=False, height=5)\n",
    "ax.set(ylim=(0, 300),\n",
    "      title = 'Number of words in CatAdvice posts',\n",
    "       xlabel = \"Number of words in the post\",\n",
    "       ylabel = \"Frequency\")\n",
    "plt.show()"
   ]
  },
  {
   "cell_type": "code",
   "execution_count": 25,
   "id": "b336b17b",
   "metadata": {},
   "outputs": [
    {
     "data": {
      "image/png": "[encoded data removed]",
      "text/plain": [
       "<Figure size 360x360 with 1 Axes>"
      ]
     },
     "metadata": {
      "needs_background": "light"
     },
     "output_type": "display_data"
    }
   ],
   "source": [
    "ax = sns.displot(dog['content_word_count'], kde=False)\n",
    "ax.set(ylim=(0, 300),\n",
    "      title = 'Number of words in DogAdvice posts',\n",
    "       xlabel = \"Number of words in the post\",\n",
    "       ylabel = \"Frequency\")\n",
    "plt.show()"
   ]
  },
  {
   "cell_type": "markdown",
   "id": "f8cb117e",
   "metadata": {},
   "source": [
    "We can see that posts in the CatAdvice subreddit are usually more wordy than the posts on the DogAdvice subreddit.\n",
    "\n",
    "This can be explained by the fact that people on the DogAdvice tends to posts more images and videos and usaully accompany them with shorter text. "
   ]
  },
  {
   "cell_type": "markdown",
   "id": "f36d0cb9",
   "metadata": {},
   "source": [
    "### Natural Language Processing"
   ]
  },
  {
   "cell_type": "markdown",
   "id": "a37f8758",
   "metadata": {},
   "source": [
    "Now that we have cleaned our data and found some interesting insight, it's time for us to transform/prepare our data before we can pass it to our Machine Learning models.\n",
    "\n",
    "Let's preprocess our data\n",
    "* Remove Punctuations\n",
    "* Tokenize text\n",
    "* Remove stop words\n",
    "* Stem / Lemmatize"
   ]
  },
  {
   "cell_type": "markdown",
   "id": "02744eda",
   "metadata": {},
   "source": [
    "##### Remove punctuation\n",
    "\n",
    "We will start by removing the punctionation.\n",
    "\n",
    "In order to do so, we will make use of the string.punctuation module from the string library.\n",
    "\n",
    "It is a pre-initialized string  that includes all the punctuation characters that we intend to remove.\n",
    "\n",
    "We will define a function that will go through all rows of data and look for the characters in the string.punctuation string. The function will create create a new string without punctuation and assign it to a new column called 'content_clean'.\n",
    "\n",
    "In order to not have too much unneccesary data inside our dataframe, we will remove the 'content' column as we don't have any need for it anymore"
   ]
  },
  {
   "cell_type": "code",
   "execution_count": null,
   "id": "c2c5a6ad",
   "metadata": {},
   "outputs": [],
   "source": [
    "# Displaying the content of the string.punctuation\n",
    "\n",
    "string.punctuation"
   ]
  },
  {
   "cell_type": "code",
   "execution_count": 26,
   "id": "7ba1c444",
   "metadata": {
    "scrolled": true
   },
   "outputs": [],
   "source": [
    "# Create a function to remove the punctuation from our dataset\n",
    "\n",
    "def punct_remover(text):\n",
    "    text_clean = \"\".join([char for char in text if char not in string.punctuation])\n",
    "    return text_clean\n",
    "\n",
    "dog['content_clean'] = dog['content'].apply(lambda x: punct_remover(x))\n",
    "cat['content_clean'] = cat['content'].apply(lambda x: punct_remover(x))\n",
    "\n",
    "# Drop content column as we won't be using it anymore now that we transformed it\n",
    "\n",
    "dog.drop(columns= ['content'], inplace= True)\n",
    "cat.drop(columns= ['content'], inplace = True)"
   ]
  },
  {
   "cell_type": "code",
   "execution_count": 27,
   "id": "c298ac6c",
   "metadata": {},
   "outputs": [
    {
     "name": "stdout",
     "output_type": "stream",
     "text": [
      "0    Dog aggressive to new puppy So my family got a...\n",
      "Name: content_clean, dtype: object\n",
      "0    Cat mouse I have a python that I feed live mic...\n",
      "Name: content_clean, dtype: object\n"
     ]
    }
   ],
   "source": [
    "print(dog['content_clean'].head(1))\n",
    "print(cat['content_clean'].head(1))"
   ]
  },
  {
   "cell_type": "markdown",
   "id": "603b47cf",
   "metadata": {},
   "source": [
    "##### Tokenize text\n",
    "\n",
    "Now that we removed the punctuation from our text, we need to tokenize it.\n",
    "Tokenization is the act of separating a piece of text (sentence in our case) into smaller units (words) called tokens.\n",
    "\n",
    "Similarly to the punctuation removal step, we will create a function that will go through each row of text and create tokens for each word present inside.\n",
    "\n",
    "This new list of tokens will then be stored inside a new column and we will delete the previous column."
   ]
  },
  {
   "cell_type": "code",
   "execution_count": 28,
   "id": "8fb63b10",
   "metadata": {},
   "outputs": [],
   "source": [
    "# Create a function to tokenize the text in our content_clean column\n",
    "\n",
    "def tokenize(text):\n",
    "    tokens = re.split('\\W+', text)\n",
    "    return tokens\n",
    "\n",
    "dog['content_token'] = dog['content_clean'].apply(lambda x: tokenize(x.lower()))\n",
    "cat['content_token'] = cat['content_clean'].apply(lambda x: tokenize(x.lower()))\n",
    "\n",
    "# Drop content_clean column as we won't be using it anymore now that we transformed it\n",
    "\n",
    "dog.drop(columns= ['content_clean'], inplace= True)\n",
    "cat.drop(columns= ['content_clean'], inplace= True)"
   ]
  },
  {
   "cell_type": "code",
   "execution_count": 29,
   "id": "9e3ea504",
   "metadata": {},
   "outputs": [
    {
     "name": "stdout",
     "output_type": "stream",
     "text": [
      "0    [dog, aggressive, to, new, puppy, so, my, fami...\n",
      "Name: content_token, dtype: object\n",
      "0    [cat, mouse, i, have, a, python, that, i, feed...\n",
      "Name: content_token, dtype: object\n"
     ]
    }
   ],
   "source": [
    "print(dog['content_token'].head(1))\n",
    "print(cat['content_token'].head(1))"
   ]
  },
  {
   "cell_type": "markdown",
   "id": "54913796",
   "metadata": {},
   "source": [
    "##### Remove Stopwords\n",
    "\n",
    "The next step in our text processing is to remove all the stop words.\n",
    "\n",
    "Now that our text is composed of tokens, we can transform each word individually.\n",
    "\n",
    "Let's create a function that will get rid of stopwords as they do not provide any context to the text we are trying to analyze.\n",
    "\n",
    "We will be using the english stop word corpus from the NLTK library as a base."
   ]
  },
  {
   "cell_type": "code",
   "execution_count": 30,
   "id": "8f212a66",
   "metadata": {},
   "outputs": [],
   "source": [
    "# Create a variable that will include all the stopwords from the english dictionary \n",
    "\n",
    "stopwords = nltk.corpus.stopwords.words('english')\n",
    "\n",
    "# Define a function to remove the stopwords from our tokenized text\n",
    "\n",
    "def stopwords_remover(tokens):\n",
    "    text = [word for word in tokens if word not in stopwords]\n",
    "    return text\n",
    "\n",
    "dog['content_token_clean'] = dog['content_token'].apply(\n",
    "    lambda x: stopwords_remover(x))\n",
    "cat['content_token_clean'] = cat['content_token'].apply(\n",
    "    lambda x: stopwords_remover(x))\n",
    "\n",
    "# Drop content_token column as we won't be using it anymore now that we transformed it\n",
    "\n",
    "dog.drop(columns= ['content_token'], inplace= True)\n",
    "cat.drop(columns= ['content_token'], inplace= True)"
   ]
  },
  {
   "cell_type": "code",
   "execution_count": 31,
   "id": "d2fd9489",
   "metadata": {},
   "outputs": [
    {
     "name": "stdout",
     "output_type": "stream",
     "text": [
      "0    [dog, aggressive, new, puppy, family, got, new...\n",
      "1    [get, german, shepherd, puppy, respect, cats, ...\n",
      "2                  [belly, button, never, seen, one, ]\n",
      "Name: content_token_clean, dtype: object\n",
      "0    [cat, mouse, python, feed, live, mice, idk, cr...\n",
      "1    [touch, cats, paws, get, murdered, cat, 2, 12,...\n",
      "2    [gastric, cat, cat, could, possibly, experienc...\n",
      "Name: content_token_clean, dtype: object\n"
     ]
    }
   ],
   "source": [
    "print(dog['content_token_clean'].head(3))\n",
    "print(cat['content_token_clean'].head(3))"
   ]
  },
  {
   "cell_type": "markdown",
   "id": "66129511",
   "metadata": {},
   "source": [
    "##### Stem/Lemmatize"
   ]
  },
  {
   "cell_type": "markdown",
   "id": "0a05d432",
   "metadata": {},
   "source": [
    "Since we want to be able to identify what users will be typing and recommend them content based on their searches we will need to use lemmatizing.\n",
    "\n",
    "Lemmatizing will allow us to reduce the word to their root while ensuring that they remains a valid english dictionary word.\n",
    "\n",
    "We will use WordNet from the NLTK library to achieve this."
   ]
  },
  {
   "cell_type": "code",
   "execution_count": 32,
   "id": "a0bcb976",
   "metadata": {},
   "outputs": [],
   "source": [
    "# Create a variable to hold the lemmatize class\n",
    "\n",
    "lemma = nltk.WordNetLemmatizer()\n",
    "\n",
    "# Define function to lematize our clean tokens\n",
    "\n",
    "def lemmatizer(clean_tokens):\n",
    "    lem = [lemma.lemmatize(word) for word in clean_tokens]\n",
    "    return lem\n",
    "\n",
    "dog['content_lemmatized'] = dog['content_token_clean'].apply(lambda x: lemmatizer(x))\n",
    "cat['content_lemmatized'] = cat['content_token_clean'].apply(lambda x: lemmatizer(x))\n",
    "\n",
    "# Drop content_token_clean column as we won't be using it anymore now that we transformed it\n",
    "\n",
    "dog.drop(columns= ['content_token_clean'], inplace= True)\n",
    "cat.drop(columns= ['content_token_clean'], inplace = True)\n"
   ]
  },
  {
   "cell_type": "code",
   "execution_count": 33,
   "id": "e9d760e8",
   "metadata": {
    "scrolled": true
   },
   "outputs": [
    {
     "data": {
      "text/html": [
       "<div>\n",
       "<style scoped>\n",
       "    .dataframe tbody tr th:only-of-type {\n",
       "        vertical-align: middle;\n",
       "    }\n",
       "\n",
       "    .dataframe tbody tr th {\n",
       "        vertical-align: top;\n",
       "    }\n",
       "\n",
       "    .dataframe thead th {\n",
       "        text-align: right;\n",
       "    }\n",
       "</style>\n",
       "<table border=\"1\" class=\"dataframe\">\n",
       "  <thead>\n",
       "    <tr style=\"text-align: right;\">\n",
       "      <th></th>\n",
       "      <th>created_utc</th>\n",
       "      <th>domain</th>\n",
       "      <th>is_robot_indexable</th>\n",
       "      <th>selftext</th>\n",
       "      <th>subreddit</th>\n",
       "      <th>title</th>\n",
       "      <th>post_hint</th>\n",
       "      <th>content_word_count</th>\n",
       "      <th>content_lemmatized</th>\n",
       "    </tr>\n",
       "  </thead>\n",
       "  <tbody>\n",
       "    <tr>\n",
       "      <th>0</th>\n",
       "      <td>1669615692</td>\n",
       "      <td>self.DogAdvice</td>\n",
       "      <td>True</td>\n",
       "      <td>So my family got a new puppy for some backgrou...</td>\n",
       "      <td>DogAdvice</td>\n",
       "      <td>Dog aggressive to new puppy</td>\n",
       "      <td>text</td>\n",
       "      <td>548</td>\n",
       "      <td>[dog, aggressive, new, puppy, family, got, new...</td>\n",
       "    </tr>\n",
       "    <tr>\n",
       "      <th>1</th>\n",
       "      <td>1669614240</td>\n",
       "      <td>self.DogAdvice</td>\n",
       "      <td>True</td>\n",
       "      <td>Pretty self-explanatory title. I have a 9 mo o...</td>\n",
       "      <td>DogAdvice</td>\n",
       "      <td>How to get my german shepherd puppy to respect...</td>\n",
       "      <td>text</td>\n",
       "      <td>276</td>\n",
       "      <td>[get, german, shepherd, puppy, respect, cat, b...</td>\n",
       "    </tr>\n",
       "    <tr>\n",
       "      <th>2</th>\n",
       "      <td>1669613041</td>\n",
       "      <td>i.redd.it</td>\n",
       "      <td>True</td>\n",
       "      <td></td>\n",
       "      <td>DogAdvice</td>\n",
       "      <td>is this just her belly button? never seen one ...</td>\n",
       "      <td>image</td>\n",
       "      <td>10</td>\n",
       "      <td>[belly, button, never, seen, one, ]</td>\n",
       "    </tr>\n",
       "    <tr>\n",
       "      <th>3</th>\n",
       "      <td>1669611982</td>\n",
       "      <td>i.redd.it</td>\n",
       "      <td>True</td>\n",
       "      <td>I’ve been to the vet for it before but got no ...</td>\n",
       "      <td>DogAdvice</td>\n",
       "      <td>What could this be</td>\n",
       "      <td>image</td>\n",
       "      <td>26</td>\n",
       "      <td>[could, vet, got, clear, answer, scab, also, d...</td>\n",
       "    </tr>\n",
       "    <tr>\n",
       "      <th>4</th>\n",
       "      <td>1669611390</td>\n",
       "      <td>/r/DogAdvice/comments/z6n8v5/dog_wont_stop_lic...</td>\n",
       "      <td>True</td>\n",
       "      <td></td>\n",
       "      <td>DogAdvice</td>\n",
       "      <td>Dog won’t stop licking his paw! Is this normal...</td>\n",
       "      <td>hosted:video</td>\n",
       "      <td>35</td>\n",
       "      <td>[dog, stop, licking, paw, normal, dog, behavio...</td>\n",
       "    </tr>\n",
       "  </tbody>\n",
       "</table>\n",
       "</div>"
      ],
      "text/plain": [
       "   created_utc                                             domain  \\\n",
       "0   1669615692                                     self.DogAdvice   \n",
       "1   1669614240                                     self.DogAdvice   \n",
       "2   1669613041                                          i.redd.it   \n",
       "3   1669611982                                          i.redd.it   \n",
       "4   1669611390  /r/DogAdvice/comments/z6n8v5/dog_wont_stop_lic...   \n",
       "\n",
       "   is_robot_indexable                                           selftext  \\\n",
       "0                True  So my family got a new puppy for some backgrou...   \n",
       "1                True  Pretty self-explanatory title. I have a 9 mo o...   \n",
       "2                True                                                      \n",
       "3                True  I’ve been to the vet for it before but got no ...   \n",
       "4                True                                                      \n",
       "\n",
       "   subreddit                                              title     post_hint  \\\n",
       "0  DogAdvice                        Dog aggressive to new puppy          text   \n",
       "1  DogAdvice  How to get my german shepherd puppy to respect...          text   \n",
       "2  DogAdvice  is this just her belly button? never seen one ...         image   \n",
       "3  DogAdvice                                 What could this be         image   \n",
       "4  DogAdvice  Dog won’t stop licking his paw! Is this normal...  hosted:video   \n",
       "\n",
       "   content_word_count                                 content_lemmatized  \n",
       "0                 548  [dog, aggressive, new, puppy, family, got, new...  \n",
       "1                 276  [get, german, shepherd, puppy, respect, cat, b...  \n",
       "2                  10                [belly, button, never, seen, one, ]  \n",
       "3                  26  [could, vet, got, clear, answer, scab, also, d...  \n",
       "4                  35  [dog, stop, licking, paw, normal, dog, behavio...  "
      ]
     },
     "execution_count": 33,
     "metadata": {},
     "output_type": "execute_result"
    }
   ],
   "source": [
    "dog.head()"
   ]
  },
  {
   "cell_type": "markdown",
   "id": "5bf8cb45",
   "metadata": {},
   "source": [
    "#### Transform lemmatized column back to a single string of text\n",
    "\n",
    "After our text has been lemmatized, it will now take the form of a list of words.\n",
    "\n",
    "However, some text vectorizer also do some transformation steps and need the text we pass to them to be under the form of a string. "
   ]
  },
  {
   "cell_type": "code",
   "execution_count": 34,
   "id": "d4e4ec73",
   "metadata": {},
   "outputs": [],
   "source": [
    "# Use, join to transform lemmatized column back into text\n",
    "\n",
    "dog['content_joined'] = [' '.join(map(str, l)) for l in dog['content_lemmatized']]\n",
    "cat['content_joined'] = [' '.join(map(str, l)) for l in cat['content_lemmatized']]"
   ]
  },
  {
   "cell_type": "markdown",
   "id": "a9cb3509",
   "metadata": {},
   "source": [
    "##### Display the same posts after cleaning\n",
    "\n",
    "If you remember the posts that we printed earleir before our cleaning, they look much different to the ones we have now.\n",
    "\n",
    "They are now ready to be vectorized in order to be fed to our models."
   ]
  },
  {
   "cell_type": "code",
   "execution_count": 63,
   "id": "e23c3917",
   "metadata": {},
   "outputs": [
    {
     "data": {
      "text/plain": [
       "101    [skincare, advice, dashchund, hi, 9, month, ol...\n",
       "707    [13month, old, still, toileting, crate, weve, ...\n",
       "Name: content_lemmatized, dtype: object"
      ]
     },
     "execution_count": 63,
     "metadata": {},
     "output_type": "execute_result"
    }
   ],
   "source": [
    "dog.iloc[[100,700],8]"
   ]
  },
  {
   "cell_type": "code",
   "execution_count": 64,
   "id": "f30d90ec",
   "metadata": {},
   "outputs": [
    {
     "data": {
      "text/plain": [
       "100    [keep, cat, indoors, good, anyone, give, advic...\n",
       "700    [get, kitten, stop, nursing, recently, found, ...\n",
       "Name: content_lemmatized, dtype: object"
      ]
     },
     "execution_count": 64,
     "metadata": {},
     "output_type": "execute_result"
    }
   ],
   "source": [
    "cat.iloc[[100,700],8]"
   ]
  },
  {
   "cell_type": "markdown",
   "id": "353c49ae",
   "metadata": {},
   "source": [
    "##### Merge Dog and Cat Dataframe\n",
    "\n",
    "Now that our text has been transformed we will merge the dog and cat information into the same dataframe"
   ]
  },
  {
   "cell_type": "code",
   "execution_count": 35,
   "id": "83d8523f",
   "metadata": {
    "scrolled": true
   },
   "outputs": [],
   "source": [
    "# Using pd.concat to combine both dataframes\n",
    "\n",
    "cat_dog = pd.concat([dog,cat])"
   ]
  },
  {
   "cell_type": "code",
   "execution_count": 36,
   "id": "38e70cf2",
   "metadata": {
    "scrolled": true
   },
   "outputs": [
    {
     "name": "stdout",
     "output_type": "stream",
     "text": [
      "<class 'pandas.core.frame.DataFrame'>\n",
      "Int64Index: 1991 entries, 0 to 999\n",
      "Data columns (total 10 columns):\n",
      " #   Column              Non-Null Count  Dtype \n",
      "---  ------              --------------  ----- \n",
      " 0   created_utc         1991 non-null   int64 \n",
      " 1   domain              1983 non-null   object\n",
      " 2   is_robot_indexable  1991 non-null   bool  \n",
      " 3   selftext            1991 non-null   object\n",
      " 4   subreddit           1991 non-null   object\n",
      " 5   title               1991 non-null   object\n",
      " 6   post_hint           1991 non-null   object\n",
      " 7   content_word_count  1991 non-null   int64 \n",
      " 8   content_lemmatized  1991 non-null   object\n",
      " 9   content_joined      1991 non-null   object\n",
      "dtypes: bool(1), int64(2), object(7)\n",
      "memory usage: 157.5+ KB\n"
     ]
    }
   ],
   "source": [
    "cat_dog.info()"
   ]
  },
  {
   "cell_type": "markdown",
   "id": "c87fc402",
   "metadata": {},
   "source": [
    "##### Binarizing Subreddit\n",
    "\n",
    "Since our machine learning models only accepts numerical values, we need to binarize the subreddit columns as it will be used as our target in our machine learning models"
   ]
  },
  {
   "cell_type": "code",
   "execution_count": 37,
   "id": "547664b9",
   "metadata": {},
   "outputs": [],
   "source": [
    "subreddit_bin = {'CatAdvice': 0, 'DogAdvice': 1}\n",
    "\n",
    "cat_dog.replace({'subreddit': subreddit_bin}, inplace=True)"
   ]
  },
  {
   "cell_type": "markdown",
   "id": "4d08106f",
   "metadata": {},
   "source": [
    "##### Remove the words Cat, Dog and Advice from content\n",
    "\n",
    "Also, since we are trying to predict if each post belongs to either the cat or dog subreddit, we will be removing the words cat and dogs from our dataset.\n",
    "\n",
    "Otherwise, our model will not really be predicting but rather assigning based on this value."
   ]
  },
  {
   "cell_type": "code",
   "execution_count": 39,
   "id": "78ef0768",
   "metadata": {},
   "outputs": [],
   "source": [
    "# Create a function to remove the words Dog, Cat and Advice from the content\n",
    "\n",
    "banned_word = ['dog', 'cat', 'advice', 'cats', 'dogs', 'nan']\n",
    "\n",
    "def word_remover(text):\n",
    "    text_noword = ' '.join(word for word in text.split() if word not in banned_word)\n",
    "    return text_noword\n",
    "\n",
    "cat_dog['content_joined'] = cat_dog['content_joined'].apply(lambda x: word_remover(x))\n"
   ]
  },
  {
   "cell_type": "markdown",
   "id": "6f43788d",
   "metadata": {},
   "source": [
    "##### Remove numbers from our content"
   ]
  },
  {
   "cell_type": "markdown",
   "id": "b5646a97",
   "metadata": {},
   "source": [
    "We will also be removing the numbers from our content as they will not provide any context when training our machine learning model"
   ]
  },
  {
   "cell_type": "code",
   "execution_count": 40,
   "id": "0c7eda94",
   "metadata": {},
   "outputs": [],
   "source": [
    "# Create a function to remove digits from the content field\n",
    "\n",
    "def digit_remover(text):\n",
    "    text_nodigit = ''.join([num for num in text if not num.isdigit()])\n",
    "    return text_nodigit\n",
    "\n",
    "cat_dog['content_joined'] = cat_dog['content_joined'].apply(lambda x: digit_remover(x))"
   ]
  },
  {
   "cell_type": "markdown",
   "id": "d00562e1",
   "metadata": {},
   "source": [
    "Now that we have transformed our raw text into lemmatized clean tokens we can transform these tokens into numbers.\n",
    "This steps is essential to our machine learning efforts as the machine will only be able to interpret numbers."
   ]
  },
  {
   "cell_type": "markdown",
   "id": "7f81cc02",
   "metadata": {},
   "source": [
    "##### Force lower case all content in content_joined"
   ]
  },
  {
   "cell_type": "code",
   "execution_count": 67,
   "id": "1f879264",
   "metadata": {},
   "outputs": [
    {
     "data": {
      "text/plain": [
       "0      aggressive new puppy family got new puppy back...\n",
       "1      get german shepherd puppy respect boundary pre...\n",
       "2                            belly button never seen one\n",
       "3      could vet got clear answer scab also dark spot...\n",
       "4      stop licking paw normal behavior something wor...\n",
       "                             ...                        \n",
       "995    ready panic attack foster ringworm apparently ...\n",
       "996    perpetually nursing kitten bought  kitten mont...\n",
       "997    scaredy fostered stray litter  summer planned ...\n",
       "998    friskies really bad seen ton comment terrible ...\n",
       "999    encourage teething kitten eat hello  month old...\n",
       "Name: content_joined, Length: 1991, dtype: object"
      ]
     },
     "execution_count": 67,
     "metadata": {},
     "output_type": "execute_result"
    }
   ],
   "source": [
    "#cat_dog['content_joined'].str.lower()"
   ]
  },
  {
   "cell_type": "markdown",
   "id": "50b68a5e",
   "metadata": {},
   "source": [
    "##### Saving Dataframe to CSV\n",
    "\n",
    "Now that we finalized transforming all our text, we will save the new dataframe into a csv file that we will call upon during our next steps."
   ]
  },
  {
   "cell_type": "code",
   "execution_count": 68,
   "id": "3e78f565",
   "metadata": {},
   "outputs": [],
   "source": [
    "cat_dog.to_csv('data/cat_dog.csv')"
   ]
  },
  {
   "cell_type": "markdown",
   "id": "79e0bb70",
   "metadata": {},
   "source": [
    "### Vectorize\n",
    "\n",
    "Now that our text is ready, we need to ensure that it can be interpreted by our machine learning models.\n",
    "\n",
    "In order to do so, we need to use a technique called Word Vectorization (or Word Embedding).This technique will map the words from our dataset into vectors of numbers.\n",
    "\n",
    "For this, we will be using three different method of word vectorizers:\n",
    "* Count Vectorizer\n",
    "* Count Vectorizer with N-Grams\n",
    "* Term-Frequency - Inverse Document Frequency (TF-IDF)"
   ]
  },
  {
   "cell_type": "markdown",
   "id": "6942c026",
   "metadata": {},
   "source": [
    "##### Count Vectorizer\n",
    "\n",
    "We will start with Count Vectorizer."
   ]
  },
  {
   "cell_type": "code",
   "execution_count": 41,
   "id": "a636007c",
   "metadata": {},
   "outputs": [],
   "source": [
    "# Create instances of CountVectorizer \n",
    "\n",
    "count_vect = CountVectorizer(min_df=3, max_df=0.5)\n",
    "#count_vect_sample = CountVectorizer()"
   ]
  },
  {
   "cell_type": "code",
   "execution_count": 42,
   "id": "185bc8ab",
   "metadata": {},
   "outputs": [
    {
     "name": "stdout",
     "output_type": "stream",
     "text": [
      "(1991, 3743)\n"
     ]
    }
   ],
   "source": [
    "# Store the vectorized versions of our data\n",
    "\n",
    "X_counts_vect = count_vect.fit_transform(cat_dog['content_joined'])\n",
    "print(X_counts_vect.shape)"
   ]
  },
  {
   "cell_type": "code",
   "execution_count": 43,
   "id": "b1133f55",
   "metadata": {},
   "outputs": [],
   "source": [
    "# Apply CountVectorizer do a smaller data sample\n",
    "\n",
    "#catdog_sample_cv = cat_dog[0:500]\n",
    "\n",
    "#X_counts_vect_sample = count_vect_sample.fit_transform(catdog_sample_cv['content_joined'])\n",
    "#print(X_counts_vect_sample.shape)\n",
    "#print(count_vect_sample.get_feature_names())"
   ]
  },
  {
   "cell_type": "code",
   "execution_count": 44,
   "id": "424e3cad",
   "metadata": {
    "scrolled": true
   },
   "outputs": [
    {
     "name": "stderr",
     "output_type": "stream",
     "text": [
      "C:\\Users\\flori\\anaconda3\\lib\\site-packages\\sklearn\\utils\\deprecation.py:87: FutureWarning: Function get_feature_names is deprecated; get_feature_names is deprecated in 1.0 and will be removed in 1.2. Please use get_feature_names_out instead.\n",
      "  warnings.warn(msg, category=FutureWarning)\n"
     ]
    },
    {
     "data": {
      "text/html": [
       "<div>\n",
       "<style scoped>\n",
       "    .dataframe tbody tr th:only-of-type {\n",
       "        vertical-align: middle;\n",
       "    }\n",
       "\n",
       "    .dataframe tbody tr th {\n",
       "        vertical-align: top;\n",
       "    }\n",
       "\n",
       "    .dataframe thead th {\n",
       "        text-align: right;\n",
       "    }\n",
       "</style>\n",
       "<table border=\"1\" class=\"dataframe\">\n",
       "  <thead>\n",
       "    <tr style=\"text-align: right;\">\n",
       "      <th></th>\n",
       "      <th>abandoned</th>\n",
       "      <th>ability</th>\n",
       "      <th>able</th>\n",
       "      <th>abnormal</th>\n",
       "      <th>abroad</th>\n",
       "      <th>abruptly</th>\n",
       "      <th>absolute</th>\n",
       "      <th>absolutely</th>\n",
       "      <th>abuse</th>\n",
       "      <th>abused</th>\n",
       "      <th>...</th>\n",
       "      <th>youngest</th>\n",
       "      <th>youre</th>\n",
       "      <th>youtube</th>\n",
       "      <th>youve</th>\n",
       "      <th>yowl</th>\n",
       "      <th>yowling</th>\n",
       "      <th>yr</th>\n",
       "      <th>yrs</th>\n",
       "      <th>zero</th>\n",
       "      <th>zoomies</th>\n",
       "    </tr>\n",
       "  </thead>\n",
       "  <tbody>\n",
       "    <tr>\n",
       "      <th>0</th>\n",
       "      <td>0</td>\n",
       "      <td>0</td>\n",
       "      <td>0</td>\n",
       "      <td>0</td>\n",
       "      <td>0</td>\n",
       "      <td>0</td>\n",
       "      <td>0</td>\n",
       "      <td>0</td>\n",
       "      <td>0</td>\n",
       "      <td>0</td>\n",
       "      <td>...</td>\n",
       "      <td>0</td>\n",
       "      <td>0</td>\n",
       "      <td>0</td>\n",
       "      <td>0</td>\n",
       "      <td>0</td>\n",
       "      <td>0</td>\n",
       "      <td>0</td>\n",
       "      <td>0</td>\n",
       "      <td>0</td>\n",
       "      <td>0</td>\n",
       "    </tr>\n",
       "    <tr>\n",
       "      <th>1</th>\n",
       "      <td>0</td>\n",
       "      <td>0</td>\n",
       "      <td>0</td>\n",
       "      <td>0</td>\n",
       "      <td>0</td>\n",
       "      <td>0</td>\n",
       "      <td>0</td>\n",
       "      <td>0</td>\n",
       "      <td>0</td>\n",
       "      <td>0</td>\n",
       "      <td>...</td>\n",
       "      <td>0</td>\n",
       "      <td>0</td>\n",
       "      <td>0</td>\n",
       "      <td>0</td>\n",
       "      <td>0</td>\n",
       "      <td>0</td>\n",
       "      <td>1</td>\n",
       "      <td>0</td>\n",
       "      <td>0</td>\n",
       "      <td>0</td>\n",
       "    </tr>\n",
       "    <tr>\n",
       "      <th>2</th>\n",
       "      <td>0</td>\n",
       "      <td>0</td>\n",
       "      <td>0</td>\n",
       "      <td>0</td>\n",
       "      <td>0</td>\n",
       "      <td>0</td>\n",
       "      <td>0</td>\n",
       "      <td>0</td>\n",
       "      <td>0</td>\n",
       "      <td>0</td>\n",
       "      <td>...</td>\n",
       "      <td>0</td>\n",
       "      <td>0</td>\n",
       "      <td>0</td>\n",
       "      <td>0</td>\n",
       "      <td>0</td>\n",
       "      <td>0</td>\n",
       "      <td>0</td>\n",
       "      <td>0</td>\n",
       "      <td>0</td>\n",
       "      <td>0</td>\n",
       "    </tr>\n",
       "    <tr>\n",
       "      <th>3</th>\n",
       "      <td>0</td>\n",
       "      <td>0</td>\n",
       "      <td>0</td>\n",
       "      <td>0</td>\n",
       "      <td>0</td>\n",
       "      <td>0</td>\n",
       "      <td>0</td>\n",
       "      <td>0</td>\n",
       "      <td>0</td>\n",
       "      <td>0</td>\n",
       "      <td>...</td>\n",
       "      <td>0</td>\n",
       "      <td>0</td>\n",
       "      <td>0</td>\n",
       "      <td>0</td>\n",
       "      <td>0</td>\n",
       "      <td>0</td>\n",
       "      <td>0</td>\n",
       "      <td>0</td>\n",
       "      <td>0</td>\n",
       "      <td>0</td>\n",
       "    </tr>\n",
       "    <tr>\n",
       "      <th>4</th>\n",
       "      <td>0</td>\n",
       "      <td>0</td>\n",
       "      <td>0</td>\n",
       "      <td>0</td>\n",
       "      <td>0</td>\n",
       "      <td>0</td>\n",
       "      <td>0</td>\n",
       "      <td>0</td>\n",
       "      <td>0</td>\n",
       "      <td>0</td>\n",
       "      <td>...</td>\n",
       "      <td>0</td>\n",
       "      <td>0</td>\n",
       "      <td>0</td>\n",
       "      <td>0</td>\n",
       "      <td>0</td>\n",
       "      <td>0</td>\n",
       "      <td>0</td>\n",
       "      <td>0</td>\n",
       "      <td>0</td>\n",
       "      <td>0</td>\n",
       "    </tr>\n",
       "  </tbody>\n",
       "</table>\n",
       "<p>5 rows × 3743 columns</p>\n",
       "</div>"
      ],
      "text/plain": [
       "   abandoned  ability  able  abnormal  abroad  abruptly  absolute  absolutely  \\\n",
       "0          0        0     0         0       0         0         0           0   \n",
       "1          0        0     0         0       0         0         0           0   \n",
       "2          0        0     0         0       0         0         0           0   \n",
       "3          0        0     0         0       0         0         0           0   \n",
       "4          0        0     0         0       0         0         0           0   \n",
       "\n",
       "   abuse  abused  ...  youngest  youre  youtube  youve  yowl  yowling  yr  \\\n",
       "0      0       0  ...         0      0        0      0     0        0   0   \n",
       "1      0       0  ...         0      0        0      0     0        0   1   \n",
       "2      0       0  ...         0      0        0      0     0        0   0   \n",
       "3      0       0  ...         0      0        0      0     0        0   0   \n",
       "4      0       0  ...         0      0        0      0     0        0   0   \n",
       "\n",
       "   yrs  zero  zoomies  \n",
       "0    0     0        0  \n",
       "1    0     0        0  \n",
       "2    0     0        0  \n",
       "3    0     0        0  \n",
       "4    0     0        0  \n",
       "\n",
       "[5 rows x 3743 columns]"
      ]
     },
     "execution_count": 44,
     "metadata": {},
     "output_type": "execute_result"
    }
   ],
   "source": [
    "# Save Sparse Matrix into a DataFrame and convert the columns name to the features names\n",
    "\n",
    "count_vect_df = pd.DataFrame(X_counts_vect.toarray())\n",
    "count_vect_df.columns = count_vect.get_feature_names()\n",
    "\n",
    "count_vect_df.head()"
   ]
  },
  {
   "cell_type": "markdown",
   "id": "1e0c7d6f",
   "metadata": {},
   "source": [
    "##### Display the most occuring terms"
   ]
  },
  {
   "cell_type": "code",
   "execution_count": 45,
   "id": "17ff2e0f",
   "metadata": {},
   "outputs": [
    {
     "data": {
      "text/plain": [
       "<AxesSubplot:>"
      ]
     },
     "execution_count": 45,
     "metadata": {},
     "output_type": "execute_result"
    },
    {
     "data": {
      "image/png": "[encoded data removed]",
      "text/plain": [
       "<Figure size 432x288 with 1 Axes>"
      ]
     },
     "metadata": {
      "needs_background": "light"
     },
     "output_type": "display_data"
    }
   ],
   "source": [
    "count_vect_df.sum().sort_values(ascending=False).head(20).plot(kind='barh')"
   ]
  },
  {
   "cell_type": "markdown",
   "id": "7ce4539f",
   "metadata": {},
   "source": [
    "Displaying the most occurring terms will help us identify what words are most oftenly used for each Vectorizing method.\n",
    "\n",
    "In the case of the Count Vectorizer, we can see that a lot of posts are around food, kitten and people are usually seeking help or vet advice"
   ]
  },
  {
   "cell_type": "code",
   "execution_count": 46,
   "id": "9ba3402c",
   "metadata": {},
   "outputs": [],
   "source": [
    "# Save Sparse Matrix to CSV\n",
    "\n",
    "count_vect_df.to_csv('data/count_vect_df.csv')"
   ]
  },
  {
   "cell_type": "markdown",
   "id": "e37bdb2e",
   "metadata": {},
   "source": [
    "##### Count Vectorizer with N-Grams"
   ]
  },
  {
   "cell_type": "code",
   "execution_count": 47,
   "id": "af7f60fa",
   "metadata": {},
   "outputs": [],
   "source": [
    "# Create instances of CountVectorizer with N-Grams parameters\n",
    "\n",
    "count_vect_ng = CountVectorizer(ngram_range= (2,2), min_df=3, max_df=0.5)\n",
    "count_vect_ng_sample = CountVectorizer(ngram_range= (1,3))"
   ]
  },
  {
   "cell_type": "code",
   "execution_count": 48,
   "id": "4688f133",
   "metadata": {},
   "outputs": [
    {
     "name": "stdout",
     "output_type": "stream",
     "text": [
      "(1991, 4900)\n"
     ]
    }
   ],
   "source": [
    "# Store the N-Gram vectorized versions of our data\n",
    "\n",
    "X_counts_ng = count_vect_ng.fit_transform(cat_dog['content_joined'])\n",
    "print(X_counts_ng.shape)"
   ]
  },
  {
   "cell_type": "code",
   "execution_count": 49,
   "id": "e383fec8",
   "metadata": {},
   "outputs": [],
   "source": [
    "# Apply N-Gram CountVectorizer do a smaller data sample\n",
    "\n",
    "#catdog_sample_ng = cat_dog[0:500]\n",
    "\n",
    "#X_counts_ng_sample = count_vect_ng_sample.fit_transform(catdog_sample_ng['content_joined'])\n",
    "#print(X_counts_ng_sample.shape)\n",
    "#print(count_vect_ng_sample.get_feature_names())"
   ]
  },
  {
   "cell_type": "code",
   "execution_count": 50,
   "id": "8bf39487",
   "metadata": {
    "scrolled": true
   },
   "outputs": [
    {
     "name": "stderr",
     "output_type": "stream",
     "text": [
      "C:\\Users\\flori\\anaconda3\\lib\\site-packages\\sklearn\\utils\\deprecation.py:87: FutureWarning: Function get_feature_names is deprecated; get_feature_names is deprecated in 1.0 and will be removed in 1.2. Please use get_feature_names_out instead.\n",
      "  warnings.warn(msg, category=FutureWarning)\n"
     ]
    },
    {
     "data": {
      "text/html": [
       "<div>\n",
       "<style scoped>\n",
       "    .dataframe tbody tr th:only-of-type {\n",
       "        vertical-align: middle;\n",
       "    }\n",
       "\n",
       "    .dataframe tbody tr th {\n",
       "        vertical-align: top;\n",
       "    }\n",
       "\n",
       "    .dataframe thead th {\n",
       "        text-align: right;\n",
       "    }\n",
       "</style>\n",
       "<table border=\"1\" class=\"dataframe\">\n",
       "  <thead>\n",
       "    <tr style=\"text-align: right;\">\n",
       "      <th></th>\n",
       "      <th>able find</th>\n",
       "      <th>able get</th>\n",
       "      <th>able handle</th>\n",
       "      <th>able help</th>\n",
       "      <th>able keep</th>\n",
       "      <th>able move</th>\n",
       "      <th>able run</th>\n",
       "      <th>able sleep</th>\n",
       "      <th>able socialize</th>\n",
       "      <th>able stop</th>\n",
       "      <th>...</th>\n",
       "      <th>yo spayed</th>\n",
       "      <th>yo weve</th>\n",
       "      <th>youd think</th>\n",
       "      <th>young adult</th>\n",
       "      <th>young got</th>\n",
       "      <th>young kitten</th>\n",
       "      <th>young one</th>\n",
       "      <th>younger one</th>\n",
       "      <th>yr old</th>\n",
       "      <th>yrs old</th>\n",
       "    </tr>\n",
       "  </thead>\n",
       "  <tbody>\n",
       "    <tr>\n",
       "      <th>0</th>\n",
       "      <td>0</td>\n",
       "      <td>0</td>\n",
       "      <td>0</td>\n",
       "      <td>0</td>\n",
       "      <td>0</td>\n",
       "      <td>0</td>\n",
       "      <td>0</td>\n",
       "      <td>0</td>\n",
       "      <td>0</td>\n",
       "      <td>0</td>\n",
       "      <td>...</td>\n",
       "      <td>0</td>\n",
       "      <td>0</td>\n",
       "      <td>0</td>\n",
       "      <td>0</td>\n",
       "      <td>1</td>\n",
       "      <td>0</td>\n",
       "      <td>0</td>\n",
       "      <td>0</td>\n",
       "      <td>0</td>\n",
       "      <td>0</td>\n",
       "    </tr>\n",
       "    <tr>\n",
       "      <th>1</th>\n",
       "      <td>0</td>\n",
       "      <td>0</td>\n",
       "      <td>0</td>\n",
       "      <td>0</td>\n",
       "      <td>0</td>\n",
       "      <td>0</td>\n",
       "      <td>0</td>\n",
       "      <td>0</td>\n",
       "      <td>0</td>\n",
       "      <td>0</td>\n",
       "      <td>...</td>\n",
       "      <td>0</td>\n",
       "      <td>0</td>\n",
       "      <td>0</td>\n",
       "      <td>0</td>\n",
       "      <td>0</td>\n",
       "      <td>0</td>\n",
       "      <td>0</td>\n",
       "      <td>0</td>\n",
       "      <td>1</td>\n",
       "      <td>0</td>\n",
       "    </tr>\n",
       "    <tr>\n",
       "      <th>2</th>\n",
       "      <td>0</td>\n",
       "      <td>0</td>\n",
       "      <td>0</td>\n",
       "      <td>0</td>\n",
       "      <td>0</td>\n",
       "      <td>0</td>\n",
       "      <td>0</td>\n",
       "      <td>0</td>\n",
       "      <td>0</td>\n",
       "      <td>0</td>\n",
       "      <td>...</td>\n",
       "      <td>0</td>\n",
       "      <td>0</td>\n",
       "      <td>0</td>\n",
       "      <td>0</td>\n",
       "      <td>0</td>\n",
       "      <td>0</td>\n",
       "      <td>0</td>\n",
       "      <td>0</td>\n",
       "      <td>0</td>\n",
       "      <td>0</td>\n",
       "    </tr>\n",
       "    <tr>\n",
       "      <th>3</th>\n",
       "      <td>0</td>\n",
       "      <td>0</td>\n",
       "      <td>0</td>\n",
       "      <td>0</td>\n",
       "      <td>0</td>\n",
       "      <td>0</td>\n",
       "      <td>0</td>\n",
       "      <td>0</td>\n",
       "      <td>0</td>\n",
       "      <td>0</td>\n",
       "      <td>...</td>\n",
       "      <td>0</td>\n",
       "      <td>0</td>\n",
       "      <td>0</td>\n",
       "      <td>0</td>\n",
       "      <td>0</td>\n",
       "      <td>0</td>\n",
       "      <td>0</td>\n",
       "      <td>0</td>\n",
       "      <td>0</td>\n",
       "      <td>0</td>\n",
       "    </tr>\n",
       "    <tr>\n",
       "      <th>4</th>\n",
       "      <td>0</td>\n",
       "      <td>0</td>\n",
       "      <td>0</td>\n",
       "      <td>0</td>\n",
       "      <td>0</td>\n",
       "      <td>0</td>\n",
       "      <td>0</td>\n",
       "      <td>0</td>\n",
       "      <td>0</td>\n",
       "      <td>0</td>\n",
       "      <td>...</td>\n",
       "      <td>0</td>\n",
       "      <td>0</td>\n",
       "      <td>0</td>\n",
       "      <td>0</td>\n",
       "      <td>0</td>\n",
       "      <td>0</td>\n",
       "      <td>0</td>\n",
       "      <td>0</td>\n",
       "      <td>0</td>\n",
       "      <td>0</td>\n",
       "    </tr>\n",
       "  </tbody>\n",
       "</table>\n",
       "<p>5 rows × 4900 columns</p>\n",
       "</div>"
      ],
      "text/plain": [
       "   able find  able get  able handle  able help  able keep  able move  \\\n",
       "0          0         0            0          0          0          0   \n",
       "1          0         0            0          0          0          0   \n",
       "2          0         0            0          0          0          0   \n",
       "3          0         0            0          0          0          0   \n",
       "4          0         0            0          0          0          0   \n",
       "\n",
       "   able run  able sleep  able socialize  able stop  ...  yo spayed  yo weve  \\\n",
       "0         0           0               0          0  ...          0        0   \n",
       "1         0           0               0          0  ...          0        0   \n",
       "2         0           0               0          0  ...          0        0   \n",
       "3         0           0               0          0  ...          0        0   \n",
       "4         0           0               0          0  ...          0        0   \n",
       "\n",
       "   youd think  young adult  young got  young kitten  young one  younger one  \\\n",
       "0           0            0          1             0          0            0   \n",
       "1           0            0          0             0          0            0   \n",
       "2           0            0          0             0          0            0   \n",
       "3           0            0          0             0          0            0   \n",
       "4           0            0          0             0          0            0   \n",
       "\n",
       "   yr old  yrs old  \n",
       "0       0        0  \n",
       "1       1        0  \n",
       "2       0        0  \n",
       "3       0        0  \n",
       "4       0        0  \n",
       "\n",
       "[5 rows x 4900 columns]"
      ]
     },
     "execution_count": 50,
     "metadata": {},
     "output_type": "execute_result"
    }
   ],
   "source": [
    "# Save Sparse Matrix into a DataFrame and convert the columns name to the features names\n",
    "\n",
    "count_ng_df = pd.DataFrame(X_counts_ng.toarray())\n",
    "count_ng_df.columns = count_vect_ng.get_feature_names()\n",
    "\n",
    "count_ng_df.head()"
   ]
  },
  {
   "cell_type": "code",
   "execution_count": null,
   "id": "3a5a4881",
   "metadata": {},
   "outputs": [],
   "source": []
  },
  {
   "cell_type": "code",
   "execution_count": 51,
   "id": "5a59f1e1",
   "metadata": {
    "scrolled": true
   },
   "outputs": [
    {
     "data": {
      "text/plain": [
       "<AxesSubplot:>"
      ]
     },
     "execution_count": 51,
     "metadata": {},
     "output_type": "execute_result"
    },
    {
     "data": {
      "image/png": "[encoded data removed]",
      "text/plain": [
       "<Figure size 432x288 with 1 Axes>"
      ]
     },
     "metadata": {
      "needs_background": "light"
     },
     "output_type": "display_data"
    }
   ],
   "source": [
    "count_ng_df.sum().sort_values(ascending=False).head(20).plot(kind='barh')"
   ]
  },
  {
   "cell_type": "markdown",
   "id": "a39460e2",
   "metadata": {},
   "source": [
    "Using Count Vectorizer with N-grams allows us to see words as either unigram, bigram or trigram. \n",
    "\n",
    "In this case, we chose to use bigrams. This allows us to see which combination of two words is the most common.\n",
    "\n",
    "People seems interested in litter box, wet and dry food, or what they information they got from vets"
   ]
  },
  {
   "cell_type": "code",
   "execution_count": 52,
   "id": "2b4ea8fd",
   "metadata": {},
   "outputs": [],
   "source": [
    "# Saving Sparse Matrix to CSV\n",
    "\n",
    "count_ng_df.to_csv('data/count_ng_df.csv')"
   ]
  },
  {
   "cell_type": "markdown",
   "id": "85435266",
   "metadata": {},
   "source": [
    "##### TF-IDF (Term Frequency - Inverse Document Frequency)"
   ]
  },
  {
   "cell_type": "code",
   "execution_count": 53,
   "id": "91123731",
   "metadata": {},
   "outputs": [],
   "source": [
    "# Create instances of CountVectorizer with TFIDF parameters\n",
    "\n",
    "count_vect_tfidf = TfidfVectorizer()\n",
    "count_vect_tfidf_sample = TfidfVectorizer()"
   ]
  },
  {
   "cell_type": "code",
   "execution_count": 54,
   "id": "1dd324a4",
   "metadata": {},
   "outputs": [
    {
     "name": "stdout",
     "output_type": "stream",
     "text": [
      "(1991, 10880)\n"
     ]
    }
   ],
   "source": [
    "# Store the TFIDF vectorized versions of our data\n",
    "\n",
    "X_counts_tfidf = count_vect_tfidf.fit_transform(cat_dog['content_joined'])\n",
    "print(X_counts_tfidf.shape)"
   ]
  },
  {
   "cell_type": "code",
   "execution_count": 55,
   "id": "9e8d5a5d",
   "metadata": {},
   "outputs": [],
   "source": [
    "# Apply N-Gram CountVectorizer do a smaller data sample\n",
    "\n",
    "#catdog_sample_tfidf = cat_dog[0:500]\n",
    "\n",
    "#X_counts_tfidf_sample = count_vect_tfidf_sample.fit_transform(catdog_sample_ng['content_joined'])\n",
    "#print(X_counts_tfidf_sample.shape)\n",
    "#print(count_vect_tfidf_sample.get_feature_names())"
   ]
  },
  {
   "cell_type": "code",
   "execution_count": 56,
   "id": "64be8cc8",
   "metadata": {
    "scrolled": true
   },
   "outputs": [
    {
     "name": "stderr",
     "output_type": "stream",
     "text": [
      "C:\\Users\\flori\\anaconda3\\lib\\site-packages\\sklearn\\utils\\deprecation.py:87: FutureWarning: Function get_feature_names is deprecated; get_feature_names is deprecated in 1.0 and will be removed in 1.2. Please use get_feature_names_out instead.\n",
      "  warnings.warn(msg, category=FutureWarning)\n"
     ]
    },
    {
     "data": {
      "text/html": [
       "<div>\n",
       "<style scoped>\n",
       "    .dataframe tbody tr th:only-of-type {\n",
       "        vertical-align: middle;\n",
       "    }\n",
       "\n",
       "    .dataframe tbody tr th {\n",
       "        vertical-align: top;\n",
       "    }\n",
       "\n",
       "    .dataframe thead th {\n",
       "        text-align: right;\n",
       "    }\n",
       "</style>\n",
       "<table border=\"1\" class=\"dataframe\">\n",
       "  <thead>\n",
       "    <tr style=\"text-align: right;\">\n",
       "      <th></th>\n",
       "      <th>aaaaa</th>\n",
       "      <th>ab</th>\n",
       "      <th>abandon</th>\n",
       "      <th>abandoned</th>\n",
       "      <th>abandonedfor</th>\n",
       "      <th>abandoning</th>\n",
       "      <th>abandonment</th>\n",
       "      <th>abdomen</th>\n",
       "      <th>abdominal</th>\n",
       "      <th>abig</th>\n",
       "      <th>...</th>\n",
       "      <th>zone</th>\n",
       "      <th>zoom</th>\n",
       "      <th>zoomies</th>\n",
       "      <th>zooming</th>\n",
       "      <th>zora</th>\n",
       "      <th>zucchini</th>\n",
       "      <th>zuchon</th>\n",
       "      <th>zuzu</th>\n",
       "      <th>zylkene</th>\n",
       "      <th>zyrtec</th>\n",
       "    </tr>\n",
       "  </thead>\n",
       "  <tbody>\n",
       "    <tr>\n",
       "      <th>0</th>\n",
       "      <td>0.0</td>\n",
       "      <td>0.0</td>\n",
       "      <td>0.0</td>\n",
       "      <td>0.0</td>\n",
       "      <td>0.0</td>\n",
       "      <td>0.0</td>\n",
       "      <td>0.0</td>\n",
       "      <td>0.0</td>\n",
       "      <td>0.0</td>\n",
       "      <td>0.0</td>\n",
       "      <td>...</td>\n",
       "      <td>0.0</td>\n",
       "      <td>0.0</td>\n",
       "      <td>0.0</td>\n",
       "      <td>0.0</td>\n",
       "      <td>0.0</td>\n",
       "      <td>0.0</td>\n",
       "      <td>0.0</td>\n",
       "      <td>0.0</td>\n",
       "      <td>0.0</td>\n",
       "      <td>0.0</td>\n",
       "    </tr>\n",
       "    <tr>\n",
       "      <th>1</th>\n",
       "      <td>0.0</td>\n",
       "      <td>0.0</td>\n",
       "      <td>0.0</td>\n",
       "      <td>0.0</td>\n",
       "      <td>0.0</td>\n",
       "      <td>0.0</td>\n",
       "      <td>0.0</td>\n",
       "      <td>0.0</td>\n",
       "      <td>0.0</td>\n",
       "      <td>0.0</td>\n",
       "      <td>...</td>\n",
       "      <td>0.0</td>\n",
       "      <td>0.0</td>\n",
       "      <td>0.0</td>\n",
       "      <td>0.0</td>\n",
       "      <td>0.0</td>\n",
       "      <td>0.0</td>\n",
       "      <td>0.0</td>\n",
       "      <td>0.0</td>\n",
       "      <td>0.0</td>\n",
       "      <td>0.0</td>\n",
       "    </tr>\n",
       "    <tr>\n",
       "      <th>2</th>\n",
       "      <td>0.0</td>\n",
       "      <td>0.0</td>\n",
       "      <td>0.0</td>\n",
       "      <td>0.0</td>\n",
       "      <td>0.0</td>\n",
       "      <td>0.0</td>\n",
       "      <td>0.0</td>\n",
       "      <td>0.0</td>\n",
       "      <td>0.0</td>\n",
       "      <td>0.0</td>\n",
       "      <td>...</td>\n",
       "      <td>0.0</td>\n",
       "      <td>0.0</td>\n",
       "      <td>0.0</td>\n",
       "      <td>0.0</td>\n",
       "      <td>0.0</td>\n",
       "      <td>0.0</td>\n",
       "      <td>0.0</td>\n",
       "      <td>0.0</td>\n",
       "      <td>0.0</td>\n",
       "      <td>0.0</td>\n",
       "    </tr>\n",
       "    <tr>\n",
       "      <th>3</th>\n",
       "      <td>0.0</td>\n",
       "      <td>0.0</td>\n",
       "      <td>0.0</td>\n",
       "      <td>0.0</td>\n",
       "      <td>0.0</td>\n",
       "      <td>0.0</td>\n",
       "      <td>0.0</td>\n",
       "      <td>0.0</td>\n",
       "      <td>0.0</td>\n",
       "      <td>0.0</td>\n",
       "      <td>...</td>\n",
       "      <td>0.0</td>\n",
       "      <td>0.0</td>\n",
       "      <td>0.0</td>\n",
       "      <td>0.0</td>\n",
       "      <td>0.0</td>\n",
       "      <td>0.0</td>\n",
       "      <td>0.0</td>\n",
       "      <td>0.0</td>\n",
       "      <td>0.0</td>\n",
       "      <td>0.0</td>\n",
       "    </tr>\n",
       "    <tr>\n",
       "      <th>4</th>\n",
       "      <td>0.0</td>\n",
       "      <td>0.0</td>\n",
       "      <td>0.0</td>\n",
       "      <td>0.0</td>\n",
       "      <td>0.0</td>\n",
       "      <td>0.0</td>\n",
       "      <td>0.0</td>\n",
       "      <td>0.0</td>\n",
       "      <td>0.0</td>\n",
       "      <td>0.0</td>\n",
       "      <td>...</td>\n",
       "      <td>0.0</td>\n",
       "      <td>0.0</td>\n",
       "      <td>0.0</td>\n",
       "      <td>0.0</td>\n",
       "      <td>0.0</td>\n",
       "      <td>0.0</td>\n",
       "      <td>0.0</td>\n",
       "      <td>0.0</td>\n",
       "      <td>0.0</td>\n",
       "      <td>0.0</td>\n",
       "    </tr>\n",
       "  </tbody>\n",
       "</table>\n",
       "<p>5 rows × 10880 columns</p>\n",
       "</div>"
      ],
      "text/plain": [
       "   aaaaa   ab  abandon  abandoned  abandonedfor  abandoning  abandonment  \\\n",
       "0    0.0  0.0      0.0        0.0           0.0         0.0          0.0   \n",
       "1    0.0  0.0      0.0        0.0           0.0         0.0          0.0   \n",
       "2    0.0  0.0      0.0        0.0           0.0         0.0          0.0   \n",
       "3    0.0  0.0      0.0        0.0           0.0         0.0          0.0   \n",
       "4    0.0  0.0      0.0        0.0           0.0         0.0          0.0   \n",
       "\n",
       "   abdomen  abdominal  abig  ...  zone  zoom  zoomies  zooming  zora  \\\n",
       "0      0.0        0.0   0.0  ...   0.0   0.0      0.0      0.0   0.0   \n",
       "1      0.0        0.0   0.0  ...   0.0   0.0      0.0      0.0   0.0   \n",
       "2      0.0        0.0   0.0  ...   0.0   0.0      0.0      0.0   0.0   \n",
       "3      0.0        0.0   0.0  ...   0.0   0.0      0.0      0.0   0.0   \n",
       "4      0.0        0.0   0.0  ...   0.0   0.0      0.0      0.0   0.0   \n",
       "\n",
       "   zucchini  zuchon  zuzu  zylkene  zyrtec  \n",
       "0       0.0     0.0   0.0      0.0     0.0  \n",
       "1       0.0     0.0   0.0      0.0     0.0  \n",
       "2       0.0     0.0   0.0      0.0     0.0  \n",
       "3       0.0     0.0   0.0      0.0     0.0  \n",
       "4       0.0     0.0   0.0      0.0     0.0  \n",
       "\n",
       "[5 rows x 10880 columns]"
      ]
     },
     "execution_count": 56,
     "metadata": {},
     "output_type": "execute_result"
    }
   ],
   "source": [
    "# Save Sparse Matrix into a DataFrame and convert the columns name to the features names\n",
    "\n",
    "count_tfidf_df = pd.DataFrame(X_counts_tfidf.toarray())\n",
    "count_tfidf_df.columns = count_vect_tfidf.get_feature_names()\n",
    "\n",
    "count_tfidf_df.head()"
   ]
  },
  {
   "cell_type": "code",
   "execution_count": 57,
   "id": "4db1aaf7",
   "metadata": {},
   "outputs": [],
   "source": [
    "# Saving Sparse Matrix to CSV\n",
    "\n",
    "count_tfidf_df.to_csv('data/count_tfidf_df.csv')"
   ]
  },
  {
   "cell_type": "code",
   "execution_count": 58,
   "id": "6f23965a",
   "metadata": {},
   "outputs": [
    {
     "data": {
      "text/plain": [
       "<AxesSubplot:>"
      ]
     },
     "execution_count": 58,
     "metadata": {},
     "output_type": "execute_result"
    },
    {
     "data": {
      "image/png": "[encoded data removed]",
      "text/plain": [
       "<Figure size 432x288 with 1 Axes>"
      ]
     },
     "metadata": {
      "needs_background": "light"
     },
     "output_type": "display_data"
    }
   ],
   "source": [
    "count_tfidf_df.sum().sort_values(ascending=False).head(20).plot(kind='barh')"
   ]
  },
  {
   "cell_type": "markdown",
   "id": "0ec33f53",
   "metadata": {},
   "source": [
    "TF-IDF is a version of Count Vectorizer that will apply a penalty to each word based on it's frequency in the corpus.\n",
    "\n",
    "As such the results for most common words are somehow different from the Count Vectorizer."
   ]
  },
  {
   "cell_type": "markdown",
   "id": "9441ddf7",
   "metadata": {},
   "source": [
    "### Conclusion"
   ]
  },
  {
   "cell_type": "markdown",
   "id": "d6060a41",
   "metadata": {},
   "source": [
    "During our data cleaning:\n",
    "* We identified that we had null values and have dealt with them.\n",
    "* We removed duplicated\n",
    "* We removed html urls and tags\n",
    "* Combined our two dataframes into one\n",
    "* Used Word Vectorizer techniques to prepare our text for the modelling part.\n",
    "\n",
    "We also identified interesting insight:\n",
    "* DogAdvice contains a lot of pictures and videos whereas CatAdvice contains none\n",
    "* People in DogAdvice subreddit posts are usually much shorter than in the CatAdvice\n",
    "\n",
    "We can now move on to the modelling part of our project."
   ]
  }
 ],
 "metadata": {
  "kernelspec": {
   "display_name": "Python 3 (ipykernel)",
   "language": "python",
   "name": "python3"
  },
  "language_info": {
   "codemirror_mode": {
    "name": "ipython",
    "version": 3
   },
   "file_extension": ".py",
   "mimetype": "text/x-python",
   "name": "python",
   "nbconvert_exporter": "python",
   "pygments_lexer": "ipython3",
   "version": "3.9.12"
  }
 },
 "nbformat": 4,
 "nbformat_minor": 5
}
